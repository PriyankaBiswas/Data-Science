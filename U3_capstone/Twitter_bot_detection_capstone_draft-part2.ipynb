{
 "cells": [
  {
   "cell_type": "markdown",
   "metadata": {},
   "source": [
    "## Twitter Bot detection part 2\n",
    "\n",
    "### Summary from part 1\n",
    "\n",
    "\n",
    "\n",
    "\n",
    "\n",
    "\n",
    "Bots, trolls and fake accounts are quite problematic in this era of social media-dependent consciouness. They take part in creating hypes and spams, spread fake news, ultimately displaying non-genuine behavior in micro-blogging platforms. Genuine posts are valuable not only because that help us understand the human sentiments, but also becuase that increase diversity in the sphere.   \n",
    "\n",
    "### Goal \n",
    "The goal of this project is to create a classifier that predicts if an account is a troll or a human. Using APIs, NLP and Machine Learning, I predict important features from which we detect a troll account and avoid spending time communicating with trolls. \n",
    "\n",
    "The outcome from this project could be used for marketers who target real users for selling their products. A curated list of real users will help them reach out to customers easily and attain business goals. \n",
    "\n",
    "\n",
    "### Data\n",
    "\n",
    "The data comprises existing data from Kaggle [], data collected via Tweepy API from twitter between dates x/x/18 - x/x/18. \n",
    "\n",
    "### Project Workflow\n",
    "\n",
    "#### Approach 1: \n",
    "We tried to build a classifier from existing user account data to predict bots. The model(s) achieved high accuracy, implicating model overfitting. Upon inspection of the datasets, we found we have small training and testing datasets with high sampling bias. Therefore, we needed to gather more data. \n",
    "\n",
    "#### Approach 2:\n",
    "We gathered more data from Twitter. However, we found difficilty in getting  data that could be distinctively labeled for bots and non-bots. Precisely, many Twitter verified accounts that are claimed to be authentic have many bots or they are representative of an organization. The bot data that we gathered [from Website](www.) are small in number (xxx) and are suspended Russian bots. This makes the sample biased.  \n",
    "\n",
    "#### Approach 3:\n",
    "Becuse of this we decided to do a sentiment analysis on #TOPIC and identify bots from the tweets. \n",
    "\n",
    "\n",
    "### Analysis\n",
    "\n",
    "Predicting bots from text is an NLP (Natural Languae Processing) problem.\n",
    "I leveraged NLTK as my tokenizer and Sklearn tfidfVectorizer to perform my Bag of words Analysis and tfidf transformation. Word2Vec\n",
    "\n",
    "For the final model I evaluated model complexity by accuarcy and speed. I eventually settled on _____\n",
    "- Why? and limiting the max features in the SVD step to explain a lot of  __________________\n",
    "\n",
    "-.\n",
    "\n",
    "-.\n",
    "\n",
    "-.\n",
    "\n",
    "\n",
    "### Conclusions\n",
    "- .\n",
    "\n",
    "-.\n",
    "\n",
    "-.\n",
    "\n",
    "-.\n",
    "\n",
    "\n",
    "\n",
    "## Approach 1: Bot detection from user account data "
   ]
  },
  {
   "cell_type": "code",
   "execution_count": 2,
   "metadata": {},
   "outputs": [],
   "source": [
    "# Import libraries\n",
    "\n",
    "import pandas as pd\n",
    "import numpy as np\n",
    "import scipy\n",
    "import matplotlib.pyplot as plt\n",
    "%matplotlib inline\n",
    "import seaborn as sns\n",
    "\n",
    "from sklearn import preprocessing\n",
    "from sklearn.utils import resample\n",
    "\n",
    "# Import sklearn models \n",
    "from sklearn.feature_extraction.text import CountVectorizer, TfidfVectorizer\n",
    "from sklearn.model_selection import train_test_split\n",
    "\n",
    "from sklearn.naive_bayes import BernoulliNB\n",
    "from sklearn.naive_bayes import MultinomialNB\n",
    "from sklearn.linear_model import LogisticRegression\n",
    "from sklearn.ensemble import GradientBoostingClassifier, ExtraTreesClassifier\n",
    "from sklearn.tree import DecisionTreeClassifier\n",
    "from sklearn.ensemble import RandomForestClassifier\n",
    "from sklearn.svm import SVC\n",
    "from sklearn.neighbors import KNeighborsClassifier\n",
    "\n",
    "from sklearn.model_selection import train_test_split, cross_val_score, StratifiedKFold\n",
    "from sklearn.metrics import roc_auc_score, precision_score, recall_score, confusion_matrix, accuracy_score\n",
    "\n",
    "#nltk\n",
    "from nltk.corpus import stopwords\n",
    "from nltk.tokenize import word_tokenize\n",
    "\n",
    "# Time \n",
    "import time as t\n",
    "\n",
    "import warnings\n",
    "warnings.simplefilter(action='ignore', category=FutureWarning)\n"
   ]
  },
  {
   "cell_type": "markdown",
   "metadata": {},
   "source": [
    "### to do next - \n",
    "\n",
    " - try creating the histograms for each of the plots above to show how much overlap and the overall distribution of each class. \n",
    "- use the log features for the inputs, probably not required for RFC, \n",
    "- try all the classifiers with the log features and ses if that imporives the accuracy/metrics of the other classifiers. \n",
    "- bring more data - https://botometer.iuni.iu.edu/bot-repository/datasets.html\n",
    "- try more feature engineering - log, and get some more features may be from the paper\n",
    "- try gettin more tweets from the bots and the real users - try sentitment analysis - give each person a score overall on how positive and negative feature. \n",
    "\n",
    "- write up what you did so far - this is the baseline - \n",
    "- 100 % accuracy > more data > how the data is biased > use the cluster plots to show how they are biased - \n",
    "- now bring in some fresh data from the other reposi https://botometer.iuni.iu.edu/bot-repository/datasets.html\n",
    "- feature engineering and see how incorporate NLP and how sentiment analysis to score [positivity/negativity ] for the last 10 tweets. \n",
    "- "
   ]
  },
  {
   "cell_type": "markdown",
   "metadata": {},
   "source": [
    "## Summary of baseline \n",
    "\n",
    "To train our system we initially used a publicly available dataset consisting of 7k bot and non-bot accounts in total. Later we collected data; employed Twitter scraping and incorporated data from various publicly available resources. This procedure yielded a dataset of 57.4k with 39k nonbot and 18k bot accounts. \n",
    "\n",
    "We benchmarked our system using several off-the-shelf algorithms provided in the scikit-learn library (Pedregosa et. al. 2011). We measured the models' accuracy by measuring the Area Under the Receiver Operating Curve (ROC-AUC) with 5-fold cross validation. We compared Bernoulli Naive Bayes, Logistic Regression, Gradient Boosting Classifier, K-nearest neighbors, Random Forest Classifier and Support Vector Classifier. The best classification performance of 98.76 was obtained by the Random Forest Algorithm. The Random Forest model was trained with 100 estimators and the GIni coefficient to measure the quality of splits.\n",
    "\n",
    "For the rest of the project I am going to focus on the latest verified dataset from [this resource](https://botometer.iuni.iu.edu/bot-repository/datasets.html) as the data we collected had sampling bias. Another advantage of choosing the following dataset is that we can access the tweets provided with these datasets. \n",
    "\n",
    "In the following I take a subset of certified bot and non-bot accounts, create features and try to improve the model accuracy. This dataset has almost 39k datapoints with 36% certified bots. "
   ]
  },
  {
   "cell_type": "code",
   "execution_count": 3,
   "metadata": {},
   "outputs": [],
   "source": [
    "# Getting more data \n",
    "all_hums = pd.read_csv('Data/all_hums.csv', encoding='utf-8')\n",
    "all_bots = pd.read_csv('Data/all_bots.csv', encoding='utf-8')\n",
    "new_fake = pd.read_csv('Data/fake_users_.csv')\n",
    "fake_users_2 = pd.read_csv('Data/fake_users_2.csv')\n"
   ]
  },
  {
   "cell_type": "code",
   "execution_count": 4,
   "metadata": {},
   "outputs": [],
   "source": [
    "# Creating certified humans and non-human dataset \n",
    "cert_hum = all_hums\n",
    "cert_fake = pd.concat([all_bots, fake_users_2, new_fake], axis=0, ignore_index=True)"
   ]
  },
  {
   "cell_type": "code",
   "execution_count": 5,
   "metadata": {},
   "outputs": [
    {
     "data": {
      "text/plain": [
       "((24700, 20), (14245, 20))"
      ]
     },
     "execution_count": 5,
     "metadata": {},
     "output_type": "execute_result"
    }
   ],
   "source": [
    "cert_hum.shape, cert_fake.shape"
   ]
  },
  {
   "cell_type": "code",
   "execution_count": 12,
   "metadata": {},
   "outputs": [
    {
     "data": {
      "text/plain": [
       "(38945, 20)"
      ]
     },
     "execution_count": 12,
     "metadata": {},
     "output_type": "execute_result"
    }
   ],
   "source": [
    "# This dataset consists of all certified humans and bots accounts, and their meta-data\n",
    "\n",
    "df_cert = pd.concat([cert_hum, cert_fake], axis=0, ignore_index=True)\n",
    "\n",
    "df_cert.shape"
   ]
  },
  {
   "cell_type": "code",
   "execution_count": 13,
   "metadata": {},
   "outputs": [
    {
     "data": {
      "text/plain": [
       "(35588, 20)"
      ]
     },
     "execution_count": 13,
     "metadata": {},
     "output_type": "execute_result"
    }
   ],
   "source": [
    "# Checking for duplicates \n",
    "df_cert = df_cert.drop_duplicates(subset='id')\n",
    "df_cert.shape"
   ]
  },
  {
   "cell_type": "code",
   "execution_count": 14,
   "metadata": {},
   "outputs": [
    {
     "data": {
      "text/plain": [
       "0    24697\n",
       "1    10891\n",
       "Name: bot, dtype: int64"
      ]
     },
     "execution_count": 14,
     "metadata": {},
     "output_type": "execute_result"
    }
   ],
   "source": [
    "df_cert.bot.value_counts()"
   ]
  },
  {
   "cell_type": "markdown",
   "metadata": {},
   "source": [
    "### Features \n",
    "\n",
    "__Existing features__: So far we have trained our models on the numerical features. And the most imporeant features are 'statuses_count' and 'favourites_count', followed by 'followers_count' and 'friends_count'. In the following I create new features, based on the meta-data provided with the user accounts. However, the main difficulty in creating these features is that a large percentage of the values are missing in these features. \n",
    "\n",
    "__New features from meta-data__:\n",
    "\n",
    "- Length of screen names \n",
    "- Length of description \n",
    "- calculate the ratio of (# of friends/2 * # of followers). It has been claimed that spambots have a high ratio value (i.e., lower ratio values mean legitimate users). [here](https://arxiv.org/pdf/1509.04098.pdf)\n",
    "\n",
    "__New features from tweets__:\n",
    "\n",
    "- Sentiment and subjectivity features \n",
    "\n",
    "- The content of spambots’ tweets exhibits the so-called message similarity. The score is higher for bots. (Not implemented)"
   ]
  },
  {
   "cell_type": "code",
   "execution_count": 15,
   "metadata": {},
   "outputs": [
    {
     "name": "stdout",
     "output_type": "stream",
     "text": [
      "19273 24532\n"
     ]
    }
   ],
   "source": [
    "# There are several null values or blanks \n",
    "print(df_cert.screen_name.isna().sum(),\n",
    "df_cert.description.isna().sum())\n",
    "\n",
    "#Filling blanks with 0 \n",
    "\n",
    "df_cert.screen_name = df_cert.screen_name.fillna(0)\n",
    "df_cert.description = df_cert.description.fillna(0)"
   ]
  },
  {
   "cell_type": "code",
   "execution_count": 16,
   "metadata": {},
   "outputs": [],
   "source": [
    "# Features from meta-data\n",
    "\n",
    "# Length of screen name \n",
    "df_cert.screen_name = df_cert.screen_name.astype('str')\n",
    "df_cert['len_screen_name'] = df_cert.screen_name.apply(lambda x: len(x))"
   ]
  },
  {
   "cell_type": "code",
   "execution_count": 17,
   "metadata": {},
   "outputs": [
    {
     "data": {
      "text/plain": [
       "1     19273\n",
       "12     2627\n",
       "15     2303\n",
       "13     2250\n",
       "14     2098\n",
       "11     2098\n",
       "10     1673\n",
       "9      1364\n",
       "8       914\n",
       "7       611\n",
       "6       279\n",
       "5        88\n",
       "4         8\n",
       "3         2\n",
       "Name: len_screen_name, dtype: int64"
      ]
     },
     "execution_count": 17,
     "metadata": {},
     "output_type": "execute_result"
    }
   ],
   "source": [
    "# all null values are converted to 1 . # 19k 1 length \n",
    "\n",
    "df_cert.len_screen_name.value_counts()"
   ]
  },
  {
   "cell_type": "code",
   "execution_count": 18,
   "metadata": {},
   "outputs": [],
   "source": [
    "# Length of description a\n",
    "df_cert.description = df_cert.description.astype('str')  # null values will be converted to 1 in the next step\n",
    "df_cert['len_desc'] = df_cert.description.apply(lambda x: len(x))"
   ]
  },
  {
   "cell_type": "code",
   "execution_count": 19,
   "metadata": {},
   "outputs": [],
   "source": [
    "#df_cert.len_desc.value_counts()"
   ]
  },
  {
   "cell_type": "code",
   "execution_count": 20,
   "metadata": {},
   "outputs": [],
   "source": [
    "df_cert['ratio_fr_2xfl'] = df_cert.friends_count /(2* df_cert.followers_count)"
   ]
  },
  {
   "cell_type": "code",
   "execution_count": 21,
   "metadata": {},
   "outputs": [
    {
     "data": {
      "text/html": [
       "<div>\n",
       "<style scoped>\n",
       "    .dataframe tbody tr th:only-of-type {\n",
       "        vertical-align: middle;\n",
       "    }\n",
       "\n",
       "    .dataframe tbody tr th {\n",
       "        vertical-align: top;\n",
       "    }\n",
       "\n",
       "    .dataframe thead th {\n",
       "        text-align: right;\n",
       "    }\n",
       "</style>\n",
       "<table border=\"1\" class=\"dataframe\">\n",
       "  <thead>\n",
       "    <tr style=\"text-align: right;\">\n",
       "      <th></th>\n",
       "      <th>bot</th>\n",
       "      <th>created_at</th>\n",
       "      <th>default_profile</th>\n",
       "      <th>default_profile_image</th>\n",
       "      <th>description</th>\n",
       "      <th>favourites_count</th>\n",
       "      <th>followers_count</th>\n",
       "      <th>friends_count</th>\n",
       "      <th>has_extended_profile</th>\n",
       "      <th>id</th>\n",
       "      <th>...</th>\n",
       "      <th>location</th>\n",
       "      <th>name</th>\n",
       "      <th>screen_name</th>\n",
       "      <th>status</th>\n",
       "      <th>statuses_count</th>\n",
       "      <th>url</th>\n",
       "      <th>verified</th>\n",
       "      <th>len_screen_name</th>\n",
       "      <th>len_desc</th>\n",
       "      <th>ratio_fr_2xfl</th>\n",
       "    </tr>\n",
       "  </thead>\n",
       "  <tbody>\n",
       "    <tr>\n",
       "      <th>0</th>\n",
       "      <td>0</td>\n",
       "      <td>Mon Nov 27 06:55:12 +0000 2006</td>\n",
       "      <td>NaN</td>\n",
       "      <td>NaN</td>\n",
       "      <td>Partner at Balderton Capital (formerly Benchma...</td>\n",
       "      <td>267.0</td>\n",
       "      <td>5055</td>\n",
       "      <td>1466</td>\n",
       "      <td>NaN</td>\n",
       "      <td>24503</td>\n",
       "      <td>...</td>\n",
       "      <td>Between Europe and the US</td>\n",
       "      <td>Roberto Bonanzinga</td>\n",
       "      <td>Bonanzinga</td>\n",
       "      <td>NaN</td>\n",
       "      <td>4340.0</td>\n",
       "      <td>http://t.co/32VHs0bxbY</td>\n",
       "      <td>NaN</td>\n",
       "      <td>10</td>\n",
       "      <td>56</td>\n",
       "      <td>0.145005</td>\n",
       "    </tr>\n",
       "    <tr>\n",
       "      <th>1</th>\n",
       "      <td>0</td>\n",
       "      <td>Sun Nov 26 15:19:32 +0000 2006</td>\n",
       "      <td>NaN</td>\n",
       "      <td>NaN</td>\n",
       "      <td>L'uomo ha creato dio a sua immagine e somiglia...</td>\n",
       "      <td>12.0</td>\n",
       "      <td>132</td>\n",
       "      <td>194</td>\n",
       "      <td>NaN</td>\n",
       "      <td>22903</td>\n",
       "      <td>...</td>\n",
       "      <td>Napoli, Italy</td>\n",
       "      <td>effeffe</td>\n",
       "      <td>effeffe</td>\n",
       "      <td>NaN</td>\n",
       "      <td>164.0</td>\n",
       "      <td>http://t.co/CX7EHdk9DJ</td>\n",
       "      <td>NaN</td>\n",
       "      <td>7</td>\n",
       "      <td>159</td>\n",
       "      <td>0.734848</td>\n",
       "    </tr>\n",
       "    <tr>\n",
       "      <th>2</th>\n",
       "      <td>0</td>\n",
       "      <td>Sun Dec 31 02:03:17 +0000 2006</td>\n",
       "      <td>NaN</td>\n",
       "      <td>NaN</td>\n",
       "      <td>Research Director at ISI Foundation. Data scie...</td>\n",
       "      <td>871.0</td>\n",
       "      <td>1154</td>\n",
       "      <td>832</td>\n",
       "      <td>NaN</td>\n",
       "      <td>382393</td>\n",
       "      <td>...</td>\n",
       "      <td>Torino, Piedmont</td>\n",
       "      <td>Ciro Cattuto</td>\n",
       "      <td>ciro</td>\n",
       "      <td>NaN</td>\n",
       "      <td>1070.0</td>\n",
       "      <td>http://t.co/26dNjSYe5Q</td>\n",
       "      <td>NaN</td>\n",
       "      <td>4</td>\n",
       "      <td>121</td>\n",
       "      <td>0.360485</td>\n",
       "    </tr>\n",
       "    <tr>\n",
       "      <th>3</th>\n",
       "      <td>0</td>\n",
       "      <td>Wed Dec 27 14:55:17 +0000 2006</td>\n",
       "      <td>NaN</td>\n",
       "      <td>NaN</td>\n",
       "      <td>Web and social media developer from Italy</td>\n",
       "      <td>478.0</td>\n",
       "      <td>930</td>\n",
       "      <td>535</td>\n",
       "      <td>NaN</td>\n",
       "      <td>286543</td>\n",
       "      <td>...</td>\n",
       "      <td>Milan, Italy</td>\n",
       "      <td>Alessio Bragadini</td>\n",
       "      <td>abragad</td>\n",
       "      <td>NaN</td>\n",
       "      <td>6892.0</td>\n",
       "      <td>http://t.co/xoOdZi9jic</td>\n",
       "      <td>NaN</td>\n",
       "      <td>7</td>\n",
       "      <td>41</td>\n",
       "      <td>0.287634</td>\n",
       "    </tr>\n",
       "    <tr>\n",
       "      <th>4</th>\n",
       "      <td>0</td>\n",
       "      <td>Tue Jan 02 09:01:50 +0000 2007</td>\n",
       "      <td>NaN</td>\n",
       "      <td>NaN</td>\n",
       "      <td>0</td>\n",
       "      <td>41.0</td>\n",
       "      <td>173</td>\n",
       "      <td>444</td>\n",
       "      <td>NaN</td>\n",
       "      <td>438023</td>\n",
       "      <td>...</td>\n",
       "      <td>Bologna</td>\n",
       "      <td>fullcaffeine</td>\n",
       "      <td>fullcaffeine</td>\n",
       "      <td>NaN</td>\n",
       "      <td>2885.0</td>\n",
       "      <td>http://www.fullcaffeine.com</td>\n",
       "      <td>NaN</td>\n",
       "      <td>12</td>\n",
       "      <td>1</td>\n",
       "      <td>1.283237</td>\n",
       "    </tr>\n",
       "  </tbody>\n",
       "</table>\n",
       "<p>5 rows × 23 columns</p>\n",
       "</div>"
      ],
      "text/plain": [
       "   bot                      created_at  default_profile  \\\n",
       "0    0  Mon Nov 27 06:55:12 +0000 2006              NaN   \n",
       "1    0  Sun Nov 26 15:19:32 +0000 2006              NaN   \n",
       "2    0  Sun Dec 31 02:03:17 +0000 2006              NaN   \n",
       "3    0  Wed Dec 27 14:55:17 +0000 2006              NaN   \n",
       "4    0  Tue Jan 02 09:01:50 +0000 2007              NaN   \n",
       "\n",
       "   default_profile_image                                        description  \\\n",
       "0                    NaN  Partner at Balderton Capital (formerly Benchma...   \n",
       "1                    NaN  L'uomo ha creato dio a sua immagine e somiglia...   \n",
       "2                    NaN  Research Director at ISI Foundation. Data scie...   \n",
       "3                    NaN          Web and social media developer from Italy   \n",
       "4                    NaN                                                  0   \n",
       "\n",
       "   favourites_count  followers_count  friends_count  has_extended_profile  \\\n",
       "0             267.0             5055           1466                   NaN   \n",
       "1              12.0              132            194                   NaN   \n",
       "2             871.0             1154            832                   NaN   \n",
       "3             478.0              930            535                   NaN   \n",
       "4              41.0              173            444                   NaN   \n",
       "\n",
       "       id      ...                         location                name  \\\n",
       "0   24503      ...        Between Europe and the US  Roberto Bonanzinga   \n",
       "1   22903      ...                   Napoli, Italy              effeffe   \n",
       "2  382393      ...                 Torino, Piedmont        Ciro Cattuto   \n",
       "3  286543      ...                     Milan, Italy   Alessio Bragadini   \n",
       "4  438023      ...                          Bologna        fullcaffeine   \n",
       "\n",
       "    screen_name status statuses_count                          url  verified  \\\n",
       "0    Bonanzinga    NaN         4340.0       http://t.co/32VHs0bxbY       NaN   \n",
       "1       effeffe    NaN          164.0       http://t.co/CX7EHdk9DJ       NaN   \n",
       "2          ciro    NaN         1070.0       http://t.co/26dNjSYe5Q       NaN   \n",
       "3       abragad    NaN         6892.0       http://t.co/xoOdZi9jic       NaN   \n",
       "4  fullcaffeine    NaN         2885.0  http://www.fullcaffeine.com       NaN   \n",
       "\n",
       "   len_screen_name len_desc  ratio_fr_2xfl  \n",
       "0               10       56       0.145005  \n",
       "1                7      159       0.734848  \n",
       "2                4      121       0.360485  \n",
       "3                7       41       0.287634  \n",
       "4               12        1       1.283237  \n",
       "\n",
       "[5 rows x 23 columns]"
      ]
     },
     "execution_count": 21,
     "metadata": {},
     "output_type": "execute_result"
    }
   ],
   "source": [
    "df_cert.head()"
   ]
  },
  {
   "cell_type": "code",
   "execution_count": 116,
   "metadata": {},
   "outputs": [],
   "source": [
    "#len(set(df_cert.screen_name))"
   ]
  },
  {
   "cell_type": "code",
   "execution_count": 22,
   "metadata": {},
   "outputs": [
    {
     "data": {
      "text/plain": [
       "Index(['bot', 'created_at', 'default_profile', 'default_profile_image',\n",
       "       'description', 'favourites_count', 'followers_count', 'friends_count',\n",
       "       'has_extended_profile', 'id', 'id_str', 'lang', 'listed_count',\n",
       "       'location', 'name', 'screen_name', 'status', 'statuses_count', 'url',\n",
       "       'verified', 'len_screen_name', 'len_desc', 'ratio_fr_2xfl'],\n",
       "      dtype='object')"
      ]
     },
     "execution_count": 22,
     "metadata": {},
     "output_type": "execute_result"
    }
   ],
   "source": [
    "#df_cert[df_cert.id == 1124249136]\n",
    "df_cert.columns"
   ]
  },
  {
   "cell_type": "code",
   "execution_count": 23,
   "metadata": {},
   "outputs": [],
   "source": [
    "col_to_keep = ['followers_count', 'friends_count', 'favourites_count',\n",
    "       'statuses_count', 'len_screen_name', 'len_desc', 'ratio_fr_2xfl']"
   ]
  },
  {
   "cell_type": "code",
   "execution_count": 24,
   "metadata": {
    "scrolled": true
   },
   "outputs": [
    {
     "data": {
      "text/plain": [
       "Index(['followers_count', 'friends_count', 'favourites_count',\n",
       "       'statuses_count', 'len_screen_name', 'len_desc', 'ratio_fr_2xfl'],\n",
       "      dtype='object')"
      ]
     },
     "execution_count": 24,
     "metadata": {},
     "output_type": "execute_result"
    }
   ],
   "source": [
    "X = df_cert[col_to_keep]\n",
    "X.columns"
   ]
  },
  {
   "cell_type": "code",
   "execution_count": 25,
   "metadata": {},
   "outputs": [],
   "source": [
    "X = X.fillna(0)\n",
    "X = X.applymap(lambda x: x if x != np.inf else -1)"
   ]
  },
  {
   "cell_type": "code",
   "execution_count": 26,
   "metadata": {},
   "outputs": [],
   "source": [
    "X_train, X_test, y_train, y_test = train_test_split(X, df_cert.bot, test_size= .3)"
   ]
  },
  {
   "cell_type": "code",
   "execution_count": 27,
   "metadata": {
    "scrolled": false
   },
   "outputs": [
    {
     "name": "stdout",
     "output_type": "stream",
     "text": [
      "================================================================================\n",
      "BNB Classifier\n",
      "________________________________________________________________________________\n",
      "Training: \n",
      "BernoulliNB(alpha=1.0, binarize=0.0, class_prior=None, fit_prior=True)\n",
      "train time: 0.021s\n",
      "Crossvalidating: \n",
      "Crossvalidated accuracy: 0.958 with std 0.003\n",
      "test time:  0.004s\n",
      "confusion matrix \n",
      " [[7290   86]\n",
      " [ 381 2920]]\n",
      "Test precision score 0.971 \n",
      "Test recall score 0.885 \n",
      "ROC AUC score 0.936\n",
      "\n",
      "================================================================================\n",
      "LogReg\n",
      "________________________________________________________________________________\n",
      "Training: \n",
      "LogisticRegression(C=1.0, class_weight=None, dual=False, fit_intercept=True,\n",
      "          intercept_scaling=1, max_iter=100, multi_class='warn',\n",
      "          n_jobs=None, penalty='l2', random_state=None, solver='warn',\n",
      "          tol=0.0001, verbose=0, warm_start=False)\n",
      "train time: 0.508s\n",
      "Crossvalidating: \n",
      "Crossvalidated accuracy: 0.939 with std 0.004\n",
      "test time:  0.001s\n",
      "confusion matrix \n",
      " [[6939  437]\n",
      " [ 254 3047]]\n",
      "Test precision score 0.875 \n",
      "Test recall score 0.923 \n",
      "ROC AUC score 0.932\n",
      "\n",
      "================================================================================\n",
      "GBC\n",
      "________________________________________________________________________________\n",
      "Training: \n",
      "GradientBoostingClassifier(criterion='friedman_mse', init=None,\n",
      "              learning_rate=0.1, loss='deviance', max_depth=3,\n",
      "              max_features=None, max_leaf_nodes=None,\n",
      "              min_impurity_decrease=0.0, min_impurity_split=None,\n",
      "              min_samples_leaf=1, min_samples_split=2,\n",
      "              min_weight_fraction_leaf=0.0, n_estimators=100,\n",
      "              n_iter_no_change=None, presort='auto', random_state=None,\n",
      "              subsample=1.0, tol=0.0001, validation_fraction=0.1,\n",
      "              verbose=0, warm_start=False)\n",
      "train time: 1.547s\n",
      "Crossvalidating: \n",
      "Crossvalidated accuracy: 0.983 with std 0.003\n",
      "test time:  0.016s\n",
      "confusion matrix \n",
      " [[7281   95]\n",
      " [  75 3226]]\n",
      "Test precision score 0.971 \n",
      "Test recall score 0.977 \n",
      "ROC AUC score 0.982\n",
      "\n",
      "================================================================================\n",
      "kNN\n",
      "________________________________________________________________________________\n",
      "Training: \n",
      "KNeighborsClassifier(algorithm='auto', leaf_size=30, metric='minkowski',\n",
      "           metric_params=None, n_jobs=None, n_neighbors=10, p=2,\n",
      "           weights='uniform')\n",
      "train time: 0.105s\n",
      "Crossvalidating: \n",
      "Crossvalidated accuracy: 0.964 with std 0.001\n",
      "test time:  0.157s\n",
      "confusion matrix \n",
      " [[7198  178]\n",
      " [ 255 3046]]\n",
      "Test precision score 0.945 \n",
      "Test recall score 0.923 \n",
      "ROC AUC score 0.949\n",
      "\n",
      "================================================================================\n",
      "Random forest\n",
      "________________________________________________________________________________\n",
      "Training: \n",
      "RandomForestClassifier(bootstrap=True, class_weight=None, criterion='gini',\n",
      "            max_depth=None, max_features='auto', max_leaf_nodes=None,\n",
      "            min_impurity_decrease=0.0, min_impurity_split=None,\n",
      "            min_samples_leaf=1, min_samples_split=2,\n",
      "            min_weight_fraction_leaf=0.0, n_estimators=100, n_jobs=None,\n",
      "            oob_score=False, random_state=None, verbose=0,\n",
      "            warm_start=False)\n",
      "train time: 1.686s\n",
      "Crossvalidating: \n",
      "Crossvalidated accuracy: 0.988 with std 0.001\n",
      "test time:  0.103s\n",
      "confusion matrix \n",
      " [[7327   49]\n",
      " [  68 3233]]\n",
      "Test precision score 0.985 \n",
      "Test recall score 0.979 \n",
      "ROC AUC score 0.986\n",
      "\n",
      "================================================================================\n",
      "SVC\n",
      "________________________________________________________________________________\n",
      "Training: \n",
      "SVC(C=1.0, cache_size=200, class_weight=None, coef0=0.0,\n",
      "  decision_function_shape='ovr', degree=3, gamma='auto_deprecated',\n",
      "  kernel='rbf', max_iter=-1, probability=False, random_state=None,\n",
      "  shrinking=True, tol=0.001, verbose=False)\n",
      "train time: 49.967s\n",
      "Crossvalidating: \n",
      "Crossvalidated accuracy: 0.798 with std 0.003\n",
      "test time:  3.465s\n",
      "confusion matrix \n",
      " [[7372    4]\n",
      " [2215 1086]]\n",
      "Test precision score 0.996 \n",
      "Test recall score 0.329 \n",
      "ROC AUC score 0.664\n",
      "\n"
     ]
    }
   ],
   "source": [
    "def baseline_models(clf, X_train, y_train, X_val, y_val):\n",
    "    print('_' * 80)\n",
    "    print(\"Training: \")\n",
    "    print(clf)\n",
    "    t0 = t.time()\n",
    "    clf.fit(X_train, y_train)\n",
    "    train_time = t.time() - t0\n",
    "    print(\"train time: %0.3fs\" % train_time)\n",
    "\n",
    "    print(\"Crossvalidating: \")\n",
    "    t0 = t.time()\n",
    "    cv_score = cross_val_score(clf, X_train, y_train, cv=5)\n",
    "    train_time = t.time() - t0\n",
    "    print(\"Crossvalidated accuracy: %0.3f with std %0.3f\" % (cv_score.mean(), cv_score.std()))\n",
    "    \n",
    "    #Metrics\n",
    "    t0 = t.time()\n",
    "    pred = clf.predict(X_val)\n",
    "    test_time = t.time() - t0\n",
    "    print(\"test time:  %0.3fs\" % test_time)\n",
    "    \n",
    "    #score = accuracy_score(y_test, pred)\n",
    "    #print(\"accuracy:   %0.3f\" % score)\n",
    "    \n",
    "\n",
    "    print('confusion matrix \\n', confusion_matrix(y_val, pred))  \n",
    "    precision = precision_score(y_val, pred)\n",
    "    print('Test precision score %.3f ' % precision)\n",
    "    recall = recall_score(y_val, pred)\n",
    "    print('Test recall score %.3f ' % recall)\n",
    "    rocauc = roc_auc_score(y_val, pred)\n",
    "    print('ROC AUC score %.3f' % rocauc)\n",
    "\n",
    "    print()\n",
    "    clf_descr = str(clf).split('(')[0]\n",
    "    return clf_descr, cv_score.mean(), train_time, test_time, precision, recall, rocauc\n",
    "\n",
    "\n",
    "results = []\n",
    "\n",
    "bnb = BernoulliNB()\n",
    "logReg = LogisticRegression()\n",
    "gbc = GradientBoostingClassifier()\n",
    "knn = KNeighborsClassifier(n_neighbors=10)\n",
    "rfc = RandomForestClassifier(n_estimators=100)\n",
    "svc = SVC()\n",
    "\n",
    "for clf, name in (\n",
    "        (bnb, \"BNB Classifier\"),\n",
    "        (logReg, \"LogReg\"),\n",
    "        (gbc, \"GBC\"),\n",
    "        (knn, \"kNN\"),\n",
    "        (rfc, \"Random forest\"),\n",
    "        (svc, \"SVC\")\n",
    "):\n",
    "    print('=' * 80)\n",
    "    print(name)\n",
    "    results.append(baseline_models(clf, X_train, y_train, X_test, y_test))\n",
    "\n"
   ]
  },
  {
   "cell_type": "code",
   "execution_count": 28,
   "metadata": {},
   "outputs": [
    {
     "data": {
      "text/html": [
       "<div>\n",
       "<style scoped>\n",
       "    .dataframe tbody tr th:only-of-type {\n",
       "        vertical-align: middle;\n",
       "    }\n",
       "\n",
       "    .dataframe tbody tr th {\n",
       "        vertical-align: top;\n",
       "    }\n",
       "\n",
       "    .dataframe thead th {\n",
       "        text-align: right;\n",
       "    }\n",
       "</style>\n",
       "<table border=\"1\" class=\"dataframe\">\n",
       "  <thead>\n",
       "    <tr style=\"text-align: right;\">\n",
       "      <th></th>\n",
       "      <th>Classifier</th>\n",
       "      <th>Mean CV accuracy</th>\n",
       "      <th>Precision score</th>\n",
       "      <th>Recall score</th>\n",
       "      <th>ROC-AUC score</th>\n",
       "    </tr>\n",
       "  </thead>\n",
       "  <tbody>\n",
       "    <tr>\n",
       "      <th>0</th>\n",
       "      <td>BernoulliNB</td>\n",
       "      <td>0.957649</td>\n",
       "      <td>0.971391</td>\n",
       "      <td>0.88458</td>\n",
       "      <td>0.93646</td>\n",
       "    </tr>\n",
       "    <tr>\n",
       "      <th>1</th>\n",
       "      <td>LogisticRegression</td>\n",
       "      <td>0.938702</td>\n",
       "      <td>0.874569</td>\n",
       "      <td>0.923054</td>\n",
       "      <td>0.931904</td>\n",
       "    </tr>\n",
       "    <tr>\n",
       "      <th>2</th>\n",
       "      <td>GradientBoostingClassifier</td>\n",
       "      <td>0.983301</td>\n",
       "      <td>0.971394</td>\n",
       "      <td>0.97728</td>\n",
       "      <td>0.9822</td>\n",
       "    </tr>\n",
       "    <tr>\n",
       "      <th>3</th>\n",
       "      <td>KNeighborsClassifier</td>\n",
       "      <td>0.963791</td>\n",
       "      <td>0.944789</td>\n",
       "      <td>0.922751</td>\n",
       "      <td>0.949309</td>\n",
       "    </tr>\n",
       "    <tr>\n",
       "      <th>4</th>\n",
       "      <td>RandomForestClassifier</td>\n",
       "      <td>0.988399</td>\n",
       "      <td>0.98507</td>\n",
       "      <td>0.9794</td>\n",
       "      <td>0.986379</td>\n",
       "    </tr>\n",
       "    <tr>\n",
       "      <th>5</th>\n",
       "      <td>SVC</td>\n",
       "      <td>0.79764</td>\n",
       "      <td>0.99633</td>\n",
       "      <td>0.328991</td>\n",
       "      <td>0.664224</td>\n",
       "    </tr>\n",
       "  </tbody>\n",
       "</table>\n",
       "</div>"
      ],
      "text/plain": [
       "                   Classifier Mean CV accuracy Precision score Recall score  \\\n",
       "0                 BernoulliNB         0.957649        0.971391      0.88458   \n",
       "1          LogisticRegression         0.938702        0.874569     0.923054   \n",
       "2  GradientBoostingClassifier         0.983301        0.971394      0.97728   \n",
       "3        KNeighborsClassifier         0.963791        0.944789     0.922751   \n",
       "4      RandomForestClassifier         0.988399         0.98507       0.9794   \n",
       "5                         SVC          0.79764         0.99633     0.328991   \n",
       "\n",
       "  ROC-AUC score  \n",
       "0       0.93646  \n",
       "1      0.931904  \n",
       "2        0.9822  \n",
       "3      0.949309  \n",
       "4      0.986379  \n",
       "5      0.664224  "
      ]
     },
     "execution_count": 28,
     "metadata": {},
     "output_type": "execute_result"
    }
   ],
   "source": [
    "\n",
    "display_scores = pd.DataFrame(columns=['Classifier', 'Mean CV accuracy', 'Precision score', 'Recall score', 'ROC-AUC score'])\n",
    "\n",
    "row_index = 0\n",
    "for clf in results:\n",
    "    display_scores.loc[row_index, 'Classifier'] = clf[0]\n",
    "    display_scores.loc[row_index, 'Mean CV accuracy'] = clf[1]\n",
    "    display_scores.loc[row_index, 'Precision score'] = clf[4]\n",
    "    display_scores.loc[row_index, 'Recall score'] = clf[5]\n",
    "    display_scores.loc[row_index, 'ROC-AUC score'] = clf[6]\n",
    "    row_index +=1\n",
    "display_scores"
   ]
  },
  {
   "cell_type": "markdown",
   "metadata": {},
   "source": [
    "    Classifier\tMean CV accuracy\tPrecision score\tRecall score\tROC-AUC score\n",
    "        1. BernoulliNB\t0.883124\t0.934934\t0.7821\t0.878373\n",
    "    2.\tLogisticRegression\t0.670871\t0.489813\t0.878174\t0.726035\n",
    "    3.\tGradientBoostingClassifier\t0.95639\t0.941787\t0.927854\t0.950569\n",
    "    4.\tKNeighborsClassifier\t0.933453\t0.916793\t0.88347\t0.923059\n",
    "    5.\tRandomForestClassifier\t0.980397\t0.982381\t0.967489\t0.979703\n",
    "    6.\tSVC\t0.887504\t0.99349\t0.696804\t0.847338"
   ]
  },
  {
   "cell_type": "code",
   "execution_count": 33,
   "metadata": {},
   "outputs": [
    {
     "name": "stdout",
     "output_type": "stream",
     "text": [
      "followers_count 0.06591565437557992\n",
      "friends_count 0.045825340868702845\n",
      "favourites_count 0.17824335146933515\n",
      "statuses_count 0.29826097290222214\n",
      "len_screen_name 0.23357381879344957\n",
      "len_desc 0.049842434933246596\n",
      "ratio_fr_2xfl 0.12833842665746384\n"
     ]
    },
    {
     "data": {
      "text/plain": [
       "[None, None, None, None, None, None, None]"
      ]
     },
     "execution_count": 33,
     "metadata": {},
     "output_type": "execute_result"
    }
   ],
   "source": [
    "[print(l,f) for l,f in zip(X_train.columns, rfc.feature_importances_)]"
   ]
  },
  {
   "cell_type": "markdown",
   "metadata": {},
   "source": [
    "## Interim findings before incorporating NLP features. \n",
    "\n",
    "Random forest performs very well (CV accuracy 98.8%, ROC-AUC score .986 with 98.82% and 97.9% Precision and Recall scores). This is comparatively great improvement given that our metrics for the baseline Random Forest model were: \n",
    " - Cross-validated accuracy 98.03%\n",
    " - ROC-AUC score 0.979\n",
    " - Precision: 98.23%, Recall: 96.74%\t\n",
    " \n",
    "The most important features are: 'statuses_count', length of the screen name, 'favourites_count', and the ratio of the friends count and 2 times followers count. \n",
    "\n",
    "In the following, I am want to see how the clusters of distinguishing features wrt the bot and real users. "
   ]
  },
  {
   "cell_type": "code",
   "execution_count": 34,
   "metadata": {},
   "outputs": [],
   "source": [
    "\n",
    "from sklearn.cluster import MeanShift, estimate_bandwidth\n",
    "from sklearn.datasets.samples_generator import make_blobs\n"
   ]
  },
  {
   "cell_type": "code",
   "execution_count": 35,
   "metadata": {},
   "outputs": [
    {
     "data": {
      "text/plain": [
       "Index(['followers_count', 'friends_count', 'favourites_count',\n",
       "       'statuses_count', 'len_screen_name', 'len_desc', 'ratio_fr_2xfl'],\n",
       "      dtype='object')"
      ]
     },
     "execution_count": 35,
     "metadata": {},
     "output_type": "execute_result"
    }
   ],
   "source": [
    "X_train.columns"
   ]
  },
  {
   "cell_type": "code",
   "execution_count": 36,
   "metadata": {},
   "outputs": [],
   "source": [
    "cluster_cols = ['len_screen_name', 'len_desc', 'ratio_fr_2xfl', ]"
   ]
  },
  {
   "cell_type": "code",
   "execution_count": 71,
   "metadata": {},
   "outputs": [
    {
     "name": "stdout",
     "output_type": "stream",
     "text": [
      "number of estimated clusters : 20\n"
     ]
    }
   ],
   "source": [
    "# Compute clustering with MeanShift\n",
    "\n",
    "# The following bandwidth can be automatically detected using\n",
    "\n",
    "bandwidth = estimate_bandwidth(X_train[cluster_cols], quantile=0.2, n_samples=500)\n",
    "\n",
    "ms = MeanShift(bandwidth=bandwidth, bin_seeding=True)\n",
    "X_train[cluster_cols] \n",
    "\n",
    "ms.fit(X_train[cluster_cols])\n",
    "labels = ms.labels_\n",
    "cluster_centers = ms.cluster_centers_\n",
    "\n",
    "labels_unique = np.unique(labels)\n",
    "n_clusters_ = len(labels_unique)\n",
    "\n",
    "print(\"number of estimated clusters : %d\" % n_clusters_)\n",
    "\n"
   ]
  },
  {
   "cell_type": "code",
   "execution_count": 84,
   "metadata": {},
   "outputs": [
    {
     "data": {
      "text/plain": [
       "array([0, 0, 0, ..., 0, 0, 0])"
      ]
     },
     "execution_count": 84,
     "metadata": {},
     "output_type": "execute_result"
    }
   ],
   "source": [
    "labels"
   ]
  },
  {
   "cell_type": "code",
   "execution_count": 86,
   "metadata": {},
   "outputs": [
    {
     "ename": "IndexError",
     "evalue": "index 3 is out of bounds for axis 0 with size 3",
     "output_type": "error",
     "traceback": [
      "\u001b[0;31m---------------------------------------------------------------------------\u001b[0m",
      "\u001b[0;31mIndexError\u001b[0m                                Traceback (most recent call last)",
      "\u001b[0;32m<ipython-input-86-83cf3b013005>\u001b[0m in \u001b[0;36m<module>\u001b[0;34m\u001b[0m\n\u001b[1;32m     15\u001b[0m     \u001b[0mcluster_center\u001b[0m \u001b[0;34m=\u001b[0m \u001b[0mcluster_centers\u001b[0m\u001b[0;34m[\u001b[0m\u001b[0mk\u001b[0m\u001b[0;34m]\u001b[0m\u001b[0;34m\u001b[0m\u001b[0m\n\u001b[1;32m     16\u001b[0m \u001b[0;34m\u001b[0m\u001b[0m\n\u001b[0;32m---> 17\u001b[0;31m     plt.plot(cluster_center[k], cluster_center[k+1], 'o', markerfacecolor=col,\n\u001b[0m\u001b[1;32m     18\u001b[0m              markeredgecolor='k', markersize=14)\n\u001b[1;32m     19\u001b[0m     \u001b[0mplt\u001b[0m\u001b[0;34m.\u001b[0m\u001b[0mplot\u001b[0m\u001b[0;34m(\u001b[0m\u001b[0mX_train\u001b[0m\u001b[0;34m[\u001b[0m\u001b[0mcluster_cols\u001b[0m\u001b[0;34m]\u001b[0m\u001b[0;34m.\u001b[0m\u001b[0mvalues\u001b[0m\u001b[0;34m[\u001b[0m\u001b[0mmy_members\u001b[0m\u001b[0;34m,\u001b[0m \u001b[0mfeature1\u001b[0m\u001b[0;34m]\u001b[0m\u001b[0;34m,\u001b[0m \u001b[0mX_train\u001b[0m\u001b[0;34m[\u001b[0m\u001b[0mcluster_cols\u001b[0m\u001b[0;34m]\u001b[0m\u001b[0;34m.\u001b[0m\u001b[0mvalues\u001b[0m\u001b[0;34m[\u001b[0m\u001b[0mmy_members\u001b[0m\u001b[0;34m,\u001b[0m \u001b[0mfeature2\u001b[0m\u001b[0;34m]\u001b[0m\u001b[0;34m,\u001b[0m \u001b[0mcol\u001b[0m \u001b[0;34m+\u001b[0m \u001b[0;34m'.'\u001b[0m\u001b[0;34m)\u001b[0m\u001b[0;34m\u001b[0m\u001b[0m\n",
      "\u001b[0;31mIndexError\u001b[0m: index 3 is out of bounds for axis 0 with size 3"
     ]
    },
    {
     "data": {
      "image/png": "[encoded data removed]",
      "text/plain": [
       "<Figure size 864x864 with 1 Axes>"
      ]
     },
     "metadata": {},
     "output_type": "display_data"
    }
   ],
   "source": [
    "# Plot result\n",
    "import matplotlib.pyplot as plt\n",
    "from itertools import cycle\n",
    "\n",
    "plt.figure(figsize=(12,12))\n",
    "#plt.clf()\n",
    "\n",
    "feature1 = 0\n",
    "feature2 = 1\n",
    "feature3 = 2\n",
    "\n",
    "colors = cycle('bgrcmykbgrcmykbgrcmykbgrcmyk')\n",
    "for k, col in zip(range(n_clusters_), colors):\n",
    "    my_members = labels == k\n",
    "    cluster_center = cluster_centers[k]\n",
    "    \n",
    "    plt.plot(cluster_center[k], cluster_center[k+1], 'o', markerfacecolor=col,\n",
    "             markeredgecolor='k', markersize=14)\n",
    "    plt.plot(X_train[cluster_cols].values[my_members, feature1], X_train[cluster_cols].values[my_members, feature2], col + '.')\n",
    "    plt.xlabel(cluster_cols[feature1])\n",
    "    plt.ylabel(cluster_cols[feature2])\n",
    "plt.title('Estimated number of clusters: %d' % n_clusters_)\n",
    "plt.show()"
   ]
  },
  {
   "cell_type": "code",
   "execution_count": 98,
   "metadata": {},
   "outputs": [
    {
     "data": {
      "text/plain": [
       "'len_screen_name'"
      ]
     },
     "execution_count": 98,
     "metadata": {},
     "output_type": "execute_result"
    }
   ],
   "source": [
    "cluster_cols[0]"
   ]
  },
  {
   "cell_type": "code",
   "execution_count": 108,
   "metadata": {
    "scrolled": true
   },
   "outputs": [
    {
     "data": {
      "text/plain": [
       "Text(0.5,1,'Distribution of the length of the screen names of bots and real accounts')"
      ]
     },
     "execution_count": 108,
     "metadata": {},
     "output_type": "execute_result"
    },
    {
     "data": {
      "image/png": "[encoded data removed]",
      "text/plain": [
       "<Figure size 432x288 with 1 Axes>"
      ]
     },
     "metadata": {},
     "output_type": "display_data"
    }
   ],
   "source": [
    "\n",
    "plt.plot(X_train[X_train.bot==False][cluster_cols[2]].values, X_train[X_train.bot==False]['favourites_count'].values, 'bx')\n",
    "plt.plot(X_train[X_train.bot==True][cluster_cols[2]].values, X_train[X_train.bot==True]['favourites_count'].values,  'r.')\n",
    "plt.xlabel(cluster_cols[2])\n",
    "plt.ylabel('statuses_count')\n",
    "plt.title('Distribution of the length of the screen names of bots and real accounts')"
   ]
  },
  {
   "cell_type": "code",
   "execution_count": 46,
   "metadata": {
    "scrolled": true
   },
   "outputs": [
    {
     "name": "stderr",
     "output_type": "stream",
     "text": [
      "/Library/Frameworks/Python.framework/Versions/3.6/lib/python3.6/site-packages/ipykernel_launcher.py:1: SettingWithCopyWarning: \n",
      "A value is trying to be set on a copy of a slice from a DataFrame.\n",
      "Try using .loc[row_indexer,col_indexer] = value instead\n",
      "\n",
      "See the caveats in the documentation: http://pandas.pydata.org/pandas-docs/stable/indexing.html#indexing-view-versus-copy\n",
      "  \"\"\"Entry point for launching an IPython kernel.\n"
     ]
    }
   ],
   "source": [
    "X_train['bot'] = y_train"
   ]
  },
  {
   "cell_type": "code",
   "execution_count": 62,
   "metadata": {},
   "outputs": [
    {
     "data": {
      "text/plain": [
       "['len_screen_name', 'len_desc', 'ratio_fr_2xfl']"
      ]
     },
     "execution_count": 62,
     "metadata": {},
     "output_type": "execute_result"
    }
   ],
   "source": [
    "cluster_cols"
   ]
  },
  {
   "cell_type": "code",
   "execution_count": 133,
   "metadata": {},
   "outputs": [
    {
     "data": {
      "image/png": "[encoded data removed]",
      "text/plain": [
       "<Figure size 1296x432 with 3 Axes>"
      ]
     },
     "metadata": {},
     "output_type": "display_data"
    }
   ],
   "source": [
    "plt.figure(figsize=(18, 6))\n",
    "\n",
    "plt.subplot(1,3,1)\n",
    "plt.plot(X_train[X_train.bot==True][cluster_cols[0]].values, X_train[X_train.bot==True][cluster_cols[1]].values,  'rx')\n",
    "plt.plot(X_train[X_train.bot==False][cluster_cols[0]].values, X_train[X_train.bot==False][cluster_cols[1]].values, 'b.')\n",
    "plt.xlabel(cluster_cols[0])\n",
    "plt.ylabel(cluster_cols[1])\n",
    "plt.title('Screen name length vs. description length')\n",
    "\n",
    "plt.subplot(1,3,2)\n",
    "plt.plot(X_train[X_train.bot==True][cluster_cols[0]].values, X_train[X_train.bot==True][cluster_cols[2]].values,  'rx')\n",
    "plt.plot(X_train[X_train.bot==False][cluster_cols[0]].values, X_train[X_train.bot==False][cluster_cols[2]].values, 'b.')\n",
    "plt.xlabel(cluster_cols[0])\n",
    "plt.ylabel(cluster_cols[2])\n",
    "plt.title('Screen name length vs. ratio')\n",
    "\n",
    "\n",
    "plt.subplot(1,3,3)\n",
    "plt.plot(X_train[X_train.bot==True][cluster_cols[1]].values, X_train[X_train.bot==True][cluster_cols[2]].values,  'rx')\n",
    "plt.plot(X_train[X_train.bot==False][cluster_cols[1]].values, X_train[X_train.bot==False][cluster_cols[2]].values, 'b.')\n",
    "plt.xlabel(cluster_cols[1])\n",
    "plt.ylabel(cluster_cols[2])\n",
    "plt.title('Description length vs. the ratio')\n",
    "plt.tight_layout()\n",
    "plt.show()"
   ]
  },
  {
   "cell_type": "code",
   "execution_count": null,
   "metadata": {},
   "outputs": [],
   "source": []
  },
  {
   "cell_type": "code",
   "execution_count": 134,
   "metadata": {},
   "outputs": [],
   "source": [
    "# Converting the values to log scale \n",
    "X_train_log = pd.DataFrame(columns=cluster_cols)\n",
    "\n",
    "# 0 values are converted to inf in log scale, so changing them to -1\n",
    "X_train_log = X_train[cluster_cols].applymap(lambda x: np.log10(x) if x >= 1 else -1)"
   ]
  },
  {
   "cell_type": "code",
   "execution_count": 135,
   "metadata": {},
   "outputs": [],
   "source": [
    "X_train_log['bot'] = y_train"
   ]
  },
  {
   "cell_type": "code",
   "execution_count": 136,
   "metadata": {},
   "outputs": [
    {
     "name": "stdout",
     "output_type": "stream",
     "text": [
      "number of estimated clusters : 6\n"
     ]
    }
   ],
   "source": [
    "# Compute clustering with MeanShift\n",
    "\n",
    "# The following bandwidth can be automatically detected using\n",
    "\n",
    "\n",
    "bandwidth = estimate_bandwidth(X_train_log[cluster_cols], quantile=0.2, n_samples=500)\n",
    "\n",
    "ms = MeanShift(bandwidth=bandwidth, bin_seeding=True)\n",
    "X_train_log[cluster_cols] \n",
    "\n",
    "ms.fit(X_train_log[cluster_cols])\n",
    "labels = ms.labels_\n",
    "cluster_centers = ms.cluster_centers_\n",
    "\n",
    "labels_unique = np.unique(labels)\n",
    "n_clusters_ = len(labels_unique)\n",
    "\n",
    "print(\"number of estimated clusters : %d\" % n_clusters_)\n",
    "\n"
   ]
  },
  {
   "cell_type": "code",
   "execution_count": 137,
   "metadata": {},
   "outputs": [
    {
     "data": {
      "image/png": "[encoded data removed]",
      "text/plain": [
       "<Figure size 864x864 with 1 Axes>"
      ]
     },
     "metadata": {},
     "output_type": "display_data"
    }
   ],
   "source": [
    "# #############################################################################\n",
    "# Plot result\n",
    "import matplotlib.pyplot as plt\n",
    "from itertools import cycle\n",
    "\n",
    "plt.figure(figsize=(12,12))\n",
    "plt.clf()\n",
    "\n",
    "feature1 = 0\n",
    "feature2 = 1\n",
    "feature3 = 2\n",
    "feature4 = 3\n",
    "colors = cycle('bgrcmykbgrcmykbgrcmykbgrcmyk')\n",
    "for k, col in zip(range(n_clusters_), colors):\n",
    "    my_members = labels == k\n",
    "    cluster_center = cluster_centers[k]\n",
    "    \n",
    "    plt.plot(cluster_center[0], cluster_center[1], 'o', markerfacecolor=col,\n",
    "             markeredgecolor='k', markersize=14)\n",
    "    plt.plot(X_train_log[cluster_cols].values[my_members, feature1], X_train_log[cluster_cols].values[my_members, feature2], col + '.')\n",
    "    plt.xlabel(cluster_cols[feature1])\n",
    "    plt.ylabel(cluster_cols[feature2])\n",
    "plt.title('Estimated number of clusters: %d' % n_clusters_)\n",
    "plt.show()"
   ]
  },
  {
   "cell_type": "code",
   "execution_count": 138,
   "metadata": {},
   "outputs": [],
   "source": [
    "# creating index for passing on to the plots to show the following plots for each feature. \n",
    "\n",
    "members_bot_ind = y_train[y_train == True].index.values # index to array \n",
    "members_nonbot_ind = y_train[y_train == False].index.values"
   ]
  },
  {
   "cell_type": "code",
   "execution_count": 147,
   "metadata": {},
   "outputs": [
    {
     "data": {
      "image/png": "[encoded data removed]",
      "text/plain": [
       "<Figure size 1296x432 with 3 Axes>"
      ]
     },
     "metadata": {},
     "output_type": "display_data"
    }
   ],
   "source": [
    "plt.figure(figsize=(18, 6))\n",
    "\n",
    "plt.subplot(1,3,1)\n",
    "plt.plot(X_train_log[X_train_log.bot==True][cluster_cols[0]].values, X_train_log[X_train_log.bot==True][cluster_cols[1]].values,  'rx')\n",
    "plt.plot(X_train_log[X_train_log.bot==False][cluster_cols[0]].values, X_train_log[X_train_log.bot==False][cluster_cols[1]].values, 'b.')\n",
    "plt.xlabel(cluster_cols[0])\n",
    "plt.ylabel(cluster_cols[1])\n",
    "plt.title('Screen name length vs. description length')\n",
    "\n",
    "plt.subplot(1,3,2)\n",
    "plt.plot(X_train_log[X_train_log.bot==True][cluster_cols[0]].values, X_train_log[X_train_log.bot==True][cluster_cols[2]].values,  'rx')\n",
    "plt.plot(X_train_log[X_train_log.bot==False][cluster_cols[0]].values, X_train_log[X_train_log.bot==False][cluster_cols[2]].values, 'b.')\n",
    "plt.xlabel(cluster_cols[0])\n",
    "plt.ylabel(cluster_cols[2])\n",
    "plt.title('Screen name length vs. ratio')\n",
    "\n",
    "\n",
    "plt.subplot(1,3,3)\n",
    "plt.plot(X_train_log[X_train_log.bot==True][cluster_cols[1]].values, X_train_log[X_train_log.bot==True][cluster_cols[2]].values,  'rx')\n",
    "plt.plot(X_train_log[X_train_log.bot==False][cluster_cols[1]].values, X_train_log[X_train_log.bot==False][cluster_cols[2]].values, 'b.')\n",
    "plt.xlabel(cluster_cols[1])\n",
    "plt.ylabel(cluster_cols[2])\n",
    "plt.title('Description length vs. the ratio')\n",
    "plt.tight_layout()\n",
    "plt.show()"
   ]
  },
  {
   "cell_type": "markdown",
   "metadata": {},
   "source": [
    "From the plots above we see that among the new features, the ratio of the friend's count and the 2xfollower's count distinctively shows that the bots have a higher score for the ratio. \n",
    " \n",
    "Next we're are going to incorporate tweets and basic NLP (sentiment analysis and subjectivity analysis) on the given data. \n",
    " \n",
    "Problems encountered: \n",
    "\n",
    "__Gathering recent tweets from Twitter__\n",
    "\n",
    "- Most fake accounts used by the Italian research group that correspond to the current dataset have restricted access, hence we were not able to scroll recent tweets using Tweepy.\n",
    "\n",
    "- Using Tweepy I was able scroll sufficient amount of tweets from the real users. Most tweets were from Aug - Nov. 2018. While collecting tweets from the fake accounts, I realized that some fake accounts (spambots) do not exist or is not active on twitter in recent times. Their Twitter activity shows they were mostly active during 2013 and 2015. \n",
    "\n",
    "- Tweets are very time-sensitive and they strongly reflect recent topics. Therefore, collecting tweets from past (although I do not think Twitter allows gathering tweets from 5 years back) and comparing them to recent tweets does not make sense. Therefore, I decided to use the existing tweets corresponding to the users from these esisting datasets. \n",
    "\n",
    "__Gathering tweets from existing sources__\n",
    "\n",
    "- Since these existing datasets originated in Italy there are plenty of Italian tweets that are mixed with English tweets (along many other languages). The existing tweet datasets do not have a variable for language. Therefore, I used the LangDetect library to detect languages of the tweets from the existing datasets. (This is a long and slow process and took more than 12 hours to get all language information on the tweets). \n",
    "\n",
    "- Once I gathered the tweets I segregated the English tweets from other languages. I then perfomed sentiment and subjectivity analyses on the tweets with the TextBlob libray. Then I summarized the sentiment scores (count of tweets, sum and average of sentiment score, average of subjectivity score for each user). \n",
    "\n",
    "- After incorporating the sentiment scores I realized that the tweets dataset have less number of unique real users than unique bots. That is, although it contain 2 million tweets, the number of unique users is inversely proportionate to the number of tweets. The distribution shows that there are thousands of tweets from relatively few users. The fake accounts, on the other hand, have more accounts with relatively small numbers of tweets from each. This caused the final dataset to be imbalanced number of bots (e.g., 2405 bot account and 1000 real accounts.) The final dataset with tweet score is 'final_data.csv.'\n",
    "\n",
    "\n",
    "In the following I select a subset of tweet users from the training dataset that corresponds to the user_ids from the sentiment score assigned dataset. This will decrease the number of datapoints available for the model and I expect overfitting. In summary, due to restricted access to tweets and significant reduction in sample size we do not have a way to evaluate the effectiveness of these features. \n",
    "\n",
    "To compare, I'll first run the existing models on the reduced dataset, and then I'll incorporate the new sentiment features on the same dataset. \n",
    "\n",
    "\n",
    "\n"
   ]
  },
  {
   "cell_type": "code",
   "execution_count": 148,
   "metadata": {},
   "outputs": [
    {
     "data": {
      "text/plain": [
       "1    2461\n",
       "0    1083\n",
       "Name: bot, dtype: int64"
      ]
     },
     "execution_count": 148,
     "metadata": {},
     "output_type": "execute_result"
    }
   ],
   "source": [
    "# Sentiment scored data \n",
    "\n",
    "sents = pd.read_csv('Data/Untitled Folder/final_data.csv')\n",
    "\n",
    "sents.bot.value_counts()"
   ]
  },
  {
   "cell_type": "code",
   "execution_count": 158,
   "metadata": {},
   "outputs": [
    {
     "name": "stdout",
     "output_type": "stream",
     "text": [
      "Matching id numners:  3544\n"
     ]
    }
   ],
   "source": [
    "n = pd.DataFrame()\n",
    "counter = 0\n",
    "for uid in sents.id.unique():\n",
    "    if uid in df_cert.id.values:\n",
    "        #print('Yes', uid)\n",
    "        #df_cert_copy = df_cert_copy.append(df_cert_copy)\n",
    "        counter +=1\n",
    "print('Matching id numners: ', counter)"
   ]
  },
  {
   "cell_type": "code",
   "execution_count": 152,
   "metadata": {},
   "outputs": [],
   "source": [
    "# function to create a subset of where the index values match between the smaller subset with sentiment scores \n",
    "# and the main dataset\n",
    "\n",
    "def match_get(df_s, df_b):\n",
    "    start = t.time()\n",
    "    new_df = pd.DataFrame(columns=df_b.columns)\n",
    "    \n",
    "    '''matching senti_scored dataframe userid\n",
    "    to existing dataframe and saving a subset \n",
    "    of matching userids\n",
    "    '''\n",
    "    counter = 0\n",
    "    for uid in df_s.id.unique(): \n",
    "        if uid in df_b.id.values:\n",
    "            new_df = new_df.append(df_b[df_b.id == uid])\n",
    "            counter += 1\n",
    "    print('Total matches found: ', counter)\n",
    "    #print(new_df.shape, len(new_df.id.unique()), len(new_df.id))\n",
    "    #print(new_df.bot.value_counts())\n",
    "    #print('A peak into the new df: \\n', new_df.head(3))\n",
    "    print('match time:', t.time()-start)\n",
    "    \n",
    "    '''sorting ids so that they are matched by index'''\n",
    "    new_df1 = new_df.sort_values(by='id')\n",
    "    df_s1 = df_s.sort_values(by='id')\n",
    "    [print('no' for id1, id2 in zip(new_df1.id, df_s1.id) if id1 != id2)]\n",
    "    df_s1 = df_s1.loc[:, 'sent_count':'subj_mean']\n",
    "    \n",
    "    \n",
    "    '''reset index for concatenating'''\n",
    "    new_df1.reset_index(drop=True, inplace=True)\n",
    "    df_s1.reset_index(drop=True, inplace=True)\n",
    "    \n",
    "    '''creating the new_df for output'''\n",
    "    new_df = pd.concat([new_df1, df_s1], axis=1)\n",
    "    \n",
    "    print('total time ', t.time()-start)\n",
    "    return new_df\n",
    "    \n",
    "    \n",
    "\n"
   ]
  },
  {
   "cell_type": "code",
   "execution_count": 153,
   "metadata": {},
   "outputs": [
    {
     "name": "stdout",
     "output_type": "stream",
     "text": [
      "Total matches found:  3544\n",
      "(3544, 23) 3544 3544\n",
      "1    2461\n",
      "0    1083\n",
      "Name: bot, dtype: int64\n",
      "match time: 38.99750304222107\n",
      "<generator object match_get.<locals>.<genexpr> at 0x120c511a8>\n",
      "total time  39.017293214797974\n"
     ]
    },
    {
     "data": {
      "text/plain": [
       "1    2461\n",
       "0    1083\n",
       "Name: bot, dtype: int64"
      ]
     },
     "execution_count": 153,
     "metadata": {},
     "output_type": "execute_result"
    }
   ],
   "source": [
    "sent_matched = match_get(sents, df_cert)\n",
    "\n",
    "sent_matched.bot.value_counts()"
   ]
  },
  {
   "cell_type": "markdown",
   "metadata": {},
   "source": [
    "This shows that the dataset is reduced to 3544 from 35588 which will significantly affect the model performance."
   ]
  },
  {
   "cell_type": "code",
   "execution_count": 155,
   "metadata": {},
   "outputs": [],
   "source": [
    "col_to_keep = ['followers_count',\n",
    " 'friends_count',\n",
    " 'favourites_count',\n",
    " 'statuses_count',\n",
    " 'len_screen_name',\n",
    " 'len_desc',\n",
    " 'ratio_fr_2xfl' ]\n"
   ]
  },
  {
   "cell_type": "code",
   "execution_count": 156,
   "metadata": {},
   "outputs": [],
   "source": [
    "X = sent_matched[col_to_keep]\n",
    "X.columns\n",
    "\n",
    "X = X.fillna(0)\n",
    "X = X.applymap(lambda x: x if x != np.inf else -1)\n",
    "\n"
   ]
  },
  {
   "cell_type": "code",
   "execution_count": 157,
   "metadata": {
    "scrolled": false
   },
   "outputs": [
    {
     "name": "stdout",
     "output_type": "stream",
     "text": [
      "________________________________________________________________________________\n",
      "Training: \n",
      "RandomForestClassifier(bootstrap=True, class_weight=None, criterion='gini',\n",
      "            max_depth=None, max_features='auto', max_leaf_nodes=None,\n",
      "            min_impurity_decrease=0.0, min_impurity_split=None,\n",
      "            min_samples_leaf=1, min_samples_split=2,\n",
      "            min_weight_fraction_leaf=0.0, n_estimators=100, n_jobs=None,\n",
      "            oob_score=False, random_state=None, verbose=0,\n",
      "            warm_start=False)\n",
      "train time: 0.193s\n",
      "Crossvalidating: \n",
      "Crossvalidated accuracy: 0.998 with std 0.002\n",
      "test time:  0.020s\n",
      "confusion matrix \n",
      " [[350   0]\n",
      " [  3 817]]\n",
      "Test precision score 1.000 \n",
      "Test recall score 0.996 \n",
      "ROC AUC score 0.998\n",
      "\n"
     ]
    }
   ],
   "source": [
    "X_train, X_test, y_train, y_test = train_test_split(X, sent_matched.bot.astype(int), test_size= .33)\n",
    "\n",
    "results.append(baseline_models(rfc, X_train, y_train, X_test, y_test))\n",
    "\n"
   ]
  },
  {
   "cell_type": "markdown",
   "metadata": {},
   "source": [
    "### Model seems to be overfitting as the cross-validated accuracy raises to 99.8% with ROC AUC score .998. \n",
    "\n",
    "Now in the following I incorporate the sentiment scores to see if the sentiment feature import the model. "
   ]
  },
  {
   "cell_type": "markdown",
   "metadata": {},
   "source": [
    "#### Incorporating sentiment scores"
   ]
  },
  {
   "cell_type": "code",
   "execution_count": 145,
   "metadata": {
    "scrolled": true
   },
   "outputs": [
    {
     "data": {
      "text/plain": [
       "1    2461\n",
       "0    1083\n",
       "Name: bot, dtype: int64"
      ]
     },
     "execution_count": 145,
     "metadata": {},
     "output_type": "execute_result"
    }
   ],
   "source": [
    "sents.bot.value_counts()"
   ]
  },
  {
   "cell_type": "code",
   "execution_count": null,
   "metadata": {},
   "outputs": [],
   "source": [
    "# But is has about 4k duplicates \n",
    "\n",
    "#check duplicates \n",
    "#pd.concat(g for _, g in df_cert.groupby(\"id\") if len(g) > 1)"
   ]
  },
  {
   "cell_type": "code",
   "execution_count": 159,
   "metadata": {},
   "outputs": [],
   "source": [
    "col_to_keep = ['followers_count',\n",
    " 'friends_count',\n",
    " 'favourites_count',\n",
    " 'statuses_count',\n",
    " 'len_screen_name',\n",
    " 'len_desc',\n",
    " 'ratio_fr_2xfl',\n",
    "'sent_count', 'sent_sum', 'sent_mean', 'subj_mean' ]"
   ]
  },
  {
   "cell_type": "code",
   "execution_count": 160,
   "metadata": {
    "scrolled": true
   },
   "outputs": [
    {
     "data": {
      "text/plain": [
       "Index(['followers_count', 'friends_count', 'favourites_count',\n",
       "       'statuses_count', 'len_screen_name', 'len_desc', 'ratio_fr_2xfl',\n",
       "       'sent_count', 'sent_sum', 'sent_mean', 'subj_mean'],\n",
       "      dtype='object')"
      ]
     },
     "execution_count": 160,
     "metadata": {},
     "output_type": "execute_result"
    }
   ],
   "source": [
    "X = sent_matched[col_to_keep]\n",
    "X.columns\n",
    "\n"
   ]
  },
  {
   "cell_type": "code",
   "execution_count": 161,
   "metadata": {},
   "outputs": [],
   "source": [
    "X = X.fillna(0)\n",
    "X = X.applymap(lambda x: x if x != np.inf else -1)\n",
    "\n"
   ]
  },
  {
   "cell_type": "code",
   "execution_count": 162,
   "metadata": {},
   "outputs": [],
   "source": [
    "X_train, X_test, y_train, y_test = train_test_split(X, sent_matched.bot.astype(int), test_size= .33)"
   ]
  },
  {
   "cell_type": "code",
   "execution_count": 163,
   "metadata": {
    "scrolled": false
   },
   "outputs": [
    {
     "name": "stdout",
     "output_type": "stream",
     "text": [
      "________________________________________________________________________________\n",
      "Training: \n",
      "RandomForestClassifier(bootstrap=True, class_weight=None, criterion='gini',\n",
      "            max_depth=None, max_features='auto', max_leaf_nodes=None,\n",
      "            min_impurity_decrease=0.0, min_impurity_split=None,\n",
      "            min_samples_leaf=1, min_samples_split=2,\n",
      "            min_weight_fraction_leaf=0.0, n_estimators=100, n_jobs=None,\n",
      "            oob_score=False, random_state=None, verbose=0,\n",
      "            warm_start=False)\n",
      "train time: 0.252s\n",
      "Crossvalidating: \n",
      "Crossvalidated accuracy: 0.996 with std 0.003\n",
      "test time:  0.020s\n",
      "confusion matrix \n",
      " [[332   1]\n",
      " [  0 837]]\n",
      "Test precision score 0.999 \n",
      "Test recall score 1.000 \n",
      "ROC AUC score 0.998\n",
      "\n"
     ]
    },
    {
     "data": {
      "text/plain": [
       "('RandomForestClassifier',\n",
       " 0.9962078614257163,\n",
       " 1.0079569816589355,\n",
       " 0.019881248474121094,\n",
       " 0.9988066825775657,\n",
       " 1.0,\n",
       " 0.9984984984984985)"
      ]
     },
     "execution_count": 163,
     "metadata": {},
     "output_type": "execute_result"
    }
   ],
   "source": [
    "# running the model on the new features from sentiment score \n",
    "\n",
    "baseline_models(rfc, X_train, y_train, X_test, y_test)"
   ]
  },
  {
   "cell_type": "code",
   "execution_count": 164,
   "metadata": {},
   "outputs": [
    {
     "name": "stdout",
     "output_type": "stream",
     "text": [
      "followers_count 0.17679913974044736\n",
      "friends_count 0.014709025212972128\n",
      "favourites_count 0.19778398824240384\n",
      "statuses_count 0.23844827454536255\n",
      "len_screen_name 0.0010354655931021101\n",
      "len_desc 0.0005277219078243113\n",
      "ratio_fr_2xfl 0.05896909466072141\n",
      "sent_count 0.2590837714546794\n",
      "sent_sum 0.04976126339026449\n",
      "sent_mean 0.0011118607058871483\n",
      "subj_mean 0.0017703945463351742\n"
     ]
    },
    {
     "data": {
      "text/plain": [
       "[None, None, None, None, None, None, None, None, None, None, None]"
      ]
     },
     "execution_count": 164,
     "metadata": {},
     "output_type": "execute_result"
    }
   ],
   "source": [
    "[print(ftr, val) for ftr, val in zip(X.columns, rfc.feature_importances_)]"
   ]
  },
  {
   "cell_type": "markdown",
   "metadata": {},
   "source": [
    "### Conclusions and future steps \n",
    "\n",
    "Bot detection should be a difficult process as bots are becoming more and more sophisticated each day. Our model accuracy has been high throughout the course of this project, and so did the existing papers associated with the dataset we used. We found that bots have unusually high number of posting ('statuses_count'), their friends count is significantly higher than their followers count. \n",
    "\n",
    "\n",
    "Despite the fact that our models achieved high accuracy, there are certain limitations of the project. \n",
    "\n",
    "(1) Getting reliably annotated data is a problem and this affected our models significantly. \n",
    "\n",
    "(2) Restriction on accessing tweets is also another problem that required us to resort to alternatives. Due to this were not able to perform more feature engineering and NLP analysese. \n",
    "\n",
    "For future,\n",
    "\n",
    "- Create more features: \n",
    "    - check content similarity: bots often post same content from different accounts. \n",
    "    - check frequency of tweets: bots often tweets at the same time of the day, or in exact intervals \n",
    "    - check number of websites posted and compare with real users posts. \n",
    "    - Incorporate more NLP analyses (Word2Vec and more fine-grained sentiment analysis)\n",
    "\n"
   ]
  },
  {
   "cell_type": "code",
   "execution_count": null,
   "metadata": {},
   "outputs": [],
   "source": []
  },
  {
   "cell_type": "code",
   "execution_count": null,
   "metadata": {},
   "outputs": [],
   "source": []
  },
  {
   "cell_type": "code",
   "execution_count": null,
   "metadata": {},
   "outputs": [],
   "source": []
  },
  {
   "cell_type": "code",
   "execution_count": null,
   "metadata": {},
   "outputs": [],
   "source": []
  },
  {
   "cell_type": "code",
   "execution_count": null,
   "metadata": {},
   "outputs": [],
   "source": []
  },
  {
   "cell_type": "code",
   "execution_count": null,
   "metadata": {},
   "outputs": [],
   "source": []
  },
  {
   "cell_type": "code",
   "execution_count": null,
   "metadata": {},
   "outputs": [],
   "source": []
  },
  {
   "cell_type": "markdown",
   "metadata": {},
   "source": [
    "baseline: over the models, select the best model (RF) \n",
    "once I selected the RF - benchmark - \"scored the model\" - and feature engineering and compare against the benchmark\n",
    "- before ftr engineering - any time you create a score \n",
    "\n",
    "\"I selected the best model and I do Hype sear in that model space\"\n",
    "hyperparameter searching - \n"
   ]
  },
  {
   "cell_type": "markdown",
   "metadata": {},
   "source": [
    "- cleaning, collections, \n",
    "- \n",
    "find the best and do a grid sreach "
   ]
  }
 ],
 "metadata": {
  "kernelspec": {
   "display_name": "Python 3",
   "language": "python",
   "name": "python3"
  },
  "language_info": {
   "codemirror_mode": {
    "name": "ipython",
    "version": 3
   },
   "file_extension": ".py",
   "mimetype": "text/x-python",
   "name": "python",
   "nbconvert_exporter": "python",
   "pygments_lexer": "ipython3",
   "version": "3.6.5"
  }
 },
 "nbformat": 4,
 "nbformat_minor": 2
}
