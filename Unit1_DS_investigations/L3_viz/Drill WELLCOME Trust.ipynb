{
 "cells": [
  {
   "cell_type": "markdown",
   "metadata": {},
   "source": [
    "*Using this dataset of article open-access prices paid by the WELLCOME Trust between 2012 and 2013, determine* - \n",
    "\n",
    "- the five most common journals and the total articles for each. \n",
    "\n",
    "- Next, calculate the mean, median, and standard deviation of the open-access cost per article for each journal. \n",
    "\n",
    "- For a real bonus round, identify the open access prices paid by subject area.\n",
    "\n",
    "*Don't modify the data directly. Instead, write a cleaning script that will load the raw data and whip it into shape. Keep a record of your decisions: well-commented code is a must for recording your data cleaning decision-making progress. Submit a link to your script and results below and discuss it with your mentor at your next session.*"
   ]
  },
  {
   "cell_type": "code",
   "execution_count": 165,
   "metadata": {},
   "outputs": [],
   "source": [
    "import pandas as pd\n",
    "import numpy as np\n",
    "import matplotlib.pyplot as plt\n",
    "import seaborn as sns"
   ]
  },
  {
   "cell_type": "code",
   "execution_count": 2,
   "metadata": {},
   "outputs": [
    {
     "data": {
      "text/html": [
       "<div>\n",
       "<style scoped>\n",
       "    .dataframe tbody tr th:only-of-type {\n",
       "        vertical-align: middle;\n",
       "    }\n",
       "\n",
       "    .dataframe tbody tr th {\n",
       "        vertical-align: top;\n",
       "    }\n",
       "\n",
       "    .dataframe thead th {\n",
       "        text-align: right;\n",
       "    }\n",
       "</style>\n",
       "<table border=\"1\" class=\"dataframe\">\n",
       "  <thead>\n",
       "    <tr style=\"text-align: right;\">\n",
       "      <th></th>\n",
       "      <th>PMID/PMCID</th>\n",
       "      <th>Publisher</th>\n",
       "      <th>Journal title</th>\n",
       "      <th>Article title</th>\n",
       "      <th>COST (£) charged to Wellcome (inc VAT when charged)</th>\n",
       "    </tr>\n",
       "  </thead>\n",
       "  <tbody>\n",
       "    <tr>\n",
       "      <th>0</th>\n",
       "      <td>NaN</td>\n",
       "      <td>CUP</td>\n",
       "      <td>Psychological Medicine</td>\n",
       "      <td>Reduced parahippocampal cortical thickness in ...</td>\n",
       "      <td>£0.00</td>\n",
       "    </tr>\n",
       "    <tr>\n",
       "      <th>1</th>\n",
       "      <td>PMC3679557</td>\n",
       "      <td>ACS</td>\n",
       "      <td>Biomacromolecules</td>\n",
       "      <td>Structural characterization of a Model Gram-ne...</td>\n",
       "      <td>£2381.04</td>\n",
       "    </tr>\n",
       "    <tr>\n",
       "      <th>2</th>\n",
       "      <td>23043264  PMC3506128</td>\n",
       "      <td>ACS</td>\n",
       "      <td>J Med Chem</td>\n",
       "      <td>Fumaroylamino-4,5-epoxymorphinans and related ...</td>\n",
       "      <td>£642.56</td>\n",
       "    </tr>\n",
       "    <tr>\n",
       "      <th>3</th>\n",
       "      <td>23438330 PMC3646402</td>\n",
       "      <td>ACS</td>\n",
       "      <td>J Med Chem</td>\n",
       "      <td>Orvinols with mixed kappa/mu opioid receptor a...</td>\n",
       "      <td>£669.64</td>\n",
       "    </tr>\n",
       "    <tr>\n",
       "      <th>4</th>\n",
       "      <td>23438216 PMC3601604</td>\n",
       "      <td>ACS</td>\n",
       "      <td>J Org Chem</td>\n",
       "      <td>Regioselective opening of myo-inositol orthoes...</td>\n",
       "      <td>£685.88</td>\n",
       "    </tr>\n",
       "    <tr>\n",
       "      <th>5</th>\n",
       "      <td>PMC3579457</td>\n",
       "      <td>ACS</td>\n",
       "      <td>Journal of Medicinal Chemistry</td>\n",
       "      <td>Comparative Structural and Functional Studies ...</td>\n",
       "      <td>£2392.20</td>\n",
       "    </tr>\n",
       "    <tr>\n",
       "      <th>6</th>\n",
       "      <td>PMC3709265</td>\n",
       "      <td>ACS</td>\n",
       "      <td>Journal of Proteome Research</td>\n",
       "      <td>Mapping Proteolytic Processing in the Secretom...</td>\n",
       "      <td>£2367.95</td>\n",
       "    </tr>\n",
       "    <tr>\n",
       "      <th>7</th>\n",
       "      <td>23057412 PMC3495574</td>\n",
       "      <td>ACS</td>\n",
       "      <td>Mol Pharm</td>\n",
       "      <td>Quantitative silencing of EGFP reporter gene b...</td>\n",
       "      <td>£649.33</td>\n",
       "    </tr>\n",
       "    <tr>\n",
       "      <th>8</th>\n",
       "      <td>PMCID: PMC3780468</td>\n",
       "      <td>ACS (Amercian Chemical Society) Publications</td>\n",
       "      <td>ACS Chemical Biology</td>\n",
       "      <td>A Novel Allosteric Inhibitor of the Uridine Di...</td>\n",
       "      <td>£1294.59</td>\n",
       "    </tr>\n",
       "    <tr>\n",
       "      <th>9</th>\n",
       "      <td>PMCID: PMC3621575</td>\n",
       "      <td>ACS (Amercian Chemical Society) Publications</td>\n",
       "      <td>ACS Chemical Biology</td>\n",
       "      <td>Chemical proteomic analysis reveals the drugab...</td>\n",
       "      <td>£1294.78</td>\n",
       "    </tr>\n",
       "    <tr>\n",
       "      <th>10</th>\n",
       "      <td>PMCID: PMC3739413</td>\n",
       "      <td>ACS (Amercian Chemical Society) Publications</td>\n",
       "      <td>Journal of Chemical Information and Modeling</td>\n",
       "      <td>Locating Sweet Spots for Screening Hits and Ev...</td>\n",
       "      <td>£1329.69</td>\n",
       "    </tr>\n",
       "    <tr>\n",
       "      <th>11</th>\n",
       "      <td>PMCID: PMC3530961</td>\n",
       "      <td>ACS (Amercian Chemical Society) Publications</td>\n",
       "      <td>Journal of Medicinal Chemistry</td>\n",
       "      <td>Synthesis and evaluation of ?-thymidine analog...</td>\n",
       "      <td>£1287.20</td>\n",
       "    </tr>\n",
       "    <tr>\n",
       "      <th>12</th>\n",
       "      <td>PMCID: PMC3624797</td>\n",
       "      <td>ACS (Amercian Chemical Society) Publications</td>\n",
       "      <td>Journal of Medicinal Chemistry</td>\n",
       "      <td>Discovery and structure-activity relationships...</td>\n",
       "      <td>£1324.66</td>\n",
       "    </tr>\n",
       "    <tr>\n",
       "      <th>13</th>\n",
       "      <td>PMC3413243</td>\n",
       "      <td>ACS Publications</td>\n",
       "      <td>Biochemistry</td>\n",
       "      <td>Monomeric 14-3-3 has a chaperone-like activity...</td>\n",
       "      <td>£665.64</td>\n",
       "    </tr>\n",
       "    <tr>\n",
       "      <th>14</th>\n",
       "      <td>PMC3694353</td>\n",
       "      <td>ACS Publications</td>\n",
       "      <td>Journal of Medicinal Chemistry</td>\n",
       "      <td>Synthesis and in vitro and in vivo characteriz...</td>\n",
       "      <td>£1006.72</td>\n",
       "    </tr>\n",
       "    <tr>\n",
       "      <th>15</th>\n",
       "      <td>PMC3572711</td>\n",
       "      <td>AGA Institute</td>\n",
       "      <td>Gastroenterology</td>\n",
       "      <td>Much of the genetic risk of colorectal cancer ...</td>\n",
       "      <td>£238.08</td>\n",
       "    </tr>\n",
       "    <tr>\n",
       "      <th>16</th>\n",
       "      <td>22610094</td>\n",
       "      <td>AMBSB</td>\n",
       "      <td>Journal of Biological Chemistry</td>\n",
       "      <td>Annexin-1 interaction with FPR2/ALX</td>\n",
       "      <td>£265.67</td>\n",
       "    </tr>\n",
       "    <tr>\n",
       "      <th>17</th>\n",
       "      <td>PMCID: PMC3586974</td>\n",
       "      <td>American Association of Immunologists</td>\n",
       "      <td>Journal of Immunology</td>\n",
       "      <td>Sialoadhesin ligand expression identifies a su...</td>\n",
       "      <td>£2035.00</td>\n",
       "    </tr>\n",
       "    <tr>\n",
       "      <th>18</th>\n",
       "      <td>23455506  PMCID: PMC3607399</td>\n",
       "      <td>American Association of Immunologists</td>\n",
       "      <td>Journal of Immunology</td>\n",
       "      <td>Regulation of Foxp3+ Inducible Regulatory T Ce...</td>\n",
       "      <td>£3108.08</td>\n",
       "    </tr>\n",
       "    <tr>\n",
       "      <th>19</th>\n",
       "      <td>PMID: 24015914 PMC3833349</td>\n",
       "      <td>American Chemical Society</td>\n",
       "      <td>ACS Chemical Biology</td>\n",
       "      <td>Discovery of an allosteric inhibitor binding s...</td>\n",
       "      <td>£1267.76</td>\n",
       "    </tr>\n",
       "    <tr>\n",
       "      <th>20</th>\n",
       "      <td>: PMC3805332</td>\n",
       "      <td>American Chemical Society</td>\n",
       "      <td>ACS Chemical Biology</td>\n",
       "      <td>Synthesis of alpha-glucan in mycobacteria invo...</td>\n",
       "      <td>£2286.73</td>\n",
       "    </tr>\n",
       "    <tr>\n",
       "      <th>21</th>\n",
       "      <td>NaN</td>\n",
       "      <td>American Chemical Society</td>\n",
       "      <td>ACS Chemical Biology</td>\n",
       "      <td>Discovery of ?2 Adrenergic Receptor Ligands Us...</td>\n",
       "      <td>£947.07</td>\n",
       "    </tr>\n",
       "    <tr>\n",
       "      <th>22</th>\n",
       "      <td>PMCID:\\n    PMC3656742\\n</td>\n",
       "      <td>American Chemical Society</td>\n",
       "      <td>ACS Chemical Neuroscience</td>\n",
       "      <td>Continuous online microdialysis using microflu...</td>\n",
       "      <td>£1186.80</td>\n",
       "    </tr>\n",
       "    <tr>\n",
       "      <th>23</th>\n",
       "      <td>PMCID: 3584654</td>\n",
       "      <td>AMERICAN CHEMICAL SOCIETY</td>\n",
       "      <td>ACS NANO</td>\n",
       "      <td>HYDROXY-TERMINATED CONJUGATED POLYMER NANOPART...</td>\n",
       "      <td>£642.89</td>\n",
       "    </tr>\n",
       "    <tr>\n",
       "      <th>24</th>\n",
       "      <td>22971149 PMC3466778</td>\n",
       "      <td>American Chemical Society</td>\n",
       "      <td>American Chemical Society</td>\n",
       "      <td>Characterizing the Fatty Acid Binding Site in ...</td>\n",
       "      <td>£1533.29</td>\n",
       "    </tr>\n",
       "    <tr>\n",
       "      <th>25</th>\n",
       "      <td>23072351</td>\n",
       "      <td>American Chemical Society</td>\n",
       "      <td>Analytical Chemistry</td>\n",
       "      <td>Amphipathic polymers facilitate the study of f...</td>\n",
       "      <td>£2082.74</td>\n",
       "    </tr>\n",
       "    <tr>\n",
       "      <th>26</th>\n",
       "      <td>PMC3477822</td>\n",
       "      <td>American Chemical Society</td>\n",
       "      <td>Analytical Chemistry</td>\n",
       "      <td>Quantitative dynamics of phosphorproteome: the...</td>\n",
       "      <td>£2314.10</td>\n",
       "    </tr>\n",
       "    <tr>\n",
       "      <th>27</th>\n",
       "      <td>PMC3530960</td>\n",
       "      <td>American Chemical Society</td>\n",
       "      <td>Analytical Chemistry</td>\n",
       "      <td>Variable-Pitch Rectangular Cross-section Radio...</td>\n",
       "      <td>£759.67</td>\n",
       "    </tr>\n",
       "    <tr>\n",
       "      <th>28</th>\n",
       "      <td>23458425 PMC3630740</td>\n",
       "      <td>American Chemical Society</td>\n",
       "      <td>Bioconjugate Chemistry</td>\n",
       "      <td>Design, synthesis and functional activity of l...</td>\n",
       "      <td>£1565.26</td>\n",
       "    </tr>\n",
       "    <tr>\n",
       "      <th>29</th>\n",
       "      <td>PMID: 20146481</td>\n",
       "      <td>American Chemical Society</td>\n",
       "      <td>Journal of Medicinal Chemistry</td>\n",
       "      <td>Toward biophysical probes for the 5-HT3 recept...</td>\n",
       "      <td>£572.74</td>\n",
       "    </tr>\n",
       "    <tr>\n",
       "      <th>...</th>\n",
       "      <td>...</td>\n",
       "      <td>...</td>\n",
       "      <td>...</td>\n",
       "      <td>...</td>\n",
       "      <td>...</td>\n",
       "    </tr>\n",
       "    <tr>\n",
       "      <th>2097</th>\n",
       "      <td>3575693</td>\n",
       "      <td>Wiley-Blackwell</td>\n",
       "      <td>Molecular Microbiology</td>\n",
       "      <td>Shigella IpaD has a Dual Role: Signal Transduc...</td>\n",
       "      <td>£2236.02</td>\n",
       "    </tr>\n",
       "    <tr>\n",
       "      <th>2098</th>\n",
       "      <td>PMID: 22188548 PMC3492912</td>\n",
       "      <td>Wiley-Blackwell</td>\n",
       "      <td>Obesity Reviews</td>\n",
       "      <td>Does maternal body mass index during pregnancy...</td>\n",
       "      <td>£2275.02</td>\n",
       "    </tr>\n",
       "    <tr>\n",
       "      <th>2099</th>\n",
       "      <td>PMID: 22764734 PMC3798095</td>\n",
       "      <td>Wiley-Blackwell</td>\n",
       "      <td>Obesity Reviews</td>\n",
       "      <td>Obesity and socioeconomic status in developing...</td>\n",
       "      <td>£2373.57</td>\n",
       "    </tr>\n",
       "    <tr>\n",
       "      <th>2100</th>\n",
       "      <td>PMID: 23703895</td>\n",
       "      <td>Wiley-Blackwell</td>\n",
       "      <td>Statistics in Medicine</td>\n",
       "      <td>Combining multiple imputation and meta-analysi...</td>\n",
       "      <td>£791.19</td>\n",
       "    </tr>\n",
       "    <tr>\n",
       "      <th>2101</th>\n",
       "      <td>PMCID: PMC3664106</td>\n",
       "      <td>Wiley-Blackwell</td>\n",
       "      <td>Stem Cells</td>\n",
       "      <td>Matrix remodelling maintains ESC self-renewal ...</td>\n",
       "      <td>£1551.49</td>\n",
       "    </tr>\n",
       "    <tr>\n",
       "      <th>2102</th>\n",
       "      <td>PMID: 23649934</td>\n",
       "      <td>Wiley-Blackwell</td>\n",
       "      <td>Synapse</td>\n",
       "      <td>Presynaptic pH and vesicle fusion in Drosophil...</td>\n",
       "      <td>£1961.68</td>\n",
       "    </tr>\n",
       "    <tr>\n",
       "      <th>2103</th>\n",
       "      <td>PMC2955965</td>\n",
       "      <td>Wiley-Blackwell</td>\n",
       "      <td>The European Journal of Neuroscience</td>\n",
       "      <td>Hyperpolarization-activated ion channels as ta...</td>\n",
       "      <td>£1982.35</td>\n",
       "    </tr>\n",
       "    <tr>\n",
       "      <th>2104</th>\n",
       "      <td>PMID: 19948006 PMC3551259</td>\n",
       "      <td>Wiley-Blackwell</td>\n",
       "      <td>Traffic</td>\n",
       "      <td>Efficient internalization of MHC I requires ly...</td>\n",
       "      <td>£2239.22</td>\n",
       "    </tr>\n",
       "    <tr>\n",
       "      <th>2105</th>\n",
       "      <td>PMID: 23305527</td>\n",
       "      <td>Wiley-Blackwell</td>\n",
       "      <td>Traffic</td>\n",
       "      <td>Proteomic analysis of clathrin interactions in...</td>\n",
       "      <td>£2377.65</td>\n",
       "    </tr>\n",
       "    <tr>\n",
       "      <th>2106</th>\n",
       "      <td>PMCID: PMC3600532</td>\n",
       "      <td>Wiley-Blackwell</td>\n",
       "      <td>Zoonoses and Public Health</td>\n",
       "      <td>Ecology of zoonotic infectious diseases in bat...</td>\n",
       "      <td>£2272.15</td>\n",
       "    </tr>\n",
       "    <tr>\n",
       "      <th>2107</th>\n",
       "      <td>PMC3440570</td>\n",
       "      <td>Wiley-Blackwell, John Wiley &amp; Sons</td>\n",
       "      <td>American Journal of Transplantation</td>\n",
       "      <td>Low dose rapamycin treatment increases the abi...</td>\n",
       "      <td>£1900.70</td>\n",
       "    </tr>\n",
       "    <tr>\n",
       "      <th>2108</th>\n",
       "      <td>23670821 PMC3738939</td>\n",
       "      <td>Wiley-VCH</td>\n",
       "      <td>Angew chems Int Ed</td>\n",
       "      <td>Design and synthesis of cyclic ADP-4-thioribos...</td>\n",
       "      <td>£3026.17</td>\n",
       "    </tr>\n",
       "    <tr>\n",
       "      <th>2109</th>\n",
       "      <td>23640856</td>\n",
       "      <td>Wiley-VCH</td>\n",
       "      <td>CHEMBIOCHEM</td>\n",
       "      <td>A Prototypical Small-Molecule Modulator Uncoup...</td>\n",
       "      <td>£1851.15</td>\n",
       "    </tr>\n",
       "    <tr>\n",
       "      <th>2110</th>\n",
       "      <td>PMID: 23918316</td>\n",
       "      <td>Wiley-VCH</td>\n",
       "      <td>Chemmedchem</td>\n",
       "      <td>Structure-Activity Relationship Studies of Pyr...</td>\n",
       "      <td>£1812.89</td>\n",
       "    </tr>\n",
       "    <tr>\n",
       "      <th>2111</th>\n",
       "      <td>PMCID: PMC3728731</td>\n",
       "      <td>Wiley-VCH</td>\n",
       "      <td>Chemmedchem</td>\n",
       "      <td>From On-Target to Off-Target Activity: Identif...</td>\n",
       "      <td>£1816.70</td>\n",
       "    </tr>\n",
       "    <tr>\n",
       "      <th>2112</th>\n",
       "      <td>23495205685.88 PMC3743159</td>\n",
       "      <td>Wiley-VCH</td>\n",
       "      <td>ChemMedChem</td>\n",
       "      <td>Synthesis and structure-activity relationship ...</td>\n",
       "      <td>£2168.05</td>\n",
       "    </tr>\n",
       "    <tr>\n",
       "      <th>2113</th>\n",
       "      <td>PMID:22997008 PMC3569869</td>\n",
       "      <td>Wiley-VCH</td>\n",
       "      <td>Protemics</td>\n",
       "      <td>Carbon source-induced reprogramming of the cel...</td>\n",
       "      <td>£1409.96</td>\n",
       "    </tr>\n",
       "    <tr>\n",
       "      <th>2114</th>\n",
       "      <td>3708104</td>\n",
       "      <td>Wliey-Blackwell</td>\n",
       "      <td>Journal of Small Animal Practice</td>\n",
       "      <td>Prevalence, outcome and risk factors for post-...</td>\n",
       "      <td>£2400.00</td>\n",
       "    </tr>\n",
       "    <tr>\n",
       "      <th>2115</th>\n",
       "      <td>PMC3713766</td>\n",
       "      <td>Wolters Kluwer</td>\n",
       "      <td>AIDS</td>\n",
       "      <td>HIV infected adolescents in Southern Africa ca...</td>\n",
       "      <td>£1968.63</td>\n",
       "    </tr>\n",
       "    <tr>\n",
       "      <th>2116</th>\n",
       "      <td>PMC3819359</td>\n",
       "      <td>Wolters Kluwer</td>\n",
       "      <td>AIDS Journal</td>\n",
       "      <td>Short title: TB and VL breakthrough and failur...</td>\n",
       "      <td>£2015.72</td>\n",
       "    </tr>\n",
       "    <tr>\n",
       "      <th>2117</th>\n",
       "      <td>PMC3773237</td>\n",
       "      <td>Wolters Kluwer</td>\n",
       "      <td>AIDS UK</td>\n",
       "      <td>Sexual behaviour in a rural high HIV prevalence</td>\n",
       "      <td>£1836.92</td>\n",
       "    </tr>\n",
       "    <tr>\n",
       "      <th>2118</th>\n",
       "      <td>PMC3815011</td>\n",
       "      <td>Wolters Kluwer</td>\n",
       "      <td>AIDS UK</td>\n",
       "      <td>HIV incidence and survival from age-specific s...</td>\n",
       "      <td>£1836.92</td>\n",
       "    </tr>\n",
       "    <tr>\n",
       "      <th>2119</th>\n",
       "      <td>PMC3805356</td>\n",
       "      <td>Wolters Kluwer</td>\n",
       "      <td>JAIDS Journal of Acquired Immune Deficiency Sy...</td>\n",
       "      <td>Accelerated biological ageing in HIV-infected ...</td>\n",
       "      <td>£1375.80</td>\n",
       "    </tr>\n",
       "    <tr>\n",
       "      <th>2120</th>\n",
       "      <td>Epub</td>\n",
       "      <td>Wolters Kluwer</td>\n",
       "      <td>Journal of Acquired Immune Deficiency Syndroms...</td>\n",
       "      <td>Reduction in early mortality on antiretroviral...</td>\n",
       "      <td>£1836.92</td>\n",
       "    </tr>\n",
       "    <tr>\n",
       "      <th>2121</th>\n",
       "      <td>PMC3707567</td>\n",
       "      <td>Wolters Kluwer</td>\n",
       "      <td>Journal of Aids</td>\n",
       "      <td>Risk factors for seropositivity to Kaposi sarc...</td>\n",
       "      <td>£2009.65</td>\n",
       "    </tr>\n",
       "    <tr>\n",
       "      <th>2122</th>\n",
       "      <td>2901593</td>\n",
       "      <td>Wolters Kluwer Health</td>\n",
       "      <td>Circulation Research</td>\n",
       "      <td>Mechanistic Links Between Na+ Channel (SCN5A) ...</td>\n",
       "      <td>£1334.15</td>\n",
       "    </tr>\n",
       "    <tr>\n",
       "      <th>2123</th>\n",
       "      <td>3748854</td>\n",
       "      <td>Wolters Kluwer Health</td>\n",
       "      <td>AIDS</td>\n",
       "      <td>Evaluation of an empiric risk screening score ...</td>\n",
       "      <td>£1834.77</td>\n",
       "    </tr>\n",
       "    <tr>\n",
       "      <th>2124</th>\n",
       "      <td>3785148</td>\n",
       "      <td>Wolters Kluwer Health</td>\n",
       "      <td>Pediatr Infect Dis J</td>\n",
       "      <td>Topical umbilical cord care for prevention of ...</td>\n",
       "      <td>£1834.77</td>\n",
       "    </tr>\n",
       "    <tr>\n",
       "      <th>2125</th>\n",
       "      <td>PMCID:\\n    PMC3647051\\n</td>\n",
       "      <td>Wolters Kluwer N.V./Lippinott</td>\n",
       "      <td>AIDS</td>\n",
       "      <td>Grassroots Community Organisations' Contributi...</td>\n",
       "      <td>£2374.52</td>\n",
       "    </tr>\n",
       "    <tr>\n",
       "      <th>2126</th>\n",
       "      <td>PMID: 23846567  (Epub July 2013)</td>\n",
       "      <td>Wolters Kluwers</td>\n",
       "      <td>Journal of Acquired Immune Deficiency Syndromes</td>\n",
       "      <td>A novel community health worker tool outperfor...</td>\n",
       "      <td>£2034.75</td>\n",
       "    </tr>\n",
       "  </tbody>\n",
       "</table>\n",
       "<p>2127 rows × 5 columns</p>\n",
       "</div>"
      ],
      "text/plain": [
       "                            PMID/PMCID  \\\n",
       "0                                  NaN   \n",
       "1                           PMC3679557   \n",
       "2                23043264  PMC3506128    \n",
       "3                  23438330 PMC3646402   \n",
       "4                 23438216 PMC3601604    \n",
       "5                           PMC3579457   \n",
       "6                           PMC3709265   \n",
       "7                 23057412 PMC3495574    \n",
       "8                    PMCID: PMC3780468   \n",
       "9                    PMCID: PMC3621575   \n",
       "10                   PMCID: PMC3739413   \n",
       "11                   PMCID: PMC3530961   \n",
       "12                   PMCID: PMC3624797   \n",
       "13                          PMC3413243   \n",
       "14                          PMC3694353   \n",
       "15                          PMC3572711   \n",
       "16                            22610094   \n",
       "17                   PMCID: PMC3586974   \n",
       "18        23455506  PMCID: PMC3607399    \n",
       "19          PMID: 24015914 PMC3833349    \n",
       "20                       : PMC3805332    \n",
       "21                                 NaN   \n",
       "22            PMCID:\\n    PMC3656742\\n   \n",
       "23                      PMCID: 3584654   \n",
       "24                 22971149 PMC3466778   \n",
       "25                            23072351   \n",
       "26                          PMC3477822   \n",
       "27                          PMC3530960   \n",
       "28                23458425 PMC3630740    \n",
       "29                      PMID: 20146481   \n",
       "...                                ...   \n",
       "2097                           3575693   \n",
       "2098        PMID: 22188548 PMC3492912    \n",
       "2099        PMID: 22764734 PMC3798095    \n",
       "2100                    PMID: 23703895   \n",
       "2101                 PMCID: PMC3664106   \n",
       "2102                    PMID: 23649934   \n",
       "2103                        PMC2955965   \n",
       "2104        PMID: 19948006 PMC3551259    \n",
       "2105                    PMID: 23305527   \n",
       "2106                 PMCID: PMC3600532   \n",
       "2107                        PMC3440570   \n",
       "2108              23670821 PMC3738939    \n",
       "2109                          23640856   \n",
       "2110                    PMID: 23918316   \n",
       "2111                 PMCID: PMC3728731   \n",
       "2112       23495205685.88 PMC3743159     \n",
       "2113         PMID:22997008 PMC3569869    \n",
       "2114                           3708104   \n",
       "2115                        PMC3713766   \n",
       "2116                        PMC3819359   \n",
       "2117                       PMC3773237    \n",
       "2118                       PMC3815011    \n",
       "2119                        PMC3805356   \n",
       "2120                             Epub    \n",
       "2121                        PMC3707567   \n",
       "2122                           2901593   \n",
       "2123                           3748854   \n",
       "2124                           3785148   \n",
       "2125          PMCID:\\n    PMC3647051\\n   \n",
       "2126  PMID: 23846567  (Epub July 2013)   \n",
       "\n",
       "                                         Publisher  \\\n",
       "0                                              CUP   \n",
       "1                                              ACS   \n",
       "2                                              ACS   \n",
       "3                                              ACS   \n",
       "4                                              ACS   \n",
       "5                                              ACS   \n",
       "6                                              ACS   \n",
       "7                                              ACS   \n",
       "8     ACS (Amercian Chemical Society) Publications   \n",
       "9     ACS (Amercian Chemical Society) Publications   \n",
       "10    ACS (Amercian Chemical Society) Publications   \n",
       "11    ACS (Amercian Chemical Society) Publications   \n",
       "12    ACS (Amercian Chemical Society) Publications   \n",
       "13                                ACS Publications   \n",
       "14                                ACS Publications   \n",
       "15                                   AGA Institute   \n",
       "16                                           AMBSB   \n",
       "17           American Association of Immunologists   \n",
       "18           American Association of Immunologists   \n",
       "19                       American Chemical Society   \n",
       "20                       American Chemical Society   \n",
       "21                       American Chemical Society   \n",
       "22                       American Chemical Society   \n",
       "23                       AMERICAN CHEMICAL SOCIETY   \n",
       "24                       American Chemical Society   \n",
       "25                       American Chemical Society   \n",
       "26                       American Chemical Society   \n",
       "27                       American Chemical Society   \n",
       "28                       American Chemical Society   \n",
       "29                       American Chemical Society   \n",
       "...                                            ...   \n",
       "2097                               Wiley-Blackwell   \n",
       "2098                               Wiley-Blackwell   \n",
       "2099                               Wiley-Blackwell   \n",
       "2100                               Wiley-Blackwell   \n",
       "2101                               Wiley-Blackwell   \n",
       "2102                               Wiley-Blackwell   \n",
       "2103                               Wiley-Blackwell   \n",
       "2104                               Wiley-Blackwell   \n",
       "2105                               Wiley-Blackwell   \n",
       "2106                               Wiley-Blackwell   \n",
       "2107            Wiley-Blackwell, John Wiley & Sons   \n",
       "2108                                     Wiley-VCH   \n",
       "2109                                     Wiley-VCH   \n",
       "2110                                     Wiley-VCH   \n",
       "2111                                     Wiley-VCH   \n",
       "2112                                     Wiley-VCH   \n",
       "2113                                     Wiley-VCH   \n",
       "2114                               Wliey-Blackwell   \n",
       "2115                                Wolters Kluwer   \n",
       "2116                                Wolters Kluwer   \n",
       "2117                                Wolters Kluwer   \n",
       "2118                                Wolters Kluwer   \n",
       "2119                                Wolters Kluwer   \n",
       "2120                                Wolters Kluwer   \n",
       "2121                                Wolters Kluwer   \n",
       "2122                         Wolters Kluwer Health   \n",
       "2123                        Wolters Kluwer Health    \n",
       "2124                        Wolters Kluwer Health    \n",
       "2125                 Wolters Kluwer N.V./Lippinott   \n",
       "2126                               Wolters Kluwers   \n",
       "\n",
       "                                          Journal title  \\\n",
       "0                                Psychological Medicine   \n",
       "1                                     Biomacromolecules   \n",
       "2                                            J Med Chem   \n",
       "3                                            J Med Chem   \n",
       "4                                            J Org Chem   \n",
       "5                        Journal of Medicinal Chemistry   \n",
       "6                          Journal of Proteome Research   \n",
       "7                                             Mol Pharm   \n",
       "8                                  ACS Chemical Biology   \n",
       "9                                  ACS Chemical Biology   \n",
       "10         Journal of Chemical Information and Modeling   \n",
       "11                       Journal of Medicinal Chemistry   \n",
       "12                       Journal of Medicinal Chemistry   \n",
       "13                                         Biochemistry   \n",
       "14                       Journal of Medicinal Chemistry   \n",
       "15                                     Gastroenterology   \n",
       "16                      Journal of Biological Chemistry   \n",
       "17                                Journal of Immunology   \n",
       "18                                Journal of Immunology   \n",
       "19                                 ACS Chemical Biology   \n",
       "20                                 ACS Chemical Biology   \n",
       "21                                 ACS Chemical Biology   \n",
       "22                            ACS Chemical Neuroscience   \n",
       "23                                             ACS NANO   \n",
       "24                            American Chemical Society   \n",
       "25                                 Analytical Chemistry   \n",
       "26                                 Analytical Chemistry   \n",
       "27                                 Analytical Chemistry   \n",
       "28                               Bioconjugate Chemistry   \n",
       "29                       Journal of Medicinal Chemistry   \n",
       "...                                                 ...   \n",
       "2097                             Molecular Microbiology   \n",
       "2098                                    Obesity Reviews   \n",
       "2099                                    Obesity Reviews   \n",
       "2100                             Statistics in Medicine   \n",
       "2101                                         Stem Cells   \n",
       "2102                                            Synapse   \n",
       "2103               The European Journal of Neuroscience   \n",
       "2104                                            Traffic   \n",
       "2105                                            Traffic   \n",
       "2106                         Zoonoses and Public Health   \n",
       "2107                American Journal of Transplantation   \n",
       "2108                                 Angew chems Int Ed   \n",
       "2109                                        CHEMBIOCHEM   \n",
       "2110                                        Chemmedchem   \n",
       "2111                                        Chemmedchem   \n",
       "2112                                        ChemMedChem   \n",
       "2113                                          Protemics   \n",
       "2114                   Journal of Small Animal Practice   \n",
       "2115                                               AIDS   \n",
       "2116                                       AIDS Journal   \n",
       "2117                                            AIDS UK   \n",
       "2118                                            AIDS UK   \n",
       "2119  JAIDS Journal of Acquired Immune Deficiency Sy...   \n",
       "2120  Journal of Acquired Immune Deficiency Syndroms...   \n",
       "2121                                    Journal of Aids   \n",
       "2122                               Circulation Research   \n",
       "2123                                               AIDS   \n",
       "2124                               Pediatr Infect Dis J   \n",
       "2125                                               AIDS   \n",
       "2126    Journal of Acquired Immune Deficiency Syndromes   \n",
       "\n",
       "                                          Article title  \\\n",
       "0     Reduced parahippocampal cortical thickness in ...   \n",
       "1     Structural characterization of a Model Gram-ne...   \n",
       "2     Fumaroylamino-4,5-epoxymorphinans and related ...   \n",
       "3     Orvinols with mixed kappa/mu opioid receptor a...   \n",
       "4     Regioselective opening of myo-inositol orthoes...   \n",
       "5     Comparative Structural and Functional Studies ...   \n",
       "6     Mapping Proteolytic Processing in the Secretom...   \n",
       "7     Quantitative silencing of EGFP reporter gene b...   \n",
       "8     A Novel Allosteric Inhibitor of the Uridine Di...   \n",
       "9     Chemical proteomic analysis reveals the drugab...   \n",
       "10    Locating Sweet Spots for Screening Hits and Ev...   \n",
       "11    Synthesis and evaluation of ?-thymidine analog...   \n",
       "12    Discovery and structure-activity relationships...   \n",
       "13    Monomeric 14-3-3 has a chaperone-like activity...   \n",
       "14    Synthesis and in vitro and in vivo characteriz...   \n",
       "15    Much of the genetic risk of colorectal cancer ...   \n",
       "16                  Annexin-1 interaction with FPR2/ALX   \n",
       "17    Sialoadhesin ligand expression identifies a su...   \n",
       "18    Regulation of Foxp3+ Inducible Regulatory T Ce...   \n",
       "19    Discovery of an allosteric inhibitor binding s...   \n",
       "20    Synthesis of alpha-glucan in mycobacteria invo...   \n",
       "21    Discovery of ?2 Adrenergic Receptor Ligands Us...   \n",
       "22    Continuous online microdialysis using microflu...   \n",
       "23    HYDROXY-TERMINATED CONJUGATED POLYMER NANOPART...   \n",
       "24    Characterizing the Fatty Acid Binding Site in ...   \n",
       "25    Amphipathic polymers facilitate the study of f...   \n",
       "26    Quantitative dynamics of phosphorproteome: the...   \n",
       "27    Variable-Pitch Rectangular Cross-section Radio...   \n",
       "28    Design, synthesis and functional activity of l...   \n",
       "29    Toward biophysical probes for the 5-HT3 recept...   \n",
       "...                                                 ...   \n",
       "2097  Shigella IpaD has a Dual Role: Signal Transduc...   \n",
       "2098  Does maternal body mass index during pregnancy...   \n",
       "2099  Obesity and socioeconomic status in developing...   \n",
       "2100  Combining multiple imputation and meta-analysi...   \n",
       "2101  Matrix remodelling maintains ESC self-renewal ...   \n",
       "2102  Presynaptic pH and vesicle fusion in Drosophil...   \n",
       "2103  Hyperpolarization-activated ion channels as ta...   \n",
       "2104  Efficient internalization of MHC I requires ly...   \n",
       "2105  Proteomic analysis of clathrin interactions in...   \n",
       "2106  Ecology of zoonotic infectious diseases in bat...   \n",
       "2107  Low dose rapamycin treatment increases the abi...   \n",
       "2108  Design and synthesis of cyclic ADP-4-thioribos...   \n",
       "2109  A Prototypical Small-Molecule Modulator Uncoup...   \n",
       "2110  Structure-Activity Relationship Studies of Pyr...   \n",
       "2111  From On-Target to Off-Target Activity: Identif...   \n",
       "2112  Synthesis and structure-activity relationship ...   \n",
       "2113  Carbon source-induced reprogramming of the cel...   \n",
       "2114  Prevalence, outcome and risk factors for post-...   \n",
       "2115  HIV infected adolescents in Southern Africa ca...   \n",
       "2116  Short title: TB and VL breakthrough and failur...   \n",
       "2117   Sexual behaviour in a rural high HIV prevalence    \n",
       "2118  HIV incidence and survival from age-specific s...   \n",
       "2119  Accelerated biological ageing in HIV-infected ...   \n",
       "2120  Reduction in early mortality on antiretroviral...   \n",
       "2121  Risk factors for seropositivity to Kaposi sarc...   \n",
       "2122  Mechanistic Links Between Na+ Channel (SCN5A) ...   \n",
       "2123  Evaluation of an empiric risk screening score ...   \n",
       "2124  Topical umbilical cord care for prevention of ...   \n",
       "2125  Grassroots Community Organisations' Contributi...   \n",
       "2126  A novel community health worker tool outperfor...   \n",
       "\n",
       "     COST (£) charged to Wellcome (inc VAT when charged)  \n",
       "0                                                 £0.00   \n",
       "1                                              £2381.04   \n",
       "2                                               £642.56   \n",
       "3                                               £669.64   \n",
       "4                                               £685.88   \n",
       "5                                              £2392.20   \n",
       "6                                              £2367.95   \n",
       "7                                               £649.33   \n",
       "8                                              £1294.59   \n",
       "9                                              £1294.78   \n",
       "10                                             £1329.69   \n",
       "11                                             £1287.20   \n",
       "12                                             £1324.66   \n",
       "13                                              £665.64   \n",
       "14                                             £1006.72   \n",
       "15                                              £238.08   \n",
       "16                                              £265.67   \n",
       "17                                             £2035.00   \n",
       "18                                             £3108.08   \n",
       "19                                             £1267.76   \n",
       "20                                             £2286.73   \n",
       "21                                              £947.07   \n",
       "22                                             £1186.80   \n",
       "23                                              £642.89   \n",
       "24                                             £1533.29   \n",
       "25                                             £2082.74   \n",
       "26                                             £2314.10   \n",
       "27                                              £759.67   \n",
       "28                                             £1565.26   \n",
       "29                                              £572.74   \n",
       "...                                                 ...   \n",
       "2097                                           £2236.02   \n",
       "2098                                           £2275.02   \n",
       "2099                                           £2373.57   \n",
       "2100                                            £791.19   \n",
       "2101                                           £1551.49   \n",
       "2102                                           £1961.68   \n",
       "2103                                           £1982.35   \n",
       "2104                                           £2239.22   \n",
       "2105                                           £2377.65   \n",
       "2106                                           £2272.15   \n",
       "2107                                           £1900.70   \n",
       "2108                                           £3026.17   \n",
       "2109                                           £1851.15   \n",
       "2110                                           £1812.89   \n",
       "2111                                           £1816.70   \n",
       "2112                                           £2168.05   \n",
       "2113                                           £1409.96   \n",
       "2114                                           £2400.00   \n",
       "2115                                           £1968.63   \n",
       "2116                                           £2015.72   \n",
       "2117                                           £1836.92   \n",
       "2118                                           £1836.92   \n",
       "2119                                           £1375.80   \n",
       "2120                                           £1836.92   \n",
       "2121                                           £2009.65   \n",
       "2122                                           £1334.15   \n",
       "2123                                           £1834.77   \n",
       "2124                                           £1834.77   \n",
       "2125                                           £2374.52   \n",
       "2126                                           £2034.75   \n",
       "\n",
       "[2127 rows x 5 columns]"
      ]
     },
     "execution_count": 2,
     "metadata": {},
     "output_type": "execute_result"
    }
   ],
   "source": [
    "data = pd.read_csv('WELLCOME_APCspend2013_forThinkful.csv', encoding='ISO-8859-1')\n",
    "data"
   ]
  },
  {
   "cell_type": "code",
   "execution_count": 3,
   "metadata": {},
   "outputs": [
    {
     "name": "stdout",
     "output_type": "stream",
     "text": [
      "<class 'pandas.core.frame.DataFrame'>\n",
      "RangeIndex: 2127 entries, 0 to 2126\n",
      "Data columns (total 5 columns):\n",
      "PMID/PMCID                                             1928 non-null object\n",
      "Publisher                                              2127 non-null object\n",
      "Journal title                                          2126 non-null object\n",
      "Article title                                          2127 non-null object\n",
      "COST (£) charged to Wellcome (inc VAT when charged)    2127 non-null object\n",
      "dtypes: object(5)\n",
      "memory usage: 83.2+ KB\n"
     ]
    }
   ],
   "source": [
    "data.info()\n",
    "\n",
    "#There are 199 null values in PMID/PMCID column (2127 - 1928 = 199), and 1 null value in the Journal title "
   ]
  },
  {
   "cell_type": "code",
   "execution_count": 4,
   "metadata": {},
   "outputs": [
    {
     "data": {
      "text/plain": [
       "PLoS One                                           92\n",
       "PLoS ONE                                           62\n",
       "Journal of Biological Chemistry                    48\n",
       "Nucleic Acids Research                             21\n",
       "Proceedings of the National Academy of Sciences    19\n",
       "PLoS Neglected Tropical Diseases                   18\n",
       "Human Molecular Genetics                           18\n",
       "Nature Communications                              17\n",
       "PLoS Genetics                                      15\n",
       "PLoS Pathogens                                     15\n",
       "Neuroimage                                         15\n",
       "PLOS ONE                                           14\n",
       "Brain                                              14\n",
       "BMC Public Health                                  14\n",
       "NeuroImage                                         14\n",
       "Movement Disorders                                 13\n",
       "Biochemical Journal                                12\n",
       "Developmental Cell                                 12\n",
       "Journal of Neuroscience                            12\n",
       "Journal of General Virology                        11\n",
       "Name: Journal title, dtype: int64"
      ]
     },
     "execution_count": 4,
     "metadata": {},
     "output_type": "execute_result"
    }
   ],
   "source": [
    "data[\"Journal title\"].value_counts().head(20)"
   ]
  },
  {
   "cell_type": "markdown",
   "metadata": {},
   "source": [
    "To begin with, we see PLOS ONE to be one of the topmost journals, and it's spelled multiple ways. We need to clean the \"Journal title\" column. \n",
    "\n",
    "Let's see how many unique names we have for the \"Journal title\" column. "
   ]
  },
  {
   "cell_type": "code",
   "execution_count": 5,
   "metadata": {},
   "outputs": [
    {
     "name": "stdout",
     "output_type": "stream",
     "text": [
      "Unique values in the given dataset, prior to cleaning:\n",
      "985\n"
     ]
    }
   ],
   "source": [
    "## Cleaning the \"Journal title\" column\n",
    "print(\"Unique values in the given dataset, prior to cleaning:\")\n",
    "print(len(data[\"Journal title\"].unique()))\n",
    "# there are 985 unique titles in the dataset\n"
   ]
  },
  {
   "cell_type": "code",
   "execution_count": 6,
   "metadata": {},
   "outputs": [
    {
     "data": {
      "text/plain": [
       "PMID/PMCID                                             199\n",
       "Publisher                                                0\n",
       "Journal title                                            1\n",
       "Article title                                            0\n",
       "COST (£) charged to Wellcome (inc VAT when charged)      0\n",
       "dtype: int64"
      ]
     },
     "execution_count": 6,
     "metadata": {},
     "output_type": "execute_result"
    }
   ],
   "source": [
    "# Number of null values in the \"Journal title\" column. \n",
    "data.isnull().sum()"
   ]
  },
  {
   "cell_type": "markdown",
   "metadata": {},
   "source": [
    "Removing one null value in the column. "
   ]
  },
  {
   "cell_type": "code",
   "execution_count": 7,
   "metadata": {},
   "outputs": [
    {
     "name": "stdout",
     "output_type": "stream",
     "text": [
      "unique values AFTER dropna\n",
      "985\n"
     ]
    }
   ],
   "source": [
    "data[\"Journal title\"] = data[\"Journal title\"].dropna()\n",
    "\n",
    "print(\"unique values AFTER dropna\")\n",
    "print(len(data[\"Journal title\"].unique()))"
   ]
  },
  {
   "cell_type": "code",
   "execution_count": 8,
   "metadata": {},
   "outputs": [
    {
     "name": "stdout",
     "output_type": "stream",
     "text": [
      "Unique values after lowercasing the journal titles\n",
      "929\n"
     ]
    }
   ],
   "source": [
    "#make all Journal titles lowercase\n",
    "data[\"Journal title\"] = data[\"Journal title\"].str.lower()\n",
    "\n",
    "print(\"Unique values after lowercasing the journal titles\")\n",
    "print(len(data[\"Journal title\"].unique()))"
   ]
  },
  {
   "cell_type": "markdown",
   "metadata": {},
   "source": [
    "This is also evident as the number of PLOS ONE journals increasded to 190 from 92. "
   ]
  },
  {
   "cell_type": "code",
   "execution_count": 9,
   "metadata": {},
   "outputs": [
    {
     "data": {
      "text/plain": [
       "plos one                                           190\n",
       "journal of biological chemistry                     53\n",
       "neuroimage                                          29\n",
       "plos genetics                                       24\n",
       "plos pathogens                                      24\n",
       "nucleic acids research                              23\n",
       "proceedings of the national academy of sciences     20\n",
       "plos neglected tropical diseases                    20\n",
       "nature communications                               19\n",
       "human molecular genetics                            19\n",
       "Name: Journal title, dtype: int64"
      ]
     },
     "execution_count": 9,
     "metadata": {},
     "output_type": "execute_result"
    }
   ],
   "source": [
    "data[\"Journal title\"].value_counts().head(10)"
   ]
  },
  {
   "cell_type": "code",
   "execution_count": 10,
   "metadata": {},
   "outputs": [
    {
     "data": {
      "text/plain": [
       "0    psychological medicine\n",
       "1         biomacromolecules\n",
       "2                j med chem\n",
       "3                j med chem\n",
       "4                j org chem\n",
       "Name: Journal title, dtype: object"
      ]
     },
     "execution_count": 10,
     "metadata": {},
     "output_type": "execute_result"
    }
   ],
   "source": [
    "#remove any white space before and after journal titles\n",
    "data[\"Journal title\"] = data[\"Journal title\"].str.strip()\n",
    "data[\"Journal title\"].head()"
   ]
  },
  {
   "cell_type": "code",
   "execution_count": 11,
   "metadata": {},
   "outputs": [
    {
     "name": "stdout",
     "output_type": "stream",
     "text": [
      "unique values after removing white spaces\n",
      "895\n"
     ]
    }
   ],
   "source": [
    "print(\"unique values after removing white spaces\")\n",
    "print(len(data[\"Journal title\"].unique()))"
   ]
  },
  {
   "cell_type": "markdown",
   "metadata": {},
   "source": [
    "That reduces the unique values to 895 from 929. "
   ]
  },
  {
   "cell_type": "code",
   "execution_count": 12,
   "metadata": {},
   "outputs": [],
   "source": [
    "#defining a function for removing common words \n",
    "\n",
    "def remove_common_words(series, text, rep_text):\n",
    "    data[series] = data[series].str.replace(text, rep_text)\n",
    "    return data[series]"
   ]
  },
  {
   "cell_type": "code",
   "execution_count": 13,
   "metadata": {},
   "outputs": [
    {
     "name": "stdout",
     "output_type": "stream",
     "text": [
      "Unique titles now: 892\n"
     ]
    }
   ],
   "source": [
    "remove_common_words(\"Journal title\", \"the journal of \", \"\")\n",
    "print(\"Unique titles now: {}\".format(len(data[\"Journal title\"].unique())))"
   ]
  },
  {
   "cell_type": "code",
   "execution_count": 14,
   "metadata": {},
   "outputs": [
    {
     "name": "stdout",
     "output_type": "stream",
     "text": [
      "Unique titles now: 870\n"
     ]
    }
   ],
   "source": [
    "remove_common_words(\"Journal title\", \"journal of \", \"\")\n",
    "print(\"Unique titles now: {}\".format(len(data[\"Journal title\"].unique())))"
   ]
  },
  {
   "cell_type": "code",
   "execution_count": 15,
   "metadata": {},
   "outputs": [
    {
     "name": "stdout",
     "output_type": "stream",
     "text": [
      "Unique titles now: 870\n"
     ]
    }
   ],
   "source": [
    "remove_common_words(\"Journal title\", \"jounral of\", \"\")\n",
    "print(\"Unique titles now: {}\".format(len(data[\"Journal title\"].unique())))"
   ]
  },
  {
   "cell_type": "code",
   "execution_count": 16,
   "metadata": {
    "scrolled": false
   },
   "outputs": [
    {
     "name": "stdout",
     "output_type": "stream",
     "text": [
      "Unique titles now: 870\n"
     ]
    }
   ],
   "source": [
    "remove_common_words(\"Journal title\", \"j \", \"\")\n",
    "print(\"Unique titles now: {}\".format(len(data[\"Journal title\"].unique())))"
   ]
  },
  {
   "cell_type": "code",
   "execution_count": 17,
   "metadata": {},
   "outputs": [
    {
     "name": "stdout",
     "output_type": "stream",
     "text": [
      "Unique titles now: 859\n"
     ]
    }
   ],
   "source": [
    "remove_common_words(\"Journal title\", \"the \", \"\")\n",
    "print(\"Unique titles now: {}\".format(len(data[\"Journal title\"].unique())))"
   ]
  },
  {
   "cell_type": "code",
   "execution_count": 18,
   "metadata": {},
   "outputs": [
    {
     "name": "stdout",
     "output_type": "stream",
     "text": [
      "Unique titles now: 859\n"
     ]
    }
   ],
   "source": [
    "remove_common_words(\"Journal title\", \"chemical \", \"chem\")\n",
    "remove_common_words(\"Journal title\", \"chemistry \", \"chem\")\n",
    "\n",
    "print(\"Unique titles now: {}\".format(len(data[\"Journal title\"].unique())))"
   ]
  },
  {
   "cell_type": "code",
   "execution_count": 19,
   "metadata": {},
   "outputs": [
    {
     "name": "stdout",
     "output_type": "stream",
     "text": [
      "Unique titles now: 859\n"
     ]
    }
   ],
   "source": [
    "remove_common_words(\"Journal title\", \"physical \", \"phys\")\n",
    "remove_common_words(\"Journal title\", \"physics \", \"phys\")\n",
    "\n",
    "print(\"Unique titles now: {}\".format(len(data[\"Journal title\"].unique())))"
   ]
  },
  {
   "cell_type": "code",
   "execution_count": 20,
   "metadata": {},
   "outputs": [
    {
     "name": "stdout",
     "output_type": "stream",
     "text": [
      "Unique titles now: 856\n"
     ]
    }
   ],
   "source": [
    "remove_common_words(\"Journal title\", \"biology \", \"bio\")\n",
    "remove_common_words(\"Journal title\", \"biol \", \"bio\")\n",
    "remove_common_words(\"Journal title\", \"biological \", \"bio\")\n",
    "\n",
    "print(\"Unique titles now: {}\".format(len(data[\"Journal title\"].unique())))"
   ]
  },
  {
   "cell_type": "code",
   "execution_count": 21,
   "metadata": {},
   "outputs": [
    {
     "name": "stdout",
     "output_type": "stream",
     "text": [
      "Unique titles now: 854\n"
     ]
    }
   ],
   "source": [
    "remove_common_words(\"Journal title\", \"proceedings \", \"proc\")\n",
    "remove_common_words(\"Journal title\", \"international\", \"intl\")\n",
    "remove_common_words(\"Journal title\", \"nature\", \"nat\")\n",
    "remove_common_words(\"Journal title\", \"molecular\", \"mol\")\n",
    "remove_common_words(\"Journal title\", \"cellular\", \"cell\")\n",
    "\n",
    "print(\"Unique titles now: {}\".format(len(data[\"Journal title\"].unique())))"
   ]
  },
  {
   "cell_type": "code",
   "execution_count": 22,
   "metadata": {},
   "outputs": [
    {
     "name": "stdout",
     "output_type": "stream",
     "text": [
      "Unique titles now: 853\n"
     ]
    }
   ],
   "source": [
    "remove_common_words(\"Journal title\", \" 1\", \"one\")\n",
    "print(\"Unique titles now: {}\".format(len(data[\"Journal title\"].unique())))\n"
   ]
  },
  {
   "cell_type": "code",
   "execution_count": 23,
   "metadata": {},
   "outputs": [],
   "source": [
    "#extreme cleaning by removing all white spaces and punctuations\n",
    "#not useful anymore\n",
    "data['Journal title'] = data['Journal title'].apply(lambda x: ''.join(list(filter(str.isalnum, str(x)))))"
   ]
  },
  {
   "cell_type": "code",
   "execution_count": 24,
   "metadata": {},
   "outputs": [
    {
     "name": "stdout",
     "output_type": "stream",
     "text": [
      "Unique titles now: 841\n"
     ]
    }
   ],
   "source": [
    "print(\"Unique titles now: {}\".format(len(data[\"Journal title\"].unique())))\n"
   ]
  },
  {
   "cell_type": "markdown",
   "metadata": {},
   "source": [
    "We started with 985 unique journal titles. After cleaning up, we have 841 unique journal titles. \n"
   ]
  },
  {
   "cell_type": "code",
   "execution_count": 29,
   "metadata": {},
   "outputs": [
    {
     "name": "stdout",
     "output_type": "stream",
     "text": [
      "Below are the five top common journals and articles in each:\n"
     ]
    },
    {
     "data": {
      "text/plain": [
       "plosone                 207\n",
       "biochemistry             63\n",
       "neuroimage               29\n",
       "nucleicacidsresearch     26\n",
       "plosgenetics             24\n",
       "Name: Journal title, dtype: int64"
      ]
     },
     "execution_count": 29,
     "metadata": {},
     "output_type": "execute_result"
    }
   ],
   "source": [
    "print(\"Below are the five top common journals and articles in each:\")\n",
    "data[\"Journal title\"].value_counts().head(5)"
   ]
  },
  {
   "cell_type": "markdown",
   "metadata": {},
   "source": [
    "## Calculate the mean, median and the standard deviation of the cost per article for each journal\n",
    "\n",
    "There are some typos in the \"Cost\" column, e.g., the \\$ at the end whereas most of the costs are in pound. Ideally, I should convert the \\$ to pound (multiple with .76 in the rows with \\$), but I am leaving that right now. \n",
    "\n"
   ]
  },
  {
   "cell_type": "code",
   "execution_count": 26,
   "metadata": {},
   "outputs": [],
   "source": [
    "#renaming the column\n",
    "data.rename(columns={'COST (£) charged to Wellcome (inc VAT when charged)': 'cost_in_pound'}, inplace=True)"
   ]
  },
  {
   "cell_type": "code",
   "execution_count": 27,
   "metadata": {},
   "outputs": [],
   "source": [
    "#removing £ signs\n",
    "data.cost_in_pound = data.cost_in_pound.str.replace(\"£\", \"\")\n",
    "\n",
    "#removing $ signs\n",
    "data.cost_in_pound = data.cost_in_pound.str.replace(\"$\", \"\")"
   ]
  },
  {
   "cell_type": "code",
   "execution_count": 115,
   "metadata": {},
   "outputs": [],
   "source": [
    "plosone = data.loc[lambda df: df['Journal title']=='plosone', :]\n",
    "biochem = data.loc[lambda df: df['Journal title']=='biochemistry', :]\n",
    "neuro = data.loc[lambda df: df['Journal title']=='neuroimage', :]\n",
    "nucle = data.loc[lambda df: df['Journal title']=='nucleicacidsresearch', :]\n",
    "plosgen = data.loc[lambda df: df['Journal title']=='plosgenetics', :]\n",
    "\n",
    "top_five = pd.concat([plosone, biolchem, neuro, nucle, plosgen], axis=0)\n"
   ]
  },
  {
   "cell_type": "code",
   "execution_count": 131,
   "metadata": {},
   "outputs": [],
   "source": [
    "#\"cost_in_pound\" is not numeric and aggregate is encountering DataError: No numeric types to aggregate, \n",
    "#changing to numeric type\n",
    "\n",
    "top_five[\"cost_in_pound\"] = top_five['cost_in_pound'].astype(float)"
   ]
  },
  {
   "cell_type": "code",
   "execution_count": 163,
   "metadata": {},
   "outputs": [],
   "source": [
    "#creating a new dataframe for reporting the stats. #to_frame converts to a DF\n",
    "\n",
    "top_five_stats = top_five.groupby(\"Journal title\")[\"cost_in_pound\"].mean().to_frame()\n",
    "top_five_stats[\"median\"] = top_five.groupby(\"Journal title\")[\"cost_in_pound\"].median().to_frame() \n",
    "top_five_stats[\"stdev\"] = top_five.groupby(\"Journal title\")[\"cost_in_pound\"].std()"
   ]
  },
  {
   "cell_type": "code",
   "execution_count": 164,
   "metadata": {},
   "outputs": [
    {
     "data": {
      "text/html": [
       "<div>\n",
       "<style scoped>\n",
       "    .dataframe tbody tr th:only-of-type {\n",
       "        vertical-align: middle;\n",
       "    }\n",
       "\n",
       "    .dataframe tbody tr th {\n",
       "        vertical-align: top;\n",
       "    }\n",
       "\n",
       "    .dataframe thead th {\n",
       "        text-align: right;\n",
       "    }\n",
       "</style>\n",
       "<table border=\"1\" class=\"dataframe\">\n",
       "  <thead>\n",
       "    <tr style=\"text-align: right;\">\n",
       "      <th></th>\n",
       "      <th>mean</th>\n",
       "      <th>median</th>\n",
       "      <th>stdev</th>\n",
       "    </tr>\n",
       "    <tr>\n",
       "      <th>Journal title</th>\n",
       "      <th></th>\n",
       "      <th></th>\n",
       "      <th></th>\n",
       "    </tr>\n",
       "  </thead>\n",
       "  <tbody>\n",
       "    <tr>\n",
       "      <th>biochemistry</th>\n",
       "      <td>17245.747619</td>\n",
       "      <td>1314.53</td>\n",
       "      <td>125812.904953</td>\n",
       "    </tr>\n",
       "    <tr>\n",
       "      <th>neuroimage</th>\n",
       "      <td>2215.168276</td>\n",
       "      <td>2326.43</td>\n",
       "      <td>266.653947</td>\n",
       "    </tr>\n",
       "    <tr>\n",
       "      <th>nucleicacidsresearch</th>\n",
       "      <td>1149.000000</td>\n",
       "      <td>852.00</td>\n",
       "      <td>442.940447</td>\n",
       "    </tr>\n",
       "    <tr>\n",
       "      <th>plosgenetics</th>\n",
       "      <td>84839.435000</td>\n",
       "      <td>1718.39</td>\n",
       "      <td>281865.707794</td>\n",
       "    </tr>\n",
       "    <tr>\n",
       "      <th>plosone</th>\n",
       "      <td>40472.287246</td>\n",
       "      <td>899.34</td>\n",
       "      <td>193313.084568</td>\n",
       "    </tr>\n",
       "  </tbody>\n",
       "</table>\n",
       "</div>"
      ],
      "text/plain": [
       "                              mean   median          stdev\n",
       "Journal title                                             \n",
       "biochemistry          17245.747619  1314.53  125812.904953\n",
       "neuroimage             2215.168276  2326.43     266.653947\n",
       "nucleicacidsresearch   1149.000000   852.00     442.940447\n",
       "plosgenetics          84839.435000  1718.39  281865.707794\n",
       "plosone               40472.287246   899.34  193313.084568"
      ]
     },
     "execution_count": 164,
     "metadata": {},
     "output_type": "execute_result"
    }
   ],
   "source": [
    "#renaming the column \"cost_in_pound\" to \"mean\"\n",
    "top_five_stats.rename(columns={\"cost_in_pound\" : \"mean\"})"
   ]
  },
  {
   "cell_type": "markdown",
   "metadata": {},
   "source": [
    "The mean and standard deviation are high in some articles. That is because some of the articles are priced much higher than the others. "
   ]
  },
  {
   "cell_type": "code",
   "execution_count": 178,
   "metadata": {},
   "outputs": [
    {
     "data": {
      "text/plain": [
       "count       349.000000\n",
       "mean      33222.079885\n",
       "std      174958.539260\n",
       "min         122.310000\n",
       "25%         870.130000\n",
       "50%        1040.210000\n",
       "75%        1556.610000\n",
       "max      999999.000000\n",
       "Name: cost_in_pound, dtype: float64"
      ]
     },
     "execution_count": 178,
     "metadata": {},
     "output_type": "execute_result"
    }
   ],
   "source": [
    "top_five.cost_in_pound.describe()"
   ]
  },
  {
   "cell_type": "code",
   "execution_count": 179,
   "metadata": {},
   "outputs": [
    {
     "data": {
      "text/plain": [
       "Text(0.5,1,'Distribution of costs')"
      ]
     },
     "execution_count": 179,
     "metadata": {},
     "output_type": "execute_result"
    },
    {
     "data": {
      "image/png": "[encoded data removed]",
      "text/plain": [
       "<Figure size 432x288 with 1 Axes>"
      ]
     },
     "metadata": {},
     "output_type": "display_data"
    }
   ],
   "source": [
    "plt.boxplot(top_five[\"cost_in_pound\"])\n",
    "plt.title(\"Distribution of costs\")"
   ]
  },
  {
   "cell_type": "markdown",
   "metadata": {},
   "source": [
    "From the boxplot it is apparent that there are outliers. We'll trim these down. "
   ]
  },
  {
   "cell_type": "code",
   "execution_count": 197,
   "metadata": {},
   "outputs": [
    {
     "data": {
      "text/html": [
       "<div>\n",
       "<style scoped>\n",
       "    .dataframe tbody tr th:only-of-type {\n",
       "        vertical-align: middle;\n",
       "    }\n",
       "\n",
       "    .dataframe tbody tr th {\n",
       "        vertical-align: top;\n",
       "    }\n",
       "\n",
       "    .dataframe thead th {\n",
       "        text-align: right;\n",
       "    }\n",
       "</style>\n",
       "<table border=\"1\" class=\"dataframe\">\n",
       "  <thead>\n",
       "    <tr style=\"text-align: right;\">\n",
       "      <th></th>\n",
       "      <th>cost_in_pound</th>\n",
       "    </tr>\n",
       "  </thead>\n",
       "  <tbody>\n",
       "    <tr>\n",
       "      <th>count</th>\n",
       "      <td>338.000000</td>\n",
       "    </tr>\n",
       "    <tr>\n",
       "      <th>mean</th>\n",
       "      <td>1758.925680</td>\n",
       "    </tr>\n",
       "    <tr>\n",
       "      <th>std</th>\n",
       "      <td>10424.316709</td>\n",
       "    </tr>\n",
       "    <tr>\n",
       "      <th>min</th>\n",
       "      <td>122.310000</td>\n",
       "    </tr>\n",
       "    <tr>\n",
       "      <th>25%</th>\n",
       "      <td>867.405000</td>\n",
       "    </tr>\n",
       "    <tr>\n",
       "      <th>50%</th>\n",
       "      <td>1031.340000</td>\n",
       "    </tr>\n",
       "    <tr>\n",
       "      <th>75%</th>\n",
       "      <td>1456.190000</td>\n",
       "    </tr>\n",
       "    <tr>\n",
       "      <th>max</th>\n",
       "      <td>192645.000000</td>\n",
       "    </tr>\n",
       "  </tbody>\n",
       "</table>\n",
       "</div>"
      ],
      "text/plain": [
       "       cost_in_pound\n",
       "count     338.000000\n",
       "mean     1758.925680\n",
       "std     10424.316709\n",
       "min       122.310000\n",
       "25%       867.405000\n",
       "50%      1031.340000\n",
       "75%      1456.190000\n",
       "max    192645.000000"
      ]
     },
     "execution_count": 197,
     "metadata": {},
     "output_type": "execute_result"
    }
   ],
   "source": [
    "trim_cost = top_five[top_five[\"cost_in_pound\"] < 200000.0]\n",
    "trim_cost.describe()"
   ]
  },
  {
   "cell_type": "code",
   "execution_count": 198,
   "metadata": {},
   "outputs": [
    {
     "data": {
      "text/plain": [
       "{'whiskers': [<matplotlib.lines.Line2D at 0x1125d19e8>,\n",
       "  <matplotlib.lines.Line2D at 0x1125d1e80>],\n",
       " 'caps': [<matplotlib.lines.Line2D at 0x1125c52e8>,\n",
       "  <matplotlib.lines.Line2D at 0x1125c5710>],\n",
       " 'boxes': [<matplotlib.lines.Line2D at 0x1125d1898>],\n",
       " 'medians': [<matplotlib.lines.Line2D at 0x1125c5b38>],\n",
       " 'fliers': [<matplotlib.lines.Line2D at 0x1125c5f60>],\n",
       " 'means': []}"
      ]
     },
     "execution_count": 198,
     "metadata": {},
     "output_type": "execute_result"
    },
    {
     "data": {
      "image/png": "[encoded data removed]",
      "text/plain": [
       "<Figure size 432x288 with 1 Axes>"
      ]
     },
     "metadata": {},
     "output_type": "display_data"
    }
   ],
   "source": [
    "plt.boxplot(trim_cost.cost_in_pound)"
   ]
  },
  {
   "cell_type": "markdown",
   "metadata": {},
   "source": [
    "Looks like there are more outliers. Trimming it further. "
   ]
  },
  {
   "cell_type": "code",
   "execution_count": 201,
   "metadata": {},
   "outputs": [
    {
     "name": "stdout",
     "output_type": "stream",
     "text": [
      "<class 'pandas.core.frame.DataFrame'>\n",
      "Int64Index: 337 entries, 1282 to 1385\n",
      "Data columns (total 5 columns):\n",
      "PMID/PMCID       324 non-null object\n",
      "Publisher        337 non-null object\n",
      "Journal title    337 non-null object\n",
      "Article title    337 non-null object\n",
      "cost_in_pound    337 non-null float64\n",
      "dtypes: float64(1), object(4)\n",
      "memory usage: 15.8+ KB\n"
     ]
    },
    {
     "data": {
      "image/png": "[encoded data removed]",
      "text/plain": [
       "<Figure size 432x288 with 1 Axes>"
      ]
     },
     "metadata": {},
     "output_type": "display_data"
    }
   ],
   "source": [
    "trim_cost = top_five[top_five[\"cost_in_pound\"] < 175000.0]\n",
    "trim_cost.info()\n",
    "plt.boxplot(trim_cost.cost_in_pound)\n",
    "plt.show()"
   ]
  },
  {
   "cell_type": "code",
   "execution_count": 213,
   "metadata": {},
   "outputs": [],
   "source": [
    "#selecting a subset of the dataframe with costs less than 175000 pounds\n",
    "trimmed_top_five = top_five[top_five[\"cost_in_pound\"] < 175000.0]"
   ]
  },
  {
   "cell_type": "code",
   "execution_count": 222,
   "metadata": {},
   "outputs": [
    {
     "data": {
      "text/html": [
       "<div>\n",
       "<style scoped>\n",
       "    .dataframe tbody tr th:only-of-type {\n",
       "        vertical-align: middle;\n",
       "    }\n",
       "\n",
       "    .dataframe tbody tr th {\n",
       "        vertical-align: top;\n",
       "    }\n",
       "\n",
       "    .dataframe thead th {\n",
       "        text-align: right;\n",
       "    }\n",
       "</style>\n",
       "<table border=\"1\" class=\"dataframe\">\n",
       "  <thead>\n",
       "    <tr style=\"text-align: right;\">\n",
       "      <th></th>\n",
       "      <th>PMID/PMCID</th>\n",
       "      <th>Publisher</th>\n",
       "      <th>Journal title</th>\n",
       "      <th>Article title</th>\n",
       "      <th>cost_in_pound</th>\n",
       "    </tr>\n",
       "  </thead>\n",
       "  <tbody>\n",
       "    <tr>\n",
       "      <th>1282</th>\n",
       "      <td>3517619</td>\n",
       "      <td>PLoS</td>\n",
       "      <td>plosone</td>\n",
       "      <td>HCN1 and HCN2 in Rat DRG Neurons: Levels in No...</td>\n",
       "      <td>1001.03</td>\n",
       "    </tr>\n",
       "    <tr>\n",
       "      <th>1283</th>\n",
       "      <td>3498109</td>\n",
       "      <td>PLoS</td>\n",
       "      <td>plosone</td>\n",
       "      <td>Fetal alcohol exposure and IQ at age 8: Eviden...</td>\n",
       "      <td>1004.15</td>\n",
       "    </tr>\n",
       "    <tr>\n",
       "      <th>1284</th>\n",
       "      <td>3515553</td>\n",
       "      <td>PLoS</td>\n",
       "      <td>plosone</td>\n",
       "      <td>Vitamin B-12 status during pregnancy and child...</td>\n",
       "      <td>1011.45</td>\n",
       "    </tr>\n",
       "    <tr>\n",
       "      <th>1285</th>\n",
       "      <td>3522679</td>\n",
       "      <td>PLoS</td>\n",
       "      <td>plosone</td>\n",
       "      <td>Validation of Dual Energy X-ray Absorptiometry...</td>\n",
       "      <td>1011.45</td>\n",
       "    </tr>\n",
       "    <tr>\n",
       "      <th>1286</th>\n",
       "      <td>3485223</td>\n",
       "      <td>PLoS</td>\n",
       "      <td>plosone</td>\n",
       "      <td>Associations of different phenotypes of wheezi...</td>\n",
       "      <td>1015.73</td>\n",
       "    </tr>\n",
       "  </tbody>\n",
       "</table>\n",
       "</div>"
      ],
      "text/plain": [
       "     PMID/PMCID Publisher Journal title  \\\n",
       "1282    3517619      PLoS       plosone   \n",
       "1283    3498109      PLoS       plosone   \n",
       "1284    3515553      PLoS       plosone   \n",
       "1285    3522679      PLoS       plosone   \n",
       "1286    3485223      PLoS       plosone   \n",
       "\n",
       "                                          Article title  cost_in_pound  \n",
       "1282  HCN1 and HCN2 in Rat DRG Neurons: Levels in No...        1001.03  \n",
       "1283  Fetal alcohol exposure and IQ at age 8: Eviden...        1004.15  \n",
       "1284  Vitamin B-12 status during pregnancy and child...        1011.45  \n",
       "1285  Validation of Dual Energy X-ray Absorptiometry...        1011.45  \n",
       "1286  Associations of different phenotypes of wheezi...        1015.73  "
      ]
     },
     "execution_count": 222,
     "metadata": {},
     "output_type": "execute_result"
    }
   ],
   "source": [
    "trimmed_top_five.head(5)"
   ]
  },
  {
   "cell_type": "code",
   "execution_count": 235,
   "metadata": {},
   "outputs": [],
   "source": [
    "#recalculating stats again for a better estimate\n",
    "trimmed_top_five_statss = trimmed_top_five.groupby(\"Journal title\")[\"cost_in_pound\"].mean().to_frame()"
   ]
  },
  {
   "cell_type": "code",
   "execution_count": 239,
   "metadata": {},
   "outputs": [],
   "source": [
    "trimmed_top_five_statss[\"median\"] = trimmed_top_five.groupby(\"Journal title\")[\"cost_in_pound\"].median().to_frame()\n",
    "trimmed_top_five_statss[\"stdev\"] = trimmed_top_five.groupby(\"Journal title\")[\"cost_in_pound\"].std().to_frame()\n",
    "trimmed_top_five_statss.rename(columns={\"cost_in_pound\": \"mean\"}, inplace=True)"
   ]
  },
  {
   "cell_type": "code",
   "execution_count": 240,
   "metadata": {},
   "outputs": [
    {
     "data": {
      "text/html": [
       "<div>\n",
       "<style scoped>\n",
       "    .dataframe tbody tr th:only-of-type {\n",
       "        vertical-align: middle;\n",
       "    }\n",
       "\n",
       "    .dataframe tbody tr th {\n",
       "        vertical-align: top;\n",
       "    }\n",
       "\n",
       "    .dataframe thead th {\n",
       "        text-align: right;\n",
       "    }\n",
       "</style>\n",
       "<table border=\"1\" class=\"dataframe\">\n",
       "  <thead>\n",
       "    <tr style=\"text-align: right;\">\n",
       "      <th></th>\n",
       "      <th>mean</th>\n",
       "      <th>median</th>\n",
       "      <th>stdev</th>\n",
       "    </tr>\n",
       "    <tr>\n",
       "      <th>Journal title</th>\n",
       "      <th></th>\n",
       "      <th></th>\n",
       "      <th></th>\n",
       "    </tr>\n",
       "  </thead>\n",
       "  <tbody>\n",
       "    <tr>\n",
       "      <th>biochemistry</th>\n",
       "      <td>1394.888710</td>\n",
       "      <td>1313.130</td>\n",
       "      <td>395.860841</td>\n",
       "    </tr>\n",
       "    <tr>\n",
       "      <th>neuroimage</th>\n",
       "      <td>2215.168276</td>\n",
       "      <td>2326.430</td>\n",
       "      <td>266.653947</td>\n",
       "    </tr>\n",
       "    <tr>\n",
       "      <th>nucleicacidsresearch</th>\n",
       "      <td>1149.000000</td>\n",
       "      <td>852.000</td>\n",
       "      <td>442.940447</td>\n",
       "    </tr>\n",
       "    <tr>\n",
       "      <th>plosgenetics</th>\n",
       "      <td>1643.110909</td>\n",
       "      <td>1712.730</td>\n",
       "      <td>153.366825</td>\n",
       "    </tr>\n",
       "    <tr>\n",
       "      <th>plosone</th>\n",
       "      <td>934.982121</td>\n",
       "      <td>896.975</td>\n",
       "      <td>194.966229</td>\n",
       "    </tr>\n",
       "  </tbody>\n",
       "</table>\n",
       "</div>"
      ],
      "text/plain": [
       "                             mean    median       stdev\n",
       "Journal title                                          \n",
       "biochemistry          1394.888710  1313.130  395.860841\n",
       "neuroimage            2215.168276  2326.430  266.653947\n",
       "nucleicacidsresearch  1149.000000   852.000  442.940447\n",
       "plosgenetics          1643.110909  1712.730  153.366825\n",
       "plosone                934.982121   896.975  194.966229"
      ]
     },
     "execution_count": 240,
     "metadata": {},
     "output_type": "execute_result"
    }
   ],
   "source": [
    "trimmed_top_five_statss"
   ]
  },
  {
   "cell_type": "markdown",
   "metadata": {},
   "source": [
    "### Challenge: Article Price by Subject area?\n",
    "\n",
    "Identify the open access prices paid by subject area."
   ]
  },
  {
   "cell_type": "code",
   "execution_count": 259,
   "metadata": {},
   "outputs": [],
   "source": [
    "bio_df = data[data[\"Journal title\"].str.contains(\"bio\")][\"cost_in_pound\"].astype(float).mean()\n",
    "chem_df = data[data[\"Journal title\"].str.contains(\"chem\")][\"cost_in_pound\"].astype(float).mean()\n",
    "phys_df = data[data[\"Journal title\"].str.contains(\"phys\")][\"cost_in_pound\"].astype(float).mean()"
   ]
  },
  {
   "cell_type": "code",
   "execution_count": 261,
   "metadata": {},
   "outputs": [
    {
     "name": "stdout",
     "output_type": "stream",
     "text": [
      "Average cost of biological articles are £10816.59641566265\n",
      "Average cost of chemical articles are £18540.583389830506\n",
      "Average cost of physical sciences articles are £29333.96305555556\n"
     ]
    }
   ],
   "source": [
    "print(\"Average cost of biological articles are £{}\".format(bio_df))\n",
    "print(\"Average cost of chemical articles are £{}\".format(chem_df))\n",
    "print(\"Average cost of physical sciences articles are £{}\".format(phys_df))"
   ]
  },
  {
   "cell_type": "code",
   "execution_count": null,
   "metadata": {},
   "outputs": [],
   "source": []
  }
 ],
 "metadata": {
  "kernelspec": {
   "display_name": "Python 3",
   "language": "python",
   "name": "python3"
  },
  "language_info": {
   "codemirror_mode": {
    "name": "ipython",
    "version": 3
   },
   "file_extension": ".py",
   "mimetype": "text/x-python",
   "name": "python",
   "nbconvert_exporter": "python",
   "pygments_lexer": "ipython3",
   "version": "3.6.5"
  }
 },
 "nbformat": 4,
 "nbformat_minor": 2
}
