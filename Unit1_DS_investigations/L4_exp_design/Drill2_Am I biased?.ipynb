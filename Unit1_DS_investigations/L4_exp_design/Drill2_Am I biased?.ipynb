{
 "cells": [
  {
   "cell_type": "markdown",
   "metadata": {},
   "source": [
    "## Drill2: A/A Tests: Am I biased? \n",
    "\n",
    "For each of the following scenarios, call out the potential biases in the proposed experiment. Do your best to try to discover not only the bias, but [also] the initial design. There is plenty of room for interpretation here, so make sure to state what assumptions you're making.\n",
    "\n",
    "** ** \n",
    "**You're testing advertising emails for a bathing suit company and you test one version of the email in February and the other in May.**\n",
    "\n",
    "\n",
    "- Biased, probably contextually biased. \n",
    "- February is a winter month and May is the starting of the summer season. Customers are more likely to open the advertising emails in May.  \n",
    "\n",
    "- Assuming that we are testing which emails gets a better conversion rate, the experimentation should send out two versions of the email at the same time. \n",
    "    \n",
    "- If we want to compare with email template works well, we may compare the email-opening opening rate in February and in May. \n",
    "\n",
    "** ** \n",
    "\n",
    "**You open a clinic to treat anxiety and find that the people who visit show a higher rate of anxiety than the general population.**\n",
    "\n",
    "- Biased, specifically sampling bias. Also, observer bias.  \n",
    "    \n",
    "** ** \n",
    "**You launch a new ad billboard based campaign and see an increase in website visits in the first week.**\n",
    "\n",
    "- Biased. Contextual Bias. \n",
    "\n",
    "- It is expected that a change in the billboard will catch people's eyes and subsequently more people will visist the website. \n",
    "\n",
    "- Should leave the first week out and calculate results from the second week onwards. \n",
    "\n",
    "** ** \n",
    "**You launch a loyalty program but see no change in visits in the first week.**\n",
    "\n",
    "- Assuming there has been no advertisement for the loyalty program, it is observer's bias. \n",
    "\n"
   ]
  },
  {
   "cell_type": "code",
   "execution_count": null,
   "metadata": {},
   "outputs": [],
   "source": []
  }
 ],
 "metadata": {
  "kernelspec": {
   "display_name": "Python 3",
   "language": "python",
   "name": "python3"
  },
  "language_info": {
   "codemirror_mode": {
    "name": "ipython",
    "version": 3
   },
   "file_extension": ".py",
   "mimetype": "text/x-python",
   "name": "python",
   "nbconvert_exporter": "python",
   "pygments_lexer": "ipython3",
   "version": "3.6.5"
  }
 },
 "nbformat": 4,
 "nbformat_minor": 2
}
