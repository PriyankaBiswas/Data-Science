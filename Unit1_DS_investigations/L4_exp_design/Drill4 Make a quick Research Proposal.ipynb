{
 "cells": [
  {
   "cell_type": "markdown",
   "metadata": {},
   "source": [
    "## Drill4: Make a quick Research Proposal\n",
    "\n",
    "\n",
    "*Look back to the potential experiments in the previous assignment. For one of those experiments, write up the essential points of a research proposal for an improved version of that experiment.*\n",
    "\n",
    "** ** \n",
    "\n",
    "I decided to choose the follwoing as this might be the closest to the jobs I may be interested in. I am thinking in terms of marketing effectiveness and conversion in customers. \n",
    "\n",
    "\n",
    "**The Sith Lords are concerned that their recruiting slogan, \"Give In to Your Anger,\" isn't very effective. Darth Vader develops an alternative slogan, \"Together We Can Rule the Galaxy.\" They compare the slogans on two groups of 50 captured droids each. In one group, Emperor Palpatine delivers the \"Anger\" slogan. In the other, Darth Vader presents the \"Together\" slogan. 20 droids convert to the Dark Side after hearing Palpatine's slogan, while only 5 droids convert after hearing Vader's. The Sith's data scientist concludes that \"Anger\" is a more effective slogan and should continue to be used.** \n",
    "\n",
    "\n",
    "**Problem definition**\n",
    "    - How to figure out the most effective marketing message?\n",
    "    - Known facts: Droids are sentient beings. A good slogan that appeals to their current state of mind is required to motivate them to join the Dark Side. The \"Anger\" slogan works not only because it appeals to the fact that they are captured against their will, it is also delivered by a charishmatic leader (Emperor Palpatine). \n",
    "\n",
    "\n",
    "**Hypothesis** \n",
    "    - Anger management slogan will increase conversion. \n",
    "    \n",
    "**Experimental design**\n",
    "    - *Design plan:* Half of the droids hear slogans that are crafted to fit their state of mind, and half listens to a generic slogan. Compute conversion after each such slogan address by Emperor Palpatine. \n",
    "    \n",
    "    - *Analysis plan:*\n",
    "        - Each group hears such slogans five times and we compute the conversion rate after each address by Emperor Palpatine.         \n",
    "\n",
    "\n",
    "**Benchmarks**\n",
    "- If average conversion rate is higher for the predefined slogan, we will focus on crafting such slogans in future. If the conversion rate does not change or slow, we keep the slogan generic and test the effect of the orator.\n",
    "\n",
    "- Second experiment plan: We keep the same slogan and get it addresses by Emperor Palpatine and Darth Vader. "
   ]
  },
  {
   "cell_type": "code",
   "execution_count": null,
   "metadata": {},
   "outputs": [],
   "source": []
  }
 ],
 "metadata": {
  "kernelspec": {
   "display_name": "Python 3",
   "language": "python",
   "name": "python3"
  },
  "language_info": {
   "codemirror_mode": {
    "name": "ipython",
    "version": 3
   },
   "file_extension": ".py",
   "mimetype": "text/x-python",
   "name": "python",
   "nbconvert_exporter": "python",
   "pygments_lexer": "ipython3",
   "version": "3.6.5"
  }
 },
 "nbformat": 4,
 "nbformat_minor": 2
}
