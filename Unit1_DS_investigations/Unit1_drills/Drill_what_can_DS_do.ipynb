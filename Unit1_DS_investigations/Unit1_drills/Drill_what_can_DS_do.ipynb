{
 "cells": [
  {
   "cell_type": "markdown",
   "metadata": {},
   "source": [
    "# Drill: What can data science do? \n",
    "\n",
    "Below we have a series of questions for you to translate into a technical plan. For each question, describe how you would make it testable and translate it from a general question into something statistically rigorous.\n",
    "\n",
    "\n",
    "## Question 1\n",
    "1) You work at an e-commerce company that sells three goods: widgets, doodads, and fizzbangs. The head of advertising asks you which they should feature in their new advertising campaign. You have data on individual visitors' sessions (activity on a website, pageviews, and purchases), as well as whether or not those users converted from an advertisement for that session. You also have the cost and price information for the goods.\n",
    "\n",
    "Ans: \n",
    "- Find out which product sells the least. \n",
    "- Compare the pageviews, purchases and conversion rate with the other/highest selling product to find out the reason for the difference. For example, if the page views of the least-selling product are much less than other products, it is probably an indicator that customers are not aware of the product.    \n",
    "- The pageview : purchase (or conversion) ratio should be a good indicator of the difference among the products. \n",
    "- If customers spend time on the page but do not convert, it is a good indicator that the price is higher than the average customer.  Calculate the profit from cost and price information, decrease the margin of profit, and offer discounts or free shipping to incentivise customers to buy the product. \n",
    "\n",
    "\n",
    "\n",
    "## Question 2\n",
    "2) You work at a web design company that offers to build websites for clients. Signups have slowed, and you are tasked with finding out why. The onboarding funnel has three steps: email and password signup, plan choice, and payment. On a user level you have information on what steps they have completed as well as timestamps for all of those events for the past 3 years. You also have information on marketing spend on a weekly level.\n",
    "\n",
    "Ans:\n",
    "- For all non-converting customers find out where is the last timestamp step before quitting --> indicator of the most difficult part of the user's journey, may indicate if the problem was at the level of the plan choices or, whether the customets faced any other errors (e.g., not getting the sign up confirmation error or the communication between the two), or if payment schemes were too costly. \n",
    "- For the past data, we could compare the rate of sign up for each payment plan categories and which one is the most successful\n",
    "- We could also compare marketing spend and sign up rate on a weekly level to see if there is any connection between the two. \n",
    "- We could also compare converted and non-converting customers at each level. Comparing their timestamps would inform us about the trends.\n",
    "\n",
    "\n",
    "\n",
    "## Question 3\n",
    "\n",
    "3) You work at a hotel website and currently the website ranks search results by price. For simplicity's sake, let's say it's a website for one city with 100 hotels. You are tasked with proposing a better ranking system. You have session information, price information for the hotels, and whether each hotel is currently available.\n",
    "\n",
    "Ans: \n",
    "- Session information will give us the end-users search criteria, and one option would be to rank according to the search criterion (e.g., \"best hotels in ...\" vs. \"cheap hotels in ...\")\n",
    "- A map could be incorporated which shows a hotels in the perimeter of the viewing area\n",
    "- Review scores will be helpful for ranking (as TripAdvisor does for the \"popularity\" ranking). Within a price range hotels could be ordered from highest to lowest ranking. \n",
    "\n",
    "\n",
    "## Question 4\n",
    "\n",
    "\n",
    "4) You work at a social network, and the management is worried about churn (users stopping using the product). You are tasked with finding out if their churn is atypical. You have three years of data for users with an entry for every time they've logged in, including the timestamp and length of session.\n",
    "\n",
    "Ans: \n",
    "- Separate churned users from continuing users and compare their actions, length of each session to get an idea of the difference\n",
    "- Longitudinally study churned users and compare their length of sessions for each log in and the gap between two log ins.  "
   ]
  },
  {
   "cell_type": "code",
   "execution_count": null,
   "metadata": {},
   "outputs": [],
   "source": []
  }
 ],
 "metadata": {
  "kernelspec": {
   "display_name": "Python 3",
   "language": "python",
   "name": "python3"
  },
  "language_info": {
   "codemirror_mode": {
    "name": "ipython",
    "version": 3
   },
   "file_extension": ".py",
   "mimetype": "text/x-python",
   "name": "python",
   "nbconvert_exporter": "python",
   "pygments_lexer": "ipython3",
   "version": "3.6.5"
  }
 },
 "nbformat": 4,
 "nbformat_minor": 2
}
