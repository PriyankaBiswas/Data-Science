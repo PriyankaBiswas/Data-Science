{
 "cells": [
  {
   "cell_type": "markdown",
   "metadata": {},
   "source": [
    "### Drill: Regression or classification \n",
    "\n",
    "*For each of the following situations, decide if you would model using a regression or classification model.*\n",
    "\n",
    "1. *The amount a person will spend on a given site in the next 24 months.* - **Regression** -- ranges from 0 to a max observerd limit.\n",
    "\n",
    "***\n",
    "2. *What color car someone is going to buy.* - **Regression or Classification** \n",
    "\n",
    "    - Regression, because color is difficult to discretely classify and the outcome will most likely be a probability of what color range it could be. \n",
    "\n",
    "    - Classification, because given 10 colors, it has to be one of the given 10 colors. \n",
    "\n",
    "***\n",
    "3. *How many children a family will have.* -- **Regression or Classification** \n",
    "\n",
    "    - Regression (most likely), because such problems generally predicts how many kids on average, and the number could be a decimal number (e.g., every American family has 2.3 kids in census data)\n",
    "\n",
    "    - Classification, because there is a upper bound in the number and the number can not be a decimal if defined that way.  \n",
    "\n",
    "***\n",
    "\n",
    "4. *If someone will sign up for a service.* -- surely **Classification** -- yes or no.  \n",
    "\n",
    "***\n",
    "\n",
    "5. *The number of times someone will get sick in a year.* -- **Classification or Regression** \n",
    "\n",
    "    - Classification, because an exact number is required and not probability \n",
    "\n",
    "    - Regression - predicting a number of times is a good indication of how frequently someone is falling sick. \n",
    "\n",
    "***\n",
    "6. *The probability someone will get sick in the next month.* -- **Classification** -  \n",
    "\n",
    "    - Classification: sick once or not, like spam filter. (e.g., \"does it happen?\") \n",
    " \n",
    "\n",
    "***\n",
    "\n",
    "7. *Which medicine will work best for a given patient.* -- **Classification** --observed number of medicine in the training. \n"
   ]
  },
  {
   "cell_type": "code",
   "execution_count": null,
   "metadata": {},
   "outputs": [],
   "source": []
  }
 ],
 "metadata": {
  "kernelspec": {
   "display_name": "Python 3",
   "language": "python",
   "name": "python3"
  },
  "language_info": {
   "codemirror_mode": {
    "name": "ipython",
    "version": 3
   },
   "file_extension": ".py",
   "mimetype": "text/x-python",
   "name": "python",
   "nbconvert_exporter": "python",
   "pygments_lexer": "ipython3",
   "version": "3.6.5"
  }
 },
 "nbformat": 4,
 "nbformat_minor": 2
}
