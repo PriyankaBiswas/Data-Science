{
 "cells": [
  {
   "cell_type": "markdown",
   "metadata": {},
   "source": [
    "# 3. Drill: Regression or classification \n",
    "\n",
    "*For each of the following situations, decide if you would model using a regression or classification model.*\n",
    "\n",
    "1. *The amount a person will spend on a given site in the next 24 months.* - **Regression** -- ranges from 0 to a max observerd limit.\n",
    "\n",
    "2. *What color car someone is going to buy.* - **Regression ** \n",
    "-- color is difficult to discretely classify and the outcome will most likely be a probability of what color range it could be. \n",
    "\n",
    "3. *How many children a family will have.* -- **Classification** -- there is a upper bound in the number and the number can not be a decimal.  \n",
    "\n",
    "4. *If someone will sign up for a service.* -- **Classification** -- yes or no. Or may be a catch? \n",
    "\n",
    "5. *The number of times someone will get sick in a year.* -- **Classification** -- wants an exact number and not probability \n",
    "\n",
    "6. *The probability someone will get sick in the next month.* -- **Regression** - asking for probability \n",
    "\n",
    "7. *Which medicine will work best for a given patient.* -- **Classification** --observed number of medicine in the training. \n"
   ]
  }
 ],
 "metadata": {
  "kernelspec": {
   "display_name": "Python 3",
   "language": "python",
   "name": "python3"
  },
  "language_info": {
   "codemirror_mode": {
    "name": "ipython",
    "version": 3
   },
   "file_extension": ".py",
   "mimetype": "text/x-python",
   "name": "python",
   "nbconvert_exporter": "python",
   "pygments_lexer": "ipython3",
   "version": "3.6.5"
  }
 },
 "nbformat": 4,
 "nbformat_minor": 2
}
