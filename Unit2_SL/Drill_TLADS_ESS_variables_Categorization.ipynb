{
 "cells": [
  {
   "cell_type": "code",
   "execution_count": 5,
   "metadata": {},
   "outputs": [],
   "source": [
    "# 2. Drill: TLADS - Categorization of ESS variables \n",
    "import pandas as pd\n",
    "ESS = pd.read_csv(\"https://raw.githubusercontent.com/Thinkful-Ed/data-201-resources/master/ESS_practice_data/ESSdata_Thinkful.csv\")\n",
    "#print(ESS.describe())"
   ]
  },
  {
   "cell_type": "markdown",
   "metadata": {},
   "source": [
    "1. 'cntry', 'year', 'gndr', 'partner': are categorical, each has a limited number of values without rank-order, distance and an absolute zero. \n",
    "\n",
    "2. 'idno' is also categorical, or better term \"Nominal\".\n",
    "\n",
    "3. 'tvtot', is continuous, Ratio variable because it has an absolute zero (0 = absense), rank order = 1 is more than .5, and distance = 3 is twice of 1.5. \n",
    "\n",
    "4. 'ppltrst', 'pplfair', 'pplhlp', 'happy', 'sclmeet', 'sclact' are all continuous, but ordinal. It only has rank-order. No meaningful distance or absolute zero. \n",
    "\n",
    "Resources: \n",
    "[ESS codebook](https://thinkful-ed.github.io/data-201-resources/ESS_practice_data/ESS_codebook.html), \n",
    "[Variable types](http://www.psy.gla.ac.uk/~steve/best/ordinal.html)"
   ]
  },
  {
   "cell_type": "code",
   "execution_count": null,
   "metadata": {},
   "outputs": [],
   "source": []
  }
 ],
 "metadata": {
  "kernelspec": {
   "display_name": "Python 3",
   "language": "python",
   "name": "python3"
  },
  "language_info": {
   "codemirror_mode": {
    "name": "ipython",
    "version": 3
   },
   "file_extension": ".py",
   "mimetype": "text/x-python",
   "name": "python",
   "nbconvert_exporter": "python",
   "pygments_lexer": "ipython3",
   "version": "3.6.5"
  }
 },
 "nbformat": 4,
 "nbformat_minor": 2
}
