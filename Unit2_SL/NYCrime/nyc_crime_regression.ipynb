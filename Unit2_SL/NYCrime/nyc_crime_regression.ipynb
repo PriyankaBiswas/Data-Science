{
 "cells": [
  {
   "cell_type": "code",
   "execution_count": 1,
   "metadata": {},
   "outputs": [],
   "source": [
    "import numpy as np\n",
    "import pandas as pd\n",
    "%matplotlib inline\n",
    "import matplotlib.pyplot as plt\n",
    "import seaborn as sns"
   ]
  },
  {
   "cell_type": "code",
   "execution_count": 2,
   "metadata": {},
   "outputs": [],
   "source": [
    "#sns.__version__"
   ]
  },
  {
   "cell_type": "code",
   "execution_count": 3,
   "metadata": {},
   "outputs": [],
   "source": [
    "nyc = pd.read_excel(\"nyc_crime_data.xls\", header=0)  #manually removed the first 4 rows in the excel file containing metadata"
   ]
  },
  {
   "cell_type": "code",
   "execution_count": 4,
   "metadata": {},
   "outputs": [
    {
     "data": {
      "text/html": [
       "<div>\n",
       "<style scoped>\n",
       "    .dataframe tbody tr th:only-of-type {\n",
       "        vertical-align: middle;\n",
       "    }\n",
       "\n",
       "    .dataframe tbody tr th {\n",
       "        vertical-align: top;\n",
       "    }\n",
       "\n",
       "    .dataframe thead th {\n",
       "        text-align: right;\n",
       "    }\n",
       "</style>\n",
       "<table border=\"1\" class=\"dataframe\">\n",
       "  <thead>\n",
       "    <tr style=\"text-align: right;\">\n",
       "      <th></th>\n",
       "      <th>City</th>\n",
       "      <th>Population</th>\n",
       "      <th>Violent\n",
       "crime</th>\n",
       "      <th>Murder and\n",
       "nonnegligent\n",
       "manslaughter</th>\n",
       "      <th>Rape\n",
       "(revised\n",
       "definition)1</th>\n",
       "      <th>Rape\n",
       "(legacy\n",
       "definition)2</th>\n",
       "      <th>Robbery</th>\n",
       "      <th>Aggravated\n",
       "assault</th>\n",
       "      <th>Property\n",
       "crime</th>\n",
       "      <th>Burglary</th>\n",
       "      <th>Larceny-\n",
       "theft</th>\n",
       "      <th>Motor\n",
       "vehicle\n",
       "theft</th>\n",
       "      <th>Arson3</th>\n",
       "    </tr>\n",
       "  </thead>\n",
       "  <tbody>\n",
       "    <tr>\n",
       "      <th>0</th>\n",
       "      <td>Adams Village</td>\n",
       "      <td>1861.0</td>\n",
       "      <td>0.0</td>\n",
       "      <td>0.0</td>\n",
       "      <td>NaN</td>\n",
       "      <td>0.0</td>\n",
       "      <td>0.0</td>\n",
       "      <td>0.0</td>\n",
       "      <td>12.0</td>\n",
       "      <td>2.0</td>\n",
       "      <td>10.0</td>\n",
       "      <td>0.0</td>\n",
       "      <td>0.0</td>\n",
       "    </tr>\n",
       "    <tr>\n",
       "      <th>1</th>\n",
       "      <td>Addison Town and Village</td>\n",
       "      <td>2577.0</td>\n",
       "      <td>3.0</td>\n",
       "      <td>0.0</td>\n",
       "      <td>NaN</td>\n",
       "      <td>0.0</td>\n",
       "      <td>0.0</td>\n",
       "      <td>3.0</td>\n",
       "      <td>24.0</td>\n",
       "      <td>3.0</td>\n",
       "      <td>20.0</td>\n",
       "      <td>1.0</td>\n",
       "      <td>0.0</td>\n",
       "    </tr>\n",
       "    <tr>\n",
       "      <th>2</th>\n",
       "      <td>Akron Village</td>\n",
       "      <td>2846.0</td>\n",
       "      <td>3.0</td>\n",
       "      <td>0.0</td>\n",
       "      <td>NaN</td>\n",
       "      <td>0.0</td>\n",
       "      <td>0.0</td>\n",
       "      <td>3.0</td>\n",
       "      <td>16.0</td>\n",
       "      <td>1.0</td>\n",
       "      <td>15.0</td>\n",
       "      <td>0.0</td>\n",
       "      <td>0.0</td>\n",
       "    </tr>\n",
       "    <tr>\n",
       "      <th>3</th>\n",
       "      <td>Albany</td>\n",
       "      <td>97956.0</td>\n",
       "      <td>791.0</td>\n",
       "      <td>8.0</td>\n",
       "      <td>NaN</td>\n",
       "      <td>30.0</td>\n",
       "      <td>227.0</td>\n",
       "      <td>526.0</td>\n",
       "      <td>4090.0</td>\n",
       "      <td>705.0</td>\n",
       "      <td>3243.0</td>\n",
       "      <td>142.0</td>\n",
       "      <td>NaN</td>\n",
       "    </tr>\n",
       "    <tr>\n",
       "      <th>4</th>\n",
       "      <td>Albion Village</td>\n",
       "      <td>6388.0</td>\n",
       "      <td>23.0</td>\n",
       "      <td>0.0</td>\n",
       "      <td>NaN</td>\n",
       "      <td>3.0</td>\n",
       "      <td>4.0</td>\n",
       "      <td>16.0</td>\n",
       "      <td>223.0</td>\n",
       "      <td>53.0</td>\n",
       "      <td>165.0</td>\n",
       "      <td>5.0</td>\n",
       "      <td>NaN</td>\n",
       "    </tr>\n",
       "  </tbody>\n",
       "</table>\n",
       "</div>"
      ],
      "text/plain": [
       "                       City  Population  Violent\\ncrime  \\\n",
       "0             Adams Village      1861.0             0.0   \n",
       "1  Addison Town and Village      2577.0             3.0   \n",
       "2             Akron Village      2846.0             3.0   \n",
       "3                    Albany     97956.0           791.0   \n",
       "4            Albion Village      6388.0            23.0   \n",
       "\n",
       "   Murder and\\nnonnegligent\\nmanslaughter  Rape\\n(revised\\ndefinition)1  \\\n",
       "0                                     0.0                           NaN   \n",
       "1                                     0.0                           NaN   \n",
       "2                                     0.0                           NaN   \n",
       "3                                     8.0                           NaN   \n",
       "4                                     0.0                           NaN   \n",
       "\n",
       "   Rape\\n(legacy\\ndefinition)2  Robbery  Aggravated\\nassault  Property\\ncrime  \\\n",
       "0                          0.0      0.0                  0.0             12.0   \n",
       "1                          0.0      0.0                  3.0             24.0   \n",
       "2                          0.0      0.0                  3.0             16.0   \n",
       "3                         30.0    227.0                526.0           4090.0   \n",
       "4                          3.0      4.0                 16.0            223.0   \n",
       "\n",
       "   Burglary  Larceny-\\ntheft  Motor\\nvehicle\\ntheft  Arson3  \n",
       "0       2.0             10.0                    0.0     0.0  \n",
       "1       3.0             20.0                    1.0     0.0  \n",
       "2       1.0             15.0                    0.0     0.0  \n",
       "3     705.0           3243.0                  142.0     NaN  \n",
       "4      53.0            165.0                    5.0     NaN  "
      ]
     },
     "execution_count": 4,
     "metadata": {},
     "output_type": "execute_result"
    }
   ],
   "source": [
    "nyc.head()"
   ]
  },
  {
   "cell_type": "code",
   "execution_count": 5,
   "metadata": {},
   "outputs": [],
   "source": [
    "nyc['pop_sqr'] = nyc.Population**2"
   ]
  },
  {
   "cell_type": "code",
   "execution_count": 6,
   "metadata": {},
   "outputs": [],
   "source": [
    "nyc['murder'] = np.where(nyc['Murder and\\nnonnegligent\\nmanslaughter'] > 0,1,0)\n",
    "nyc['robbery_cat'] = np.where(nyc.Robbery > 0, 1, 0)"
   ]
  },
  {
   "cell_type": "code",
   "execution_count": 7,
   "metadata": {},
   "outputs": [
    {
     "data": {
      "text/html": [
       "<div>\n",
       "<style scoped>\n",
       "    .dataframe tbody tr th:only-of-type {\n",
       "        vertical-align: middle;\n",
       "    }\n",
       "\n",
       "    .dataframe tbody tr th {\n",
       "        vertical-align: top;\n",
       "    }\n",
       "\n",
       "    .dataframe thead th {\n",
       "        text-align: right;\n",
       "    }\n",
       "</style>\n",
       "<table border=\"1\" class=\"dataframe\">\n",
       "  <thead>\n",
       "    <tr style=\"text-align: right;\">\n",
       "      <th></th>\n",
       "      <th>City</th>\n",
       "      <th>Population</th>\n",
       "      <th>Violent\n",
       "crime</th>\n",
       "      <th>Murder and\n",
       "nonnegligent\n",
       "manslaughter</th>\n",
       "      <th>Rape\n",
       "(revised\n",
       "definition)1</th>\n",
       "      <th>Rape\n",
       "(legacy\n",
       "definition)2</th>\n",
       "      <th>Robbery</th>\n",
       "      <th>Aggravated\n",
       "assault</th>\n",
       "      <th>Property\n",
       "crime</th>\n",
       "      <th>Burglary</th>\n",
       "      <th>Larceny-\n",
       "theft</th>\n",
       "      <th>Motor\n",
       "vehicle\n",
       "theft</th>\n",
       "      <th>Arson3</th>\n",
       "      <th>pop_sqr</th>\n",
       "      <th>murder</th>\n",
       "      <th>robbery_cat</th>\n",
       "    </tr>\n",
       "  </thead>\n",
       "  <tbody>\n",
       "    <tr>\n",
       "      <th>0</th>\n",
       "      <td>Adams Village</td>\n",
       "      <td>1861.0</td>\n",
       "      <td>0.0</td>\n",
       "      <td>0.0</td>\n",
       "      <td>NaN</td>\n",
       "      <td>0.0</td>\n",
       "      <td>0.0</td>\n",
       "      <td>0.0</td>\n",
       "      <td>12.0</td>\n",
       "      <td>2.0</td>\n",
       "      <td>10.0</td>\n",
       "      <td>0.0</td>\n",
       "      <td>0.0</td>\n",
       "      <td>3.463321e+06</td>\n",
       "      <td>0</td>\n",
       "      <td>0</td>\n",
       "    </tr>\n",
       "    <tr>\n",
       "      <th>1</th>\n",
       "      <td>Addison Town and Village</td>\n",
       "      <td>2577.0</td>\n",
       "      <td>3.0</td>\n",
       "      <td>0.0</td>\n",
       "      <td>NaN</td>\n",
       "      <td>0.0</td>\n",
       "      <td>0.0</td>\n",
       "      <td>3.0</td>\n",
       "      <td>24.0</td>\n",
       "      <td>3.0</td>\n",
       "      <td>20.0</td>\n",
       "      <td>1.0</td>\n",
       "      <td>0.0</td>\n",
       "      <td>6.640929e+06</td>\n",
       "      <td>0</td>\n",
       "      <td>0</td>\n",
       "    </tr>\n",
       "    <tr>\n",
       "      <th>2</th>\n",
       "      <td>Akron Village</td>\n",
       "      <td>2846.0</td>\n",
       "      <td>3.0</td>\n",
       "      <td>0.0</td>\n",
       "      <td>NaN</td>\n",
       "      <td>0.0</td>\n",
       "      <td>0.0</td>\n",
       "      <td>3.0</td>\n",
       "      <td>16.0</td>\n",
       "      <td>1.0</td>\n",
       "      <td>15.0</td>\n",
       "      <td>0.0</td>\n",
       "      <td>0.0</td>\n",
       "      <td>8.099716e+06</td>\n",
       "      <td>0</td>\n",
       "      <td>0</td>\n",
       "    </tr>\n",
       "    <tr>\n",
       "      <th>3</th>\n",
       "      <td>Albany</td>\n",
       "      <td>97956.0</td>\n",
       "      <td>791.0</td>\n",
       "      <td>8.0</td>\n",
       "      <td>NaN</td>\n",
       "      <td>30.0</td>\n",
       "      <td>227.0</td>\n",
       "      <td>526.0</td>\n",
       "      <td>4090.0</td>\n",
       "      <td>705.0</td>\n",
       "      <td>3243.0</td>\n",
       "      <td>142.0</td>\n",
       "      <td>NaN</td>\n",
       "      <td>9.595378e+09</td>\n",
       "      <td>1</td>\n",
       "      <td>1</td>\n",
       "    </tr>\n",
       "    <tr>\n",
       "      <th>4</th>\n",
       "      <td>Albion Village</td>\n",
       "      <td>6388.0</td>\n",
       "      <td>23.0</td>\n",
       "      <td>0.0</td>\n",
       "      <td>NaN</td>\n",
       "      <td>3.0</td>\n",
       "      <td>4.0</td>\n",
       "      <td>16.0</td>\n",
       "      <td>223.0</td>\n",
       "      <td>53.0</td>\n",
       "      <td>165.0</td>\n",
       "      <td>5.0</td>\n",
       "      <td>NaN</td>\n",
       "      <td>4.080654e+07</td>\n",
       "      <td>0</td>\n",
       "      <td>1</td>\n",
       "    </tr>\n",
       "  </tbody>\n",
       "</table>\n",
       "</div>"
      ],
      "text/plain": [
       "                       City  Population  Violent\\ncrime  \\\n",
       "0             Adams Village      1861.0             0.0   \n",
       "1  Addison Town and Village      2577.0             3.0   \n",
       "2             Akron Village      2846.0             3.0   \n",
       "3                    Albany     97956.0           791.0   \n",
       "4            Albion Village      6388.0            23.0   \n",
       "\n",
       "   Murder and\\nnonnegligent\\nmanslaughter  Rape\\n(revised\\ndefinition)1  \\\n",
       "0                                     0.0                           NaN   \n",
       "1                                     0.0                           NaN   \n",
       "2                                     0.0                           NaN   \n",
       "3                                     8.0                           NaN   \n",
       "4                                     0.0                           NaN   \n",
       "\n",
       "   Rape\\n(legacy\\ndefinition)2  Robbery  Aggravated\\nassault  Property\\ncrime  \\\n",
       "0                          0.0      0.0                  0.0             12.0   \n",
       "1                          0.0      0.0                  3.0             24.0   \n",
       "2                          0.0      0.0                  3.0             16.0   \n",
       "3                         30.0    227.0                526.0           4090.0   \n",
       "4                          3.0      4.0                 16.0            223.0   \n",
       "\n",
       "   Burglary  Larceny-\\ntheft  Motor\\nvehicle\\ntheft  Arson3       pop_sqr  \\\n",
       "0       2.0             10.0                    0.0     0.0  3.463321e+06   \n",
       "1       3.0             20.0                    1.0     0.0  6.640929e+06   \n",
       "2       1.0             15.0                    0.0     0.0  8.099716e+06   \n",
       "3     705.0           3243.0                  142.0     NaN  9.595378e+09   \n",
       "4      53.0            165.0                    5.0     NaN  4.080654e+07   \n",
       "\n",
       "   murder  robbery_cat  \n",
       "0       0            0  \n",
       "1       0            0  \n",
       "2       0            0  \n",
       "3       1            1  \n",
       "4       0            1  "
      ]
     },
     "execution_count": 7,
     "metadata": {},
     "output_type": "execute_result"
    }
   ],
   "source": [
    "nyc.head()"
   ]
  },
  {
   "cell_type": "code",
   "execution_count": 8,
   "metadata": {},
   "outputs": [
    {
     "data": {
      "text/html": [
       "<div>\n",
       "<style scoped>\n",
       "    .dataframe tbody tr th:only-of-type {\n",
       "        vertical-align: middle;\n",
       "    }\n",
       "\n",
       "    .dataframe tbody tr th {\n",
       "        vertical-align: top;\n",
       "    }\n",
       "\n",
       "    .dataframe thead th {\n",
       "        text-align: right;\n",
       "    }\n",
       "</style>\n",
       "<table border=\"1\" class=\"dataframe\">\n",
       "  <thead>\n",
       "    <tr style=\"text-align: right;\">\n",
       "      <th></th>\n",
       "      <th>Population</th>\n",
       "      <th>Violent\n",
       "crime</th>\n",
       "      <th>Murder and\n",
       "nonnegligent\n",
       "manslaughter</th>\n",
       "      <th>Rape\n",
       "(revised\n",
       "definition)1</th>\n",
       "      <th>Rape\n",
       "(legacy\n",
       "definition)2</th>\n",
       "      <th>Robbery</th>\n",
       "      <th>Aggravated\n",
       "assault</th>\n",
       "      <th>Property\n",
       "crime</th>\n",
       "      <th>Burglary</th>\n",
       "      <th>Larceny-\n",
       "theft</th>\n",
       "      <th>Motor\n",
       "vehicle\n",
       "theft</th>\n",
       "      <th>Arson3</th>\n",
       "      <th>pop_sqr</th>\n",
       "      <th>murder</th>\n",
       "      <th>robbery_cat</th>\n",
       "    </tr>\n",
       "  </thead>\n",
       "  <tbody>\n",
       "    <tr>\n",
       "      <th>count</th>\n",
       "      <td>3.480000e+02</td>\n",
       "      <td>348.000000</td>\n",
       "      <td>348.000000</td>\n",
       "      <td>0.0</td>\n",
       "      <td>348.000000</td>\n",
       "      <td>348.000000</td>\n",
       "      <td>348.000000</td>\n",
       "      <td>348.000000</td>\n",
       "      <td>348.000000</td>\n",
       "      <td>348.000000</td>\n",
       "      <td>348.000000</td>\n",
       "      <td>187.000000</td>\n",
       "      <td>3.480000e+02</td>\n",
       "      <td>351.000000</td>\n",
       "      <td>351.000000</td>\n",
       "    </tr>\n",
       "    <tr>\n",
       "      <th>mean</th>\n",
       "      <td>4.003763e+04</td>\n",
       "      <td>201.594828</td>\n",
       "      <td>1.566092</td>\n",
       "      <td>NaN</td>\n",
       "      <td>5.864943</td>\n",
       "      <td>72.902299</td>\n",
       "      <td>121.261494</td>\n",
       "      <td>792.606322</td>\n",
       "      <td>119.683908</td>\n",
       "      <td>637.017241</td>\n",
       "      <td>35.905172</td>\n",
       "      <td>1.871658</td>\n",
       "      <td>2.035547e+11</td>\n",
       "      <td>0.139601</td>\n",
       "      <td>0.595442</td>\n",
       "    </tr>\n",
       "    <tr>\n",
       "      <th>std</th>\n",
       "      <td>4.500374e+05</td>\n",
       "      <td>2815.268504</td>\n",
       "      <td>18.303673</td>\n",
       "      <td>NaN</td>\n",
       "      <td>60.425452</td>\n",
       "      <td>1031.032873</td>\n",
       "      <td>1706.131730</td>\n",
       "      <td>7659.724746</td>\n",
       "      <td>924.948789</td>\n",
       "      <td>6346.054451</td>\n",
       "      <td>403.423826</td>\n",
       "      <td>10.693411</td>\n",
       "      <td>3.778876e+12</td>\n",
       "      <td>0.347067</td>\n",
       "      <td>0.491507</td>\n",
       "    </tr>\n",
       "    <tr>\n",
       "      <th>min</th>\n",
       "      <td>5.260000e+02</td>\n",
       "      <td>0.000000</td>\n",
       "      <td>0.000000</td>\n",
       "      <td>NaN</td>\n",
       "      <td>0.000000</td>\n",
       "      <td>0.000000</td>\n",
       "      <td>0.000000</td>\n",
       "      <td>0.000000</td>\n",
       "      <td>0.000000</td>\n",
       "      <td>0.000000</td>\n",
       "      <td>0.000000</td>\n",
       "      <td>0.000000</td>\n",
       "      <td>2.766760e+05</td>\n",
       "      <td>0.000000</td>\n",
       "      <td>0.000000</td>\n",
       "    </tr>\n",
       "    <tr>\n",
       "      <th>25%</th>\n",
       "      <td>3.003000e+03</td>\n",
       "      <td>2.000000</td>\n",
       "      <td>0.000000</td>\n",
       "      <td>NaN</td>\n",
       "      <td>0.000000</td>\n",
       "      <td>0.000000</td>\n",
       "      <td>1.000000</td>\n",
       "      <td>40.500000</td>\n",
       "      <td>6.000000</td>\n",
       "      <td>31.000000</td>\n",
       "      <td>0.000000</td>\n",
       "      <td>0.000000</td>\n",
       "      <td>9.018117e+06</td>\n",
       "      <td>0.000000</td>\n",
       "      <td>0.000000</td>\n",
       "    </tr>\n",
       "    <tr>\n",
       "      <th>50%</th>\n",
       "      <td>7.233500e+03</td>\n",
       "      <td>6.000000</td>\n",
       "      <td>0.000000</td>\n",
       "      <td>NaN</td>\n",
       "      <td>0.000000</td>\n",
       "      <td>1.000000</td>\n",
       "      <td>4.000000</td>\n",
       "      <td>112.500000</td>\n",
       "      <td>17.500000</td>\n",
       "      <td>94.000000</td>\n",
       "      <td>2.000000</td>\n",
       "      <td>0.000000</td>\n",
       "      <td>5.232568e+07</td>\n",
       "      <td>0.000000</td>\n",
       "      <td>1.000000</td>\n",
       "    </tr>\n",
       "    <tr>\n",
       "      <th>75%</th>\n",
       "      <td>1.842750e+04</td>\n",
       "      <td>22.000000</td>\n",
       "      <td>0.000000</td>\n",
       "      <td>NaN</td>\n",
       "      <td>2.000000</td>\n",
       "      <td>5.000000</td>\n",
       "      <td>14.000000</td>\n",
       "      <td>341.000000</td>\n",
       "      <td>51.250000</td>\n",
       "      <td>287.250000</td>\n",
       "      <td>7.000000</td>\n",
       "      <td>1.000000</td>\n",
       "      <td>3.397536e+08</td>\n",
       "      <td>0.000000</td>\n",
       "      <td>1.000000</td>\n",
       "    </tr>\n",
       "    <tr>\n",
       "      <th>max</th>\n",
       "      <td>8.396126e+06</td>\n",
       "      <td>52384.000000</td>\n",
       "      <td>335.000000</td>\n",
       "      <td>NaN</td>\n",
       "      <td>1112.000000</td>\n",
       "      <td>19170.000000</td>\n",
       "      <td>31767.000000</td>\n",
       "      <td>141971.000000</td>\n",
       "      <td>16606.000000</td>\n",
       "      <td>117931.000000</td>\n",
       "      <td>7434.000000</td>\n",
       "      <td>132.000000</td>\n",
       "      <td>7.049493e+13</td>\n",
       "      <td>1.000000</td>\n",
       "      <td>1.000000</td>\n",
       "    </tr>\n",
       "  </tbody>\n",
       "</table>\n",
       "</div>"
      ],
      "text/plain": [
       "         Population  Violent\\ncrime  Murder and\\nnonnegligent\\nmanslaughter  \\\n",
       "count  3.480000e+02      348.000000                              348.000000   \n",
       "mean   4.003763e+04      201.594828                                1.566092   \n",
       "std    4.500374e+05     2815.268504                               18.303673   \n",
       "min    5.260000e+02        0.000000                                0.000000   \n",
       "25%    3.003000e+03        2.000000                                0.000000   \n",
       "50%    7.233500e+03        6.000000                                0.000000   \n",
       "75%    1.842750e+04       22.000000                                0.000000   \n",
       "max    8.396126e+06    52384.000000                              335.000000   \n",
       "\n",
       "       Rape\\n(revised\\ndefinition)1  Rape\\n(legacy\\ndefinition)2  \\\n",
       "count                           0.0                   348.000000   \n",
       "mean                            NaN                     5.864943   \n",
       "std                             NaN                    60.425452   \n",
       "min                             NaN                     0.000000   \n",
       "25%                             NaN                     0.000000   \n",
       "50%                             NaN                     0.000000   \n",
       "75%                             NaN                     2.000000   \n",
       "max                             NaN                  1112.000000   \n",
       "\n",
       "            Robbery  Aggravated\\nassault  Property\\ncrime      Burglary  \\\n",
       "count    348.000000           348.000000       348.000000    348.000000   \n",
       "mean      72.902299           121.261494       792.606322    119.683908   \n",
       "std     1031.032873          1706.131730      7659.724746    924.948789   \n",
       "min        0.000000             0.000000         0.000000      0.000000   \n",
       "25%        0.000000             1.000000        40.500000      6.000000   \n",
       "50%        1.000000             4.000000       112.500000     17.500000   \n",
       "75%        5.000000            14.000000       341.000000     51.250000   \n",
       "max    19170.000000         31767.000000    141971.000000  16606.000000   \n",
       "\n",
       "       Larceny-\\ntheft  Motor\\nvehicle\\ntheft      Arson3       pop_sqr  \\\n",
       "count       348.000000             348.000000  187.000000  3.480000e+02   \n",
       "mean        637.017241              35.905172    1.871658  2.035547e+11   \n",
       "std        6346.054451             403.423826   10.693411  3.778876e+12   \n",
       "min           0.000000               0.000000    0.000000  2.766760e+05   \n",
       "25%          31.000000               0.000000    0.000000  9.018117e+06   \n",
       "50%          94.000000               2.000000    0.000000  5.232568e+07   \n",
       "75%         287.250000               7.000000    1.000000  3.397536e+08   \n",
       "max      117931.000000            7434.000000  132.000000  7.049493e+13   \n",
       "\n",
       "           murder  robbery_cat  \n",
       "count  351.000000   351.000000  \n",
       "mean     0.139601     0.595442  \n",
       "std      0.347067     0.491507  \n",
       "min      0.000000     0.000000  \n",
       "25%      0.000000     0.000000  \n",
       "50%      0.000000     1.000000  \n",
       "75%      0.000000     1.000000  \n",
       "max      1.000000     1.000000  "
      ]
     },
     "execution_count": 8,
     "metadata": {},
     "output_type": "execute_result"
    }
   ],
   "source": [
    "# Basic data cleaning \n",
    "nyc.describe()"
   ]
  },
  {
   "cell_type": "code",
   "execution_count": 9,
   "metadata": {},
   "outputs": [
    {
     "data": {
      "text/plain": [
       "0     NaN\n",
       "1     NaN\n",
       "2     NaN\n",
       "3     NaN\n",
       "4     NaN\n",
       "5     NaN\n",
       "6     NaN\n",
       "7     NaN\n",
       "8     NaN\n",
       "9     NaN\n",
       "10    NaN\n",
       "11    NaN\n",
       "12    NaN\n",
       "13    NaN\n",
       "14    NaN\n",
       "15    NaN\n",
       "16    NaN\n",
       "17    NaN\n",
       "18    NaN\n",
       "19    NaN\n",
       "20    NaN\n",
       "21    NaN\n",
       "22    NaN\n",
       "23    NaN\n",
       "24    NaN\n",
       "25    NaN\n",
       "26    NaN\n",
       "27    NaN\n",
       "28    NaN\n",
       "29    NaN\n",
       "       ..\n",
       "321   NaN\n",
       "322   NaN\n",
       "323   NaN\n",
       "324   NaN\n",
       "325   NaN\n",
       "326   NaN\n",
       "327   NaN\n",
       "328   NaN\n",
       "329   NaN\n",
       "330   NaN\n",
       "331   NaN\n",
       "332   NaN\n",
       "333   NaN\n",
       "334   NaN\n",
       "335   NaN\n",
       "336   NaN\n",
       "337   NaN\n",
       "338   NaN\n",
       "339   NaN\n",
       "340   NaN\n",
       "341   NaN\n",
       "342   NaN\n",
       "343   NaN\n",
       "344   NaN\n",
       "345   NaN\n",
       "346   NaN\n",
       "347   NaN\n",
       "348   NaN\n",
       "349   NaN\n",
       "350   NaN\n",
       "Name: Rape\\n(revised\\ndefinition)1, Length: 351, dtype: float64"
      ]
     },
     "execution_count": 9,
     "metadata": {},
     "output_type": "execute_result"
    }
   ],
   "source": [
    "# Deleting the rape1 column \n",
    "\n",
    "nyc.pop('Rape\\n(revised\\ndefinition)1')  #because all NaN"
   ]
  },
  {
   "cell_type": "code",
   "execution_count": 10,
   "metadata": {},
   "outputs": [
    {
     "data": {
      "text/plain": [
       "Index(['City', 'Population', 'Violent\\ncrime',\n",
       "       'Murder and\\nnonnegligent\\nmanslaughter', 'Rape\\n(legacy\\ndefinition)2',\n",
       "       'Robbery', 'Aggravated\\nassault', 'Property\\ncrime', 'Burglary',\n",
       "       'Larceny-\\ntheft', 'Motor\\nvehicle\\ntheft', 'Arson3', 'pop_sqr',\n",
       "       'murder', 'robbery_cat'],\n",
       "      dtype='object')"
      ]
     },
     "execution_count": 10,
     "metadata": {},
     "output_type": "execute_result"
    }
   ],
   "source": [
    "nyc.columns"
   ]
  },
  {
   "cell_type": "code",
   "execution_count": 11,
   "metadata": {},
   "outputs": [],
   "source": [
    "nyc = nyc.rename(index=str, columns={'City': 'city', 'Population': 'population', 'Violent\\ncrime': 'violent_crime',\n",
    "       'Murder and\\nnonnegligent\\nmanslaughter' : 'murder_slaughter',\n",
    "       'Rape\\n(legacy\\ndefinition)2': 'rape',\n",
    "       'Robbery': 'robbert_default', 'Aggravated\\nassault': 'aggr_assault', \n",
    "        'Property\\ncrime': 'property_crime', 'Burglary':'burglary',\n",
    "       'Larceny-\\ntheft': 'larceny', 'Motor\\nvehicle\\ntheft': 'motor_theft'})"
   ]
  },
  {
   "cell_type": "code",
   "execution_count": 12,
   "metadata": {},
   "outputs": [
    {
     "data": {
      "text/html": [
       "<div>\n",
       "<style scoped>\n",
       "    .dataframe tbody tr th:only-of-type {\n",
       "        vertical-align: middle;\n",
       "    }\n",
       "\n",
       "    .dataframe tbody tr th {\n",
       "        vertical-align: top;\n",
       "    }\n",
       "\n",
       "    .dataframe thead th {\n",
       "        text-align: right;\n",
       "    }\n",
       "</style>\n",
       "<table border=\"1\" class=\"dataframe\">\n",
       "  <thead>\n",
       "    <tr style=\"text-align: right;\">\n",
       "      <th></th>\n",
       "      <th>city</th>\n",
       "      <th>population</th>\n",
       "      <th>violent_crime</th>\n",
       "      <th>murder_slaughter</th>\n",
       "      <th>rape</th>\n",
       "      <th>robbert_default</th>\n",
       "      <th>aggr_assault</th>\n",
       "      <th>property_crime</th>\n",
       "      <th>burglary</th>\n",
       "      <th>larceny</th>\n",
       "      <th>motor_theft</th>\n",
       "      <th>Arson3</th>\n",
       "      <th>pop_sqr</th>\n",
       "      <th>murder</th>\n",
       "      <th>robbery_cat</th>\n",
       "    </tr>\n",
       "  </thead>\n",
       "  <tbody>\n",
       "    <tr>\n",
       "      <th>0</th>\n",
       "      <td>Adams Village</td>\n",
       "      <td>1861.0</td>\n",
       "      <td>0.0</td>\n",
       "      <td>0.0</td>\n",
       "      <td>0.0</td>\n",
       "      <td>0.0</td>\n",
       "      <td>0.0</td>\n",
       "      <td>12.0</td>\n",
       "      <td>2.0</td>\n",
       "      <td>10.0</td>\n",
       "      <td>0.0</td>\n",
       "      <td>0.0</td>\n",
       "      <td>3.463321e+06</td>\n",
       "      <td>0</td>\n",
       "      <td>0</td>\n",
       "    </tr>\n",
       "    <tr>\n",
       "      <th>1</th>\n",
       "      <td>Addison Town and Village</td>\n",
       "      <td>2577.0</td>\n",
       "      <td>3.0</td>\n",
       "      <td>0.0</td>\n",
       "      <td>0.0</td>\n",
       "      <td>0.0</td>\n",
       "      <td>3.0</td>\n",
       "      <td>24.0</td>\n",
       "      <td>3.0</td>\n",
       "      <td>20.0</td>\n",
       "      <td>1.0</td>\n",
       "      <td>0.0</td>\n",
       "      <td>6.640929e+06</td>\n",
       "      <td>0</td>\n",
       "      <td>0</td>\n",
       "    </tr>\n",
       "    <tr>\n",
       "      <th>2</th>\n",
       "      <td>Akron Village</td>\n",
       "      <td>2846.0</td>\n",
       "      <td>3.0</td>\n",
       "      <td>0.0</td>\n",
       "      <td>0.0</td>\n",
       "      <td>0.0</td>\n",
       "      <td>3.0</td>\n",
       "      <td>16.0</td>\n",
       "      <td>1.0</td>\n",
       "      <td>15.0</td>\n",
       "      <td>0.0</td>\n",
       "      <td>0.0</td>\n",
       "      <td>8.099716e+06</td>\n",
       "      <td>0</td>\n",
       "      <td>0</td>\n",
       "    </tr>\n",
       "    <tr>\n",
       "      <th>3</th>\n",
       "      <td>Albany</td>\n",
       "      <td>97956.0</td>\n",
       "      <td>791.0</td>\n",
       "      <td>8.0</td>\n",
       "      <td>30.0</td>\n",
       "      <td>227.0</td>\n",
       "      <td>526.0</td>\n",
       "      <td>4090.0</td>\n",
       "      <td>705.0</td>\n",
       "      <td>3243.0</td>\n",
       "      <td>142.0</td>\n",
       "      <td>NaN</td>\n",
       "      <td>9.595378e+09</td>\n",
       "      <td>1</td>\n",
       "      <td>1</td>\n",
       "    </tr>\n",
       "    <tr>\n",
       "      <th>4</th>\n",
       "      <td>Albion Village</td>\n",
       "      <td>6388.0</td>\n",
       "      <td>23.0</td>\n",
       "      <td>0.0</td>\n",
       "      <td>3.0</td>\n",
       "      <td>4.0</td>\n",
       "      <td>16.0</td>\n",
       "      <td>223.0</td>\n",
       "      <td>53.0</td>\n",
       "      <td>165.0</td>\n",
       "      <td>5.0</td>\n",
       "      <td>NaN</td>\n",
       "      <td>4.080654e+07</td>\n",
       "      <td>0</td>\n",
       "      <td>1</td>\n",
       "    </tr>\n",
       "  </tbody>\n",
       "</table>\n",
       "</div>"
      ],
      "text/plain": [
       "                       city  population  violent_crime  murder_slaughter  \\\n",
       "0             Adams Village      1861.0            0.0               0.0   \n",
       "1  Addison Town and Village      2577.0            3.0               0.0   \n",
       "2             Akron Village      2846.0            3.0               0.0   \n",
       "3                    Albany     97956.0          791.0               8.0   \n",
       "4            Albion Village      6388.0           23.0               0.0   \n",
       "\n",
       "   rape  robbert_default  aggr_assault  property_crime  burglary  larceny  \\\n",
       "0   0.0              0.0           0.0            12.0       2.0     10.0   \n",
       "1   0.0              0.0           3.0            24.0       3.0     20.0   \n",
       "2   0.0              0.0           3.0            16.0       1.0     15.0   \n",
       "3  30.0            227.0         526.0          4090.0     705.0   3243.0   \n",
       "4   3.0              4.0          16.0           223.0      53.0    165.0   \n",
       "\n",
       "   motor_theft  Arson3       pop_sqr  murder  robbery_cat  \n",
       "0          0.0     0.0  3.463321e+06       0            0  \n",
       "1          1.0     0.0  6.640929e+06       0            0  \n",
       "2          0.0     0.0  8.099716e+06       0            0  \n",
       "3        142.0     NaN  9.595378e+09       1            1  \n",
       "4          5.0     NaN  4.080654e+07       0            1  "
      ]
     },
     "execution_count": 12,
     "metadata": {},
     "output_type": "execute_result"
    }
   ],
   "source": [
    "nyc.head()"
   ]
  },
  {
   "cell_type": "code",
   "execution_count": 13,
   "metadata": {},
   "outputs": [
    {
     "data": {
      "text/plain": [
       "city                  0\n",
       "population            3\n",
       "violent_crime         3\n",
       "murder_slaughter      3\n",
       "rape                  3\n",
       "robbert_default       3\n",
       "aggr_assault          3\n",
       "property_crime        3\n",
       "burglary              3\n",
       "larceny               3\n",
       "motor_theft           3\n",
       "Arson3              164\n",
       "pop_sqr               3\n",
       "murder                0\n",
       "robbery_cat           0\n",
       "dtype: int64"
      ]
     },
     "execution_count": 13,
     "metadata": {},
     "output_type": "execute_result"
    }
   ],
   "source": [
    "nyc.isnull().sum()"
   ]
  },
  {
   "cell_type": "code",
   "execution_count": 14,
   "metadata": {},
   "outputs": [
    {
     "data": {
      "text/html": [
       "<div>\n",
       "<style scoped>\n",
       "    .dataframe tbody tr th:only-of-type {\n",
       "        vertical-align: middle;\n",
       "    }\n",
       "\n",
       "    .dataframe tbody tr th {\n",
       "        vertical-align: top;\n",
       "    }\n",
       "\n",
       "    .dataframe thead th {\n",
       "        text-align: right;\n",
       "    }\n",
       "</style>\n",
       "<table border=\"1\" class=\"dataframe\">\n",
       "  <thead>\n",
       "    <tr style=\"text-align: right;\">\n",
       "      <th></th>\n",
       "      <th>city</th>\n",
       "      <th>population</th>\n",
       "      <th>violent_crime</th>\n",
       "      <th>murder_slaughter</th>\n",
       "      <th>rape</th>\n",
       "      <th>robbert_default</th>\n",
       "      <th>aggr_assault</th>\n",
       "      <th>property_crime</th>\n",
       "      <th>burglary</th>\n",
       "      <th>larceny</th>\n",
       "      <th>motor_theft</th>\n",
       "      <th>Arson3</th>\n",
       "      <th>pop_sqr</th>\n",
       "      <th>murder</th>\n",
       "      <th>robbery_cat</th>\n",
       "    </tr>\n",
       "  </thead>\n",
       "  <tbody>\n",
       "    <tr>\n",
       "      <th>348</th>\n",
       "      <td>1 The figures shown in this column for the off...</td>\n",
       "      <td>NaN</td>\n",
       "      <td>NaN</td>\n",
       "      <td>NaN</td>\n",
       "      <td>NaN</td>\n",
       "      <td>NaN</td>\n",
       "      <td>NaN</td>\n",
       "      <td>NaN</td>\n",
       "      <td>NaN</td>\n",
       "      <td>NaN</td>\n",
       "      <td>NaN</td>\n",
       "      <td>NaN</td>\n",
       "      <td>NaN</td>\n",
       "      <td>0</td>\n",
       "      <td>0</td>\n",
       "    </tr>\n",
       "    <tr>\n",
       "      <th>349</th>\n",
       "      <td>2 The figures shown in this column for the off...</td>\n",
       "      <td>NaN</td>\n",
       "      <td>NaN</td>\n",
       "      <td>NaN</td>\n",
       "      <td>NaN</td>\n",
       "      <td>NaN</td>\n",
       "      <td>NaN</td>\n",
       "      <td>NaN</td>\n",
       "      <td>NaN</td>\n",
       "      <td>NaN</td>\n",
       "      <td>NaN</td>\n",
       "      <td>NaN</td>\n",
       "      <td>NaN</td>\n",
       "      <td>0</td>\n",
       "      <td>0</td>\n",
       "    </tr>\n",
       "    <tr>\n",
       "      <th>350</th>\n",
       "      <td>3 The FBI does not publish arson data unless i...</td>\n",
       "      <td>NaN</td>\n",
       "      <td>NaN</td>\n",
       "      <td>NaN</td>\n",
       "      <td>NaN</td>\n",
       "      <td>NaN</td>\n",
       "      <td>NaN</td>\n",
       "      <td>NaN</td>\n",
       "      <td>NaN</td>\n",
       "      <td>NaN</td>\n",
       "      <td>NaN</td>\n",
       "      <td>NaN</td>\n",
       "      <td>NaN</td>\n",
       "      <td>0</td>\n",
       "      <td>0</td>\n",
       "    </tr>\n",
       "  </tbody>\n",
       "</table>\n",
       "</div>"
      ],
      "text/plain": [
       "                                                  city  population  \\\n",
       "348  1 The figures shown in this column for the off...         NaN   \n",
       "349  2 The figures shown in this column for the off...         NaN   \n",
       "350  3 The FBI does not publish arson data unless i...         NaN   \n",
       "\n",
       "     violent_crime  murder_slaughter  rape  robbert_default  aggr_assault  \\\n",
       "348            NaN               NaN   NaN              NaN           NaN   \n",
       "349            NaN               NaN   NaN              NaN           NaN   \n",
       "350            NaN               NaN   NaN              NaN           NaN   \n",
       "\n",
       "     property_crime  burglary  larceny  motor_theft  Arson3  pop_sqr  murder  \\\n",
       "348             NaN       NaN      NaN          NaN     NaN      NaN       0   \n",
       "349             NaN       NaN      NaN          NaN     NaN      NaN       0   \n",
       "350             NaN       NaN      NaN          NaN     NaN      NaN       0   \n",
       "\n",
       "     robbery_cat  \n",
       "348            0  \n",
       "349            0  \n",
       "350            0  "
      ]
     },
     "execution_count": 14,
     "metadata": {},
     "output_type": "execute_result"
    }
   ],
   "source": [
    "nyc[nyc.city.str.contains('The')]\n",
    "# index 348-350 . # the last three rows"
   ]
  },
  {
   "cell_type": "code",
   "execution_count": 15,
   "metadata": {},
   "outputs": [],
   "source": [
    "nyc = nyc[:-3]"
   ]
  },
  {
   "cell_type": "code",
   "execution_count": 16,
   "metadata": {
    "scrolled": false
   },
   "outputs": [
    {
     "name": "stdout",
     "output_type": "stream",
     "text": [
      "city                  0\n",
      "population            0\n",
      "violent_crime         0\n",
      "murder_slaughter      0\n",
      "rape                  0\n",
      "robbert_default       0\n",
      "aggr_assault          0\n",
      "property_crime        0\n",
      "burglary              0\n",
      "larceny               0\n",
      "motor_theft           0\n",
      "Arson3              161\n",
      "pop_sqr               0\n",
      "murder                0\n",
      "robbery_cat           0\n",
      "dtype: int64\n"
     ]
    }
   ],
   "source": [
    "print(nyc.isnull().sum())  #nyc.isna().sum()\n"
   ]
  },
  {
   "cell_type": "code",
   "execution_count": 17,
   "metadata": {
    "scrolled": false
   },
   "outputs": [
    {
     "data": {
      "text/plain": [
       "(0, 500)"
      ]
     },
     "execution_count": 17,
     "metadata": {},
     "output_type": "execute_result"
    },
    {
     "data": {
      "image/png": "[encoded data removed]",
      "text/plain": [
       "<Figure size 1440x1296 with 1 Axes>"
      ]
     },
     "metadata": {},
     "output_type": "display_data"
    }
   ],
   "source": [
    "plt.figure(figsize=(20, 18))\n",
    "sns.boxplot(data=nyc[['violent_crime', 'murder_slaughter', 'rape',\n",
    "       'robbert_default', 'aggr_assault', 'burglary',\n",
    "        'motor_theft', 'Arson3']], palette=\"Set2\" )\n",
    "#plt.ylim(0,5000)  #default shows few (6 in number) outliers after 5000\n",
    "#plt.ylim(0,1000)  #default shows few outliers after 1000\n",
    "plt.ylim(0,500)  #almost all values of these variables are concentrated under 500\n",
    "\n",
    "# Among the variables 'burglary' is the most common "
   ]
  },
  {
   "cell_type": "code",
   "execution_count": 18,
   "metadata": {},
   "outputs": [],
   "source": [
    "# creating features - city to boroughs -- didn't find appropriate documentation - http://www.nysl.nysed.gov/genealogy/townlist.htm\n",
    "#this doesn't have all names. "
   ]
  },
  {
   "cell_type": "code",
   "execution_count": 19,
   "metadata": {},
   "outputs": [
    {
     "data": {
      "text/plain": [
       "False    348\n",
       "Name: city, dtype: int64"
      ]
     },
     "execution_count": 19,
     "metadata": {},
     "output_type": "execute_result"
    }
   ],
   "source": [
    "nyc.city.duplicated().value_counts()  # no duplicated city names\n"
   ]
  },
  {
   "cell_type": "code",
   "execution_count": 20,
   "metadata": {},
   "outputs": [
    {
     "data": {
      "text/html": [
       "<div>\n",
       "<style scoped>\n",
       "    .dataframe tbody tr th:only-of-type {\n",
       "        vertical-align: middle;\n",
       "    }\n",
       "\n",
       "    .dataframe tbody tr th {\n",
       "        vertical-align: top;\n",
       "    }\n",
       "\n",
       "    .dataframe thead th {\n",
       "        text-align: right;\n",
       "    }\n",
       "</style>\n",
       "<table border=\"1\" class=\"dataframe\">\n",
       "  <thead>\n",
       "    <tr style=\"text-align: right;\">\n",
       "      <th></th>\n",
       "      <th>city</th>\n",
       "      <th>population</th>\n",
       "      <th>violent_crime</th>\n",
       "      <th>murder_slaughter</th>\n",
       "      <th>rape</th>\n",
       "      <th>robbert_default</th>\n",
       "      <th>aggr_assault</th>\n",
       "      <th>property_crime</th>\n",
       "      <th>burglary</th>\n",
       "      <th>larceny</th>\n",
       "      <th>motor_theft</th>\n",
       "      <th>Arson3</th>\n",
       "      <th>pop_sqr</th>\n",
       "      <th>murder</th>\n",
       "      <th>robbery_cat</th>\n",
       "    </tr>\n",
       "  </thead>\n",
       "  <tbody>\n",
       "    <tr>\n",
       "      <th>216</th>\n",
       "      <td>New York</td>\n",
       "      <td>8396126.0</td>\n",
       "      <td>52384.0</td>\n",
       "      <td>335.0</td>\n",
       "      <td>1112.0</td>\n",
       "      <td>19170.0</td>\n",
       "      <td>31767.0</td>\n",
       "      <td>141971.0</td>\n",
       "      <td>16606.0</td>\n",
       "      <td>117931.0</td>\n",
       "      <td>7434.0</td>\n",
       "      <td>NaN</td>\n",
       "      <td>7.049493e+13</td>\n",
       "      <td>1</td>\n",
       "      <td>1</td>\n",
       "    </tr>\n",
       "  </tbody>\n",
       "</table>\n",
       "</div>"
      ],
      "text/plain": [
       "         city  population  violent_crime  murder_slaughter    rape  \\\n",
       "216  New York   8396126.0        52384.0             335.0  1112.0   \n",
       "\n",
       "     robbert_default  aggr_assault  property_crime  burglary   larceny  \\\n",
       "216          19170.0       31767.0        141971.0   16606.0  117931.0   \n",
       "\n",
       "     motor_theft  Arson3       pop_sqr  murder  robbery_cat  \n",
       "216       7434.0     NaN  7.049493e+13       1            1  "
      ]
     },
     "execution_count": 20,
     "metadata": {},
     "output_type": "execute_result"
    }
   ],
   "source": [
    "nyc.iloc[np.where(nyc.pop_sqr == nyc.pop_sqr.max())]  # looks like NYC is the source for all outliers"
   ]
  },
  {
   "cell_type": "code",
   "execution_count": 21,
   "metadata": {},
   "outputs": [
    {
     "data": {
      "text/plain": [
       "8396126.0"
      ]
     },
     "execution_count": 21,
     "metadata": {},
     "output_type": "execute_result"
    }
   ],
   "source": [
    "nyc.population.max()"
   ]
  },
  {
   "cell_type": "code",
   "execution_count": 22,
   "metadata": {},
   "outputs": [
    {
     "data": {
      "text/plain": [
       "<seaborn.axisgrid.FacetGrid at 0x1124d7780>"
      ]
     },
     "execution_count": 22,
     "metadata": {},
     "output_type": "execute_result"
    },
    {
     "data": {
      "image/png": "[encoded data removed]",
      "text/plain": [
       "<Figure size 360x360 with 1 Axes>"
      ]
     },
     "metadata": {},
     "output_type": "display_data"
    }
   ],
   "source": [
    "sns.relplot(x='pop_sqr', y='population', data=nyc, kind='scatter')"
   ]
  },
  {
   "cell_type": "code",
   "execution_count": 23,
   "metadata": {},
   "outputs": [
    {
     "data": {
      "text/plain": [
       "<matplotlib.axes._subplots.AxesSubplot at 0x1129c2940>"
      ]
     },
     "execution_count": 23,
     "metadata": {},
     "output_type": "execute_result"
    },
    {
     "data": {
      "image/png": "[encoded data removed]",
      "text/plain": [
       "<Figure size 432x288 with 1 Axes>"
      ]
     },
     "metadata": {},
     "output_type": "display_data"
    }
   ],
   "source": [
    "sns.distplot(nyc.rape)"
   ]
  },
  {
   "cell_type": "code",
   "execution_count": 24,
   "metadata": {},
   "outputs": [],
   "source": [
    "sns.factorplot?"
   ]
  },
  {
   "cell_type": "code",
   "execution_count": null,
   "metadata": {},
   "outputs": [],
   "source": []
  },
  {
   "cell_type": "code",
   "execution_count": null,
   "metadata": {},
   "outputs": [],
   "source": []
  },
  {
   "cell_type": "code",
   "execution_count": null,
   "metadata": {},
   "outputs": [],
   "source": []
  },
  {
   "cell_type": "code",
   "execution_count": 25,
   "metadata": {},
   "outputs": [],
   "source": [
    "import math\n",
    "import warnings\n",
    "\n",
    "from IPython.display import display\n",
    "from matplotlib import pyplot as plt\n",
    "import numpy as np\n",
    "import pandas as pd\n",
    "import seaborn as sns\n",
    "from sklearn import linear_model\n",
    "#import statsmodels.formula.api as smf\n",
    "\n",
    "# Display preferences.\n",
    "%matplotlib inline\n",
    "pd.options.display.float_format = '{:.3f}'.format\n",
    "\n",
    "# Suppress annoying harmless error.\n",
    "warnings.filterwarnings(\n",
    "    action=\"ignore\",\n",
    "    module=\"scipy\",\n",
    "    message=\"^internal gelsd\"\n",
    ")"
   ]
  },
  {
   "cell_type": "code",
   "execution_count": null,
   "metadata": {},
   "outputs": [],
   "source": []
  },
  {
   "cell_type": "code",
   "execution_count": 26,
   "metadata": {},
   "outputs": [
    {
     "data": {
      "text/plain": [
       "pop_sqr        0\n",
       "murder         0\n",
       "robbery_cat    0\n",
       "dtype: int64"
      ]
     },
     "execution_count": 26,
     "metadata": {},
     "output_type": "execute_result"
    }
   ],
   "source": [
    "nyc[['pop_sqr','murder','robbery_cat']].isnull().sum() "
   ]
  },
  {
   "cell_type": "code",
   "execution_count": 27,
   "metadata": {},
   "outputs": [],
   "source": [
    "nyc.loc[np.isnan(nyc['pop_sqr']), 'pop_sqr'] = 0\n"
   ]
  },
  {
   "cell_type": "code",
   "execution_count": 29,
   "metadata": {},
   "outputs": [
    {
     "name": "stdout",
     "output_type": "stream",
     "text": [
      "\n",
      "Coeffiicients: \n",
      " [[1.14357771e+04 1.18407197e-07 3.37268835e+04]]\n",
      "\n",
      "Intercept: \n",
      " [4318.35775066]\n",
      "\n",
      "R-squared:\n",
      "0.9975549862941725\n"
     ]
    }
   ],
   "source": [
    "# Instantiate and fit our model.\n",
    "regr = linear_model.LinearRegression()\n",
    "Y = nyc.population.values.reshape(-1,1)\n",
    "X = nyc[['robbery_cat', 'pop_sqr', 'murder']]\n",
    "regr.fit(X, Y)\n",
    "\n",
    "print('\\nCoeffiicients: \\n', regr.coef_)\n",
    "print('\\nIntercept: \\n', regr.intercept_)\n",
    "print('\\nR-squared:')\n",
    "print(regr.score(X,Y))\n"
   ]
  },
  {
   "cell_type": "code",
   "execution_count": 30,
   "metadata": {},
   "outputs": [
    {
     "name": "stdout",
     "output_type": "stream",
     "text": [
      "\n",
      "Coeffiicients: \n",
      " [[3.00052598e+02 1.99256120e-09 1.18406016e+03]]\n",
      "\n",
      "Intercept: \n",
      " [40.08610471]\n",
      "\n",
      "R-squared:\n",
      "0.9859871204030131\n"
     ]
    }
   ],
   "source": [
    "regr = linear_model.LinearRegression()\n",
    "Y = nyc.property_crime.values.reshape(-1,1)\n",
    "X = nyc[['robbery_cat', 'pop_sqr', 'murder']]\n",
    "regr.fit(X, Y)\n",
    "\n",
    "print('\\nCoeffiicients: \\n', regr.coef_)\n",
    "print('\\nIntercept: \\n', regr.intercept_)\n",
    "print('\\nR-squared:')\n",
    "print(regr.score(X,Y))  # the R^2 is .98. This is probably overfitting. \n"
   ]
  },
  {
   "cell_type": "code",
   "execution_count": 49,
   "metadata": {},
   "outputs": [],
   "source": [
    "# Data cleaning - population has a large outlier (NY city) and hence pop_sqr also has a large value. \n",
    "\n",
    "# Winsorizing the outliers. Outliers in the both ends are substituted with a quantile value given by the function \n",
    "# The (limits[0])th lowest values are set to the (limits[0])th percentile, and the (limits[1])th highest values are set to the (limits[1])th percentile. \n",
    "from scipy import stats\n",
    "\n",
    "nyc.population = stats.mstats.winsorize(nyc.population, limits=[0, 0.02])"
   ]
  },
  {
   "cell_type": "code",
   "execution_count": 35,
   "metadata": {},
   "outputs": [],
   "source": [
    "stats.mstats.winsorize?"
   ]
  },
  {
   "cell_type": "code",
   "execution_count": 51,
   "metadata": {},
   "outputs": [
    {
     "name": "stdout",
     "output_type": "stream",
     "text": [
      "14925.548850574713\n",
      "97956.0\n"
     ]
    },
    {
     "data": {
      "text/plain": [
       "97956.0"
      ]
     },
     "execution_count": 51,
     "metadata": {},
     "output_type": "execute_result"
    }
   ],
   "source": [
    "print(nyc.population.mean())   # 40037\n",
    "print(nyc.population.max())   #8396126\n",
    "nyc.population.quantile(.99)"
   ]
  },
  {
   "cell_type": "code",
   "execution_count": 52,
   "metadata": {},
   "outputs": [
    {
     "data": {
      "text/plain": [
       "count     348.000\n",
       "mean    14925.549\n",
       "std     19832.855\n",
       "min       526.000\n",
       "25%      3003.000\n",
       "50%      7233.500\n",
       "75%     18427.500\n",
       "max     97956.000\n",
       "Name: population, dtype: float64"
      ]
     },
     "execution_count": 52,
     "metadata": {},
     "output_type": "execute_result"
    }
   ],
   "source": [
    "nyc.population.describe()"
   ]
  },
  {
   "cell_type": "code",
   "execution_count": 53,
   "metadata": {},
   "outputs": [
    {
     "data": {
      "text/plain": [
       "96744.34"
      ]
     },
     "execution_count": 53,
     "metadata": {},
     "output_type": "execute_result"
    }
   ],
   "source": [
    "nyc.population.quantile(.98)"
   ]
  },
  {
   "cell_type": "code",
   "execution_count": 54,
   "metadata": {
    "scrolled": true
   },
   "outputs": [
    {
     "data": {
      "text/plain": [
       "<matplotlib.axes._subplots.AxesSubplot at 0x113633f28>"
      ]
     },
     "execution_count": 54,
     "metadata": {},
     "output_type": "execute_result"
    },
    {
     "data": {
      "image/png": "[encoded data removed]",
      "text/plain": [
       "<Figure size 432x288 with 1 Axes>"
      ]
     },
     "metadata": {},
     "output_type": "display_data"
    }
   ],
   "source": [
    "\n",
    "sns.boxplot(nyc.population)\n"
   ]
  },
  {
   "cell_type": "code",
   "execution_count": 55,
   "metadata": {},
   "outputs": [
    {
     "name": "stdout",
     "output_type": "stream",
     "text": [
      "\n",
      "Coeffiicients: \n",
      " [[1.13746078e+04 8.11940666e-10 2.51694022e+04]]\n",
      "\n",
      "Intercept: \n",
      " [4385.00517745]\n",
      "\n",
      "R-squared:\n",
      "0.3984082412702068\n"
     ]
    }
   ],
   "source": [
    "# Version 2 of regression \n",
    "\n",
    "# Instantiate and fit our model.\n",
    "regr = linear_model.LinearRegression()\n",
    "Y = nyc.population.values.reshape(-1,1)\n",
    "X = nyc[['robbery_cat', 'pop_sqr', 'murder']]\n",
    "regr.fit(X, Y)\n",
    "\n",
    "print('\\nCoeffiicients: \\n', regr.coef_)\n",
    "print('\\nIntercept: \\n', regr.intercept_)\n",
    "print('\\nR-squared:')\n",
    "print(regr.score(X,Y))\n"
   ]
  },
  {
   "cell_type": "code",
   "execution_count": 64,
   "metadata": {},
   "outputs": [],
   "source": [
    "# Although the r-squared is not ideal but it's probably more realistic. However, \n",
    "# since the population changed, we should also incorporate the same change in pop_sqr\n",
    "# However, other variables also have a lot of outliers. Let's winsorize everything. \n"
   ]
  },
  {
   "cell_type": "code",
   "execution_count": 66,
   "metadata": {},
   "outputs": [],
   "source": [
    "# Winsorize the X variables to deal with outliers \n",
    "#nyc.pop_sqr.describe()\n",
    "#nyc.pop_sqr.quantile(.97)\n",
    "\n",
    "nyc.pop_sqr = stats.mstats.winsorize(nyc.pop_sqr, limits=[0,0.02])\n"
   ]
  },
  {
   "cell_type": "code",
   "execution_count": 67,
   "metadata": {},
   "outputs": [
    {
     "data": {
      "text/plain": [
       "6181152591.609999"
      ]
     },
     "execution_count": 67,
     "metadata": {},
     "output_type": "execute_result"
    }
   ],
   "source": [
    "nyc.pop_sqr.describe()\n",
    "nyc.pop_sqr.quantile(.97)"
   ]
  },
  {
   "cell_type": "code",
   "execution_count": 68,
   "metadata": {},
   "outputs": [
    {
     "name": "stdout",
     "output_type": "stream",
     "text": [
      "\n",
      "Coeffiicients: \n",
      " [[6.63761587e+03 9.89319528e-06 5.36266240e+03]]\n",
      "\n",
      "Intercept: \n",
      " [4099.92180132]\n",
      "\n",
      "R-squared:\n",
      "0.9118084489583235\n"
     ]
    }
   ],
   "source": [
    "regr = linear_model.LinearRegression()\n",
    "Y = nyc.population.values.reshape(-1,1)\n",
    "X = nyc[['robbery_cat', 'pop_sqr', 'murder']]\n",
    "regr.fit(X, Y)\n",
    "\n",
    "print('\\nCoeffiicients: \\n', regr.coef_)\n",
    "print('\\nIntercept: \\n', regr.intercept_)\n",
    "print('\\nR-squared:')\n",
    "print(regr.score(X,Y))"
   ]
  },
  {
   "cell_type": "code",
   "execution_count": null,
   "metadata": {},
   "outputs": [],
   "source": [
    "# Now the r-squared is .91. "
   ]
  },
  {
   "cell_type": "code",
   "execution_count": null,
   "metadata": {},
   "outputs": [],
   "source": [
    "# Checking the linear relationship in the variables of interest  "
   ]
  },
  {
   "cell_type": "code",
   "execution_count": 96,
   "metadata": {},
   "outputs": [
    {
     "data": {
      "text/plain": [
       "Text(0.5,1,'Robbery')"
      ]
     },
     "execution_count": 96,
     "metadata": {},
     "output_type": "execute_result"
    },
    {
     "data": {
      "image/png": "[encoded data removed]",
      "text/plain": [
       "<Figure size 1152x288 with 3 Axes>"
      ]
     },
     "metadata": {},
     "output_type": "display_data"
    }
   ],
   "source": [
    "plt.figure(figsize=(16,4))\n",
    "\n",
    "#Population - population square\n",
    "plt.subplot(1, 3, 1)\n",
    "sns.scatterplot(nyc.population, nyc.pop_sqr)\n",
    "plt.title('Population squared')\n",
    "\n",
    "# #Population - murder\n",
    "plt.subplot(1, 3, 2)\n",
    "sns.scatterplot(nyc.population, nyc.murder)\n",
    "plt.title('Murder')\n",
    "\n",
    "# #Population - robbery\n",
    "plt.subplot(1, 3, 3)\n",
    "sns.scatterplot(nyc.population, nyc.robbery_cat)\n",
    "plt.title('Robbery')\n",
    "\n",
    "\n",
    "# NONE of the relationships are linear \n",
    "# For the first pop-pop_squared we can do a square_root \n",
    "\n",
    "#follow the following reference \n",
    "\n",
    "    "
   ]
  },
  {
   "cell_type": "markdown",
   "metadata": {},
   "source": [
    "[independent variable transformation](https://statswithcats.wordpress.com/2010/11/21/fifty-ways-to-fix-your-data)"
   ]
  },
  {
   "cell_type": "code",
   "execution_count": 101,
   "metadata": {},
   "outputs": [
    {
     "data": {
      "image/png": "[encoded data removed]",
      "text/plain": [
       "<Figure size 432x288 with 1 Axes>"
      ]
     },
     "metadata": {},
     "output_type": "display_data"
    }
   ],
   "source": [
    "# check residual \n",
    "\n",
    "predicted = regr.predict(X).ravel()\n",
    "actual = nyc.population\n",
    "\n",
    "residual = actual - predicted\n",
    "\n",
    "sns.distplot(residual)\n",
    "plt.title('Residual counts')\n",
    "plt.xlabel('Residual')\n",
    "plt.ylabel('Count')\n",
    "plt.show()\n",
    "\n",
    "# residual is normally distributed. not good - the model is following the errors too closely. \n",
    "3"
   ]
  },
  {
   "cell_type": "code",
   "execution_count": 104,
   "metadata": {},
   "outputs": [
    {
     "data": {
      "text/plain": [
       "<matplotlib.axes._subplots.AxesSubplot at 0x115d445c0>"
      ]
     },
     "execution_count": 104,
     "metadata": {},
     "output_type": "execute_result"
    },
    {
     "data": {
      "image/png": "[encoded data removed]",
      "text/plain": [
       "<Figure size 720x576 with 2 Axes>"
      ]
     },
     "metadata": {},
     "output_type": "display_data"
    }
   ],
   "source": [
    "# Check multicollinearity \n",
    "plt.figure(figsize=(10,8))\n",
    "sns.heatmap(nyc.corr(), cmap='BuPu', square=True)\n"
   ]
  },
  {
   "cell_type": "code",
   "execution_count": null,
   "metadata": {},
   "outputs": [],
   "source": [
    "# There are several highly correlated variables! \n",
    "# Need to create different features"
   ]
  },
  {
   "cell_type": "code",
   "execution_count": 110,
   "metadata": {},
   "outputs": [
    {
     "name": "stdout",
     "output_type": "stream",
     "text": [
      "[0.93184841 0.9352024  0.55260165 0.89086184 0.83290251 0.85809235\n",
      " 0.90576308 0.93823479 0.90624635 0.91364561]\n",
      "Mean CV score:  0.8665398985677962\n"
     ]
    }
   ],
   "source": [
    "# use crossvalidation \n",
    "\n",
    "from sklearn.model_selection import cross_val_score\n",
    "\n",
    "regr = linear_model.LinearRegression()\n",
    "\n",
    "print(cross_val_score(regr, X, Y, cv=10))\n",
    "\n",
    "print(\"Mean CV score: \", (cross_val_score(regr, X, Y, cv=10)).mean())"
   ]
  },
  {
   "cell_type": "code",
   "execution_count": 107,
   "metadata": {},
   "outputs": [
    {
     "data": {
      "text/plain": [
       "city                  0\n",
       "population            0\n",
       "violent_crime         0\n",
       "murder_slaughter      0\n",
       "rape                  0\n",
       "robbert_default       0\n",
       "aggr_assault          0\n",
       "property_crime        0\n",
       "burglary              0\n",
       "larceny               0\n",
       "motor_theft           0\n",
       "Arson3              161\n",
       "pop_sqr               0\n",
       "murder                0\n",
       "robbery_cat           0\n",
       "dtype: int64"
      ]
     },
     "execution_count": 107,
     "metadata": {},
     "output_type": "execute_result"
    }
   ],
   "source": [
    "nyc.isna().sum()"
   ]
  },
  {
   "cell_type": "code",
   "execution_count": 118,
   "metadata": {},
   "outputs": [
    {
     "data": {
      "image/png": "[encoded data removed]",
      "text/plain": [
       "<Figure size 720x288 with 2 Axes>"
      ]
     },
     "metadata": {},
     "output_type": "display_data"
    }
   ],
   "source": [
    "# Now try residual \n",
    "\n",
    "from sklearn.model_selection import cross_val_predict\n",
    "predicted_1 = cross_val_predict(regr, X, Y).ravel()\n",
    "actual_1 = nyc.population\n",
    "\n",
    "residual_1 = actual_1 - predicted_1\n",
    "\n",
    "plt.figure(figsize=(10,4))\n",
    "\n",
    "plt.subplot(1,2,1)\n",
    "sns.distplot(residual)\n",
    "plt.title(\"Residual before cross-validation\")\n",
    "\n",
    "plt.subplot(1,2,2)\n",
    "sns.distplot(residual_1)\n",
    "plt.title(\"Residual after cross-validation\")\n",
    "plt.show()"
   ]
  },
  {
   "cell_type": "code",
   "execution_count": null,
   "metadata": {},
   "outputs": [],
   "source": []
  }
 ],
 "metadata": {
  "kernelspec": {
   "display_name": "Python 3",
   "language": "python",
   "name": "python3"
  },
  "language_info": {
   "codemirror_mode": {
    "name": "ipython",
    "version": 3
   },
   "file_extension": ".py",
   "mimetype": "text/x-python",
   "name": "python",
   "nbconvert_exporter": "python",
   "pygments_lexer": "ipython3",
   "version": "3.6.5"
  }
 },
 "nbformat": 4,
 "nbformat_minor": 2
}
