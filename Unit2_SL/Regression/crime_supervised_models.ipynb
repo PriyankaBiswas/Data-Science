{
 "cells": [
  {
   "cell_type": "code",
   "execution_count": 1,
   "metadata": {},
   "outputs": [],
   "source": [
    "import numpy as np\n",
    "import pandas as pd\n",
    "%matplotlib inline\n",
    "import matplotlib.pyplot as plt\n",
    "import seaborn as sns\n",
    "\n",
    "import math\n",
    "import warnings\n",
    "\n",
    "from IPython.display import display\n",
    "from matplotlib import pyplot as plt\n",
    "import numpy as np\n",
    "import pandas as pd\n",
    "import seaborn as sns\n",
    "from sklearn import linear_model\n",
    "import statsmodels.formula.api as smf\n",
    "\n",
    "# Display preferences.\n",
    "%matplotlib inline\n",
    "pd.options.display.float_format = '{:.3f}'.format\n",
    "\n",
    "# Suppress annoying harmless error.\n",
    "warnings.filterwarnings(\n",
    "    action=\"ignore\",\n",
    "    module=\"scipy\",\n",
    "    message=\"^internal gelsd\"\n",
    ")"
   ]
  },
  {
   "cell_type": "code",
   "execution_count": 3,
   "metadata": {},
   "outputs": [],
   "source": [
    "nyc = pd.read_excel(\"nyc_crime_data.xls\", header=0)  #manually removed the first 4 rows in the excel file containing metadata"
   ]
  },
  {
   "cell_type": "code",
   "execution_count": 4,
   "metadata": {},
   "outputs": [
    {
     "data": {
      "text/html": [
       "<div>\n",
       "<style scoped>\n",
       "    .dataframe tbody tr th:only-of-type {\n",
       "        vertical-align: middle;\n",
       "    }\n",
       "\n",
       "    .dataframe tbody tr th {\n",
       "        vertical-align: top;\n",
       "    }\n",
       "\n",
       "    .dataframe thead th {\n",
       "        text-align: right;\n",
       "    }\n",
       "</style>\n",
       "<table border=\"1\" class=\"dataframe\">\n",
       "  <thead>\n",
       "    <tr style=\"text-align: right;\">\n",
       "      <th></th>\n",
       "      <th>City</th>\n",
       "      <th>Population</th>\n",
       "      <th>Violent\n",
       "crime</th>\n",
       "      <th>Murder and\n",
       "nonnegligent\n",
       "manslaughter</th>\n",
       "      <th>Rape\n",
       "(revised\n",
       "definition)1</th>\n",
       "      <th>Rape\n",
       "(legacy\n",
       "definition)2</th>\n",
       "      <th>Robbery</th>\n",
       "      <th>Aggravated\n",
       "assault</th>\n",
       "      <th>Property\n",
       "crime</th>\n",
       "      <th>Burglary</th>\n",
       "      <th>Larceny-\n",
       "theft</th>\n",
       "      <th>Motor\n",
       "vehicle\n",
       "theft</th>\n",
       "      <th>Arson3</th>\n",
       "    </tr>\n",
       "  </thead>\n",
       "  <tbody>\n",
       "    <tr>\n",
       "      <th>0</th>\n",
       "      <td>Adams Village</td>\n",
       "      <td>1861.000</td>\n",
       "      <td>0.000</td>\n",
       "      <td>0.000</td>\n",
       "      <td>nan</td>\n",
       "      <td>0.000</td>\n",
       "      <td>0.000</td>\n",
       "      <td>0.000</td>\n",
       "      <td>12.000</td>\n",
       "      <td>2.000</td>\n",
       "      <td>10.000</td>\n",
       "      <td>0.000</td>\n",
       "      <td>0.000</td>\n",
       "    </tr>\n",
       "    <tr>\n",
       "      <th>1</th>\n",
       "      <td>Addison Town and Village</td>\n",
       "      <td>2577.000</td>\n",
       "      <td>3.000</td>\n",
       "      <td>0.000</td>\n",
       "      <td>nan</td>\n",
       "      <td>0.000</td>\n",
       "      <td>0.000</td>\n",
       "      <td>3.000</td>\n",
       "      <td>24.000</td>\n",
       "      <td>3.000</td>\n",
       "      <td>20.000</td>\n",
       "      <td>1.000</td>\n",
       "      <td>0.000</td>\n",
       "    </tr>\n",
       "    <tr>\n",
       "      <th>2</th>\n",
       "      <td>Akron Village</td>\n",
       "      <td>2846.000</td>\n",
       "      <td>3.000</td>\n",
       "      <td>0.000</td>\n",
       "      <td>nan</td>\n",
       "      <td>0.000</td>\n",
       "      <td>0.000</td>\n",
       "      <td>3.000</td>\n",
       "      <td>16.000</td>\n",
       "      <td>1.000</td>\n",
       "      <td>15.000</td>\n",
       "      <td>0.000</td>\n",
       "      <td>0.000</td>\n",
       "    </tr>\n",
       "    <tr>\n",
       "      <th>3</th>\n",
       "      <td>Albany</td>\n",
       "      <td>97956.000</td>\n",
       "      <td>791.000</td>\n",
       "      <td>8.000</td>\n",
       "      <td>nan</td>\n",
       "      <td>30.000</td>\n",
       "      <td>227.000</td>\n",
       "      <td>526.000</td>\n",
       "      <td>4090.000</td>\n",
       "      <td>705.000</td>\n",
       "      <td>3243.000</td>\n",
       "      <td>142.000</td>\n",
       "      <td>nan</td>\n",
       "    </tr>\n",
       "    <tr>\n",
       "      <th>4</th>\n",
       "      <td>Albion Village</td>\n",
       "      <td>6388.000</td>\n",
       "      <td>23.000</td>\n",
       "      <td>0.000</td>\n",
       "      <td>nan</td>\n",
       "      <td>3.000</td>\n",
       "      <td>4.000</td>\n",
       "      <td>16.000</td>\n",
       "      <td>223.000</td>\n",
       "      <td>53.000</td>\n",
       "      <td>165.000</td>\n",
       "      <td>5.000</td>\n",
       "      <td>nan</td>\n",
       "    </tr>\n",
       "  </tbody>\n",
       "</table>\n",
       "</div>"
      ],
      "text/plain": [
       "                       City  Population  Violent\\ncrime  \\\n",
       "0             Adams Village    1861.000           0.000   \n",
       "1  Addison Town and Village    2577.000           3.000   \n",
       "2             Akron Village    2846.000           3.000   \n",
       "3                    Albany   97956.000         791.000   \n",
       "4            Albion Village    6388.000          23.000   \n",
       "\n",
       "   Murder and\\nnonnegligent\\nmanslaughter  Rape\\n(revised\\ndefinition)1  \\\n",
       "0                                   0.000                           nan   \n",
       "1                                   0.000                           nan   \n",
       "2                                   0.000                           nan   \n",
       "3                                   8.000                           nan   \n",
       "4                                   0.000                           nan   \n",
       "\n",
       "   Rape\\n(legacy\\ndefinition)2  Robbery  Aggravated\\nassault  Property\\ncrime  \\\n",
       "0                        0.000    0.000                0.000           12.000   \n",
       "1                        0.000    0.000                3.000           24.000   \n",
       "2                        0.000    0.000                3.000           16.000   \n",
       "3                       30.000  227.000              526.000         4090.000   \n",
       "4                        3.000    4.000               16.000          223.000   \n",
       "\n",
       "   Burglary  Larceny-\\ntheft  Motor\\nvehicle\\ntheft  Arson3  \n",
       "0     2.000           10.000                  0.000   0.000  \n",
       "1     3.000           20.000                  1.000   0.000  \n",
       "2     1.000           15.000                  0.000   0.000  \n",
       "3   705.000         3243.000                142.000     nan  \n",
       "4    53.000          165.000                  5.000     nan  "
      ]
     },
     "execution_count": 4,
     "metadata": {},
     "output_type": "execute_result"
    }
   ],
   "source": [
    "nyc.head()"
   ]
  },
  {
   "cell_type": "code",
   "execution_count": 5,
   "metadata": {},
   "outputs": [],
   "source": [
    "# data rename \n",
    "nyc = nyc.rename(index=str, columns={'City': 'city', 'Population': 'population', 'Violent\\ncrime': 'violent_crime',\n",
    "       'Murder and\\nnonnegligent\\nmanslaughter' : 'murder_manslaughter',\n",
    "       'Rape\\n(legacy\\ndefinition)2': 'rape',\n",
    "       'Robbery': 'robbery_default', 'Aggravated\\nassault': 'aggr_assault', \n",
    "        'Property\\ncrime': 'property_crime', 'Burglary':'burglary',\n",
    "       'Larceny-\\ntheft': 'larceny_theft', 'Motor\\nvehicle\\ntheft': 'motor_theft'})"
   ]
  },
  {
   "cell_type": "code",
   "execution_count": 6,
   "metadata": {},
   "outputs": [],
   "source": [
    "# Creating suggested feaures \n",
    "\n",
    "#nyc['pop_sqr'] = nyc.population**2\n",
    "#nyc['murder'] = np.where(nyc['murder_manslaughter'] > 0,1,0)\n",
    "#nyc['robbery_cat'] = np.where(nyc.robbery_default > 0, 1, 0)\n",
    "#\n",
    "# Deleting rape 1 column as all nan\n",
    "nyc = nyc.drop(columns = ['Rape\\n(revised\\ndefinition)1'])\n"
   ]
  },
  {
   "cell_type": "code",
   "execution_count": 7,
   "metadata": {},
   "outputs": [
    {
     "data": {
      "text/html": [
       "<div>\n",
       "<style scoped>\n",
       "    .dataframe tbody tr th:only-of-type {\n",
       "        vertical-align: middle;\n",
       "    }\n",
       "\n",
       "    .dataframe tbody tr th {\n",
       "        vertical-align: top;\n",
       "    }\n",
       "\n",
       "    .dataframe thead th {\n",
       "        text-align: right;\n",
       "    }\n",
       "</style>\n",
       "<table border=\"1\" class=\"dataframe\">\n",
       "  <thead>\n",
       "    <tr style=\"text-align: right;\">\n",
       "      <th></th>\n",
       "      <th>population</th>\n",
       "      <th>violent_crime</th>\n",
       "      <th>murder_manslaughter</th>\n",
       "      <th>rape</th>\n",
       "      <th>robbery_default</th>\n",
       "      <th>aggr_assault</th>\n",
       "      <th>property_crime</th>\n",
       "      <th>burglary</th>\n",
       "      <th>larceny_theft</th>\n",
       "      <th>motor_theft</th>\n",
       "      <th>Arson3</th>\n",
       "    </tr>\n",
       "  </thead>\n",
       "  <tbody>\n",
       "    <tr>\n",
       "      <th>count</th>\n",
       "      <td>348.000</td>\n",
       "      <td>348.000</td>\n",
       "      <td>348.000</td>\n",
       "      <td>348.000</td>\n",
       "      <td>348.000</td>\n",
       "      <td>348.000</td>\n",
       "      <td>348.000</td>\n",
       "      <td>348.000</td>\n",
       "      <td>348.000</td>\n",
       "      <td>348.000</td>\n",
       "      <td>187.000</td>\n",
       "    </tr>\n",
       "    <tr>\n",
       "      <th>mean</th>\n",
       "      <td>40037.632</td>\n",
       "      <td>201.595</td>\n",
       "      <td>1.566</td>\n",
       "      <td>5.865</td>\n",
       "      <td>72.902</td>\n",
       "      <td>121.261</td>\n",
       "      <td>792.606</td>\n",
       "      <td>119.684</td>\n",
       "      <td>637.017</td>\n",
       "      <td>35.905</td>\n",
       "      <td>1.872</td>\n",
       "    </tr>\n",
       "    <tr>\n",
       "      <th>std</th>\n",
       "      <td>450037.368</td>\n",
       "      <td>2815.269</td>\n",
       "      <td>18.304</td>\n",
       "      <td>60.425</td>\n",
       "      <td>1031.033</td>\n",
       "      <td>1706.132</td>\n",
       "      <td>7659.725</td>\n",
       "      <td>924.949</td>\n",
       "      <td>6346.054</td>\n",
       "      <td>403.424</td>\n",
       "      <td>10.693</td>\n",
       "    </tr>\n",
       "    <tr>\n",
       "      <th>min</th>\n",
       "      <td>526.000</td>\n",
       "      <td>0.000</td>\n",
       "      <td>0.000</td>\n",
       "      <td>0.000</td>\n",
       "      <td>0.000</td>\n",
       "      <td>0.000</td>\n",
       "      <td>0.000</td>\n",
       "      <td>0.000</td>\n",
       "      <td>0.000</td>\n",
       "      <td>0.000</td>\n",
       "      <td>0.000</td>\n",
       "    </tr>\n",
       "    <tr>\n",
       "      <th>25%</th>\n",
       "      <td>3003.000</td>\n",
       "      <td>2.000</td>\n",
       "      <td>0.000</td>\n",
       "      <td>0.000</td>\n",
       "      <td>0.000</td>\n",
       "      <td>1.000</td>\n",
       "      <td>40.500</td>\n",
       "      <td>6.000</td>\n",
       "      <td>31.000</td>\n",
       "      <td>0.000</td>\n",
       "      <td>0.000</td>\n",
       "    </tr>\n",
       "    <tr>\n",
       "      <th>50%</th>\n",
       "      <td>7233.500</td>\n",
       "      <td>6.000</td>\n",
       "      <td>0.000</td>\n",
       "      <td>0.000</td>\n",
       "      <td>1.000</td>\n",
       "      <td>4.000</td>\n",
       "      <td>112.500</td>\n",
       "      <td>17.500</td>\n",
       "      <td>94.000</td>\n",
       "      <td>2.000</td>\n",
       "      <td>0.000</td>\n",
       "    </tr>\n",
       "    <tr>\n",
       "      <th>75%</th>\n",
       "      <td>18427.500</td>\n",
       "      <td>22.000</td>\n",
       "      <td>0.000</td>\n",
       "      <td>2.000</td>\n",
       "      <td>5.000</td>\n",
       "      <td>14.000</td>\n",
       "      <td>341.000</td>\n",
       "      <td>51.250</td>\n",
       "      <td>287.250</td>\n",
       "      <td>7.000</td>\n",
       "      <td>1.000</td>\n",
       "    </tr>\n",
       "    <tr>\n",
       "      <th>max</th>\n",
       "      <td>8396126.000</td>\n",
       "      <td>52384.000</td>\n",
       "      <td>335.000</td>\n",
       "      <td>1112.000</td>\n",
       "      <td>19170.000</td>\n",
       "      <td>31767.000</td>\n",
       "      <td>141971.000</td>\n",
       "      <td>16606.000</td>\n",
       "      <td>117931.000</td>\n",
       "      <td>7434.000</td>\n",
       "      <td>132.000</td>\n",
       "    </tr>\n",
       "  </tbody>\n",
       "</table>\n",
       "</div>"
      ],
      "text/plain": [
       "       population  violent_crime  murder_manslaughter     rape  \\\n",
       "count     348.000        348.000              348.000  348.000   \n",
       "mean    40037.632        201.595                1.566    5.865   \n",
       "std    450037.368       2815.269               18.304   60.425   \n",
       "min       526.000          0.000                0.000    0.000   \n",
       "25%      3003.000          2.000                0.000    0.000   \n",
       "50%      7233.500          6.000                0.000    0.000   \n",
       "75%     18427.500         22.000                0.000    2.000   \n",
       "max   8396126.000      52384.000              335.000 1112.000   \n",
       "\n",
       "       robbery_default  aggr_assault  property_crime  burglary  larceny_theft  \\\n",
       "count          348.000       348.000         348.000   348.000        348.000   \n",
       "mean            72.902       121.261         792.606   119.684        637.017   \n",
       "std           1031.033      1706.132        7659.725   924.949       6346.054   \n",
       "min              0.000         0.000           0.000     0.000          0.000   \n",
       "25%              0.000         1.000          40.500     6.000         31.000   \n",
       "50%              1.000         4.000         112.500    17.500         94.000   \n",
       "75%              5.000        14.000         341.000    51.250        287.250   \n",
       "max          19170.000     31767.000      141971.000 16606.000     117931.000   \n",
       "\n",
       "       motor_theft  Arson3  \n",
       "count      348.000 187.000  \n",
       "mean        35.905   1.872  \n",
       "std        403.424  10.693  \n",
       "min          0.000   0.000  \n",
       "25%          0.000   0.000  \n",
       "50%          2.000   0.000  \n",
       "75%          7.000   1.000  \n",
       "max       7434.000 132.000  "
      ]
     },
     "execution_count": 7,
     "metadata": {},
     "output_type": "execute_result"
    }
   ],
   "source": [
    "# Basic data cleaning \n",
    "nyc.describe()"
   ]
  },
  {
   "cell_type": "code",
   "execution_count": 8,
   "metadata": {},
   "outputs": [
    {
     "name": "stdout",
     "output_type": "stream",
     "text": [
      "city                     0\n",
      "population               3\n",
      "violent_crime            3\n",
      "murder_manslaughter      3\n",
      "rape                     3\n",
      "robbery_default          3\n",
      "aggr_assault             3\n",
      "property_crime           3\n",
      "burglary                 3\n",
      "larceny_theft            3\n",
      "motor_theft              3\n",
      "Arson3                 164\n",
      "dtype: int64\n"
     ]
    }
   ],
   "source": [
    "print(nyc.isnull().sum())   # list of NaNs \n",
    "\n",
    "nyc[nyc.city.str.contains('The')]\n",
    "# index 348-350 . # the last three rows\n",
    "\n",
    "nyc = nyc[:-3]"
   ]
  },
  {
   "cell_type": "code",
   "execution_count": 9,
   "metadata": {
    "scrolled": false
   },
   "outputs": [],
   "source": [
    "#print(nyc.isnull().sum())  #nyc.isna().sum()  No null values except for Asson3 (161)"
   ]
  },
  {
   "cell_type": "code",
   "execution_count": 10,
   "metadata": {},
   "outputs": [
    {
     "data": {
      "text/plain": [
       "Index(['city', 'population', 'violent_crime', 'murder_manslaughter', 'rape',\n",
       "       'robbery_default', 'aggr_assault', 'property_crime', 'burglary',\n",
       "       'larceny_theft', 'motor_theft', 'Arson3'],\n",
       "      dtype='object')"
      ]
     },
     "execution_count": 10,
     "metadata": {},
     "output_type": "execute_result"
    }
   ],
   "source": [
    "nyc.columns"
   ]
  },
  {
   "cell_type": "code",
   "execution_count": 11,
   "metadata": {
    "scrolled": false
   },
   "outputs": [
    {
     "data": {
      "text/plain": [
       "(0, 800)"
      ]
     },
     "execution_count": 11,
     "metadata": {},
     "output_type": "execute_result"
    },
    {
     "data": {
      "image/png": "[encoded data removed]",
      "text/plain": [
       "<Figure size 1008x576 with 1 Axes>"
      ]
     },
     "metadata": {},
     "output_type": "display_data"
    }
   ],
   "source": [
    "plt.figure(figsize=(14,8))\n",
    "sns.boxplot(data=nyc[[ 'violent_crime', 'murder_manslaughter', 'rape',\n",
    "       'robbery_default', 'aggr_assault', 'property_crime', 'burglary',\n",
    "       'larceny_theft', 'motor_theft', 'Arson3']], palette=\"Set2\" )\n",
    "\n",
    "#plt.ylim(0,5000)  #default shows few (6 in number) outliers after 5000\n",
    "#plt.ylim(0,1000)  #default shows few outliers after 1000\n",
    "\n",
    "plt.ylim(0,800)  #almost all values of these variables are concentrated under 500\n",
    "\n",
    "# Among the variables 'property_Crime' is the quite frequent "
   ]
  },
  {
   "cell_type": "code",
   "execution_count": 12,
   "metadata": {},
   "outputs": [
    {
     "data": {
      "text/plain": [
       "(0, 120)"
      ]
     },
     "execution_count": 12,
     "metadata": {},
     "output_type": "execute_result"
    },
    {
     "data": {
      "image/png": "[encoded data removed]",
      "text/plain": [
       "<Figure size 864x576 with 1 Axes>"
      ]
     },
     "metadata": {},
     "output_type": "display_data"
    }
   ],
   "source": [
    "# Taking a closer look at the variables\n",
    "\n",
    "plt.figure(figsize=(12,8))\n",
    "sns.boxplot(data=nyc[[ 'violent_crime', 'murder_manslaughter', 'rape',\n",
    "       'robbery_default', 'aggr_assault', 'burglary',\n",
    "       'motor_theft', 'Arson3']], palette=\"Set2\" )\n",
    "\n",
    "plt.ylim(0, 120)  #rest of the crimes are contained within 120 occurrences"
   ]
  },
  {
   "cell_type": "code",
   "execution_count": 13,
   "metadata": {},
   "outputs": [],
   "source": [
    "# creating features - city to boroughs -- didn't find appropriate documentation - http://www.nysl.nysed.gov/genealogy/townlist.htm\n",
    "#this doesn't have all names. "
   ]
  },
  {
   "cell_type": "code",
   "execution_count": 14,
   "metadata": {},
   "outputs": [],
   "source": [
    "#nyc.iloc[np.where(nyc.pop_sqr == nyc.pop_sqr.max())]  # NYC is the source for all outliers"
   ]
  },
  {
   "cell_type": "markdown",
   "metadata": {},
   "source": [
    "According to the FBI's Uniform Crime Reporting [(here)](https://ucr.fbi.gov/crime-in-the-u.s/2013/crime-in-the-u.s.-2013/property-crime/property-crime-topic-page/propertycrimemain_final), property crime includes the offenses of burglary, larceny-theft, motor vehicle theft, and arson. The object of the theft-type offenses is the taking of money or property, but there is no force or threat of force against the victims. The property crime category includes arson because the offense involves the destruction of property; however, arson victims may be subjected to force. Therefore, it is expected that the property crime will be highly correlated with these variables. \n",
    "\n",
    "Multiple Linear Regression formula:\n",
    "\n",
    "$$ property crime = \\alpha + burglary + larceny/theft + motor theft + arson $$"
   ]
  },
  {
   "cell_type": "code",
   "execution_count": 15,
   "metadata": {},
   "outputs": [
    {
     "data": {
      "image/png": "[encoded data removed]",
      "text/plain": [
       "<Figure size 720x576 with 2 Axes>"
      ]
     },
     "metadata": {},
     "output_type": "display_data"
    },
    {
     "name": "stdout",
     "output_type": "stream",
     "text": [
      "                property_crime  burglary  larceny_theft  motor_theft  Arson3\n",
      "property_crime           1.000     0.987          1.000        0.998   0.921\n",
      "burglary                 0.987     1.000          0.983        0.991   0.952\n",
      "larceny_theft            1.000     0.983          1.000        0.997   0.894\n",
      "motor_theft              0.998     0.991          0.997        1.000   0.935\n",
      "Arson3                   0.921     0.952          0.894        0.935   1.000\n"
     ]
    }
   ],
   "source": [
    "corr = nyc[['property_crime','burglary', 'larceny_theft', 'motor_theft', 'Arson3']].corr()\n",
    "\n",
    "plt.figure(figsize=(10,8))\n",
    "sns.heatmap(corr, cmap='BuPu', linecolor='white')\n",
    "plt.show()\n",
    "print(corr)\n"
   ]
  },
  {
   "cell_type": "markdown",
   "metadata": {},
   "source": [
    "As expected, property crime is highly correlated with larceny and theft, however, it is not corelated with arson. "
   ]
  },
  {
   "cell_type": "code",
   "execution_count": 16,
   "metadata": {},
   "outputs": [
    {
     "data": {
      "text/plain": [
       "<matplotlib.axes._subplots.AxesSubplot at 0x10db7e390>"
      ]
     },
     "execution_count": 16,
     "metadata": {},
     "output_type": "execute_result"
    },
    {
     "data": {
      "image/png": "[encoded data removed]",
      "text/plain": [
       "<Figure size 720x576 with 1 Axes>"
      ]
     },
     "metadata": {},
     "output_type": "display_data"
    }
   ],
   "source": [
    "plt.figure(figsize=(10,8))\n",
    "sns.boxplot(data=nyc[['property_crime','burglary', 'larceny_theft', 'motor_theft', 'Arson3']])\n"
   ]
  },
  {
   "cell_type": "code",
   "execution_count": 17,
   "metadata": {},
   "outputs": [],
   "source": [
    "# Data cleaning: All the variables have outliers. \n",
    "\n",
    "#isolation forest filter - sklearn \n",
    "\n",
    "# Winsorizing the outliers. Outliers in the both ends are substituted with a quantile value given by the function \n",
    "# The (limits[0])th lowest values are set to the (limits[0])th percentile, and the (limits[1])th highest values are set to the (limits[1])th percentile. \n",
    "from scipy import stats\n",
    "\n",
    "nyc[['property_crime','burglary', 'larceny_theft', 'motor_theft', 'Arson3']]\n",
    "\n",
    "import scipy\n",
    "\n",
    "nyc['property_crime'] = scipy.stats.mstats.winsorize(nyc['property_crime'], limits=[0,0.03])\n",
    "nyc['burglary'] = scipy.stats.mstats.winsorize(nyc['burglary'], limits=[0,0.03])\n",
    "nyc['larceny_theft'] = scipy.stats.mstats.winsorize(nyc['larceny_theft'], limits=[0,0.03])\n",
    "nyc['motor_theft'] = scipy.stats.mstats.winsorize(nyc['motor_theft'], limits=[0,0.03])\n",
    "nyc['Arson3'] = scipy.stats.mstats.winsorize(nyc['Arson3'], limits=[0,0.03])\n"
   ]
  },
  {
   "cell_type": "code",
   "execution_count": 18,
   "metadata": {
    "scrolled": false
   },
   "outputs": [
    {
     "data": {
      "text/plain": [
       "(0, 900)"
      ]
     },
     "execution_count": 18,
     "metadata": {},
     "output_type": "execute_result"
    },
    {
     "data": {
      "image/png": "[encoded data removed]",
      "text/plain": [
       "<Figure size 720x576 with 1 Axes>"
      ]
     },
     "metadata": {},
     "output_type": "display_data"
    }
   ],
   "source": [
    "plt.figure(figsize=(10,8))\n",
    "\n",
    "#sns.subplot(3,2,1)\n",
    "sns.boxplot(data=nyc[['property_crime','burglary', 'larceny_theft', 'motor_theft', 'Arson3']]) #, orient='h')\n",
    "plt.ylim(0,900)"
   ]
  },
  {
   "cell_type": "code",
   "execution_count": 19,
   "metadata": {
    "scrolled": true
   },
   "outputs": [
    {
     "name": "stdout",
     "output_type": "stream",
     "text": [
      "\n",
      "Coeffiicients: \n",
      " [[1.03514399 0.98774906 1.07249876]]\n",
      "\n",
      "Intercept: \n",
      " [0.88265]\n",
      "\n",
      "R-squared:\n",
      "0.9989995532674184\n"
     ]
    },
    {
     "name": "stderr",
     "output_type": "stream",
     "text": [
      "/Library/Frameworks/Python.framework/Versions/3.6/lib/python3.6/site-packages/sklearn/linear_model/base.py:509: RuntimeWarning: internal gelsd driver lwork query error, required iwork dimension not returned. This is likely the result of LAPACK bug 0038, fixed in LAPACK 3.2.2 (released July 21, 2010). Falling back to 'gelss' driver.\n",
      "  linalg.lstsq(X, y)\n"
     ]
    }
   ],
   "source": [
    "# Instantiate and fit the first version of the model.\n",
    "regr = linear_model.LinearRegression()\n",
    "Y = nyc.property_crime.values.reshape(-1,1)\n",
    "X = nyc[['burglary', 'larceny_theft', 'motor_theft']]\n",
    "regr.fit(X, Y)\n",
    "\n",
    "print('\\nCoeffiicients: \\n', regr.coef_)\n",
    "print('\\nIntercept: \\n', regr.intercept_)\n",
    "print('\\nR-squared:')\n",
    "print(regr.score(X,Y))\n"
   ]
  },
  {
   "cell_type": "markdown",
   "metadata": {},
   "source": [
    "Most likely such a high R-squared value is indicative of model overfitting, but as we will see in this model(?) /exercise, the chosen parameters are in fact explaining most of the variances of the model. \n",
    "\n",
    "Checking the accuracy of the model with cross-validation as what this does is to make 10-fold training and testing set in the during model training and testing, and returns the accuracies. The mean accuracy via cross-validation is a more validated indicator of the accuracy. \n"
   ]
  },
  {
   "cell_type": "code",
   "execution_count": 20,
   "metadata": {},
   "outputs": [
    {
     "name": "stdout",
     "output_type": "stream",
     "text": [
      "[0.99918433 0.99939991 0.99997552 0.99948924 0.99970378 0.99894265\n",
      " 0.99905906 0.99936564 0.99893903 0.99595589]\n",
      "Mean CV score:  0.9990015035816853\n"
     ]
    }
   ],
   "source": [
    "# Adding cross-validation \n",
    "\n",
    "from sklearn.model_selection import cross_val_score\n",
    "\n",
    "regr = linear_model.LinearRegression()\n",
    "\n",
    "print(cross_val_score(regr, X, Y, cv=10))\n",
    "\n",
    "print(\"Mean CV score: \", (cross_val_score(regr, X, Y, cv=10)).mean())"
   ]
  },
  {
   "cell_type": "markdown",
   "metadata": {},
   "source": [
    "For an initial observation, this model looks __definitely overfitted__ as the r-squared value is 0.99. "
   ]
  },
  {
   "cell_type": "code",
   "execution_count": 21,
   "metadata": {},
   "outputs": [
    {
     "name": "stdout",
     "output_type": "stream",
     "text": [
      "\n",
      "Coeffiicients: \n",
      " [[1.03514399 0.98774906 1.07249876]]\n",
      "\n",
      "Intercept: \n",
      " [0.88265]\n",
      "\n",
      "R-squared:\n",
      "0.9989995532674184\n",
      "10-k cross validation scores: \n",
      " [0.99918433 0.99939991 0.99997552 0.99948924 0.99970378 0.99894265\n",
      " 0.99905906 0.99936564 0.99893903 0.99595589]\n",
      "Mean CV score:  0.9990015035816853\n"
     ]
    }
   ],
   "source": [
    "# Removing Arson as not much data\n",
    "\n",
    "# Instantiate and fit our model.\n",
    "regr = linear_model.LinearRegression()\n",
    "Y = nyc.property_crime.values.reshape(-1,1)\n",
    "X = nyc[['burglary', 'larceny_theft', 'motor_theft']]\n",
    "regr.fit(X, Y)\n",
    "\n",
    "print('\\nCoeffiicients: \\n', regr.coef_)\n",
    "print('\\nIntercept: \\n', regr.intercept_)\n",
    "print('\\nR-squared:')\n",
    "print(regr.score(X,Y))\n",
    "\n",
    "print(\"10-k cross validation scores: \\n\", cross_val_score(regr, X, Y, cv=10))\n",
    "\n",
    "print(\"Mean CV score: \", (cross_val_score(regr, X, Y, cv=10)).mean())\n"
   ]
  },
  {
   "cell_type": "code",
   "execution_count": 22,
   "metadata": {},
   "outputs": [
    {
     "name": "stdout",
     "output_type": "stream",
     "text": [
      "\n",
      "Coeffiicients: \n",
      " [[ 1.04587122  0.98713788  1.09941301 -0.00401261]]\n",
      "\n",
      "Intercept: \n",
      " [0.54494744]\n",
      "\n",
      "R-squared:\n",
      "0.9990591890322064\n",
      "10-k cross validation scores: \n",
      " [0.99920263 0.99943715 0.99997152 0.99954118 0.99974746 0.99908223\n",
      " 0.83294854 0.99931993 0.99875739 0.99615204]\n",
      "Mean CV score:  0.9824160082654549\n"
     ]
    }
   ],
   "source": [
    "# Adding robbery as one of the predictors, \n",
    "#R-squared a little less, meaning the robbery is adding more noise to the data \n",
    "\n",
    "# Instantiate and fit our model.\n",
    "regr = linear_model.LinearRegression()\n",
    "Y = nyc.property_crime.values.reshape(-1,1)\n",
    "X = nyc[['burglary', 'larceny_theft', 'motor_theft', 'robbery_default']]\n",
    "regr.fit(X, Y)\n",
    "\n",
    "print('\\nCoeffiicients: \\n', regr.coef_)\n",
    "print('\\nIntercept: \\n', regr.intercept_)\n",
    "print('\\nR-squared:')\n",
    "print(regr.score(X,Y))\n",
    "\n",
    "print(\"10-k cross validation scores: \\n\", cross_val_score(regr, X, Y, cv=10))\n",
    "\n",
    "print(\"Mean CV score: \", (cross_val_score(regr, X, Y, cv=10)).mean())\n"
   ]
  },
  {
   "cell_type": "code",
   "execution_count": 23,
   "metadata": {},
   "outputs": [],
   "source": [
    "#X.columns -\n"
   ]
  },
  {
   "cell_type": "code",
   "execution_count": 24,
   "metadata": {},
   "outputs": [],
   "source": [
    "# Checking with other variables, just to make sure if we are on the right path"
   ]
  },
  {
   "cell_type": "code",
   "execution_count": 25,
   "metadata": {
    "scrolled": true
   },
   "outputs": [],
   "source": [
    "nyc[['violent_crime', 'murder_manslaughter', 'rape', 'Arson3']].isnull().sum()\n",
    "# arson has 161 null \n",
    "\n",
    "# Filling NaNs in Arson with mean of the column\n",
    "nyc.Arson3.fillna(nyc.Arson3.mean(), inplace = True)"
   ]
  },
  {
   "cell_type": "code",
   "execution_count": 26,
   "metadata": {},
   "outputs": [
    {
     "data": {
      "text/plain": [
       "violent_crime          0\n",
       "murder_manslaughter    0\n",
       "rape                   0\n",
       "Arson3                 0\n",
       "dtype: int64"
      ]
     },
     "execution_count": 26,
     "metadata": {},
     "output_type": "execute_result"
    }
   ],
   "source": [
    "nyc[['violent_crime', 'murder_manslaughter', 'rape', 'Arson3']].isnull().sum()\n",
    "# arson had 161 null values"
   ]
  },
  {
   "cell_type": "code",
   "execution_count": 27,
   "metadata": {},
   "outputs": [
    {
     "name": "stdout",
     "output_type": "stream",
     "text": [
      "\n",
      "Coeffiicients: \n",
      " [  -0.71726311 -122.2716077    72.63425885   18.96695486]\n",
      "\n",
      "Intercept: \n",
      " 193.69603476359364\n",
      "\n",
      "R-squared:\n",
      "0.4380961973105269\n",
      "10-k cross validation scores: \n",
      " [ 4.17701464e-01  2.12491115e-01  8.12071567e-02  3.33530047e-01\n",
      " -1.87170004e+00  1.81137783e-01 -7.41728449e+02 -2.17915415e-03\n",
      "  5.97945944e-01  3.76365374e-01]\n",
      "Mean CV score:  -74.14019492095534\n"
     ]
    }
   ],
   "source": [
    "regr = linear_model.LinearRegression()\n",
    "Y = nyc.property_crime\n",
    "X = nyc[['violent_crime', 'murder_manslaughter', 'rape', 'Arson3']]\n",
    "regr.fit(X, Y)\n",
    "\n",
    "print('\\nCoeffiicients: \\n', regr.coef_)\n",
    "print('\\nIntercept: \\n', regr.intercept_)\n",
    "print('\\nR-squared:')\n",
    "print(regr.score(X,Y))  # the R^2 is .99. This is probably still overfitting. \n",
    "\n",
    "print(\"10-k cross validation scores: \\n\", cross_val_score(regr, X, Y, cv=10))  #r-squared \n",
    "\n",
    "print(\"Mean CV score: \", (cross_val_score(regr, X, Y, cv=10)).mean())\n"
   ]
  },
  {
   "cell_type": "code",
   "execution_count": 28,
   "metadata": {},
   "outputs": [],
   "source": [
    "# Checking -CV R2 results manually \n",
    "\n",
    "actual = Y\n",
    "predict = regr.predict(X)\n",
    "residual = actual - predict\n",
    "\n",
    "def r_sqr(actual, predict):\n",
    "    residual = actual - predict\n",
    "    u = (residual**2).sum()\n",
    "    v = ((actual - actual.mean())**2).sum()\n",
    "    print(u, v)\n",
    "    print(1 - (u/v))  # r-squared\n",
    "    \n",
    "    "
   ]
  },
  {
   "cell_type": "code",
   "execution_count": 29,
   "metadata": {},
   "outputs": [
    {
     "name": "stdout",
     "output_type": "stream",
     "text": [
      "8158121.846019328 14010204.971428571\n",
      "0.41770146385035556\n",
      "11233062.877842667 14264045.885714287\n",
      "0.21249111452362945\n",
      "1447460.627628643 1575393.8857142858\n",
      "0.08120715666459355\n",
      "4912594.470298543 7371066.685714286\n",
      "0.3335300466322545\n",
      "11853636.881196415 4127742.0\n",
      "-1.8717000435580555\n",
      "2754710.6138432543 3364070.9714285713\n",
      "0.18113778298991978\n",
      "8611376856.983131 11594246.685714286\n",
      "-741.7284488947038\n",
      "7757266.264890465 7740398.742857143\n",
      "-0.0021791541487299337\n",
      "4165236.7857111315 10359892.470588233\n",
      "0.5979459441749756\n",
      "8984020.25944912 14405903.529411765\n",
      "0.37636537402135695\n"
     ]
    }
   ],
   "source": [
    "from sklearn.model_selection import KFold\n",
    "\n",
    "kf = KFold(n_splits=10)\n",
    "for train, test in kf.split(X):\n",
    "    regr.fit(X.values[train], Y.values[train])   #accessing values as X is a dataframe\n",
    "    y_pred = regr.predict(X.values[test])\n",
    "    r_sqr(Y[test], y_pred)\n",
    "\n",
    "# the u/v if the u is much larger than the v, the r^2, i.e., 1-u/v will be a large minus number (e.g., -741), and \n",
    "# this explains how the r-sqrdd and CV have - values"
   ]
  },
  {
   "cell_type": "markdown",
   "metadata": {},
   "source": [
    "Other uncorrelated variables decreases model accuracy. \n",
    "\n",
    "One final version with Arson as one of the explanatory variable. "
   ]
  },
  {
   "cell_type": "code",
   "execution_count": 30,
   "metadata": {},
   "outputs": [
    {
     "name": "stdout",
     "output_type": "stream",
     "text": [
      "\n",
      "Coeffiicients: \n",
      " [[ 1.05134094  0.98728686  1.1199387  -0.65587491]]\n",
      "\n",
      "Intercept: \n",
      " [0.97967714]\n",
      "\n",
      "R-squared:\n",
      "0.9990828271644957\n",
      "10-k cross validation scores: \n",
      " [0.99919527 0.99935757 0.99995881 0.99957873 0.99978269 0.99920714\n",
      " 0.99895414 0.99945396 0.9991174  0.99620632]\n",
      "Mean CV score:  0.999081203439129\n"
     ]
    }
   ],
   "source": [
    "#  with arson. \n",
    "\n",
    "# Instantiate and fit our model.\n",
    "regr = linear_model.LinearRegression()\n",
    "Y = nyc.property_crime.values.reshape(-1,1)\n",
    "X = nyc[['burglary', 'larceny_theft', 'motor_theft', 'Arson3']]\n",
    "regr.fit(X, Y)\n",
    "\n",
    "print('\\nCoeffiicients: \\n', regr.coef_)\n",
    "print('\\nIntercept: \\n', regr.intercept_)\n",
    "print('\\nR-squared:')\n",
    "print(regr.score(X,Y))\n",
    "\n",
    "print(\"10-k cross validation scores: \\n\", cross_val_score(regr, X, Y, cv=10))\n",
    "\n",
    "print(\"Mean CV score: \", (cross_val_score(regr, X, Y, cv=10)).mean())\n",
    "\n",
    "# This seems to have the highest cross-validation score \n"
   ]
  },
  {
   "cell_type": "code",
   "execution_count": 31,
   "metadata": {},
   "outputs": [
    {
     "name": "stdout",
     "output_type": "stream",
     "text": [
      "6.1200000000000045\n"
     ]
    },
    {
     "data": {
      "image/png": "[encoded data removed]",
      "text/plain": [
       "<Figure size 432x288 with 1 Axes>"
      ]
     },
     "metadata": {},
     "output_type": "display_data"
    }
   ],
   "source": [
    "# Checking if arson has any outliers \n",
    "\n",
    "sns.boxplot(nyc.Arson3) #one outlier at 60 and another at 120\n",
    "plt.xlim(0,40)\n",
    "print(nyc.Arson3.quantile(.98))\n",
    "\n",
    "nyc.Arson3 = stats.mstats.winsorize(nyc.Arson3, limits=(0, 0.03))"
   ]
  },
  {
   "cell_type": "markdown",
   "metadata": {},
   "source": [
    "Let's now checking the linear relationship in the variables of interest for the purpose of checking the assumptions.  "
   ]
  },
  {
   "cell_type": "code",
   "execution_count": 32,
   "metadata": {},
   "outputs": [
    {
     "data": {
      "image/png": "[encoded data removed]",
      "text/plain": [
       "<Figure size 1152x1152 with 4 Axes>"
      ]
     },
     "metadata": {},
     "output_type": "display_data"
    }
   ],
   "source": [
    "plt.figure(figsize=(16,16))\n",
    "\n",
    "\n",
    "#'burglary', 'larceny_theft', 'motor_theft', 'Arson3'\n",
    "\n",
    "#Burglary\n",
    "plt.subplot(2, 2, 1)\n",
    "sns.scatterplot(nyc.property_crime, nyc.burglary)\n",
    "plt.title('Burglary')\n",
    "\n",
    "#Lacerny\n",
    "plt.subplot(2, 2, 2)\n",
    "sns.scatterplot(nyc.property_crime, nyc.larceny_theft)\n",
    "plt.title('Lacerny and theft')\n",
    "\n",
    "# Motor theft\n",
    "plt.subplot(2, 2, 3)\n",
    "sns.scatterplot(nyc.property_crime, nyc.motor_theft)\n",
    "plt.title('Motor theft')\n",
    "\n",
    "# Arson\n",
    "plt.subplot(2, 2, 4)\n",
    "sns.scatterplot(nyc.property_crime, nyc.Arson3)\n",
    "plt.title('Arson')\n",
    "plt.show()\n",
    "\n",
    "# NONE of the relationships are linear \n",
    "# For the first pop-pop_squared we can do a square_root \n",
    "\n",
    "#follow the following reference \n",
    "\n",
    "    "
   ]
  },
  {
   "cell_type": "markdown",
   "metadata": {},
   "source": [
    "It seems almost all the relationships, except arson, are linear.  \n"
   ]
  },
  {
   "cell_type": "markdown",
   "metadata": {},
   "source": [
    "[independent variable transformation](https://statswithcats.wordpress.com/2010/11/21/fifty-ways-to-fix-your-data)"
   ]
  },
  {
   "cell_type": "code",
   "execution_count": null,
   "metadata": {},
   "outputs": [],
   "source": []
  },
  {
   "cell_type": "code",
   "execution_count": 33,
   "metadata": {},
   "outputs": [
    {
     "data": {
      "image/png": "[encoded data removed]",
      "text/plain": [
       "<Figure size 432x288 with 1 Axes>"
      ]
     },
     "metadata": {},
     "output_type": "display_data"
    }
   ],
   "source": [
    "# check residual \n",
    "\n",
    "predicted = regr.predict(X).ravel()\n",
    "actual = nyc.population\n",
    "\n",
    "residual = actual - predicted\n",
    "\n",
    "sns.distplot(residual, bins=1000)\n",
    "\n",
    "#plt.hist(residual, bins=1000)\n",
    "#plt.yscale('log')\n",
    "#plt.xscale('log')\n",
    "plt.title('Residual counts')\n",
    "plt.xlabel('Residual')\n",
    "plt.ylabel('Count')\n",
    "plt.xlim(0,200000)\n",
    "plt.show()\n",
    "\n",
    "# residual is not normally distributed and close to zero. \n",
    "\n",
    "# Most of the errors are reasonable but there are quire a few outliers \n"
   ]
  },
  {
   "cell_type": "code",
   "execution_count": 34,
   "metadata": {},
   "outputs": [
    {
     "data": {
      "text/plain": [
       "count       348.000\n",
       "mean      39718.526\n",
       "std      449899.838\n",
       "min         520.084\n",
       "25%        2947.878\n",
       "50%        7078.687\n",
       "75%       18072.318\n",
       "max     8393702.636\n",
       "Name: population, dtype: float64"
      ]
     },
     "execution_count": 34,
     "metadata": {},
     "output_type": "execute_result"
    }
   ],
   "source": [
    "residual.describe()"
   ]
  },
  {
   "cell_type": "code",
   "execution_count": 35,
   "metadata": {},
   "outputs": [],
   "source": [
    "# PCLS\n",
    "\n",
    "# start with all variables and then apply PCLS \n",
    "# from this residual we see that there are some things that are not accounted for \n",
    "\n",
    "\n",
    "sns.distplot?"
   ]
  },
  {
   "cell_type": "code",
   "execution_count": 36,
   "metadata": {},
   "outputs": [
    {
     "data": {
      "text/plain": [
       "<matplotlib.axes._subplots.AxesSubplot at 0x10dff0550>"
      ]
     },
     "execution_count": 36,
     "metadata": {},
     "output_type": "execute_result"
    },
    {
     "data": {
      "image/png": "[encoded data removed]",
      "text/plain": [
       "<Figure size 720x576 with 2 Axes>"
      ]
     },
     "metadata": {},
     "output_type": "display_data"
    }
   ],
   "source": [
    "# Check multicollinearity \n",
    "plt.figure(figsize=(10,8))\n",
    "sns.heatmap(nyc.corr(), cmap='BuPu', square=True)\n"
   ]
  },
  {
   "cell_type": "markdown",
   "metadata": {},
   "source": [
    "This exercise shows the important effects of outliers in predicting the modes. The variables in the lower half of the corrplot had extreme high correlation. Now, after outlier removal, we have more information."
   ]
  },
  {
   "cell_type": "code",
   "execution_count": 38,
   "metadata": {},
   "outputs": [],
   "source": [
    "# Now try residual before and after cross validation\n",
    "\n",
    "#from sklearn.model_selection import cross_val_predict\n",
    "#predicted_cv = cross_val_predict(regr, X, Y).ravel()\n",
    "#actual = nyc.population\n",
    "#\n",
    "#residual_cv = actual - predicted_cv\n",
    "#\n",
    "#plt.figure(figsize=(10,8))\n",
    "#\n",
    "#plt.subplot(1,2,1)\n",
    "#sns.distplot(residual, bins=1000)\n",
    "#plt.xlim(0,100000)\n",
    "#plt.title(\"Residual before cross-validation\")\n",
    "#\n",
    "#plt.subplot(1,2,2)\n",
    "#sns.distplot(residual_cv, bins=1000)\n",
    "#plt.title(\"Residual after cross-validation\")\n",
    "#plt.xlim(0,100000)\n",
    "#plt.show()\n",
    "#\n",
    "# not much different"
   ]
  },
  {
   "cell_type": "code",
   "execution_count": 39,
   "metadata": {},
   "outputs": [
    {
     "name": "stdout",
     "output_type": "stream",
     "text": [
      "\n",
      "Coeffiicients: \n",
      " [[1.03514399 0.98774906 1.07249876]]\n",
      "\n",
      "Intercept: \n",
      " [0.88265]\n",
      "\n",
      "R-squared:\n",
      "0.9989995532674184\n",
      "10-k cross validation scores: \n",
      " [0.99918433 0.99939991 0.99997552 0.99948924 0.99970378 0.99894265\n",
      " 0.99905906 0.99936564 0.99893903 0.99595589]\n",
      "Mean CV score:  0.9990015035816853\n"
     ]
    }
   ],
   "source": [
    "regr = linear_model.LinearRegression()\n",
    "Y = nyc.property_crime.values.reshape(-1,1)\n",
    "X = nyc[['burglary', 'larceny_theft', 'motor_theft']]\n",
    "regr.fit(X, Y)\n",
    "\n",
    "print('\\nCoeffiicients: \\n', regr.coef_)\n",
    "print('\\nIntercept: \\n', regr.intercept_)\n",
    "print('\\nR-squared:')\n",
    "print(regr.score(X,Y))\n",
    "\n",
    "print(\"10-k cross validation scores: \\n\", cross_val_score(regr, X, Y, cv=10))\n",
    "\n",
    "print(\"Mean CV score: \", (cross_val_score(regr, X, Y, cv=10)).mean())"
   ]
  },
  {
   "cell_type": "code",
   "execution_count": 40,
   "metadata": {},
   "outputs": [
    {
     "data": {
      "image/png": "[encoded data removed]",
      "text/plain": [
       "<Figure size 432x288 with 1 Axes>"
      ]
     },
     "metadata": {},
     "output_type": "display_data"
    }
   ],
   "source": [
    "# prediction \n",
    "\n",
    "predicted  = regr.predict(X).ravel()\n",
    "actual= nyc.property_crime\n",
    "\n",
    "residual = actual - predicted\n",
    "\n",
    "sns.distplot(residual, bins=50)\n",
    "plt.title('Residual Counts')\n",
    "plt.xlabel('Residual')\n",
    "plt.ylabel('Count')\n",
    "plt.show()"
   ]
  },
  {
   "cell_type": "code",
   "execution_count": 41,
   "metadata": {},
   "outputs": [
    {
     "data": {
      "image/png": "[encoded data removed]",
      "text/plain": [
       "<Figure size 432x288 with 1 Axes>"
      ]
     },
     "metadata": {},
     "output_type": "display_data"
    }
   ],
   "source": [
    "sns.scatterplot(predicted, residual)\n",
    "plt.xlabel('Predicted')\n",
    "plt.ylabel('Residual')\n",
    "plt.axhline(y=0)\n",
    "plt.title('Residual vs.Predicted')\n",
    "plt.show()"
   ]
  },
  {
   "cell_type": "markdown",
   "metadata": {},
   "source": [
    "It seems like a pretty good fit! \n",
    "\n",
    "Earlier, our regression formula was: \n",
    "\n",
    "$$ property crime = \\alpha + burglary + larceny/theft + motor theft + arson $$\n",
    "\n",
    "Now, modifying the formula to be the follwoing: \n",
    "\n",
    "$$ property crime = \\alpha + burglary + larceny/theft + motor theft $$"
   ]
  },
  {
   "cell_type": "markdown",
   "metadata": {},
   "source": [
    "## Additional components and testing:\n",
    "\n",
    "linear models and p-values, with the statsmodel "
   ]
  },
  {
   "cell_type": "code",
   "execution_count": 42,
   "metadata": {},
   "outputs": [],
   "source": [
    "linear_formula = 'property_crime ~ burglary+larceny_theft+motor_theft'\n",
    "\n",
    "lm = smf.ols(formula=linear_formula, data=nyc).fit()"
   ]
  },
  {
   "cell_type": "code",
   "execution_count": 43,
   "metadata": {},
   "outputs": [
    {
     "data": {
      "text/plain": [
       "Intercept       0.883\n",
       "burglary        1.035\n",
       "larceny_theft   0.988\n",
       "motor_theft     1.072\n",
       "dtype: float64"
      ]
     },
     "execution_count": 43,
     "metadata": {},
     "output_type": "execute_result"
    }
   ],
   "source": [
    "# coefficients \n",
    "\n",
    "lm.params"
   ]
  },
  {
   "cell_type": "code",
   "execution_count": 44,
   "metadata": {},
   "outputs": [
    {
     "data": {
      "text/plain": [
       "Intercept       0.396\n",
       "burglary        0.000\n",
       "larceny_theft   0.000\n",
       "motor_theft     0.000\n",
       "dtype: float64"
      ]
     },
     "execution_count": 44,
     "metadata": {},
     "output_type": "execute_result"
    }
   ],
   "source": [
    "lm.pvalues"
   ]
  },
  {
   "cell_type": "code",
   "execution_count": 45,
   "metadata": {},
   "outputs": [
    {
     "data": {
      "text/plain": [
       "0.9989995532674184"
      ]
     },
     "execution_count": 45,
     "metadata": {},
     "output_type": "execute_result"
    }
   ],
   "source": [
    "lm.rsquared"
   ]
  },
  {
   "cell_type": "code",
   "execution_count": 46,
   "metadata": {},
   "outputs": [
    {
     "data": {
      "text/html": [
       "<div>\n",
       "<style scoped>\n",
       "    .dataframe tbody tr th:only-of-type {\n",
       "        vertical-align: middle;\n",
       "    }\n",
       "\n",
       "    .dataframe tbody tr th {\n",
       "        vertical-align: top;\n",
       "    }\n",
       "\n",
       "    .dataframe thead th {\n",
       "        text-align: right;\n",
       "    }\n",
       "</style>\n",
       "<table border=\"1\" class=\"dataframe\">\n",
       "  <thead>\n",
       "    <tr style=\"text-align: right;\">\n",
       "      <th></th>\n",
       "      <th>0</th>\n",
       "      <th>1</th>\n",
       "    </tr>\n",
       "  </thead>\n",
       "  <tbody>\n",
       "    <tr>\n",
       "      <th>Intercept</th>\n",
       "      <td>-1.162</td>\n",
       "      <td>2.927</td>\n",
       "    </tr>\n",
       "    <tr>\n",
       "      <th>burglary</th>\n",
       "      <td>0.972</td>\n",
       "      <td>1.098</td>\n",
       "    </tr>\n",
       "    <tr>\n",
       "      <th>larceny_theft</th>\n",
       "      <td>0.977</td>\n",
       "      <td>0.999</td>\n",
       "    </tr>\n",
       "    <tr>\n",
       "      <th>motor_theft</th>\n",
       "      <td>0.827</td>\n",
       "      <td>1.318</td>\n",
       "    </tr>\n",
       "  </tbody>\n",
       "</table>\n",
       "</div>"
      ],
      "text/plain": [
       "                   0     1\n",
       "Intercept     -1.162 2.927\n",
       "burglary       0.972 1.098\n",
       "larceny_theft  0.977 0.999\n",
       "motor_theft    0.827 1.318"
      ]
     },
     "execution_count": 46,
     "metadata": {},
     "output_type": "execute_result"
    }
   ],
   "source": [
    "lm.conf_int()"
   ]
  },
  {
   "cell_type": "code",
   "execution_count": 47,
   "metadata": {},
   "outputs": [
    {
     "data": {
      "image/png": "[encoded data removed]",
      "text/plain": [
       "<Figure size 432x288 with 1 Axes>"
      ]
     },
     "metadata": {},
     "output_type": "display_data"
    }
   ],
   "source": [
    "import statsmodels.formula.api as smf\n",
    "from statsmodels.sandbox.regression.predstd import wls_prediction_std\n",
    "\n",
    "\n",
    "# Use wls_prediction_std to build confidence intervals\n",
    "prstd, iv_l, iv_u = wls_prediction_std(lm)\n",
    "\n",
    "plt.figure()\n",
    "plt.plot(iv_u[0:15], 'o', color='r')\n",
    "plt.plot(iv_l[0:15], 'o', color='r')\n",
    "plt.plot(lm.fittedvalues[0:15], 'o', color='b')\n",
    "plt.title('blue: predicted, red: 95% CI')\n",
    "plt.show()"
   ]
  },
  {
   "cell_type": "markdown",
   "metadata": {},
   "source": [
    "### Dimensionality Reduction: PLSR (Partial Least Squares Regression)"
   ]
  },
  {
   "cell_type": "code",
   "execution_count": 48,
   "metadata": {},
   "outputs": [],
   "source": [
    "from sklearn.cross_decomposition import PLSRegression"
   ]
  },
  {
   "cell_type": "code",
   "execution_count": 54,
   "metadata": {},
   "outputs": [
    {
     "name": "stdout",
     "output_type": "stream",
     "text": [
      "R-squared regression:  0.9989995532674184\n"
     ]
    }
   ],
   "source": [
    "regr = linear_model.LinearRegression()\n",
    "regr.fit(X, Y)\n",
    "\n",
    "Y_pred_reg = regr.predict(X)\n",
    "print(\"R-squared regression: \", regr.score(X,Y))\n"
   ]
  },
  {
   "cell_type": "code",
   "execution_count": 50,
   "metadata": {},
   "outputs": [
    {
     "data": {
      "text/plain": [
       "Index(['city', 'population', 'violent_crime', 'murder_manslaughter', 'rape',\n",
       "       'robbery_default', 'aggr_assault', 'property_crime', 'burglary',\n",
       "       'larceny_theft', 'motor_theft', 'Arson3'],\n",
       "      dtype='object')"
      ]
     },
     "execution_count": 50,
     "metadata": {},
     "output_type": "execute_result"
    }
   ],
   "source": [
    "nyc.columns"
   ]
  },
  {
   "cell_type": "code",
   "execution_count": 55,
   "metadata": {},
   "outputs": [],
   "source": [
    "X_pls = nyc[['population', 'violent_crime', 'murder_manslaughter', 'rape',\n",
    "       'robbery_default', 'aggr_assault',  'burglary',\n",
    "       'larceny_theft', 'motor_theft', 'Arson3' ]]\n",
    "\n",
    "y_pls = nyc.property_crime.values.reshape(-1,1)"
   ]
  },
  {
   "cell_type": "code",
   "execution_count": 56,
   "metadata": {},
   "outputs": [
    {
     "name": "stdout",
     "output_type": "stream",
     "text": [
      "R-squared PLSR:  0.9776743977971222\n"
     ]
    }
   ],
   "source": [
    "# Fit a linear model using Partial Least Squares Regression \n",
    "# Reduce features to 3 components \n",
    "\n",
    "pls = PLSRegression(n_components=3)\n",
    "\n",
    "# Reduce X to R(X) and fit on y.\n",
    "pls.fit(X_pls, y_pls)\n",
    "\n",
    "# Save predicted values \n",
    "\n",
    "Y_pred_pls = pls.predict(X_pls)\n",
    "print('R-squared PLSR: ', pls.score(X_pls, y_pls))\n",
    "\n",
    "\n"
   ]
  },
  {
   "cell_type": "code",
   "execution_count": 57,
   "metadata": {},
   "outputs": [
    {
     "data": {
      "image/png": "[encoded data removed]",
      "text/plain": [
       "<Figure size 432x288 with 1 Axes>"
      ]
     },
     "metadata": {},
     "output_type": "display_data"
    }
   ],
   "source": [
    "# Comparing the predictions of the two models \n",
    "\n",
    "plt.scatter(Y_pred_reg, Y_pred_pls)\n",
    "plt.xlabel('Predicted by original 10 features')\n",
    "plt.ylabel('Predicted by 5 features')\n",
    "plt.title('Comparing LR and PLSR predictions')\n",
    "plt.show()"
   ]
  },
  {
   "cell_type": "markdown",
   "metadata": {},
   "source": [
    "### Gradient Descent Algorithm (2.5)"
   ]
  },
  {
   "cell_type": "code",
   "execution_count": null,
   "metadata": {},
   "outputs": [],
   "source": []
  },
  {
   "cell_type": "code",
   "execution_count": null,
   "metadata": {},
   "outputs": [],
   "source": []
  }
 ],
 "metadata": {
  "kernelspec": {
   "display_name": "Python 3",
   "language": "python",
   "name": "python3"
  },
  "language_info": {
   "codemirror_mode": {
    "name": "ipython",
    "version": 3
   },
   "file_extension": ".py",
   "mimetype": "text/x-python",
   "name": "python",
   "nbconvert_exporter": "python",
   "pygments_lexer": "ipython3",
   "version": "3.6.5"
  }
 },
 "nbformat": 4,
 "nbformat_minor": 2
}
