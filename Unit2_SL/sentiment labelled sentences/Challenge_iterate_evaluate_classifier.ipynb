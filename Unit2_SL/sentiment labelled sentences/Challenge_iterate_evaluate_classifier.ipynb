{
 "cells": [
  {
   "cell_type": "markdown",
   "metadata": {},
   "source": [
    "### Challenge: Iterate and evaluate your classifier\n",
    "\n",
    "*It's time to revisit your classifier from the previous assignment. Using the evaluation techniques we've covered here, look at your classifier's performance in more detail. Then go back and iterate by engineering new features, removing poor features, or tuning parameters. Repeat this process until you have five different versions of your classifier. Once you've iterated, answer these questions to compare the performance of each:*\n",
    "\n",
    "- Do any of your classifiers seem to overfit?\n",
    "- Which seem to perform the best? Why?\n",
    "- Which features seemed to be most impactful to performance?\n",
    "\n",
    "*Write up your iterations and answers to the above questions in a few pages. Submit a link below and go over it with your mentor to see if they have any other ideas on how you could improve your classifier's performance.*"
   ]
  },
  {
   "cell_type": "code",
   "execution_count": null,
   "metadata": {},
   "outputs": [],
   "source": []
  },
  {
   "cell_type": "code",
   "execution_count": 1,
   "metadata": {},
   "outputs": [
    {
     "name": "stdout",
     "output_type": "stream",
     "text": [
      "[nltk_data] Downloading package stopwords to\n",
      "[nltk_data]     /Users/pbiswas/nltk_data...\n",
      "[nltk_data]   Package stopwords is already up-to-date!\n",
      "[nltk_data] Downloading package punkt to /Users/pbiswas/nltk_data...\n",
      "[nltk_data]   Package punkt is already up-to-date!\n"
     ]
    }
   ],
   "source": [
    "%matplotlib inline\n",
    "import numpy as np\n",
    "import pandas as pd\n",
    "import scipy\n",
    "import sklearn\n",
    "import matplotlib.pyplot as plt\n",
    "import seaborn as sns\n",
    "\n",
    "import string\n",
    "from collections import Counter\n",
    "\n",
    "from sklearn.metrics import confusion_matrix\n",
    "\n",
    "import nltk\n",
    "nltk.download('stopwords')\n",
    "nltk.download('punkt')\n",
    "from nltk.corpus import stopwords\n",
    "from nltk.tokenize import word_tokenize"
   ]
  },
  {
   "cell_type": "code",
   "execution_count": 2,
   "metadata": {},
   "outputs": [],
   "source": [
    "data = pd.read_csv(\"amazon_cells_labelled.txt\", delimiter= '\\t', header=None)\n",
    "data.columns = ['review', 'pos']"
   ]
  },
  {
   "cell_type": "code",
   "execution_count": 3,
   "metadata": {},
   "outputs": [
    {
     "data": {
      "text/html": [
       "<div>\n",
       "<style scoped>\n",
       "    .dataframe tbody tr th:only-of-type {\n",
       "        vertical-align: middle;\n",
       "    }\n",
       "\n",
       "    .dataframe tbody tr th {\n",
       "        vertical-align: top;\n",
       "    }\n",
       "\n",
       "    .dataframe thead th {\n",
       "        text-align: right;\n",
       "    }\n",
       "</style>\n",
       "<table border=\"1\" class=\"dataframe\">\n",
       "  <thead>\n",
       "    <tr style=\"text-align: right;\">\n",
       "      <th></th>\n",
       "      <th>review</th>\n",
       "      <th>pos</th>\n",
       "    </tr>\n",
       "  </thead>\n",
       "  <tbody>\n",
       "    <tr>\n",
       "      <th>0</th>\n",
       "      <td>So there is no way for me to plug it in here i...</td>\n",
       "      <td>0</td>\n",
       "    </tr>\n",
       "    <tr>\n",
       "      <th>1</th>\n",
       "      <td>Good case, Excellent value.</td>\n",
       "      <td>1</td>\n",
       "    </tr>\n",
       "    <tr>\n",
       "      <th>2</th>\n",
       "      <td>Great for the jawbone.</td>\n",
       "      <td>1</td>\n",
       "    </tr>\n",
       "    <tr>\n",
       "      <th>3</th>\n",
       "      <td>Tied to charger for conversations lasting more...</td>\n",
       "      <td>0</td>\n",
       "    </tr>\n",
       "    <tr>\n",
       "      <th>4</th>\n",
       "      <td>The mic is great.</td>\n",
       "      <td>1</td>\n",
       "    </tr>\n",
       "  </tbody>\n",
       "</table>\n",
       "</div>"
      ],
      "text/plain": [
       "                                              review  pos\n",
       "0  So there is no way for me to plug it in here i...    0\n",
       "1                        Good case, Excellent value.    1\n",
       "2                             Great for the jawbone.    1\n",
       "3  Tied to charger for conversations lasting more...    0\n",
       "4                                  The mic is great.    1"
      ]
     },
     "execution_count": 3,
     "metadata": {},
     "output_type": "execute_result"
    }
   ],
   "source": [
    "data.head()"
   ]
  },
  {
   "cell_type": "code",
   "execution_count": 4,
   "metadata": {},
   "outputs": [],
   "source": [
    "#list(data[data.pos == 1].review)  #all complete pos feedback #list shows full content\n",
    "\n",
    "#listb(data[data.pos == 0].review)"
   ]
  },
  {
   "cell_type": "code",
   "execution_count": 21,
   "metadata": {},
   "outputs": [],
   "source": [
    "words = \" \".join(data['review']) #joined dataframe to create string\n",
    "\n",
    "stop = set(stopwords.words('english'))\n",
    "word_tokens = word_tokenize(words)  #split text into tokens \n",
    "\n",
    "tokenized_words = []\n",
    "for word in word_tokens:\n",
    "    if word.lower() not in stop and word.lower() not in string.punctuation:\n",
    "        tokenized_words.append(word)\n",
    "        \n",
    "tokenized_count = Counter(tokenized_words).most_common()\n",
    "#tokenized_count[:50]"
   ]
  },
  {
   "cell_type": "code",
   "execution_count": 22,
   "metadata": {},
   "outputs": [],
   "source": [
    "# tfidf - incorporate tfidf - run everything thru that and then run thru tokenizer - \n",
    "# sparse matrix. - really \n",
    "\n",
    "# find the dictionaries with positive keywords and try with that"
   ]
  },
  {
   "cell_type": "markdown",
   "metadata": {},
   "source": [
    "### Classifier version: 1"
   ]
  },
  {
   "cell_type": "code",
   "execution_count": 24,
   "metadata": {},
   "outputs": [],
   "source": [
    "# Feature Engineering \n",
    "\n",
    "pos_keywords = ['good', 'best', 'excellent', 'fine', 'nice', 'great',\n",
    "               'satisfied', 'fulfill', 'love', 'easy', 'happy', 'excellent', \n",
    "               'recommend', 'impressed', 'incredible', 'well', 'awesome', 'cool',\n",
    "               'fantastic', 'sturdy' ]\n",
    "\n",
    "# ':-)' in the keywords created an error\n",
    "\n",
    "for key in pos_keywords:\n",
    "    data[str(key)] = data.review.str.contains(' '+ str(key), case=False)"
   ]
  },
  {
   "cell_type": "code",
   "execution_count": 26,
   "metadata": {},
   "outputs": [],
   "source": [
    "#data.head()"
   ]
  },
  {
   "cell_type": "code",
   "execution_count": 27,
   "metadata": {},
   "outputs": [],
   "source": [
    "#Features two\n",
    "pos_intensifiers = ['very', 'pretty', 'highly', 'really', 'perfectly']\n",
    "\n",
    "for key in pos_intensifiers: \n",
    "    data[str(key)] = data.review.str.contains(' ' + str(key) + ' ', case=False)"
   ]
  },
  {
   "cell_type": "code",
   "execution_count": 28,
   "metadata": {},
   "outputs": [],
   "source": [
    "#data.head()"
   ]
  },
  {
   "cell_type": "code",
   "execution_count": 29,
   "metadata": {},
   "outputs": [
    {
     "data": {
      "text/plain": [
       "<matplotlib.axes._subplots.AxesSubplot at 0x10b1fca90>"
      ]
     },
     "execution_count": 29,
     "metadata": {},
     "output_type": "execute_result"
    },
    {
     "data": {
      "image/png": "[encoded data removed]",
      "text/plain": [
       "<Figure size 720x576 with 2 Axes>"
      ]
     },
     "metadata": {},
     "output_type": "display_data"
    }
   ],
   "source": [
    "plt.figure(figsize=(10,8))\n",
    "sns.heatmap(data.corr(), cmap='BuPu', square=True)"
   ]
  },
  {
   "cell_type": "code",
   "execution_count": 30,
   "metadata": {},
   "outputs": [],
   "source": [
    "# Training data \n",
    "\n",
    "X = data[pos_keywords + pos_intensifiers]  #sparse matrix, mostly zero and some 1s.\n",
    "y = data.pos"
   ]
  },
  {
   "cell_type": "code",
   "execution_count": 32,
   "metadata": {},
   "outputs": [],
   "source": [
    "# Binary data - Bernoulli\n",
    "\n",
    "from sklearn.naive_bayes import BernoulliNB\n",
    "\n",
    "bnb = BernoulliNB() # instantiate\n",
    "\n",
    "# fit model \n",
    "bnb.fit(X, y)  #learning which features correspond to a pos senting \n",
    "\n",
    "y_pred =  bnb.predict(X)  #.predict in classifier, and .transform in feature selection "
   ]
  },
  {
   "cell_type": "code",
   "execution_count": 13,
   "metadata": {},
   "outputs": [
    {
     "data": {
      "text/plain": [
       "array([[-2.30657711, -3.32822836, -3.57954279, -3.65365076, -3.51054992,\n",
       "        -2.09146573, -4.60916221, -5.52545294, -3.22286785, -3.65365076,\n",
       "        -3.65365076, -3.57954279, -3.12755767, -4.42684065, -5.52545294,\n",
       "        -2.72209256, -4.60916221, -4.27268997, -5.52545294, -4.42684065,\n",
       "        -2.19324843, -4.02137554, -4.13915858, -3.57954279, -5.52545294]])"
      ]
     },
     "execution_count": 13,
     "metadata": {},
     "output_type": "execute_result"
    }
   ],
   "source": [
    "bnb.coef_"
   ]
  },
  {
   "cell_type": "code",
   "execution_count": 125,
   "metadata": {},
   "outputs": [
    {
     "data": {
      "text/plain": [
       "array([ 5, 20,  0, 15, 12,  8,  1,  4,  2, 23, 11,  9,  3, 10, 21, 22, 17,\n",
       "       19, 13,  6, 16,  7, 18, 14, 24])"
      ]
     },
     "execution_count": 125,
     "metadata": {},
     "output_type": "execute_result"
    }
   ],
   "source": [
    "bnb_idx = np.argsort(bnb.coef_)[0][::-1]  #accessing list within array and reversing it.\n",
    "#Because argsort sorts indexes for its ascending values \n",
    "bnb_idx"
   ]
  },
  {
   "cell_type": "code",
   "execution_count": 126,
   "metadata": {},
   "outputs": [],
   "source": [
    "#np.argsort(bnb.coef_)"
   ]
  },
  {
   "cell_type": "code",
   "execution_count": 127,
   "metadata": {},
   "outputs": [
    {
     "name": "stdout",
     "output_type": "stream",
     "text": [
      "The important feature s are: Index(['great', 'very', 'good', 'well', 'recommend', 'love', 'best', 'nice',\n",
      "       'excellent', 'really', 'excellent', 'easy', 'fine', 'happy', 'pretty',\n",
      "       'highly', 'cool', 'sturdy', 'impressed', 'satisfied', 'awesome',\n",
      "       'fulfill', 'fantastic', 'incredible', 'perfectly'],\n",
      "      dtype='object')\n"
     ]
    }
   ],
   "source": [
    "print(\"The important features are: {}\".format(X.columns[bnb_idx]))"
   ]
  },
  {
   "cell_type": "code",
   "execution_count": 33,
   "metadata": {},
   "outputs": [
    {
     "data": {
      "text/plain": [
       "array([[438,  62],\n",
       "       [231, 269]])"
      ]
     },
     "execution_count": 33,
     "metadata": {},
     "output_type": "execute_result"
    }
   ],
   "source": [
    "confusion_matrix(y, y_pred)"
   ]
  },
  {
   "cell_type": "code",
   "execution_count": 34,
   "metadata": {
    "scrolled": true
   },
   "outputs": [
    {
     "name": "stdout",
     "output_type": "stream",
     "text": [
      "Number of mislabeled points out of total 1000 points: 293\n"
     ]
    }
   ],
   "source": [
    "print(\"Number of mislabeled points out of total {} points: {}\".format(\n",
    "X.shape[0], (y != y_pred).sum()))  #FP + FN"
   ]
  },
  {
   "cell_type": "code",
   "execution_count": 35,
   "metadata": {},
   "outputs": [],
   "source": [
    "# Transforming nparray to a Series for adding to a dataframe \n",
    "y_pred_series = pd.Series(y_pred)\n",
    "\n",
    "# Creating a dataframe with only y and y_pred for manually calculating confusion matrix \n",
    "y_df = pd.concat([y, y_pred_series], axis=1)   ####\n",
    "y_df.columns = ['y', 'y_pred']"
   ]
  },
  {
   "cell_type": "code",
   "execution_count": 36,
   "metadata": {},
   "outputs": [],
   "source": [
    "#y_df.head(20)"
   ]
  },
  {
   "cell_type": "code",
   "execution_count": 37,
   "metadata": {},
   "outputs": [
    {
     "name": "stdout",
     "output_type": "stream",
     "text": [
      "TP: 438 \n",
      "FP: 231 \n",
      "TN: 62 \n",
      "FN: 269\n"
     ]
    }
   ],
   "source": [
    "print(\"TP: {} \\nFP: {} \\nTN: {} \\nFN: {}\".format(y_df.groupby('y').y_pred.value_counts()[0][0], \n",
    "y_df.groupby('y').y_pred.value_counts()[1][0],\n",
    "y_df.groupby('y').y_pred.value_counts()[0][1],\n",
    "y_df.groupby('y').y_pred.value_counts()[1][1]))\n",
    "# Calculating confusion matrix manually \n",
    "#y_df.groupby('y').y_pred.value_counts()[0][0]\n",
    "#y_df.groupby('y').y_pred.value_counts()[1][0]\n",
    "#y_df.groupby('y').y_pred.value_counts()[0][1]\n",
    "#y_df.groupby('y').y_pred.value_counts()[1][1]"
   ]
  },
  {
   "cell_type": "code",
   "execution_count": null,
   "metadata": {},
   "outputs": [],
   "source": [
    "# try .apply for manually calculating the confusion matrix\n",
    "\n",
    "#y_df.apply(lambda x: 0 if x[\"y\"] == x[\"y_pred\"] else 1, axis = 1).sum()"
   ]
  },
  {
   "cell_type": "code",
   "execution_count": 38,
   "metadata": {},
   "outputs": [
    {
     "data": {
      "text/plain": [
       "array([0.77, 0.64, 0.73, 0.63, 0.75, 0.72, 0.72, 0.74, 0.71, 0.64])"
      ]
     },
     "execution_count": 38,
     "metadata": {},
     "output_type": "execute_result"
    }
   ],
   "source": [
    "from sklearn.model_selection import cross_val_score\n",
    "cross_val_score(bnb, X, y, cv=10)\n",
    "print(\"Accuracy: %0.2f (+/- %0.2f)\" % (scores.mean(), scores.std() *2))"
   ]
  },
  {
   "cell_type": "code",
   "execution_count": 41,
   "metadata": {},
   "outputs": [
    {
     "name": "stdout",
     "output_type": "stream",
     "text": [
      "Accuracy: 0.70 (+/- 0.10)\n"
     ]
    }
   ],
   "source": [
    "scores = cross_val_score(bnb, X, y, cv=10)\n",
    "print(\"Accuracy: %0.2f (+/- %0.2f)\" % (scores.mean(), scores.std() *2))"
   ]
  },
  {
   "cell_type": "code",
   "execution_count": 87,
   "metadata": {},
   "outputs": [],
   "source": [
    "def CV(df_x, df_y, k):\n",
    "    \n",
    "    CV_matrix = []\n",
    "    from sklearn.model_selection import train_test_split\n",
    "    for fold in np.arange(10):\n",
    "        X_train, X_test, y_train, y_test = train_test_split(df_x, df_y, test_size=k, random_state=None)\n",
    "    \n",
    "        from sklearn.naive_bayes import BernoulliNB\n",
    "        bnb = BernoulliNB()\n",
    "        bnb.fit(X_train, y_train)\n",
    "\n",
    "    # Classify, storing the result in a new variable \n",
    "        y_pred = bnb.predict(X_test)\n",
    "        CV_matrix.append(((y_test == y_pred).sum() / len(y_pred)*100))\n",
    "    print(\"Cross-validation scores: \" + str((CV_matrix)))\n",
    "    print(\"Mean of cross validation scores {}\".format(round(np.mean(CV_matrix)),2))\n",
    "\n",
    "\n"
   ]
  },
  {
   "cell_type": "code",
   "execution_count": 88,
   "metadata": {},
   "outputs": [
    {
     "name": "stdout",
     "output_type": "stream",
     "text": [
      "Cross-validation scores: [69.39393939393939, 72.42424242424242, 72.72727272727273, 70.3030303030303, 68.48484848484848, 66.06060606060606, 70.0, 68.18181818181817, 68.18181818181817, 70.3030303030303]\n",
      "Mean of cross validation scores 70.0\n"
     ]
    }
   ],
   "source": [
    "CV(X, y, .33)"
   ]
  },
  {
   "cell_type": "code",
   "execution_count": 53,
   "metadata": {
    "scrolled": true
   },
   "outputs": [],
   "source": [
    "#for value in np.arange(len(y_df)):\n",
    "#    if y_df['y_pred'].iloc[value].isin(y_df.y.iloc[value]):\n",
    "#        print(value)"
   ]
  },
  {
   "cell_type": "code",
   "execution_count": 49,
   "metadata": {},
   "outputs": [],
   "source": [
    "#df['matches'] = df['material1'].isin(df['material2']).astype(int)\n",
    "#df = df.groupby(['claim', 'event'], as_index=False)['matches'].sum()\n",
    "\n",
    "#y_df['matches'] = y_df['y_pred'].value.isin(y_df['y']).astype(int)"
   ]
  },
  {
   "cell_type": "markdown",
   "metadata": {},
   "source": [
    "### Classifier version: 2 \n",
    "\n"
   ]
  },
  {
   "cell_type": "code",
   "execution_count": 89,
   "metadata": {},
   "outputs": [],
   "source": [
    "# Trying countvectorizer \n",
    "# Import countvectorizer \n",
    "\n",
    "from sklearn.feature_extraction.text import CountVectorizer\n",
    "\n"
   ]
  },
  {
   "cell_type": "code",
   "execution_count": 100,
   "metadata": {},
   "outputs": [
    {
     "name": "stdout",
     "output_type": "stream",
     "text": [
      "Pretty printing has been turned OFF\n"
     ]
    }
   ],
   "source": [
    "# Turn of pretty printing of jupyter notebook which generates long lines\n",
    "%pprint   # On and OFF with running "
   ]
  },
  {
   "cell_type": "code",
   "execution_count": 128,
   "metadata": {},
   "outputs": [],
   "source": [
    "clf2 = pd.read_csv(\"amazon_cells_labelled.txt\", delimiter= '\\t', header=None)\n",
    "clf2.columns = ['review', 'pos']"
   ]
  },
  {
   "cell_type": "code",
   "execution_count": null,
   "metadata": {},
   "outputs": [],
   "source": []
  },
  {
   "cell_type": "code",
   "execution_count": 133,
   "metadata": {},
   "outputs": [],
   "source": [
    "clf2_vec = CountVectorizer(min_df=1, tokenizer=nltk.word_tokenize)"
   ]
  },
  {
   "cell_type": "code",
   "execution_count": 139,
   "metadata": {},
   "outputs": [
    {
     "data": {
      "text/plain": [
       "CountVectorizer(analyzer='word', binary=False, decode_error='strict',\n",
       "        dtype=<class 'numpy.int64'>, encoding='utf-8', input='content',\n",
       "        lowercase=True, max_df=1.0, max_features=None, min_df=1,\n",
       "        ngram_range=(1, 1), preprocessor=None, stop_words=None,\n",
       "        strip_accents=None, token_pattern='(?u)\\\\b\\\\w\\\\w+\\\\b',\n",
       "        tokenizer=<function word_tokenize at 0x10a779f28>, vocabulary=None)"
      ]
     },
     "execution_count": 139,
     "metadata": {},
     "output_type": "execute_result"
    }
   ],
   "source": [
    "clf2_vec"
   ]
  },
  {
   "cell_type": "code",
   "execution_count": 134,
   "metadata": {},
   "outputs": [],
   "source": [
    "clf2_review_count = clf2_vec.fit_transform(clf2)"
   ]
  },
  {
   "cell_type": "code",
   "execution_count": 136,
   "metadata": {},
   "outputs": [
    {
     "data": {
      "text/plain": [
       "{'review': 1, 'pos': 0}"
      ]
     },
     "execution_count": 136,
     "metadata": {},
     "output_type": "execute_result"
    }
   ],
   "source": [
    "clf2_vec.vocabulary_"
   ]
  },
  {
   "cell_type": "code",
   "execution_count": 138,
   "metadata": {},
   "outputs": [
    {
     "data": {
      "text/plain": [
       "array([[0, 1],\n",
       "       [1, 0]], dtype=int64)"
      ]
     },
     "execution_count": 138,
     "metadata": {},
     "output_type": "execute_result"
    }
   ],
   "source": [
    "clf2_review_count.toarray()"
   ]
  },
  {
   "cell_type": "code",
   "execution_count": null,
   "metadata": {},
   "outputs": [],
   "source": []
  },
  {
   "cell_type": "code",
   "execution_count": null,
   "metadata": {},
   "outputs": [],
   "source": []
  },
  {
   "cell_type": "code",
   "execution_count": null,
   "metadata": {},
   "outputs": [],
   "source": []
  },
  {
   "cell_type": "code",
   "execution_count": null,
   "metadata": {},
   "outputs": [],
   "source": []
  },
  {
   "cell_type": "code",
   "execution_count": null,
   "metadata": {},
   "outputs": [],
   "source": []
  },
  {
   "cell_type": "code",
   "execution_count": null,
   "metadata": {},
   "outputs": [],
   "source": []
  },
  {
   "cell_type": "code",
   "execution_count": null,
   "metadata": {},
   "outputs": [],
   "source": []
  },
  {
   "cell_type": "code",
   "execution_count": null,
   "metadata": {},
   "outputs": [],
   "source": []
  },
  {
   "cell_type": "code",
   "execution_count": 52,
   "metadata": {},
   "outputs": [],
   "source": [
    "data_yelp = pd.read_csv('yelp_labelled.txt', delimiter='\\t', header=None)\n",
    "data_yelp.columns = ['review', 'pos']"
   ]
  },
  {
   "cell_type": "code",
   "execution_count": 53,
   "metadata": {},
   "outputs": [
    {
     "data": {
      "text/html": [
       "<div>\n",
       "<style scoped>\n",
       "    .dataframe tbody tr th:only-of-type {\n",
       "        vertical-align: middle;\n",
       "    }\n",
       "\n",
       "    .dataframe tbody tr th {\n",
       "        vertical-align: top;\n",
       "    }\n",
       "\n",
       "    .dataframe thead th {\n",
       "        text-align: right;\n",
       "    }\n",
       "</style>\n",
       "<table border=\"1\" class=\"dataframe\">\n",
       "  <thead>\n",
       "    <tr style=\"text-align: right;\">\n",
       "      <th></th>\n",
       "      <th>review</th>\n",
       "      <th>pos</th>\n",
       "    </tr>\n",
       "  </thead>\n",
       "  <tbody>\n",
       "    <tr>\n",
       "      <th>0</th>\n",
       "      <td>Wow... Loved this place.</td>\n",
       "      <td>1</td>\n",
       "    </tr>\n",
       "    <tr>\n",
       "      <th>1</th>\n",
       "      <td>Crust is not good.</td>\n",
       "      <td>0</td>\n",
       "    </tr>\n",
       "    <tr>\n",
       "      <th>2</th>\n",
       "      <td>Not tasty and the texture was just nasty.</td>\n",
       "      <td>0</td>\n",
       "    </tr>\n",
       "    <tr>\n",
       "      <th>3</th>\n",
       "      <td>Stopped by during the late May bank holiday of...</td>\n",
       "      <td>1</td>\n",
       "    </tr>\n",
       "    <tr>\n",
       "      <th>4</th>\n",
       "      <td>The selection on the menu was great and so wer...</td>\n",
       "      <td>1</td>\n",
       "    </tr>\n",
       "  </tbody>\n",
       "</table>\n",
       "</div>"
      ],
      "text/plain": [
       "                                              review  pos\n",
       "0                           Wow... Loved this place.    1\n",
       "1                                 Crust is not good.    0\n",
       "2          Not tasty and the texture was just nasty.    0\n",
       "3  Stopped by during the late May bank holiday of...    1\n",
       "4  The selection on the menu was great and so wer...    1"
      ]
     },
     "execution_count": 53,
     "metadata": {},
     "output_type": "execute_result"
    }
   ],
   "source": [
    "data_yelp.head()"
   ]
  },
  {
   "cell_type": "code",
   "execution_count": 54,
   "metadata": {},
   "outputs": [],
   "source": [
    "y_yelp = data_yelp.pos"
   ]
  },
  {
   "cell_type": "code",
   "execution_count": 55,
   "metadata": {},
   "outputs": [],
   "source": [
    "bnb.fit(X, y_yelp) \n",
    "\n",
    "y_yelp_pred = bnb.predict(X)"
   ]
  },
  {
   "cell_type": "code",
   "execution_count": 56,
   "metadata": {},
   "outputs": [
    {
     "data": {
      "text/plain": [
       "array([[392, 108],\n",
       "       [337, 163]])"
      ]
     },
     "execution_count": 56,
     "metadata": {},
     "output_type": "execute_result"
    }
   ],
   "source": [
    "confusion_matrix(y_yelp, y_yelp_pred)"
   ]
  },
  {
   "cell_type": "code",
   "execution_count": 57,
   "metadata": {},
   "outputs": [
    {
     "name": "stdout",
     "output_type": "stream",
     "text": [
      "Trained Amazon model, tested on Yelp. \n",
      "Number of mislabeled points in the yelp data, out of total 1000 points: 345\n"
     ]
    }
   ],
   "source": [
    "print(\"Trained Amazon model, tested on Yelp. \\nNumber of mislabeled points in the yelp data, \\\n",
    "out of total {} points: {}\".format(\n",
    "X.shape[0], (y != y_yelp_pred).sum()))"
   ]
  },
  {
   "cell_type": "code",
   "execution_count": null,
   "metadata": {},
   "outputs": [],
   "source": []
  },
  {
   "cell_type": "code",
   "execution_count": null,
   "metadata": {},
   "outputs": [],
   "source": []
  }
 ],
 "metadata": {
  "kernelspec": {
   "display_name": "Python 3",
   "language": "python",
   "name": "python3"
  },
  "language_info": {
   "codemirror_mode": {
    "name": "ipython",
    "version": 3
   },
   "file_extension": ".py",
   "mimetype": "text/x-python",
   "name": "python",
   "nbconvert_exporter": "python",
   "pygments_lexer": "ipython3",
   "version": "3.6.5"
  }
 },
 "nbformat": 4,
 "nbformat_minor": 2
}
