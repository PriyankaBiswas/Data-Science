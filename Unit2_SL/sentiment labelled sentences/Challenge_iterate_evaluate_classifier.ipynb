{
 "cells": [
  {
   "cell_type": "markdown",
   "metadata": {},
   "source": [
    "### Challenge: Iterate and evaluate your classifier\n",
    "\n",
    "*It's time to revisit your classifier from the previous assignment. Using the evaluation techniques we've covered here, look at your classifier's performance in more detail. Then go back and iterate by engineering new features, removing poor features, or tuning parameters. Repeat this process until you have five different versions of your classifier. Once you've iterated, answer these questions to compare the performance of each:*\n",
    "\n",
    "- Do any of your classifiers seem to overfit?\n",
    "- Which seem to perform the best? Why?\n",
    "- Which features seemed to be most impactful to performance?\n",
    "\n",
    "*Write up your iterations and answers to the above questions in a few pages. Submit a link below and go over it with your mentor to see if they have any other ideas on how you could improve your classifier's performance.*"
   ]
  },
  {
   "cell_type": "code",
   "execution_count": 2,
   "metadata": {},
   "outputs": [],
   "source": [
    "# Import packages\n",
    "\n",
    "%matplotlib inline\n",
    "import numpy as np\n",
    "import pandas as pd\n",
    "import scipy\n",
    "import sklearn\n",
    "import matplotlib.pyplot as plt\n",
    "import seaborn as sns\n",
    "\n",
    "import string\n",
    "from collections import Counter\n",
    "\n",
    "from sklearn.feature_extraction.text import CountVectorizer\n",
    "from sklearn.feature_extraction.text import TfidfTransformer\n",
    "from sklearn.model_selection import train_test_split\n",
    "from sklearn.metrics import confusion_matrix\n",
    "from sklearn.model_selection import cross_val_score\n",
    "\n",
    "import nltk\n",
    "#nltk.download('stopwords')  # required the first time \n",
    "#nltk.download('punkt')\n",
    "from nltk.corpus import stopwords\n",
    "from nltk.tokenize import word_tokenize"
   ]
  },
  {
   "cell_type": "code",
   "execution_count": 3,
   "metadata": {},
   "outputs": [],
   "source": [
    "# Load data and rename columns \n",
    "\n",
    "data = pd.read_csv(\"amazon_cells_labelled.txt\", delimiter= '\\t', header=None)\n",
    "data.columns = ['review', 'pos']"
   ]
  },
  {
   "cell_type": "code",
   "execution_count": 4,
   "metadata": {
    "scrolled": true
   },
   "outputs": [
    {
     "data": {
      "text/html": [
       "<div>\n",
       "<style scoped>\n",
       "    .dataframe tbody tr th:only-of-type {\n",
       "        vertical-align: middle;\n",
       "    }\n",
       "\n",
       "    .dataframe tbody tr th {\n",
       "        vertical-align: top;\n",
       "    }\n",
       "\n",
       "    .dataframe thead th {\n",
       "        text-align: right;\n",
       "    }\n",
       "</style>\n",
       "<table border=\"1\" class=\"dataframe\">\n",
       "  <thead>\n",
       "    <tr style=\"text-align: right;\">\n",
       "      <th></th>\n",
       "      <th>review</th>\n",
       "      <th>pos</th>\n",
       "    </tr>\n",
       "  </thead>\n",
       "  <tbody>\n",
       "    <tr>\n",
       "      <th>0</th>\n",
       "      <td>So there is no way for me to plug it in here i...</td>\n",
       "      <td>0</td>\n",
       "    </tr>\n",
       "    <tr>\n",
       "      <th>1</th>\n",
       "      <td>Good case, Excellent value.</td>\n",
       "      <td>1</td>\n",
       "    </tr>\n",
       "    <tr>\n",
       "      <th>2</th>\n",
       "      <td>Great for the jawbone.</td>\n",
       "      <td>1</td>\n",
       "    </tr>\n",
       "    <tr>\n",
       "      <th>3</th>\n",
       "      <td>Tied to charger for conversations lasting more...</td>\n",
       "      <td>0</td>\n",
       "    </tr>\n",
       "    <tr>\n",
       "      <th>4</th>\n",
       "      <td>The mic is great.</td>\n",
       "      <td>1</td>\n",
       "    </tr>\n",
       "  </tbody>\n",
       "</table>\n",
       "</div>"
      ],
      "text/plain": [
       "                                              review  pos\n",
       "0  So there is no way for me to plug it in here i...    0\n",
       "1                        Good case, Excellent value.    1\n",
       "2                             Great for the jawbone.    1\n",
       "3  Tied to charger for conversations lasting more...    0\n",
       "4                                  The mic is great.    1"
      ]
     },
     "execution_count": 4,
     "metadata": {},
     "output_type": "execute_result"
    }
   ],
   "source": [
    "data.head()"
   ]
  },
  {
   "cell_type": "markdown",
   "metadata": {},
   "source": [
    "This dataset contains two columns. \n",
    "\n",
    "(1) \"review\": reviews from Amazon, which seems to be the review of a phone, \n",
    "\n",
    "(2) \"pos\": whether the reviews are positive or not. \n",
    "\n",
    "The following barcharts show equal number of positive and negative reviews, so we do not have class imbalance. \n"
   ]
  },
  {
   "cell_type": "code",
   "execution_count": 5,
   "metadata": {},
   "outputs": [
    {
     "data": {
      "text/plain": [
       "<matplotlib.axes._subplots.AxesSubplot at 0x1085f2e10>"
      ]
     },
     "execution_count": 5,
     "metadata": {},
     "output_type": "execute_result"
    },
    {
     "data": {
      "image/png": "[encoded data removed]",
      "text/plain": [
       "<Figure size 432x288 with 1 Axes>"
      ]
     },
     "metadata": {},
     "output_type": "display_data"
    }
   ],
   "source": [
    "# Equal number of pos and neg, which shows that we don't have class imbalance\n",
    "data.pos.value_counts().plot(kind='bar')"
   ]
  },
  {
   "cell_type": "markdown",
   "metadata": {},
   "source": [
    "In the first version, I build a classifier on the basis of text analysis and linguistic features. I first tokenize all the words and select a subset after removing English stopwords and punctuations. I manually select words from the most frequent words that predict the nature of the reviews . Linguistically, adjective and adjectival modifiers (\"intensifiers\") are often a good indicator of emotions. Thus, I select top adjectives and intensifier to build a sparse matrix. I then run a Bernoulli Naive Bayes (because the output variable is binary) and crossvalidated accuracy scores for the model."
   ]
  },
  {
   "cell_type": "code",
   "execution_count": 7,
   "metadata": {},
   "outputs": [
    {
     "data": {
      "text/plain": [
       "[('phone', 151),\n",
       " (\"n't\", 76),\n",
       " ('great', 67),\n",
       " ('good', 60),\n",
       " ('product', 51),\n",
       " ('quality', 44),\n",
       " ('headset', 44),\n",
       " (\"'s\", 43),\n",
       " ('use', 41),\n",
       " ('one', 39),\n",
       " ('sound', 37),\n",
       " ('well', 36),\n",
       " ('ear', 34),\n",
       " ('would', 34),\n",
       " ('battery', 33),\n",
       " ('work', 32),\n",
       " ('Great', 31),\n",
       " ('works', 31),\n",
       " ('...', 30),\n",
       " ('like', 30)]"
      ]
     },
     "execution_count": 7,
     "metadata": {},
     "output_type": "execute_result"
    }
   ],
   "source": [
    "# use tokenizer to divide sentences into words, remove stopwords and punctuations\n",
    "\n",
    "words = \" \".join(data.review) #joined dataframe to create string to pass on to the word_tokenize\n",
    "\n",
    "stop = set(stopwords.words('english'))\n",
    "word_tokens = word_tokenize(words)  #split text into tokens \n",
    "\n",
    "tokenized_words = []\n",
    "for word in word_tokens:\n",
    "    if word.lower() not in stop and word.lower() not in string.punctuation:\n",
    "        tokenized_words.append(word)\n",
    "        \n",
    "tokenized_count = Counter(tokenized_words).most_common()\n",
    "tokenized_count[:20]\n"
   ]
  },
  {
   "cell_type": "markdown",
   "metadata": {},
   "source": [
    "### Classifier version: 1: Feature Engineering "
   ]
  },
  {
   "cell_type": "code",
   "execution_count": 7,
   "metadata": {},
   "outputs": [],
   "source": [
    "# Feature Engineering \n",
    "# Features one: adding frequent adjectives from reviews \n",
    "\n",
    "pos_keywords = ['good', 'best', 'excellent', 'fine', 'nice', 'great',\n",
    "               'satisfied', 'fulfill', 'love', 'easy', 'happy', \n",
    "               'recommend', 'impressed', 'incredible', 'well', 'awesome', 'cool',\n",
    "               'fantastic', 'sturdy' ]\n",
    "\n",
    "# ':-)' in the keywords created an error\n",
    "\n",
    "for key in pos_keywords:\n",
    "    data[str(key)] = data.review.str.contains(' '+ str(key), case=False)"
   ]
  },
  {
   "cell_type": "code",
   "execution_count": 8,
   "metadata": {},
   "outputs": [],
   "source": [
    "#Features two: Adding intensifiers \n",
    "\n",
    "pos_intensifiers = ['very', 'pretty', 'highly', 'really', 'perfectly']\n",
    "\n",
    "for key in pos_intensifiers: \n",
    "    data[str(key)] = data.review.str.contains(' ' + str(key) + ' ', case=False)"
   ]
  },
  {
   "cell_type": "code",
   "execution_count": 9,
   "metadata": {},
   "outputs": [
    {
     "data": {
      "text/html": [
       "<div>\n",
       "<style scoped>\n",
       "    .dataframe tbody tr th:only-of-type {\n",
       "        vertical-align: middle;\n",
       "    }\n",
       "\n",
       "    .dataframe tbody tr th {\n",
       "        vertical-align: top;\n",
       "    }\n",
       "\n",
       "    .dataframe thead th {\n",
       "        text-align: right;\n",
       "    }\n",
       "</style>\n",
       "<table border=\"1\" class=\"dataframe\">\n",
       "  <thead>\n",
       "    <tr style=\"text-align: right;\">\n",
       "      <th></th>\n",
       "      <th>review</th>\n",
       "      <th>pos</th>\n",
       "      <th>good</th>\n",
       "      <th>best</th>\n",
       "      <th>excellent</th>\n",
       "      <th>fine</th>\n",
       "      <th>nice</th>\n",
       "      <th>great</th>\n",
       "      <th>satisfied</th>\n",
       "      <th>fulfill</th>\n",
       "      <th>...</th>\n",
       "      <th>well</th>\n",
       "      <th>awesome</th>\n",
       "      <th>cool</th>\n",
       "      <th>fantastic</th>\n",
       "      <th>sturdy</th>\n",
       "      <th>very</th>\n",
       "      <th>pretty</th>\n",
       "      <th>highly</th>\n",
       "      <th>really</th>\n",
       "      <th>perfectly</th>\n",
       "    </tr>\n",
       "  </thead>\n",
       "  <tbody>\n",
       "    <tr>\n",
       "      <th>0</th>\n",
       "      <td>So there is no way for me to plug it in here i...</td>\n",
       "      <td>0</td>\n",
       "      <td>False</td>\n",
       "      <td>False</td>\n",
       "      <td>False</td>\n",
       "      <td>False</td>\n",
       "      <td>False</td>\n",
       "      <td>False</td>\n",
       "      <td>False</td>\n",
       "      <td>False</td>\n",
       "      <td>...</td>\n",
       "      <td>False</td>\n",
       "      <td>False</td>\n",
       "      <td>False</td>\n",
       "      <td>False</td>\n",
       "      <td>False</td>\n",
       "      <td>False</td>\n",
       "      <td>False</td>\n",
       "      <td>False</td>\n",
       "      <td>False</td>\n",
       "      <td>False</td>\n",
       "    </tr>\n",
       "    <tr>\n",
       "      <th>1</th>\n",
       "      <td>Good case, Excellent value.</td>\n",
       "      <td>1</td>\n",
       "      <td>False</td>\n",
       "      <td>False</td>\n",
       "      <td>True</td>\n",
       "      <td>False</td>\n",
       "      <td>False</td>\n",
       "      <td>False</td>\n",
       "      <td>False</td>\n",
       "      <td>False</td>\n",
       "      <td>...</td>\n",
       "      <td>False</td>\n",
       "      <td>False</td>\n",
       "      <td>False</td>\n",
       "      <td>False</td>\n",
       "      <td>False</td>\n",
       "      <td>False</td>\n",
       "      <td>False</td>\n",
       "      <td>False</td>\n",
       "      <td>False</td>\n",
       "      <td>False</td>\n",
       "    </tr>\n",
       "    <tr>\n",
       "      <th>2</th>\n",
       "      <td>Great for the jawbone.</td>\n",
       "      <td>1</td>\n",
       "      <td>False</td>\n",
       "      <td>False</td>\n",
       "      <td>False</td>\n",
       "      <td>False</td>\n",
       "      <td>False</td>\n",
       "      <td>False</td>\n",
       "      <td>False</td>\n",
       "      <td>False</td>\n",
       "      <td>...</td>\n",
       "      <td>False</td>\n",
       "      <td>False</td>\n",
       "      <td>False</td>\n",
       "      <td>False</td>\n",
       "      <td>False</td>\n",
       "      <td>False</td>\n",
       "      <td>False</td>\n",
       "      <td>False</td>\n",
       "      <td>False</td>\n",
       "      <td>False</td>\n",
       "    </tr>\n",
       "    <tr>\n",
       "      <th>3</th>\n",
       "      <td>Tied to charger for conversations lasting more...</td>\n",
       "      <td>0</td>\n",
       "      <td>False</td>\n",
       "      <td>False</td>\n",
       "      <td>False</td>\n",
       "      <td>False</td>\n",
       "      <td>False</td>\n",
       "      <td>False</td>\n",
       "      <td>False</td>\n",
       "      <td>False</td>\n",
       "      <td>...</td>\n",
       "      <td>False</td>\n",
       "      <td>False</td>\n",
       "      <td>False</td>\n",
       "      <td>False</td>\n",
       "      <td>False</td>\n",
       "      <td>False</td>\n",
       "      <td>False</td>\n",
       "      <td>False</td>\n",
       "      <td>False</td>\n",
       "      <td>False</td>\n",
       "    </tr>\n",
       "    <tr>\n",
       "      <th>4</th>\n",
       "      <td>The mic is great.</td>\n",
       "      <td>1</td>\n",
       "      <td>False</td>\n",
       "      <td>False</td>\n",
       "      <td>False</td>\n",
       "      <td>False</td>\n",
       "      <td>False</td>\n",
       "      <td>True</td>\n",
       "      <td>False</td>\n",
       "      <td>False</td>\n",
       "      <td>...</td>\n",
       "      <td>False</td>\n",
       "      <td>False</td>\n",
       "      <td>False</td>\n",
       "      <td>False</td>\n",
       "      <td>False</td>\n",
       "      <td>False</td>\n",
       "      <td>False</td>\n",
       "      <td>False</td>\n",
       "      <td>False</td>\n",
       "      <td>False</td>\n",
       "    </tr>\n",
       "  </tbody>\n",
       "</table>\n",
       "<p>5 rows × 26 columns</p>\n",
       "</div>"
      ],
      "text/plain": [
       "                                              review  pos   good   best  \\\n",
       "0  So there is no way for me to plug it in here i...    0  False  False   \n",
       "1                        Good case, Excellent value.    1  False  False   \n",
       "2                             Great for the jawbone.    1  False  False   \n",
       "3  Tied to charger for conversations lasting more...    0  False  False   \n",
       "4                                  The mic is great.    1  False  False   \n",
       "\n",
       "   excellent   fine   nice  great  satisfied  fulfill    ...       well  \\\n",
       "0      False  False  False  False      False    False    ...      False   \n",
       "1       True  False  False  False      False    False    ...      False   \n",
       "2      False  False  False  False      False    False    ...      False   \n",
       "3      False  False  False  False      False    False    ...      False   \n",
       "4      False  False  False   True      False    False    ...      False   \n",
       "\n",
       "   awesome   cool  fantastic  sturdy   very  pretty  highly  really  perfectly  \n",
       "0    False  False      False   False  False   False   False   False      False  \n",
       "1    False  False      False   False  False   False   False   False      False  \n",
       "2    False  False      False   False  False   False   False   False      False  \n",
       "3    False  False      False   False  False   False   False   False      False  \n",
       "4    False  False      False   False  False   False   False   False      False  \n",
       "\n",
       "[5 rows x 26 columns]"
      ]
     },
     "execution_count": 9,
     "metadata": {},
     "output_type": "execute_result"
    }
   ],
   "source": [
    "data.head()  #Sparse Matrix"
   ]
  },
  {
   "cell_type": "code",
   "execution_count": 10,
   "metadata": {},
   "outputs": [
    {
     "data": {
      "text/plain": [
       "<matplotlib.axes._subplots.AxesSubplot at 0x10993b1d0>"
      ]
     },
     "execution_count": 10,
     "metadata": {},
     "output_type": "execute_result"
    },
    {
     "data": {
      "image/png": "[encoded data removed]",
      "text/plain": [
       "<Figure size 864x720 with 2 Axes>"
      ]
     },
     "metadata": {},
     "output_type": "display_data"
    }
   ],
   "source": [
    "# Finding correlation between words\n",
    "\n",
    "plt.figure(figsize=(12,10))\n",
    "sns.heatmap(data.corr(), cmap='BuPu', square=True)"
   ]
  },
  {
   "cell_type": "markdown",
   "metadata": {},
   "source": [
    "The correlation matrix shows us that some words are prevalent in the reviews. For example, some of the words that are highly correlated with positive review are \"great\", \"love\", \"well\" etc. Some words and phrases that are highly correlated are - \"highly recommend\", \"nice\" and \"cool\", and as expected certain intensifier + adjective combinations (e.g., \"very\" with \"well\", \"nice\", \"impressred\"; \"really\" with \"nice\", \"sturdy\", \"easy\" etc.)"
   ]
  },
  {
   "cell_type": "code",
   "execution_count": 11,
   "metadata": {},
   "outputs": [],
   "source": [
    "# Training data \n",
    "\n",
    "X = data[pos_keywords + pos_intensifiers]  # this looks like a sparse matrix, mostly zero and some 1s.\n",
    "y = data.pos"
   ]
  },
  {
   "cell_type": "code",
   "execution_count": 12,
   "metadata": {},
   "outputs": [],
   "source": [
    "# Binary data - Bernoulli\n",
    "\n",
    "from sklearn.naive_bayes import BernoulliNB\n",
    "bnb = BernoulliNB() # instantiate the classifier \n",
    "\n",
    "# fit model \n",
    "bnb.fit(X, y)  #learning which features correspond to a pos senting \n",
    "\n",
    "y_pred = bnb.predict(X)  #.predict in classifier, and .transform in feature selection "
   ]
  },
  {
   "cell_type": "code",
   "execution_count": 13,
   "metadata": {},
   "outputs": [
    {
     "name": "stdout",
     "output_type": "stream",
     "text": [
      "Mean 10-fold cross-validated accuracy: 0.70 (+/- 0.10)\n",
      "Number of mislabeled points out of total 1000 points: 293\n",
      "The confusion matrix is as follows: \n",
      " [[438  62]\n",
      " [231 269]]\n"
     ]
    }
   ],
   "source": [
    "# Cross validation scores \n",
    "\n",
    "scores = cross_val_score(bnb, X, y, cv=10)\n",
    "print(\"Mean 10-fold cross-validated accuracy: %0.2f (+/- %0.2f)\" % (scores.mean(), scores.std() *2))  #means\n",
    "\n",
    "\n",
    "print(\"Number of mislabeled points out of total {} points: {}\".format(\n",
    "X.shape[0], (y != y_pred).sum()))  #FP + FN\n",
    "\n",
    "# Confusion matrix \n",
    "print(\"The confusion matrix is as follows: \\n\" , confusion_matrix(y, y_pred))"
   ]
  },
  {
   "cell_type": "markdown",
   "metadata": {},
   "source": [
    "Since the outcome variable has binary values, the model accuracy would around 50% if it had a random guess. Our cross-validated model accuracy is about 70%. This is not great but let us now find out the features that are most important. .coef_ attribute returns the feature values and np.argsort method returns the indices of such features sorted with ascending values. After performing the sorting we see that five most important features are 'great', 'very, 'good', 'well', and 'recommend'."
   ]
  },
  {
   "cell_type": "code",
   "execution_count": 14,
   "metadata": {},
   "outputs": [
    {
     "data": {
      "text/plain": [
       "array([[-2.30657711, -3.32822836, -3.57954279, -3.65365076, -3.51054992,\n",
       "        -2.09146573, -4.60916221, -5.52545294, -3.22286785, -3.65365076,\n",
       "        -3.65365076, -3.12755767, -4.42684065, -5.52545294, -2.72209256,\n",
       "        -4.60916221, -4.27268997, -5.52545294, -4.42684065, -2.19324843,\n",
       "        -4.02137554, -4.13915858, -3.57954279, -5.52545294]])"
      ]
     },
     "execution_count": 14,
     "metadata": {},
     "output_type": "execute_result"
    }
   ],
   "source": [
    "# Finding feature values and their indices \n",
    "\n",
    "bnb.coef_  #values"
   ]
  },
  {
   "cell_type": "code",
   "execution_count": 15,
   "metadata": {},
   "outputs": [
    {
     "data": {
      "text/plain": [
       "array([ 5, 19,  0, 14, 11,  8,  1,  4,  2, 22,  9,  3, 10, 20, 21, 16, 18,\n",
       "       12,  6, 15,  7, 17, 13, 23])"
      ]
     },
     "execution_count": 15,
     "metadata": {},
     "output_type": "execute_result"
    }
   ],
   "source": [
    "bnb_idx = np.argsort(bnb.coef_)[0][::-1]  #accessing list within array and reversing it.\n",
    "# [0][::-1] because argsort sorts indexes for its ascending values\n",
    "bnb_idx"
   ]
  },
  {
   "cell_type": "code",
   "execution_count": 16,
   "metadata": {},
   "outputs": [],
   "source": [
    "#np.argsort(bnb.coef_)  #returns sorted indexes of values in ascending order"
   ]
  },
  {
   "cell_type": "code",
   "execution_count": 17,
   "metadata": {},
   "outputs": [
    {
     "name": "stdout",
     "output_type": "stream",
     "text": [
      "The important features are: Index(['great', 'very', 'good', 'well', 'recommend', 'love', 'best', 'nice',\n",
      "       'excellent', 'really', 'easy', 'fine', 'happy', 'pretty', 'highly',\n",
      "       'cool', 'sturdy', 'impressed', 'satisfied', 'awesome', 'fulfill',\n",
      "       'fantastic', 'incredible', 'perfectly'],\n",
      "      dtype='object')\n"
     ]
    }
   ],
   "source": [
    "print(\"The important features are: {}\".format(X.columns[bnb_idx]))"
   ]
  },
  {
   "cell_type": "markdown",
   "metadata": {},
   "source": [
    "### Classifier version 2: Using CountVectorizer with Bernoulli NB with alpha \n",
    "\n",
    "In the following version of the classifiers, I implement several sklearn feature extraction module and classifiers to do hyperparameter tuning before selecting the final version of the classifier. "
   ]
  },
  {
   "cell_type": "code",
   "execution_count": 22,
   "metadata": {},
   "outputs": [
    {
     "data": {
      "text/plain": [
       "(1000, 1642)"
      ]
     },
     "execution_count": 22,
     "metadata": {},
     "output_type": "execute_result"
    }
   ],
   "source": [
    "# Import countvectorizer \n",
    "from sklearn.feature_extraction.text import CountVectorizer\n",
    "\n",
    "# Instantiate CountVectorizer and create sparse matrix \n",
    "data_vec = CountVectorizer(stop_words='english')\n",
    "X = data_vec.fit_transform(data.review)   # review string turned into sparse vectors by word frequency counts \n",
    "X.shape   #1000, 1642"
   ]
  },
  {
   "cell_type": "code",
   "execution_count": 23,
   "metadata": {},
   "outputs": [
    {
     "name": "stdout",
     "output_type": "stream",
     "text": [
      "[(800, 1642), (200, 1642)] (800,) (200,)\n"
     ]
    }
   ],
   "source": [
    "# Train test split (80-20) to train and test the classifiers\n",
    "\n",
    "X_train, X_test, y_train, y_test = train_test_split(\n",
    "    X, data.pos, test_size = .2)\n",
    "\n",
    "# Each of these variables is a Series.\n",
    "\n",
    "print([np.shape(X_train), np.shape(X_test)], y_train.shape, y_test.shape)"
   ]
  },
  {
   "cell_type": "code",
   "execution_count": 24,
   "metadata": {},
   "outputs": [],
   "source": [
    "# Bernoulli Naive Bayes with alpha\n",
    "\n",
    "from sklearn import metrics\n",
    "\n",
    "list_alpha = np.arange(1e-5, 20, 0.11)\n",
    "score_train = np.zeros(len(list_alpha))\n",
    "score_test = np.zeros(len(list_alpha))\n",
    "recall_test = np.zeros(len(list_alpha))\n",
    "precision_test= np.zeros(len(list_alpha))\n",
    "CV = np.zeros(len(list_alpha))\n",
    "count = 0\n",
    "for alpha in list_alpha:\n",
    "    bayes = sklearn.naive_bayes.BernoulliNB(alpha=alpha)\n",
    "    bayes.fit(X_train, y_train)  #training \n",
    "    score_train[count] = bayes.score(X_train, y_train)  #scoring training \n",
    "    score_test[count]= bayes.score(X_test, y_test)  # scoring test\n",
    "    recall_test[count] = metrics.recall_score(y_test, bayes.predict(X_test))\n",
    "    precision_test[count] = metrics.precision_score(y_test, bayes.predict(X_test))\n",
    "    CV[count] = (cross_val_score(bayes, X_train, y_train, cv=10)).mean() # doing CV on 10 divisions of the dataset. \n",
    "    count = count + 1 "
   ]
  },
  {
   "cell_type": "code",
   "execution_count": 25,
   "metadata": {
    "scrolled": true
   },
   "outputs": [
    {
     "data": {
      "text/html": [
       "<div>\n",
       "<style scoped>\n",
       "    .dataframe tbody tr th:only-of-type {\n",
       "        vertical-align: middle;\n",
       "    }\n",
       "\n",
       "    .dataframe tbody tr th {\n",
       "        vertical-align: top;\n",
       "    }\n",
       "\n",
       "    .dataframe thead th {\n",
       "        text-align: right;\n",
       "    }\n",
       "</style>\n",
       "<table border=\"1\" class=\"dataframe\">\n",
       "  <thead>\n",
       "    <tr style=\"text-align: right;\">\n",
       "      <th></th>\n",
       "      <th>alpha</th>\n",
       "      <th>Train Accuracy</th>\n",
       "      <th>Test Accuracy</th>\n",
       "      <th>Test Recall</th>\n",
       "      <th>Test Precision</th>\n",
       "      <th>Mean Cross-validation</th>\n",
       "    </tr>\n",
       "  </thead>\n",
       "  <tbody>\n",
       "    <tr>\n",
       "      <th>count</th>\n",
       "      <td>182.000000</td>\n",
       "      <td>182.000000</td>\n",
       "      <td>182.000000</td>\n",
       "      <td>182.000000</td>\n",
       "      <td>182.000000</td>\n",
       "      <td>182.000000</td>\n",
       "    </tr>\n",
       "    <tr>\n",
       "      <th>mean</th>\n",
       "      <td>9.955010</td>\n",
       "      <td>0.679670</td>\n",
       "      <td>0.576731</td>\n",
       "      <td>0.956753</td>\n",
       "      <td>0.543670</td>\n",
       "      <td>0.596956</td>\n",
       "    </tr>\n",
       "    <tr>\n",
       "      <th>std</th>\n",
       "      <td>5.795132</td>\n",
       "      <td>0.172511</td>\n",
       "      <td>0.118052</td>\n",
       "      <td>0.072928</td>\n",
       "      <td>0.091424</td>\n",
       "      <td>0.105821</td>\n",
       "    </tr>\n",
       "    <tr>\n",
       "      <th>min</th>\n",
       "      <td>0.000010</td>\n",
       "      <td>0.508750</td>\n",
       "      <td>0.465000</td>\n",
       "      <td>0.752688</td>\n",
       "      <td>0.465000</td>\n",
       "      <td>0.508751</td>\n",
       "    </tr>\n",
       "    <tr>\n",
       "      <th>25%</th>\n",
       "      <td>4.977510</td>\n",
       "      <td>0.513750</td>\n",
       "      <td>0.465000</td>\n",
       "      <td>0.924731</td>\n",
       "      <td>0.465000</td>\n",
       "      <td>0.510001</td>\n",
       "    </tr>\n",
       "    <tr>\n",
       "      <th>50%</th>\n",
       "      <td>9.955010</td>\n",
       "      <td>0.605000</td>\n",
       "      <td>0.517500</td>\n",
       "      <td>1.000000</td>\n",
       "      <td>0.490769</td>\n",
       "      <td>0.537442</td>\n",
       "    </tr>\n",
       "    <tr>\n",
       "      <th>75%</th>\n",
       "      <td>14.932510</td>\n",
       "      <td>0.858437</td>\n",
       "      <td>0.715000</td>\n",
       "      <td>1.000000</td>\n",
       "      <td>0.632908</td>\n",
       "      <td>0.699930</td>\n",
       "    </tr>\n",
       "    <tr>\n",
       "      <th>max</th>\n",
       "      <td>19.910010</td>\n",
       "      <td>0.976250</td>\n",
       "      <td>0.775000</td>\n",
       "      <td>1.000000</td>\n",
       "      <td>0.730769</td>\n",
       "      <td>0.796201</td>\n",
       "    </tr>\n",
       "  </tbody>\n",
       "</table>\n",
       "</div>"
      ],
      "text/plain": [
       "            alpha  Train Accuracy  Test Accuracy  Test Recall  Test Precision  \\\n",
       "count  182.000000      182.000000     182.000000   182.000000      182.000000   \n",
       "mean     9.955010        0.679670       0.576731     0.956753        0.543670   \n",
       "std      5.795132        0.172511       0.118052     0.072928        0.091424   \n",
       "min      0.000010        0.508750       0.465000     0.752688        0.465000   \n",
       "25%      4.977510        0.513750       0.465000     0.924731        0.465000   \n",
       "50%      9.955010        0.605000       0.517500     1.000000        0.490769   \n",
       "75%     14.932510        0.858437       0.715000     1.000000        0.632908   \n",
       "max     19.910010        0.976250       0.775000     1.000000        0.730769   \n",
       "\n",
       "       Mean Cross-validation  \n",
       "count             182.000000  \n",
       "mean                0.596956  \n",
       "std                 0.105821  \n",
       "min                 0.508751  \n",
       "25%                 0.510001  \n",
       "50%                 0.537442  \n",
       "75%                 0.699930  \n",
       "max                 0.796201  "
      ]
     },
     "execution_count": 25,
     "metadata": {},
     "output_type": "execute_result"
    }
   ],
   "source": [
    "matrix = np.matrix(np.c_[list_alpha, score_train, score_test, recall_test, precision_test, CV])\n",
    "models = pd.DataFrame(data = matrix, columns = \n",
    "             ['alpha', 'Train Accuracy', 'Test Accuracy', 'Test Recall', 'Test Precision', 'Mean Cross-validation'])\n",
    "models.describe()"
   ]
  },
  {
   "cell_type": "code",
   "execution_count": 26,
   "metadata": {},
   "outputs": [
    {
     "data": {
      "image/png": "[encoded data removed]",
      "text/plain": [
       "<Figure size 432x288 with 1 Axes>"
      ]
     },
     "metadata": {},
     "output_type": "display_data"
    },
    {
     "data": {
      "image/png": "[encoded data removed]",
      "text/plain": [
       "<Figure size 432x288 with 1 Axes>"
      ]
     },
     "metadata": {},
     "output_type": "display_data"
    }
   ],
   "source": [
    "models.plot(x='alpha', y='Test Accuracy')   #plotting test accuracy as a function of alpha \n",
    "plt.ylabel('Test Accuracy')\n",
    "plt.title('Test accuracy and alpha')\n",
    "plt.show()\n",
    "\n",
    "models.plot(x='alpha', y='Mean Cross-validation') \n",
    "plt.ylabel('Mean cross-validation score')\n",
    "plt.title('Cross-validation scores and alpha')\n",
    "plt.show()"
   ]
  },
  {
   "cell_type": "markdown",
   "metadata": {},
   "source": [
    "From the above plots we see that the test accuracy and the mean cross-validation score decrease as alpha increases. Significantly, in both plots the peak y values are around when alpha = 5. In the next iteration of hyperparameter tuning, we will restrict the alpha values to 5. "
   ]
  },
  {
   "cell_type": "markdown",
   "metadata": {},
   "source": []
  },
  {
   "cell_type": "code",
   "execution_count": 27,
   "metadata": {},
   "outputs": [],
   "source": [
    "list_alpha = np.arange(1e-5, 5, .05)\n",
    "score_train = np.zeros(len(list_alpha))\n",
    "score_test = np.zeros(len(list_alpha))\n",
    "recall_test = np.zeros(len(list_alpha))\n",
    "precision_test= np.zeros(len(list_alpha))\n",
    "CV = np.zeros(len(list_alpha))\n",
    "count = 0\n",
    "for alpha in list_alpha:\n",
    "    bayes = sklearn.naive_bayes.BernoulliNB(alpha=alpha)\n",
    "    bayes.fit(X_train, y_train)\n",
    "    score_train[count] = bayes.score(X_train, y_train)\n",
    "    score_test[count]= bayes.score(X_test, y_test)\n",
    "    recall_test[count] = metrics.recall_score(y_test, bayes.predict(X_test))\n",
    "    precision_test[count] = metrics.precision_score(y_test, bayes.predict(X_test))\n",
    "    CV[count] = (cross_val_score(bayes, X_train, y_train, cv=10)).mean()\n",
    "    count = count + 1 "
   ]
  },
  {
   "cell_type": "code",
   "execution_count": 28,
   "metadata": {
    "scrolled": true
   },
   "outputs": [
    {
     "data": {
      "text/html": [
       "<div>\n",
       "<style scoped>\n",
       "    .dataframe tbody tr th:only-of-type {\n",
       "        vertical-align: middle;\n",
       "    }\n",
       "\n",
       "    .dataframe tbody tr th {\n",
       "        vertical-align: top;\n",
       "    }\n",
       "\n",
       "    .dataframe thead th {\n",
       "        text-align: right;\n",
       "    }\n",
       "</style>\n",
       "<table border=\"1\" class=\"dataframe\">\n",
       "  <thead>\n",
       "    <tr style=\"text-align: right;\">\n",
       "      <th></th>\n",
       "      <th>alpha</th>\n",
       "      <th>Train Accuracy</th>\n",
       "      <th>Test Accuracy</th>\n",
       "      <th>Test Recall</th>\n",
       "      <th>Test Precision</th>\n",
       "      <th>Mean Cross-validation</th>\n",
       "    </tr>\n",
       "  </thead>\n",
       "  <tbody>\n",
       "    <tr>\n",
       "      <th>count</th>\n",
       "      <td>100.000000</td>\n",
       "      <td>100.000000</td>\n",
       "      <td>100.000000</td>\n",
       "      <td>100.000000</td>\n",
       "      <td>100.000000</td>\n",
       "      <td>100.000000</td>\n",
       "    </tr>\n",
       "    <tr>\n",
       "      <th>mean</th>\n",
       "      <td>2.475010</td>\n",
       "      <td>0.927287</td>\n",
       "      <td>0.741100</td>\n",
       "      <td>0.841075</td>\n",
       "      <td>0.681311</td>\n",
       "      <td>0.760401</td>\n",
       "    </tr>\n",
       "    <tr>\n",
       "      <th>std</th>\n",
       "      <td>1.450575</td>\n",
       "      <td>0.031985</td>\n",
       "      <td>0.013937</td>\n",
       "      <td>0.047858</td>\n",
       "      <td>0.027444</td>\n",
       "      <td>0.031544</td>\n",
       "    </tr>\n",
       "    <tr>\n",
       "      <th>min</th>\n",
       "      <td>0.000010</td>\n",
       "      <td>0.860000</td>\n",
       "      <td>0.715000</td>\n",
       "      <td>0.752688</td>\n",
       "      <td>0.632353</td>\n",
       "      <td>0.697380</td>\n",
       "    </tr>\n",
       "    <tr>\n",
       "      <th>25%</th>\n",
       "      <td>1.237510</td>\n",
       "      <td>0.901875</td>\n",
       "      <td>0.735000</td>\n",
       "      <td>0.806452</td>\n",
       "      <td>0.655058</td>\n",
       "      <td>0.731828</td>\n",
       "    </tr>\n",
       "    <tr>\n",
       "      <th>50%</th>\n",
       "      <td>2.475010</td>\n",
       "      <td>0.932500</td>\n",
       "      <td>0.740000</td>\n",
       "      <td>0.827957</td>\n",
       "      <td>0.681416</td>\n",
       "      <td>0.766245</td>\n",
       "    </tr>\n",
       "    <tr>\n",
       "      <th>75%</th>\n",
       "      <td>3.712510</td>\n",
       "      <td>0.956250</td>\n",
       "      <td>0.745000</td>\n",
       "      <td>0.881720</td>\n",
       "      <td>0.701923</td>\n",
       "      <td>0.790243</td>\n",
       "    </tr>\n",
       "    <tr>\n",
       "      <th>max</th>\n",
       "      <td>4.950010</td>\n",
       "      <td>0.976250</td>\n",
       "      <td>0.775000</td>\n",
       "      <td>0.924731</td>\n",
       "      <td>0.730769</td>\n",
       "      <td>0.797451</td>\n",
       "    </tr>\n",
       "  </tbody>\n",
       "</table>\n",
       "</div>"
      ],
      "text/plain": [
       "            alpha  Train Accuracy  Test Accuracy  Test Recall  Test Precision  \\\n",
       "count  100.000000      100.000000     100.000000   100.000000      100.000000   \n",
       "mean     2.475010        0.927287       0.741100     0.841075        0.681311   \n",
       "std      1.450575        0.031985       0.013937     0.047858        0.027444   \n",
       "min      0.000010        0.860000       0.715000     0.752688        0.632353   \n",
       "25%      1.237510        0.901875       0.735000     0.806452        0.655058   \n",
       "50%      2.475010        0.932500       0.740000     0.827957        0.681416   \n",
       "75%      3.712510        0.956250       0.745000     0.881720        0.701923   \n",
       "max      4.950010        0.976250       0.775000     0.924731        0.730769   \n",
       "\n",
       "       Mean Cross-validation  \n",
       "count             100.000000  \n",
       "mean                0.760401  \n",
       "std                 0.031544  \n",
       "min                 0.697380  \n",
       "25%                 0.731828  \n",
       "50%                 0.766245  \n",
       "75%                 0.790243  \n",
       "max                 0.797451  "
      ]
     },
     "execution_count": 28,
     "metadata": {},
     "output_type": "execute_result"
    }
   ],
   "source": [
    "matrix = np.matrix(np.c_[list_alpha, score_train, score_test, recall_test, precision_test, CV])\n",
    "models = pd.DataFrame(data = matrix, columns = \n",
    "             ['alpha', 'Train Accuracy', 'Test Accuracy', 'Test Recall', 'Test Precision', 'Mean Cross-validation'])\n",
    "models.describe()"
   ]
  },
  {
   "cell_type": "code",
   "execution_count": 29,
   "metadata": {},
   "outputs": [
    {
     "data": {
      "image/png": "[encoded data removed]",
      "text/plain": [
       "<Figure size 432x288 with 1 Axes>"
      ]
     },
     "metadata": {},
     "output_type": "display_data"
    },
    {
     "data": {
      "image/png": "[encoded data removed]",
      "text/plain": [
       "<Figure size 432x288 with 1 Axes>"
      ]
     },
     "metadata": {},
     "output_type": "display_data"
    }
   ],
   "source": [
    "models.plot(x='alpha', y='Test Accuracy')   #plotting test accuracy as a function of alpha \n",
    "plt.ylabel('Test Accuracy')\n",
    "plt.title('Test accuracy and alpha')\n",
    "plt.show()\n",
    "\n",
    "models.plot(x='alpha', y='Mean Cross-validation') \n",
    "plt.ylabel('Mean cross-validation score')\n",
    "plt.title('Cross-validation scores and alpha')\n",
    "plt.show()"
   ]
  },
  {
   "cell_type": "markdown",
   "metadata": {},
   "source": [
    "The peak values of test accuracy is when alpha is around 0.5, whereas the peak accuracy score we get via 10-fold crossvalidation when alpha is around 2. Since cross-validation is a more robust indicator (i.e., it trains the model on 10 different subsets and the mean score is the average of such cross-validation scores, hence more robust than a single test-accuracy of the model), we'll consider the alpha from the mean cross-validation score. In the following interation, I consider the alpha around 2 to confirm. "
   ]
  },
  {
   "cell_type": "code",
   "execution_count": 30,
   "metadata": {},
   "outputs": [],
   "source": [
    "list_alpha = np.arange(1e-5, 2, .01)\n",
    "score_train = np.zeros(len(list_alpha))\n",
    "score_test = np.zeros(len(list_alpha))\n",
    "recall_test = np.zeros(len(list_alpha))\n",
    "precision_test= np.zeros(len(list_alpha))\n",
    "CV = np.zeros(len(list_alpha))\n",
    "count = 0\n",
    "for alpha in list_alpha:\n",
    "    bayes = sklearn.naive_bayes.BernoulliNB(alpha=alpha)\n",
    "    bayes.fit(X_train, y_train)\n",
    "    score_train[count] = bayes.score(X_train, y_train)\n",
    "    score_test[count]= bayes.score(X_test, y_test)\n",
    "    recall_test[count] = metrics.recall_score(y_test, bayes.predict(X_test))\n",
    "    precision_test[count] = metrics.precision_score(y_test, bayes.predict(X_test))\n",
    "    CV[count] = (cross_val_score(bayes, X_train, y_train, cv=10)).mean()\n",
    "    count = count + 1 "
   ]
  },
  {
   "cell_type": "code",
   "execution_count": 31,
   "metadata": {},
   "outputs": [],
   "source": [
    "matrix = np.matrix(np.c_[list_alpha, score_train, score_test, recall_test, precision_test, CV])\n",
    "models = pd.DataFrame(data = matrix, columns = \n",
    "             ['alpha', 'Train Accuracy', 'Test Accuracy', 'Test Recall', 'Test Precision', 'Mean Cross-validation'])"
   ]
  },
  {
   "cell_type": "code",
   "execution_count": 32,
   "metadata": {},
   "outputs": [
    {
     "data": {
      "image/png": "[encoded data removed]",
      "text/plain": [
       "<Figure size 432x288 with 1 Axes>"
      ]
     },
     "metadata": {},
     "output_type": "display_data"
    },
    {
     "data": {
      "image/png": "[encoded data removed]",
      "text/plain": [
       "<Figure size 432x288 with 1 Axes>"
      ]
     },
     "metadata": {},
     "output_type": "display_data"
    }
   ],
   "source": [
    "models.plot(x='alpha', y='Test Accuracy')   #plotting test accuracy as a function of alpha \n",
    "plt.ylabel('Test Accuracy')\n",
    "plt.title('Test accuracy and alpha')\n",
    "plt.show()\n",
    "\n",
    "models.plot(x='alpha', y='Mean Cross-validation') \n",
    "plt.ylabel('Mean cross-validation score')\n",
    "plt.title('Cross-validation scores and alpha')\n",
    "plt.show()"
   ]
  },
  {
   "cell_type": "markdown",
   "metadata": {},
   "source": [
    "This is confirmed by the scores above that alpha around 2 is the best parameter for this classifier. \n"
   ]
  },
  {
   "cell_type": "code",
   "execution_count": 33,
   "metadata": {},
   "outputs": [
    {
     "name": "stdout",
     "output_type": "stream",
     "text": [
      "The alpha value for this bayes classifier is:  1.99001\n"
     ]
    }
   ],
   "source": [
    "print(\"The alpha value for this bayes classifier is: \", bayes.alpha)"
   ]
  },
  {
   "cell_type": "code",
   "execution_count": 46,
   "metadata": {},
   "outputs": [
    {
     "name": "stdout",
     "output_type": "stream",
     "text": [
      "Mean 10-fold cross-validated accuracy from Bernoulli NB with tfidf: 0.78 (+/- 0.11)\n",
      "1.99001\n"
     ]
    }
   ],
   "source": [
    "#CV.mean()  #60%   # average of different alpha parameterss tested on the loop -- this is not what I want to look so. \n",
    "\n",
    "scores = cross_val_score(bnb, Xtf_train, ytf_train, cv=10)\n",
    "print(\"Mean 10-fold cross-validated accuracy from Bernoulli NB with tfidf: %0.2f (+/- %0.2f)\" % (scores.mean(), scores.std() *2))  #means\n",
    "# 69% was 56%\n",
    "print(bayes.alpha)"
   ]
  },
  {
   "cell_type": "markdown",
   "metadata": {},
   "source": [
    "## Classifier version 3: Bernoulli NB with tfidfVectorizer\n",
    "\n",
    "In this version of the classifier, I am experimenting with the TfIdf vectorizer that converts raw frequency scores to tfidf features. [here](resources here)"
   ]
  },
  {
   "cell_type": "code",
   "execution_count": 35,
   "metadata": {},
   "outputs": [
    {
     "data": {
      "text/plain": [
       "(1000, 1642)"
      ]
     },
     "execution_count": 35,
     "metadata": {},
     "output_type": "execute_result"
    }
   ],
   "source": [
    "# First, transforming data_vec (matrix with raw frequency counts) to tfidf matrix\n",
    "\n",
    "tfidf_transformer = TfidfTransformer()\n",
    "X_tfidf = tfidf_transformer.fit_transform(X)\n",
    "\n",
    "X_tfidf.shape"
   ]
  },
  {
   "cell_type": "code",
   "execution_count": 36,
   "metadata": {},
   "outputs": [
    {
     "name": "stdout",
     "output_type": "stream",
     "text": [
      "(800, 1642) (200, 1642) (800,) (200,)\n"
     ]
    }
   ],
   "source": [
    "# Splitting train and test subsets on X_tfidf \n",
    "\n",
    "Xtf_train, Xtf_test, ytf_train, ytf_test = train_test_split(\n",
    "    X_tfidf, data.pos, test_size = .2)\n",
    "\n",
    "print(Xtf_train.shape, Xtf_test.shape, ytf_train.shape, ytf_test.shape)"
   ]
  },
  {
   "cell_type": "code",
   "execution_count": 37,
   "metadata": {},
   "outputs": [],
   "source": [
    "## Running Bernoulli Naive Bayes with tfidf features and alpha upto 10\n",
    "\n",
    "list_alpha = np.arange(1e-5, 10, .01)\n",
    "train_score = np.zeros(len(list_alpha))\n",
    "test_score = np.zeros(len(list_alpha))\n",
    "test_precision = np.zeros(len(list_alpha))\n",
    "test_recall = np.zeros(len(list_alpha))\n",
    "CV_score = np.zeros(len(list_alpha))\n",
    "\n",
    "count = 0 \n",
    "for alpha in list_alpha:\n",
    "    bnb = sklearn.naive_bayes.BernoulliNB(alpha=alpha)\n",
    "    bnb.fit(Xtf_train, ytf_train)\n",
    "    train_score[count] = bnb.score(Xtf_train, ytf_train)\n",
    "    test_score[count] = bnb.score(Xtf_test, ytf_test)\n",
    "    test_precision[count] = metrics.precision_score(ytf_test, bnb.predict(Xtf_test))\n",
    "    test_recall[count] = metrics.recall_score(ytf_test, bnb.predict(Xtf_test))\n",
    "    CV_score[count] = (cross_val_score(bnb, Xtf_train, ytf_train, cv=10)).mean()\n",
    "    count+= 1\n"
   ]
  },
  {
   "cell_type": "code",
   "execution_count": 38,
   "metadata": {},
   "outputs": [
    {
     "data": {
      "text/html": [
       "<div>\n",
       "<style scoped>\n",
       "    .dataframe tbody tr th:only-of-type {\n",
       "        vertical-align: middle;\n",
       "    }\n",
       "\n",
       "    .dataframe tbody tr th {\n",
       "        vertical-align: top;\n",
       "    }\n",
       "\n",
       "    .dataframe thead th {\n",
       "        text-align: right;\n",
       "    }\n",
       "</style>\n",
       "<table border=\"1\" class=\"dataframe\">\n",
       "  <thead>\n",
       "    <tr style=\"text-align: right;\">\n",
       "      <th></th>\n",
       "      <th>alpha</th>\n",
       "      <th>Train Accuracy</th>\n",
       "      <th>Test Accuracy</th>\n",
       "      <th>Test Precision</th>\n",
       "      <th>Test Recall</th>\n",
       "      <th>Mean Cross-validation</th>\n",
       "    </tr>\n",
       "  </thead>\n",
       "  <tbody>\n",
       "    <tr>\n",
       "      <th>0</th>\n",
       "      <td>0.00001</td>\n",
       "      <td>0.98000</td>\n",
       "      <td>0.815</td>\n",
       "      <td>0.800000</td>\n",
       "      <td>0.84</td>\n",
       "      <td>0.77125</td>\n",
       "    </tr>\n",
       "    <tr>\n",
       "      <th>1</th>\n",
       "      <td>0.01001</td>\n",
       "      <td>0.98000</td>\n",
       "      <td>0.820</td>\n",
       "      <td>0.801887</td>\n",
       "      <td>0.85</td>\n",
       "      <td>0.77250</td>\n",
       "    </tr>\n",
       "    <tr>\n",
       "      <th>2</th>\n",
       "      <td>0.02001</td>\n",
       "      <td>0.98000</td>\n",
       "      <td>0.820</td>\n",
       "      <td>0.801887</td>\n",
       "      <td>0.85</td>\n",
       "      <td>0.77750</td>\n",
       "    </tr>\n",
       "    <tr>\n",
       "      <th>3</th>\n",
       "      <td>0.03001</td>\n",
       "      <td>0.97875</td>\n",
       "      <td>0.820</td>\n",
       "      <td>0.801887</td>\n",
       "      <td>0.85</td>\n",
       "      <td>0.78125</td>\n",
       "    </tr>\n",
       "    <tr>\n",
       "      <th>4</th>\n",
       "      <td>0.04001</td>\n",
       "      <td>0.97625</td>\n",
       "      <td>0.825</td>\n",
       "      <td>0.803738</td>\n",
       "      <td>0.86</td>\n",
       "      <td>0.78125</td>\n",
       "    </tr>\n",
       "    <tr>\n",
       "      <th>5</th>\n",
       "      <td>0.05001</td>\n",
       "      <td>0.97625</td>\n",
       "      <td>0.825</td>\n",
       "      <td>0.803738</td>\n",
       "      <td>0.86</td>\n",
       "      <td>0.78125</td>\n",
       "    </tr>\n",
       "    <tr>\n",
       "      <th>6</th>\n",
       "      <td>0.06001</td>\n",
       "      <td>0.97625</td>\n",
       "      <td>0.825</td>\n",
       "      <td>0.803738</td>\n",
       "      <td>0.86</td>\n",
       "      <td>0.78000</td>\n",
       "    </tr>\n",
       "    <tr>\n",
       "      <th>7</th>\n",
       "      <td>0.07001</td>\n",
       "      <td>0.97625</td>\n",
       "      <td>0.825</td>\n",
       "      <td>0.803738</td>\n",
       "      <td>0.86</td>\n",
       "      <td>0.78125</td>\n",
       "    </tr>\n",
       "    <tr>\n",
       "      <th>8</th>\n",
       "      <td>0.08001</td>\n",
       "      <td>0.97625</td>\n",
       "      <td>0.825</td>\n",
       "      <td>0.803738</td>\n",
       "      <td>0.86</td>\n",
       "      <td>0.78375</td>\n",
       "    </tr>\n",
       "    <tr>\n",
       "      <th>9</th>\n",
       "      <td>0.09001</td>\n",
       "      <td>0.97625</td>\n",
       "      <td>0.825</td>\n",
       "      <td>0.803738</td>\n",
       "      <td>0.86</td>\n",
       "      <td>0.78750</td>\n",
       "    </tr>\n",
       "  </tbody>\n",
       "</table>\n",
       "</div>"
      ],
      "text/plain": [
       "     alpha  Train Accuracy  Test Accuracy  Test Precision  Test Recall  \\\n",
       "0  0.00001         0.98000          0.815        0.800000         0.84   \n",
       "1  0.01001         0.98000          0.820        0.801887         0.85   \n",
       "2  0.02001         0.98000          0.820        0.801887         0.85   \n",
       "3  0.03001         0.97875          0.820        0.801887         0.85   \n",
       "4  0.04001         0.97625          0.825        0.803738         0.86   \n",
       "5  0.05001         0.97625          0.825        0.803738         0.86   \n",
       "6  0.06001         0.97625          0.825        0.803738         0.86   \n",
       "7  0.07001         0.97625          0.825        0.803738         0.86   \n",
       "8  0.08001         0.97625          0.825        0.803738         0.86   \n",
       "9  0.09001         0.97625          0.825        0.803738         0.86   \n",
       "\n",
       "   Mean Cross-validation  \n",
       "0                0.77125  \n",
       "1                0.77250  \n",
       "2                0.77750  \n",
       "3                0.78125  \n",
       "4                0.78125  \n",
       "5                0.78125  \n",
       "6                0.78000  \n",
       "7                0.78125  \n",
       "8                0.78375  \n",
       "9                0.78750  "
      ]
     },
     "execution_count": 38,
     "metadata": {},
     "output_type": "execute_result"
    }
   ],
   "source": [
    "matrix = np.matrix(np.c_[list_alpha, train_score, test_score, test_precision, test_recall, CV_score])\n",
    "models = pd.DataFrame(data = matrix, columns = \n",
    "             ['alpha', 'Train Accuracy', 'Test Accuracy', 'Test Precision', 'Test Recall', 'Mean Cross-validation'])\n",
    "models.head(n=10)"
   ]
  },
  {
   "cell_type": "code",
   "execution_count": 39,
   "metadata": {},
   "outputs": [
    {
     "data": {
      "image/png": "[encoded data removed]",
      "text/plain": [
       "<Figure size 432x288 with 1 Axes>"
      ]
     },
     "metadata": {},
     "output_type": "display_data"
    },
    {
     "data": {
      "image/png": "[encoded data removed]",
      "text/plain": [
       "<Figure size 432x288 with 1 Axes>"
      ]
     },
     "metadata": {},
     "output_type": "display_data"
    }
   ],
   "source": [
    "models.plot(x='alpha', y='Test Accuracy')   #plotting test accuracy as a function of alpha \n",
    "plt.ylabel('Test Accuracy')\n",
    "plt.title('Test accuracy and alpha')\n",
    "plt.show()\n",
    "\n",
    "models.plot(x='alpha', y='Mean Cross-validation') \n",
    "plt.ylabel('Mean cross-validation score')\n",
    "plt.title('Cross-validation scores and alpha')\n",
    "plt.show()"
   ]
  },
  {
   "cell_type": "markdown",
   "metadata": {},
   "source": [
    "Similarly, the next iteration hypertuning suggests that the alpha should be close to 2. "
   ]
  },
  {
   "cell_type": "code",
   "execution_count": 41,
   "metadata": {},
   "outputs": [],
   "source": [
    "list_alpha = np.arange(1e-5, 1, .001)\n",
    "train_score = np.zeros(len(list_alpha))\n",
    "test_score = np.zeros(len(list_alpha))\n",
    "test_precision = np.zeros(len(list_alpha))\n",
    "test_recall = np.zeros(len(list_alpha))\n",
    "CV_score = np.zeros(len(list_alpha))\n",
    "\n",
    "count = 0 \n",
    "for alpha in list_alpha:\n",
    "    bnb = sklearn.naive_bayes.BernoulliNB(alpha=alpha)\n",
    "    bnb.fit(Xtf_train, ytf_train)\n",
    "    train_score[count] = bnb.score(Xtf_train, ytf_train)\n",
    "    test_score[count] = bnb.score(Xtf_test, ytf_test)\n",
    "    test_precision[count] = metrics.precision_score(ytf_test, bnb.predict(Xtf_test))\n",
    "    test_recall[count] = metrics.recall_score(ytf_test, bnb.predict(Xtf_test))\n",
    "    CV_score[count] = (cross_val_score(bnb, Xtf_train, ytf_train, cv=10)).mean()\n",
    "    count+= 1\n"
   ]
  },
  {
   "cell_type": "code",
   "execution_count": 42,
   "metadata": {},
   "outputs": [
    {
     "data": {
      "text/html": [
       "<div>\n",
       "<style scoped>\n",
       "    .dataframe tbody tr th:only-of-type {\n",
       "        vertical-align: middle;\n",
       "    }\n",
       "\n",
       "    .dataframe tbody tr th {\n",
       "        vertical-align: top;\n",
       "    }\n",
       "\n",
       "    .dataframe thead th {\n",
       "        text-align: right;\n",
       "    }\n",
       "</style>\n",
       "<table border=\"1\" class=\"dataframe\">\n",
       "  <thead>\n",
       "    <tr style=\"text-align: right;\">\n",
       "      <th></th>\n",
       "      <th>alpha</th>\n",
       "      <th>Train Accuracy</th>\n",
       "      <th>Test Accuracy</th>\n",
       "      <th>Test Precision</th>\n",
       "      <th>Test Recall</th>\n",
       "      <th>Mean Cross-validation</th>\n",
       "    </tr>\n",
       "  </thead>\n",
       "  <tbody>\n",
       "    <tr>\n",
       "      <th>0</th>\n",
       "      <td>0.00001</td>\n",
       "      <td>0.98</td>\n",
       "      <td>0.815</td>\n",
       "      <td>0.8</td>\n",
       "      <td>0.84</td>\n",
       "      <td>0.77125</td>\n",
       "    </tr>\n",
       "    <tr>\n",
       "      <th>1</th>\n",
       "      <td>0.00101</td>\n",
       "      <td>0.98</td>\n",
       "      <td>0.815</td>\n",
       "      <td>0.8</td>\n",
       "      <td>0.84</td>\n",
       "      <td>0.77250</td>\n",
       "    </tr>\n",
       "    <tr>\n",
       "      <th>2</th>\n",
       "      <td>0.00201</td>\n",
       "      <td>0.98</td>\n",
       "      <td>0.815</td>\n",
       "      <td>0.8</td>\n",
       "      <td>0.84</td>\n",
       "      <td>0.77250</td>\n",
       "    </tr>\n",
       "    <tr>\n",
       "      <th>3</th>\n",
       "      <td>0.00301</td>\n",
       "      <td>0.98</td>\n",
       "      <td>0.815</td>\n",
       "      <td>0.8</td>\n",
       "      <td>0.84</td>\n",
       "      <td>0.77250</td>\n",
       "    </tr>\n",
       "    <tr>\n",
       "      <th>4</th>\n",
       "      <td>0.00401</td>\n",
       "      <td>0.98</td>\n",
       "      <td>0.815</td>\n",
       "      <td>0.8</td>\n",
       "      <td>0.84</td>\n",
       "      <td>0.77125</td>\n",
       "    </tr>\n",
       "    <tr>\n",
       "      <th>5</th>\n",
       "      <td>0.00501</td>\n",
       "      <td>0.98</td>\n",
       "      <td>0.815</td>\n",
       "      <td>0.8</td>\n",
       "      <td>0.84</td>\n",
       "      <td>0.77125</td>\n",
       "    </tr>\n",
       "    <tr>\n",
       "      <th>6</th>\n",
       "      <td>0.00601</td>\n",
       "      <td>0.98</td>\n",
       "      <td>0.815</td>\n",
       "      <td>0.8</td>\n",
       "      <td>0.84</td>\n",
       "      <td>0.77250</td>\n",
       "    </tr>\n",
       "    <tr>\n",
       "      <th>7</th>\n",
       "      <td>0.00701</td>\n",
       "      <td>0.98</td>\n",
       "      <td>0.815</td>\n",
       "      <td>0.8</td>\n",
       "      <td>0.84</td>\n",
       "      <td>0.77250</td>\n",
       "    </tr>\n",
       "    <tr>\n",
       "      <th>8</th>\n",
       "      <td>0.00801</td>\n",
       "      <td>0.98</td>\n",
       "      <td>0.815</td>\n",
       "      <td>0.8</td>\n",
       "      <td>0.84</td>\n",
       "      <td>0.77250</td>\n",
       "    </tr>\n",
       "    <tr>\n",
       "      <th>9</th>\n",
       "      <td>0.00901</td>\n",
       "      <td>0.98</td>\n",
       "      <td>0.815</td>\n",
       "      <td>0.8</td>\n",
       "      <td>0.84</td>\n",
       "      <td>0.77250</td>\n",
       "    </tr>\n",
       "  </tbody>\n",
       "</table>\n",
       "</div>"
      ],
      "text/plain": [
       "     alpha  Train Accuracy  Test Accuracy  Test Precision  Test Recall  \\\n",
       "0  0.00001            0.98          0.815             0.8         0.84   \n",
       "1  0.00101            0.98          0.815             0.8         0.84   \n",
       "2  0.00201            0.98          0.815             0.8         0.84   \n",
       "3  0.00301            0.98          0.815             0.8         0.84   \n",
       "4  0.00401            0.98          0.815             0.8         0.84   \n",
       "5  0.00501            0.98          0.815             0.8         0.84   \n",
       "6  0.00601            0.98          0.815             0.8         0.84   \n",
       "7  0.00701            0.98          0.815             0.8         0.84   \n",
       "8  0.00801            0.98          0.815             0.8         0.84   \n",
       "9  0.00901            0.98          0.815             0.8         0.84   \n",
       "\n",
       "   Mean Cross-validation  \n",
       "0                0.77125  \n",
       "1                0.77250  \n",
       "2                0.77250  \n",
       "3                0.77250  \n",
       "4                0.77125  \n",
       "5                0.77125  \n",
       "6                0.77250  \n",
       "7                0.77250  \n",
       "8                0.77250  \n",
       "9                0.77250  "
      ]
     },
     "execution_count": 42,
     "metadata": {},
     "output_type": "execute_result"
    }
   ],
   "source": [
    "matrix = np.matrix(np.c_[list_alpha, train_score, test_score, test_precision, test_recall, CV_score])\n",
    "models = pd.DataFrame(data = matrix, columns = \n",
    "             ['alpha', 'Train Accuracy', 'Test Accuracy', 'Test Precision', 'Test Recall', 'Mean Cross-validation'])\n",
    "models.head(n=10)"
   ]
  },
  {
   "cell_type": "code",
   "execution_count": 43,
   "metadata": {},
   "outputs": [
    {
     "data": {
      "image/png": "[encoded data removed]",
      "text/plain": [
       "<Figure size 432x288 with 1 Axes>"
      ]
     },
     "metadata": {},
     "output_type": "display_data"
    },
    {
     "data": {
      "image/png": "[encoded data removed]",
      "text/plain": [
       "<Figure size 432x288 with 1 Axes>"
      ]
     },
     "metadata": {},
     "output_type": "display_data"
    }
   ],
   "source": [
    "models.plot(x='alpha', y='Test Accuracy')   #plotting test accuracy as a function of alpha \n",
    "plt.ylabel('Test Accuracy')\n",
    "plt.title('Test accuracy and alpha')\n",
    "plt.show()\n",
    "\n",
    "models.plot(x='alpha', y='Mean Cross-validation') \n",
    "plt.ylabel('Mean cross-validation score')\n",
    "plt.title('Cross-validation scores and alpha')\n",
    "plt.show()"
   ]
  },
  {
   "cell_type": "code",
   "execution_count": 45,
   "metadata": {},
   "outputs": [
    {
     "name": "stdout",
     "output_type": "stream",
     "text": [
      "Mean 10-fold cross-validated accuracy from Bernoulli NB with tfidf: 0.78 (+/- 0.11)\n",
      "1.99001\n"
     ]
    }
   ],
   "source": [
    "scores = cross_val_score(bnb, Xtf_train, ytf_train, cv=10)\n",
    "print(\"Mean 10-fold cross-validated accuracy from Bernoulli NB with tfidf: %0.2f (+/- %0.2f)\" % (scores.mean(), scores.std() *2))  #means\n",
    "# 69% was 56%\n",
    "print(bayes.alpha)"
   ]
  },
  {
   "cell_type": "markdown",
   "metadata": {},
   "source": [
    "The model performs better when the alpha is around .5 for the cross-validated data. Thus, this iteration runs the model on alpha .5.  "
   ]
  }
 ],
 "metadata": {
  "kernelspec": {
   "display_name": "Python 3",
   "language": "python",
   "name": "python3"
  },
  "language_info": {
   "codemirror_mode": {
    "name": "ipython",
    "version": 3
   },
   "file_extension": ".py",
   "mimetype": "text/x-python",
   "name": "python",
   "nbconvert_exporter": "python",
   "pygments_lexer": "ipython3",
   "version": "3.6.5"
  }
 },
 "nbformat": 4,
 "nbformat_minor": 2
}
