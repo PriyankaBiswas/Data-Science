{
 "cells": [
  {
   "cell_type": "code",
   "execution_count": 1,
   "metadata": {},
   "outputs": [],
   "source": [
    "import numpy as np\n",
    "import pandas as pd\n",
    "import matplotlib.pyplot as plt\n",
    "import scipy\n",
    "import seaborn as sns\n",
    "%matplotlib inline"
   ]
  },
  {
   "cell_type": "code",
   "execution_count": 2,
   "metadata": {},
   "outputs": [],
   "source": [
    "music = pd.DataFrame()\n",
    "\n",
    "# Some data to play with.\n",
    "music['duration'] = [184, 134, 243, 186, 122, 197, 294, 382, 102, 264, \n",
    "                     205, 110, 307, 110, 397, 153, 190, 192, 210, 403,\n",
    "                     164, 198, 204, 253, 234, 190, 182, 401, 376, 102]\n",
    "music['loudness'] = [18, 34, 43, 36, 22, 9, 29, 22, 10, 24, \n",
    "                     20, 10, 17, 51, 7, 13, 19, 12, 21, 22,\n",
    "                     16, 18, 4, 23, 34, 19, 14, 11, 37, 42]\n",
    "\n",
    "# We know whether the songs in our training data are jazz or not.\n",
    "music['jazz'] = [ 1, 0, 0, 0, 1, 1, 0, 1, 1, 0,\n",
    "                  0, 1, 1, 0, 1, 1, 0, 1, 1, 1,\n",
    "                  1, 1, 1, 1, 0, 0, 1, 1, 0, 0]\n"
   ]
  },
  {
   "cell_type": "code",
   "execution_count": 5,
   "metadata": {},
   "outputs": [],
   "source": [
    "# Build nearest neighbor algorithm from scratch \n",
    "\n",
    "def nearest_neighbor(a, b):\n",
    "    \n",
    "    # create arbitrary shortest distance \n",
    "    shortest_dist = 1000\n",
    "    \n",
    "    # create index for shortest distance \n",
    "    shortest_dist_index = []\n",
    "    \n",
    "    # Iterate over dataframe to gather index and value\n",
    "    for idx, value in music.iterrows():\n",
    "        duration = value['duration']\n",
    "        loudness = value['loudness']\n",
    "        \n",
    "        # find distance between the points \n",
    "        dist = np.sqrt(((duration-a)**2) + (loudness-b)**2)\n",
    "        \n",
    "        # replacing shortest distance from calculated distance \n",
    "        if dist < shortest_dist: \n",
    "            shortest_dist = dist\n",
    "            shortest_dist_index = idx\n",
    "    return music.iloc[shortest_dist_index]['jazz']"
   ]
  },
  {
   "cell_type": "code",
   "execution_count": 7,
   "metadata": {},
   "outputs": [
    {
     "name": "stdout",
     "output_type": "stream",
     "text": [
      "Calculated NN prediction:  1\n",
      "Calculated NN prediction:  0\n"
     ]
    }
   ],
   "source": [
    "print(\"Calculated NN prediction: \", nearest_neighbor(184, 18))\n",
    "\n",
    "print(\"Calculated NN prediction: \", nearest_neighbor(376, 37))\n"
   ]
  },
  {
   "cell_type": "code",
   "execution_count": 9,
   "metadata": {},
   "outputs": [
    {
     "data": {
      "text/plain": [
       "KNeighborsClassifier(algorithm='auto', leaf_size=30, metric='minkowski',\n",
       "           metric_params=None, n_jobs=1, n_neighbors=1, p=2,\n",
       "           weights='uniform')"
      ]
     },
     "execution_count": 9,
     "metadata": {},
     "output_type": "execute_result"
    }
   ],
   "source": [
    "# Nearest neighbor from KNN \n",
    "\n",
    "from sklearn.neighbors import KNeighborsClassifier\n",
    "neighbors = KNeighborsClassifier(n_neighbors=1)\n",
    "X = music[['duration', 'loudness']]\n",
    "Y = music.jazz\n",
    "neighbors.fit(X,Y)"
   ]
  },
  {
   "cell_type": "code",
   "execution_count": 10,
   "metadata": {},
   "outputs": [
    {
     "name": "stdout",
     "output_type": "stream",
     "text": [
      "Nearest Neighbor predict:  [1]\n",
      "Nearest Neighbor predict:  [0]\n"
     ]
    }
   ],
   "source": [
    "print(\"Nearest Neighbor predict: \", neighbors.predict([[184, 18]]))\n",
    "\n",
    "print(\"Nearest Neighbor predict: \", neighbors.predict([[376, 37]]))"
   ]
  },
  {
   "cell_type": "code",
   "execution_count": null,
   "metadata": {},
   "outputs": [],
   "source": []
  }
 ],
 "metadata": {
  "kernelspec": {
   "display_name": "Python 3",
   "language": "python",
   "name": "python3"
  },
  "language_info": {
   "codemirror_mode": {
    "name": "ipython",
    "version": 3
   },
   "file_extension": ".py",
   "mimetype": "text/x-python",
   "name": "python",
   "nbconvert_exporter": "python",
   "pygments_lexer": "ipython3",
   "version": "3.6.5"
  }
 },
 "nbformat": 4,
 "nbformat_minor": 2
}
