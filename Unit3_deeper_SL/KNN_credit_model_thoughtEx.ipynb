{
 "cells": [
  {
   "cell_type": "markdown",
   "metadata": {},
   "source": [
    "Let's say we work at a credit card company and we're trying to figure out if people are going to pay their bills on time. We have everyone's purchases, split into four main categories: groceries, dining out, utilities, and entertainment. What are some ways you might use KNN to create this model? What aspects of KNN would be useful? Write up your thoughts in submit a link below."
   ]
  },
  {
   "cell_type": "code",
   "execution_count": 1,
   "metadata": {
    "cell_style": "split",
    "hide_input": true
   },
   "outputs": [
    {
     "data": {
      "text/html": [
       "<div>\n",
       "<style scoped>\n",
       "    .dataframe tbody tr th:only-of-type {\n",
       "        vertical-align: middle;\n",
       "    }\n",
       "\n",
       "    .dataframe tbody tr th {\n",
       "        vertical-align: top;\n",
       "    }\n",
       "\n",
       "    .dataframe thead th {\n",
       "        text-align: right;\n",
       "    }\n",
       "</style>\n",
       "<table border=\"1\" class=\"dataframe\">\n",
       "  <thead>\n",
       "    <tr style=\"text-align: right;\">\n",
       "      <th></th>\n",
       "      <th>amount</th>\n",
       "      <th>category</th>\n",
       "      <th>month</th>\n",
       "      <th>subject</th>\n",
       "    </tr>\n",
       "  </thead>\n",
       "  <tbody>\n",
       "    <tr>\n",
       "      <th>0</th>\n",
       "      <td>10.41</td>\n",
       "      <td>entertainment</td>\n",
       "      <td>1</td>\n",
       "      <td>1</td>\n",
       "    </tr>\n",
       "    <tr>\n",
       "      <th>1</th>\n",
       "      <td>100.00</td>\n",
       "      <td>groceries</td>\n",
       "      <td>1</td>\n",
       "      <td>1</td>\n",
       "    </tr>\n",
       "    <tr>\n",
       "      <th>2</th>\n",
       "      <td>400.00</td>\n",
       "      <td>groceries</td>\n",
       "      <td>1</td>\n",
       "      <td>1</td>\n",
       "    </tr>\n",
       "    <tr>\n",
       "      <th>3</th>\n",
       "      <td>54.00</td>\n",
       "      <td>dining out</td>\n",
       "      <td>2</td>\n",
       "      <td>1</td>\n",
       "    </tr>\n",
       "    <tr>\n",
       "      <th>4</th>\n",
       "      <td>523.00</td>\n",
       "      <td>utilities</td>\n",
       "      <td>2</td>\n",
       "      <td>1</td>\n",
       "    </tr>\n",
       "    <tr>\n",
       "      <th>5</th>\n",
       "      <td>34.00</td>\n",
       "      <td>utilities</td>\n",
       "      <td>3</td>\n",
       "      <td>1</td>\n",
       "    </tr>\n",
       "    <tr>\n",
       "      <th>6</th>\n",
       "      <td>20.00</td>\n",
       "      <td>entertainment</td>\n",
       "      <td>3</td>\n",
       "      <td>1</td>\n",
       "    </tr>\n",
       "  </tbody>\n",
       "</table>\n",
       "</div>"
      ],
      "text/plain": [
       "   amount       category  month  subject\n",
       "0   10.41  entertainment      1        1\n",
       "1  100.00      groceries      1        1\n",
       "2  400.00      groceries      1        1\n",
       "3   54.00     dining out      2        1\n",
       "4  523.00      utilities      2        1\n",
       "5   34.00      utilities      3        1\n",
       "6   20.00  entertainment      3        1"
      ]
     },
     "execution_count": 1,
     "metadata": {},
     "output_type": "execute_result"
    }
   ],
   "source": [
    "import pandas as pd\n",
    "input_data = [{'subject':1,'month':1, 'amount': 10.41, 'category':'entertainment'},\n",
    "             {'subject':1,'month':1, 'amount': 100, 'category':'groceries'},\n",
    "             {'subject':1,'month':1, 'amount':400, 'category':'groceries'},\n",
    "             {'subject':1,'month':2, 'amount': 54, 'category':'dining out'},\n",
    "             {'subject':1,'month':2, 'amount': 523, 'category':'utilities'},\n",
    "             {'subject':1,'month':3, 'amount': 34, 'category':'utilities'},\n",
    "             {'subject':1,'month':3, 'amount': 20, 'category':'entertainment'}]\n",
    "\n",
    "pd.DataFrame(input_data)"
   ]
  },
  {
   "cell_type": "code",
   "execution_count": 9,
   "metadata": {
    "cell_style": "split",
    "hide_input": true
   },
   "outputs": [
    {
     "data": {
      "text/html": [
       "<div>\n",
       "<style scoped>\n",
       "    .dataframe tbody tr th:only-of-type {\n",
       "        vertical-align: middle;\n",
       "    }\n",
       "\n",
       "    .dataframe tbody tr th {\n",
       "        vertical-align: top;\n",
       "    }\n",
       "\n",
       "    .dataframe thead th {\n",
       "        text-align: right;\n",
       "    }\n",
       "</style>\n",
       "<table border=\"1\" class=\"dataframe\">\n",
       "  <thead>\n",
       "    <tr style=\"text-align: right;\">\n",
       "      <th></th>\n",
       "      <th>amount_due</th>\n",
       "      <th>month_bill_due</th>\n",
       "      <th>paid_on_time</th>\n",
       "      <th>subject</th>\n",
       "    </tr>\n",
       "  </thead>\n",
       "  <tbody>\n",
       "    <tr>\n",
       "      <th>0</th>\n",
       "      <td>10.41</td>\n",
       "      <td>1</td>\n",
       "      <td>1</td>\n",
       "      <td>1</td>\n",
       "    </tr>\n",
       "    <tr>\n",
       "      <th>1</th>\n",
       "      <td>100.41</td>\n",
       "      <td>2</td>\n",
       "      <td>1</td>\n",
       "      <td>1</td>\n",
       "    </tr>\n",
       "    <tr>\n",
       "      <th>2</th>\n",
       "      <td>101.41</td>\n",
       "      <td>3</td>\n",
       "      <td>0</td>\n",
       "      <td>1</td>\n",
       "    </tr>\n",
       "    <tr>\n",
       "      <th>3</th>\n",
       "      <td>103.41</td>\n",
       "      <td>4</td>\n",
       "      <td>1</td>\n",
       "      <td>1</td>\n",
       "    </tr>\n",
       "  </tbody>\n",
       "</table>\n",
       "</div>"
      ],
      "text/plain": [
       "   amount_due  month_bill_due  paid_on_time  subject\n",
       "0       10.41               1             1        1\n",
       "1      100.41               2             1        1\n",
       "2      101.41               3             0        1\n",
       "3      103.41               4             1        1"
      ]
     },
     "execution_count": 9,
     "metadata": {},
     "output_type": "execute_result"
    }
   ],
   "source": [
    "import pandas as pd\n",
    "ground_truth = [{'subject':1,'month_bill_due':1, 'amount_due': 10.41, 'paid_on_time':1 },\n",
    "                  {'subject':1,'month_bill_due':2, 'amount_due': 100.41, 'paid_on_time':1},\n",
    "                  {'subject':1,'month_bill_due':3, 'amount_due': 101.41, 'paid_on_time':0},\n",
    "                  {'subject':1,'month_bill_due':4, 'amount_due': 103.41, 'paid_on_time':1},\n",
    "             ]\n",
    "\n",
    "pd.DataFrame(ground_truth)"
   ]
  },
  {
   "cell_type": "markdown",
   "metadata": {},
   "source": [
    "__Feature Engineering:__\n",
    "\n",
    "- Create features that could be represented visually in the verctor space. For example, combining months (12) and categories (4) to create a set of new attributes (e.g., entertainment_Jan, grocery_Feb etc.). \n",
    "- Once such features are created values will be normalized across categories. For example, all entertainment values should be normalized separately from the grocery values. \n",
    "- Combine paid_on_time with the newly formed features and now we have our dataset ready. \n",
    "- Since KNN does not do well with a lot of attributes, keeping a finite and minimal set of attributes will be useful. \n",
    "- Distance metrics: after normalizing we can use Euclidian distance metrics for measuring the distance between vectors. \n",
    "\n",
    "__Training and Testing__\n",
    "- If there are historical data, a 70:30 split in the training and testing will be ideal for running the models. \n",
    "\n"
   ]
  },
  {
   "cell_type": "code",
   "execution_count": null,
   "metadata": {},
   "outputs": [],
   "source": []
  }
 ],
 "metadata": {
  "kernelspec": {
   "display_name": "Python 3",
   "language": "python",
   "name": "python3"
  },
  "language_info": {
   "codemirror_mode": {
    "name": "ipython",
    "version": 3
   },
   "file_extension": ".py",
   "mimetype": "text/x-python",
   "name": "python",
   "nbconvert_exporter": "python",
   "pygments_lexer": "ipython3",
   "version": "3.6.5"
  },
  "toc": {
   "base_numbering": 1,
   "nav_menu": {},
   "number_sections": true,
   "sideBar": true,
   "skip_h1_title": false,
   "title_cell": "Table of Contents",
   "title_sidebar": "Contents",
   "toc_cell": false,
   "toc_position": {},
   "toc_section_display": true,
   "toc_window_display": false
  }
 },
 "nbformat": 4,
 "nbformat_minor": 2
}
