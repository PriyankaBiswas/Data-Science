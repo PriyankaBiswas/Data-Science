{
 "cells": [
  {
   "cell_type": "markdown",
   "metadata": {},
   "source": [
    "Engineer your features, then create three models. Each model will be run on a training set and a test-set (or multiple test-sets, if you take a folds approach). The models should be:\n",
    "\n",
    "- Vanilla logistic regression\n",
    "- Ridge logistic regression\n",
    "- Lasso logistic regression\n",
    "\n",
    "If you're stuck on how to begin combining your two new modeling skills, here's a hint: the SKlearn LogisticRegression method has a \"penalty\" argument that takes either 'l1' or 'l2' as a value.\n",
    "\n",
    "In your report, evaluate all three models and decide on your best. Be clear about the decisions you made that led to these models (feature selection, regularization parameter selection, model evaluation criteria) and why you think that particular model is the best of the three. Also reflect on the strengths and limitations of regression as a modeling approach. Were there things you couldn't do but you wish you could have done?"
   ]
  },
  {
   "cell_type": "code",
   "execution_count": 293,
   "metadata": {},
   "outputs": [],
   "source": [
    "import pandas as pd\n",
    "from matplotlib import pyplot as plt\n",
    "import numpy as np\n",
    "import math\n",
    "import seaborn as sns\n",
    "import sklearn\n",
    "from sklearn import linear_model\n",
    "from sklearn.linear_model import LogisticRegression\n",
    "from sklearn import preprocessing\n",
    "%matplotlib inline\n",
    "\n",
    "\n",
    "from sklearn.model_selection import train_test_split\n",
    "from sklearn.model_selection import cross_val_score\n",
    "import statsmodels.api as sm"
   ]
  },
  {
   "cell_type": "code",
   "execution_count": 294,
   "metadata": {},
   "outputs": [
    {
     "data": {
      "text/html": [
       "<div>\n",
       "<style scoped>\n",
       "    .dataframe tbody tr th:only-of-type {\n",
       "        vertical-align: middle;\n",
       "    }\n",
       "\n",
       "    .dataframe tbody tr th {\n",
       "        vertical-align: top;\n",
       "    }\n",
       "\n",
       "    .dataframe thead th {\n",
       "        text-align: right;\n",
       "    }\n",
       "</style>\n",
       "<table border=\"1\" class=\"dataframe\">\n",
       "  <thead>\n",
       "    <tr style=\"text-align: right;\">\n",
       "      <th></th>\n",
       "      <th>Population</th>\n",
       "      <th>Violent\n",
       "crime</th>\n",
       "      <th>Murder and\n",
       "nonnegligent\n",
       "manslaughter</th>\n",
       "      <th>Rape1</th>\n",
       "      <th>Robbery</th>\n",
       "      <th>Aggravated\n",
       "assault</th>\n",
       "      <th>Property\n",
       "crime</th>\n",
       "      <th>Burglary</th>\n",
       "      <th>Larceny-\n",
       "theft</th>\n",
       "      <th>Motor\n",
       "vehicle\n",
       "theft</th>\n",
       "      <th>Arson</th>\n",
       "    </tr>\n",
       "    <tr>\n",
       "      <th>State</th>\n",
       "      <th></th>\n",
       "      <th></th>\n",
       "      <th></th>\n",
       "      <th></th>\n",
       "      <th></th>\n",
       "      <th></th>\n",
       "      <th></th>\n",
       "      <th></th>\n",
       "      <th></th>\n",
       "      <th></th>\n",
       "      <th></th>\n",
       "    </tr>\n",
       "  </thead>\n",
       "  <tbody>\n",
       "    <tr>\n",
       "      <th>Adelanto</th>\n",
       "      <td>33693.0</td>\n",
       "      <td>238.0</td>\n",
       "      <td>2.0</td>\n",
       "      <td>28.0</td>\n",
       "      <td>48.0</td>\n",
       "      <td>160.0</td>\n",
       "      <td>578.0</td>\n",
       "      <td>190.0</td>\n",
       "      <td>290.0</td>\n",
       "      <td>98.0</td>\n",
       "      <td>13.0</td>\n",
       "    </tr>\n",
       "    <tr>\n",
       "      <th>Agoura Hills</th>\n",
       "      <td>20814.0</td>\n",
       "      <td>16.0</td>\n",
       "      <td>0.0</td>\n",
       "      <td>2.0</td>\n",
       "      <td>4.0</td>\n",
       "      <td>10.0</td>\n",
       "      <td>278.0</td>\n",
       "      <td>71.0</td>\n",
       "      <td>187.0</td>\n",
       "      <td>20.0</td>\n",
       "      <td>4.0</td>\n",
       "    </tr>\n",
       "    <tr>\n",
       "      <th>Alameda</th>\n",
       "      <td>79761.0</td>\n",
       "      <td>253.0</td>\n",
       "      <td>0.0</td>\n",
       "      <td>16.0</td>\n",
       "      <td>133.0</td>\n",
       "      <td>104.0</td>\n",
       "      <td>2347.0</td>\n",
       "      <td>219.0</td>\n",
       "      <td>1725.0</td>\n",
       "      <td>403.0</td>\n",
       "      <td>25.0</td>\n",
       "    </tr>\n",
       "    <tr>\n",
       "      <th>Albany</th>\n",
       "      <td>19880.0</td>\n",
       "      <td>36.0</td>\n",
       "      <td>0.0</td>\n",
       "      <td>1.0</td>\n",
       "      <td>28.0</td>\n",
       "      <td>7.0</td>\n",
       "      <td>523.0</td>\n",
       "      <td>77.0</td>\n",
       "      <td>383.0</td>\n",
       "      <td>63.0</td>\n",
       "      <td>3.0</td>\n",
       "    </tr>\n",
       "    <tr>\n",
       "      <th>Alhambra</th>\n",
       "      <td>85865.0</td>\n",
       "      <td>172.0</td>\n",
       "      <td>4.0</td>\n",
       "      <td>17.0</td>\n",
       "      <td>89.0</td>\n",
       "      <td>62.0</td>\n",
       "      <td>1877.0</td>\n",
       "      <td>363.0</td>\n",
       "      <td>1244.0</td>\n",
       "      <td>270.0</td>\n",
       "      <td>12.0</td>\n",
       "    </tr>\n",
       "  </tbody>\n",
       "</table>\n",
       "</div>"
      ],
      "text/plain": [
       "              Population  Violent\\ncrime  \\\n",
       "State                                      \n",
       "Adelanto         33693.0           238.0   \n",
       "Agoura Hills     20814.0            16.0   \n",
       "Alameda          79761.0           253.0   \n",
       "Albany           19880.0            36.0   \n",
       "Alhambra         85865.0           172.0   \n",
       "\n",
       "              Murder and\\nnonnegligent\\nmanslaughter  Rape1  Robbery  \\\n",
       "State                                                                  \n",
       "Adelanto                                         2.0   28.0     48.0   \n",
       "Agoura Hills                                     0.0    2.0      4.0   \n",
       "Alameda                                          0.0   16.0    133.0   \n",
       "Albany                                           0.0    1.0     28.0   \n",
       "Alhambra                                         4.0   17.0     89.0   \n",
       "\n",
       "              Aggravated\\nassault  Property\\ncrime  Burglary  Larceny-\\ntheft  \\\n",
       "State                                                                           \n",
       "Adelanto                    160.0            578.0     190.0            290.0   \n",
       "Agoura Hills                 10.0            278.0      71.0            187.0   \n",
       "Alameda                     104.0           2347.0     219.0           1725.0   \n",
       "Albany                        7.0            523.0      77.0            383.0   \n",
       "Alhambra                     62.0           1877.0     363.0           1244.0   \n",
       "\n",
       "              Motor\\nvehicle\\ntheft  Arson  \n",
       "State                                       \n",
       "Adelanto                       98.0   13.0  \n",
       "Agoura Hills                   20.0    4.0  \n",
       "Alameda                       403.0   25.0  \n",
       "Albany                         63.0    3.0  \n",
       "Alhambra                      270.0   12.0  "
      ]
     },
     "execution_count": 294,
     "metadata": {},
     "output_type": "execute_result"
    }
   ],
   "source": [
    "# California crime data from 2017\n",
    "\n",
    "df = pd.read_excel('california.xls', skiprows=4, index_col='State') #skipping first 4 rows of metadata\n",
    "df.head()"
   ]
  },
  {
   "cell_type": "code",
   "execution_count": 295,
   "metadata": {},
   "outputs": [
    {
     "data": {
      "text/plain": [
       "Index(['Population', 'Violent\\ncrime',\n",
       "       'Murder and\\nnonnegligent\\nmanslaughter', 'Rape1', 'Robbery',\n",
       "       'Aggravated\\nassault', 'Property\\ncrime', 'Burglary', 'Larceny-\\ntheft',\n",
       "       'Motor\\nvehicle\\ntheft', 'Arson'],\n",
       "      dtype='object')"
      ]
     },
     "execution_count": 295,
     "metadata": {},
     "output_type": "execute_result"
    }
   ],
   "source": [
    "df.columns"
   ]
  },
  {
   "cell_type": "code",
   "execution_count": 296,
   "metadata": {},
   "outputs": [],
   "source": [
    "df = df.rename(index=str, columns={'Violent\\ncrime' : 'Violent_crime',\n",
    "                                   'Murder and\\nnonnegligent\\nmanslaughter' : 'Murder',\n",
    "                                   'Rape1': 'Rape', \n",
    "                                   'Aggravated\\nassault': 'Assault', \n",
    "                                   'Property\\ncrime': 'Property_crime',\n",
    "                                   'Larceny-\\ntheft': 'Larceny_theft',\n",
    "                                   'Motor\\nvehicle\\ntheft': 'Motor_theft'})\n",
    "\n",
    "df.index.rename('County', inplace=True)"
   ]
  },
  {
   "cell_type": "code",
   "execution_count": 297,
   "metadata": {},
   "outputs": [
    {
     "data": {
      "text/plain": [
       "(464, 11)"
      ]
     },
     "execution_count": 297,
     "metadata": {},
     "output_type": "execute_result"
    }
   ],
   "source": [
    "df.shape"
   ]
  },
  {
   "cell_type": "code",
   "execution_count": 298,
   "metadata": {
    "scrolled": true
   },
   "outputs": [
    {
     "data": {
      "text/plain": [
       "Population        3\n",
       "Violent_crime     3\n",
       "Murder            3\n",
       "Rape              3\n",
       "Robbery           3\n",
       "Assault           3\n",
       "Property_crime    4\n",
       "Burglary          3\n",
       "Larceny_theft     4\n",
       "Motor_theft       3\n",
       "Arson             3\n",
       "dtype: int64"
      ]
     },
     "execution_count": 298,
     "metadata": {},
     "output_type": "execute_result"
    }
   ],
   "source": [
    "df.isna().sum()"
   ]
  },
  {
   "cell_type": "code",
   "execution_count": 299,
   "metadata": {},
   "outputs": [
    {
     "data": {
      "text/html": [
       "<div>\n",
       "<style scoped>\n",
       "    .dataframe tbody tr th:only-of-type {\n",
       "        vertical-align: middle;\n",
       "    }\n",
       "\n",
       "    .dataframe tbody tr th {\n",
       "        vertical-align: top;\n",
       "    }\n",
       "\n",
       "    .dataframe thead th {\n",
       "        text-align: right;\n",
       "    }\n",
       "</style>\n",
       "<table border=\"1\" class=\"dataframe\">\n",
       "  <thead>\n",
       "    <tr style=\"text-align: right;\">\n",
       "      <th></th>\n",
       "      <th>Population</th>\n",
       "      <th>Violent_crime</th>\n",
       "      <th>Murder</th>\n",
       "      <th>Rape</th>\n",
       "      <th>Robbery</th>\n",
       "      <th>Assault</th>\n",
       "      <th>Property_crime</th>\n",
       "      <th>Burglary</th>\n",
       "      <th>Larceny_theft</th>\n",
       "      <th>Motor_theft</th>\n",
       "      <th>Arson</th>\n",
       "    </tr>\n",
       "    <tr>\n",
       "      <th>County</th>\n",
       "      <th></th>\n",
       "      <th></th>\n",
       "      <th></th>\n",
       "      <th></th>\n",
       "      <th></th>\n",
       "      <th></th>\n",
       "      <th></th>\n",
       "      <th></th>\n",
       "      <th></th>\n",
       "      <th></th>\n",
       "      <th></th>\n",
       "    </tr>\n",
       "  </thead>\n",
       "  <tbody>\n",
       "    <tr>\n",
       "      <th>Yucaipa</th>\n",
       "      <td>53614.0</td>\n",
       "      <td>74.0</td>\n",
       "      <td>0.0</td>\n",
       "      <td>12.0</td>\n",
       "      <td>23.0</td>\n",
       "      <td>39.0</td>\n",
       "      <td>927.0</td>\n",
       "      <td>202.0</td>\n",
       "      <td>590.0</td>\n",
       "      <td>135.0</td>\n",
       "      <td>5.0</td>\n",
       "    </tr>\n",
       "    <tr>\n",
       "      <th>Yucca Valley</th>\n",
       "      <td>21806.0</td>\n",
       "      <td>65.0</td>\n",
       "      <td>0.0</td>\n",
       "      <td>9.0</td>\n",
       "      <td>18.0</td>\n",
       "      <td>38.0</td>\n",
       "      <td>444.0</td>\n",
       "      <td>148.0</td>\n",
       "      <td>244.0</td>\n",
       "      <td>52.0</td>\n",
       "      <td>2.0</td>\n",
       "    </tr>\n",
       "    <tr>\n",
       "      <th>1 The figures shown in this column for the offense of rape were reported using only the revised Uniform Crime Reporting definition of rape. See the data declaration for further explanation.</th>\n",
       "      <td>NaN</td>\n",
       "      <td>NaN</td>\n",
       "      <td>NaN</td>\n",
       "      <td>NaN</td>\n",
       "      <td>NaN</td>\n",
       "      <td>NaN</td>\n",
       "      <td>NaN</td>\n",
       "      <td>NaN</td>\n",
       "      <td>NaN</td>\n",
       "      <td>NaN</td>\n",
       "      <td>NaN</td>\n",
       "    </tr>\n",
       "    <tr>\n",
       "      <th>2 The FBI determined that the agency's data were overreported. Consequently, those data are not included in this table.</th>\n",
       "      <td>NaN</td>\n",
       "      <td>NaN</td>\n",
       "      <td>NaN</td>\n",
       "      <td>NaN</td>\n",
       "      <td>NaN</td>\n",
       "      <td>NaN</td>\n",
       "      <td>NaN</td>\n",
       "      <td>NaN</td>\n",
       "      <td>NaN</td>\n",
       "      <td>NaN</td>\n",
       "      <td>NaN</td>\n",
       "    </tr>\n",
       "    <tr>\n",
       "      <th>3 Because of changes in the state/local agency's reporting practices, figures are not comparable to previous years' data.</th>\n",
       "      <td>NaN</td>\n",
       "      <td>NaN</td>\n",
       "      <td>NaN</td>\n",
       "      <td>NaN</td>\n",
       "      <td>NaN</td>\n",
       "      <td>NaN</td>\n",
       "      <td>NaN</td>\n",
       "      <td>NaN</td>\n",
       "      <td>NaN</td>\n",
       "      <td>NaN</td>\n",
       "      <td>NaN</td>\n",
       "    </tr>\n",
       "  </tbody>\n",
       "</table>\n",
       "</div>"
      ],
      "text/plain": [
       "                                                    Population  Violent_crime  \\\n",
       "County                                                                          \n",
       "Yucaipa                                                53614.0           74.0   \n",
       "Yucca Valley                                           21806.0           65.0   \n",
       "1 The figures shown in this column for the offe...         NaN            NaN   \n",
       "2 The FBI determined that the agency's data wer...         NaN            NaN   \n",
       "3 Because of changes in the state/local agency'...         NaN            NaN   \n",
       "\n",
       "                                                    Murder  Rape  Robbery  \\\n",
       "County                                                                      \n",
       "Yucaipa                                                0.0  12.0     23.0   \n",
       "Yucca Valley                                           0.0   9.0     18.0   \n",
       "1 The figures shown in this column for the offe...     NaN   NaN      NaN   \n",
       "2 The FBI determined that the agency's data wer...     NaN   NaN      NaN   \n",
       "3 Because of changes in the state/local agency'...     NaN   NaN      NaN   \n",
       "\n",
       "                                                    Assault  Property_crime  \\\n",
       "County                                                                        \n",
       "Yucaipa                                                39.0           927.0   \n",
       "Yucca Valley                                           38.0           444.0   \n",
       "1 The figures shown in this column for the offe...      NaN             NaN   \n",
       "2 The FBI determined that the agency's data wer...      NaN             NaN   \n",
       "3 Because of changes in the state/local agency'...      NaN             NaN   \n",
       "\n",
       "                                                    Burglary  Larceny_theft  \\\n",
       "County                                                                        \n",
       "Yucaipa                                                202.0          590.0   \n",
       "Yucca Valley                                           148.0          244.0   \n",
       "1 The figures shown in this column for the offe...       NaN            NaN   \n",
       "2 The FBI determined that the agency's data wer...       NaN            NaN   \n",
       "3 Because of changes in the state/local agency'...       NaN            NaN   \n",
       "\n",
       "                                                    Motor_theft  Arson  \n",
       "County                                                                  \n",
       "Yucaipa                                                   135.0    5.0  \n",
       "Yucca Valley                                               52.0    2.0  \n",
       "1 The figures shown in this column for the offe...          NaN    NaN  \n",
       "2 The FBI determined that the agency's data wer...          NaN    NaN  \n",
       "3 Because of changes in the state/local agency'...          NaN    NaN  "
      ]
     },
     "execution_count": 299,
     "metadata": {},
     "output_type": "execute_result"
    }
   ],
   "source": [
    "df.tail()\n",
    "\n",
    "#for col in df.columns:\n",
    "#    print(df[df[col].isnull()])\n",
    "#    \n",
    "#   # The last three lines are null for every column."
   ]
  },
  {
   "cell_type": "code",
   "execution_count": 300,
   "metadata": {},
   "outputs": [],
   "source": [
    "df = df[:-3]  # removing last three rows with null values"
   ]
  },
  {
   "cell_type": "code",
   "execution_count": 301,
   "metadata": {},
   "outputs": [
    {
     "name": "stdout",
     "output_type": "stream",
     "text": [
      "              Population  Violent_crime  Murder  Rape  Robbery  Assault  \\\n",
      "County                                                                    \n",
      "Yuba City        67042.0          255.0     0.0  23.0     82.0    150.0   \n",
      "Yucaipa          53614.0           74.0     0.0  12.0     23.0     39.0   \n",
      "Yucca Valley     21806.0           65.0     0.0   9.0     18.0     38.0   \n",
      "\n",
      "              Property_crime  Burglary  Larceny_theft  Motor_theft  Arson  \n",
      "County                                                                     \n",
      "Yuba City             2207.0     380.0         1448.0        379.0   15.0  \n",
      "Yucaipa                927.0     202.0          590.0        135.0    5.0  \n",
      "Yucca Valley           444.0     148.0          244.0         52.0    2.0  \n"
     ]
    },
    {
     "data": {
      "text/plain": [
       "Population        0\n",
       "Violent_crime     0\n",
       "Murder            0\n",
       "Rape              0\n",
       "Robbery           0\n",
       "Assault           0\n",
       "Property_crime    1\n",
       "Burglary          0\n",
       "Larceny_theft     1\n",
       "Motor_theft       0\n",
       "Arson             0\n",
       "dtype: int64"
      ]
     },
     "execution_count": 301,
     "metadata": {},
     "output_type": "execute_result"
    }
   ],
   "source": [
    "print(df.tail(3))\n",
    "df.isna().sum()"
   ]
  },
  {
   "cell_type": "code",
   "execution_count": 302,
   "metadata": {
    "scrolled": true
   },
   "outputs": [
    {
     "data": {
      "text/html": [
       "<div>\n",
       "<style scoped>\n",
       "    .dataframe tbody tr th:only-of-type {\n",
       "        vertical-align: middle;\n",
       "    }\n",
       "\n",
       "    .dataframe tbody tr th {\n",
       "        vertical-align: top;\n",
       "    }\n",
       "\n",
       "    .dataframe thead th {\n",
       "        text-align: right;\n",
       "    }\n",
       "</style>\n",
       "<table border=\"1\" class=\"dataframe\">\n",
       "  <thead>\n",
       "    <tr style=\"text-align: right;\">\n",
       "      <th></th>\n",
       "      <th>Population</th>\n",
       "      <th>Violent_crime</th>\n",
       "      <th>Murder</th>\n",
       "      <th>Rape</th>\n",
       "      <th>Robbery</th>\n",
       "      <th>Assault</th>\n",
       "      <th>Property_crime</th>\n",
       "      <th>Burglary</th>\n",
       "      <th>Larceny_theft</th>\n",
       "      <th>Motor_theft</th>\n",
       "      <th>Arson</th>\n",
       "    </tr>\n",
       "  </thead>\n",
       "  <tbody>\n",
       "    <tr>\n",
       "      <th>count</th>\n",
       "      <td>4.610000e+02</td>\n",
       "      <td>461.000000</td>\n",
       "      <td>461.000000</td>\n",
       "      <td>461.000000</td>\n",
       "      <td>461.000000</td>\n",
       "      <td>461.000000</td>\n",
       "      <td>460.000000</td>\n",
       "      <td>461.000000</td>\n",
       "      <td>460.000000</td>\n",
       "      <td>461.000000</td>\n",
       "      <td>461.000000</td>\n",
       "    </tr>\n",
       "    <tr>\n",
       "      <th>mean</th>\n",
       "      <td>7.124899e+04</td>\n",
       "      <td>321.605206</td>\n",
       "      <td>3.184382</td>\n",
       "      <td>27.073753</td>\n",
       "      <td>110.436009</td>\n",
       "      <td>180.911063</td>\n",
       "      <td>1862.060870</td>\n",
       "      <td>318.091106</td>\n",
       "      <td>1231.417391</td>\n",
       "      <td>311.314534</td>\n",
       "      <td>15.503254</td>\n",
       "    </tr>\n",
       "    <tr>\n",
       "      <th>std</th>\n",
       "      <td>2.150399e+05</td>\n",
       "      <td>1545.676597</td>\n",
       "      <td>14.851975</td>\n",
       "      <td>124.356076</td>\n",
       "      <td>559.698252</td>\n",
       "      <td>856.083620</td>\n",
       "      <td>5979.033721</td>\n",
       "      <td>924.754478</td>\n",
       "      <td>4055.402225</td>\n",
       "      <td>1101.892752</td>\n",
       "      <td>72.627927</td>\n",
       "    </tr>\n",
       "    <tr>\n",
       "      <th>min</th>\n",
       "      <td>1.130000e+02</td>\n",
       "      <td>0.000000</td>\n",
       "      <td>0.000000</td>\n",
       "      <td>0.000000</td>\n",
       "      <td>0.000000</td>\n",
       "      <td>0.000000</td>\n",
       "      <td>1.000000</td>\n",
       "      <td>0.000000</td>\n",
       "      <td>0.000000</td>\n",
       "      <td>0.000000</td>\n",
       "      <td>0.000000</td>\n",
       "    </tr>\n",
       "    <tr>\n",
       "      <th>25%</th>\n",
       "      <td>1.221000e+04</td>\n",
       "      <td>33.000000</td>\n",
       "      <td>0.000000</td>\n",
       "      <td>3.000000</td>\n",
       "      <td>6.000000</td>\n",
       "      <td>19.000000</td>\n",
       "      <td>245.000000</td>\n",
       "      <td>55.000000</td>\n",
       "      <td>152.000000</td>\n",
       "      <td>26.000000</td>\n",
       "      <td>1.000000</td>\n",
       "    </tr>\n",
       "    <tr>\n",
       "      <th>50%</th>\n",
       "      <td>3.369300e+04</td>\n",
       "      <td>91.000000</td>\n",
       "      <td>1.000000</td>\n",
       "      <td>8.000000</td>\n",
       "      <td>23.000000</td>\n",
       "      <td>52.000000</td>\n",
       "      <td>697.000000</td>\n",
       "      <td>136.000000</td>\n",
       "      <td>477.000000</td>\n",
       "      <td>87.000000</td>\n",
       "      <td>4.000000</td>\n",
       "    </tr>\n",
       "    <tr>\n",
       "      <th>75%</th>\n",
       "      <td>7.632500e+04</td>\n",
       "      <td>234.000000</td>\n",
       "      <td>2.000000</td>\n",
       "      <td>20.000000</td>\n",
       "      <td>77.000000</td>\n",
       "      <td>131.000000</td>\n",
       "      <td>1817.500000</td>\n",
       "      <td>323.000000</td>\n",
       "      <td>1230.250000</td>\n",
       "      <td>273.000000</td>\n",
       "      <td>11.000000</td>\n",
       "    </tr>\n",
       "    <tr>\n",
       "      <th>max</th>\n",
       "      <td>4.007147e+06</td>\n",
       "      <td>30507.000000</td>\n",
       "      <td>281.000000</td>\n",
       "      <td>2455.000000</td>\n",
       "      <td>10814.000000</td>\n",
       "      <td>16957.000000</td>\n",
       "      <td>101618.000000</td>\n",
       "      <td>16668.000000</td>\n",
       "      <td>65757.000000</td>\n",
       "      <td>19193.000000</td>\n",
       "      <td>1414.000000</td>\n",
       "    </tr>\n",
       "  </tbody>\n",
       "</table>\n",
       "</div>"
      ],
      "text/plain": [
       "         Population  Violent_crime      Murder         Rape       Robbery  \\\n",
       "count  4.610000e+02     461.000000  461.000000   461.000000    461.000000   \n",
       "mean   7.124899e+04     321.605206    3.184382    27.073753    110.436009   \n",
       "std    2.150399e+05    1545.676597   14.851975   124.356076    559.698252   \n",
       "min    1.130000e+02       0.000000    0.000000     0.000000      0.000000   \n",
       "25%    1.221000e+04      33.000000    0.000000     3.000000      6.000000   \n",
       "50%    3.369300e+04      91.000000    1.000000     8.000000     23.000000   \n",
       "75%    7.632500e+04     234.000000    2.000000    20.000000     77.000000   \n",
       "max    4.007147e+06   30507.000000  281.000000  2455.000000  10814.000000   \n",
       "\n",
       "            Assault  Property_crime      Burglary  Larceny_theft  \\\n",
       "count    461.000000      460.000000    461.000000     460.000000   \n",
       "mean     180.911063     1862.060870    318.091106    1231.417391   \n",
       "std      856.083620     5979.033721    924.754478    4055.402225   \n",
       "min        0.000000        1.000000      0.000000       0.000000   \n",
       "25%       19.000000      245.000000     55.000000     152.000000   \n",
       "50%       52.000000      697.000000    136.000000     477.000000   \n",
       "75%      131.000000     1817.500000    323.000000    1230.250000   \n",
       "max    16957.000000   101618.000000  16668.000000   65757.000000   \n",
       "\n",
       "        Motor_theft        Arson  \n",
       "count    461.000000   461.000000  \n",
       "mean     311.314534    15.503254  \n",
       "std     1101.892752    72.627927  \n",
       "min        0.000000     0.000000  \n",
       "25%       26.000000     1.000000  \n",
       "50%       87.000000     4.000000  \n",
       "75%      273.000000    11.000000  \n",
       "max    19193.000000  1414.000000  "
      ]
     },
     "execution_count": 302,
     "metadata": {},
     "output_type": "execute_result"
    }
   ],
   "source": [
    "df.describe()\n",
    "\n",
    "# all quantitative values "
   ]
  },
  {
   "cell_type": "code",
   "execution_count": 303,
   "metadata": {},
   "outputs": [
    {
     "data": {
      "text/html": [
       "<div>\n",
       "<style scoped>\n",
       "    .dataframe tbody tr th:only-of-type {\n",
       "        vertical-align: middle;\n",
       "    }\n",
       "\n",
       "    .dataframe tbody tr th {\n",
       "        vertical-align: top;\n",
       "    }\n",
       "\n",
       "    .dataframe thead th {\n",
       "        text-align: right;\n",
       "    }\n",
       "</style>\n",
       "<table border=\"1\" class=\"dataframe\">\n",
       "  <thead>\n",
       "    <tr style=\"text-align: right;\">\n",
       "      <th></th>\n",
       "      <th>Violent_crime</th>\n",
       "      <th>Murder</th>\n",
       "      <th>Rape</th>\n",
       "      <th>Robbery</th>\n",
       "      <th>Assault</th>\n",
       "      <th>Burglary</th>\n",
       "      <th>Motor_theft</th>\n",
       "      <th>Arson</th>\n",
       "    </tr>\n",
       "    <tr>\n",
       "      <th>County</th>\n",
       "      <th></th>\n",
       "      <th></th>\n",
       "      <th></th>\n",
       "      <th></th>\n",
       "      <th></th>\n",
       "      <th></th>\n",
       "      <th></th>\n",
       "      <th></th>\n",
       "    </tr>\n",
       "  </thead>\n",
       "  <tbody>\n",
       "    <tr>\n",
       "      <th>Los Angeles</th>\n",
       "      <td>30507.0</td>\n",
       "      <td>281.0</td>\n",
       "      <td>2455.0</td>\n",
       "      <td>10814.0</td>\n",
       "      <td>16957.0</td>\n",
       "      <td>16668.0</td>\n",
       "      <td>19193.0</td>\n",
       "      <td>1414.0</td>\n",
       "    </tr>\n",
       "    <tr>\n",
       "      <th>San Diego</th>\n",
       "      <td>5221.0</td>\n",
       "      <td>35.0</td>\n",
       "      <td>559.0</td>\n",
       "      <td>1410.0</td>\n",
       "      <td>3217.0</td>\n",
       "      <td>3817.0</td>\n",
       "      <td>5135.0</td>\n",
       "      <td>158.0</td>\n",
       "    </tr>\n",
       "    <tr>\n",
       "      <th>San Jose</th>\n",
       "      <td>4188.0</td>\n",
       "      <td>32.0</td>\n",
       "      <td>571.0</td>\n",
       "      <td>1376.0</td>\n",
       "      <td>2209.0</td>\n",
       "      <td>3926.0</td>\n",
       "      <td>8068.0</td>\n",
       "      <td>173.0</td>\n",
       "    </tr>\n",
       "    <tr>\n",
       "      <th>San Francisco</th>\n",
       "      <td>6301.0</td>\n",
       "      <td>56.0</td>\n",
       "      <td>367.0</td>\n",
       "      <td>3220.0</td>\n",
       "      <td>2658.0</td>\n",
       "      <td>4935.0</td>\n",
       "      <td>4834.0</td>\n",
       "      <td>303.0</td>\n",
       "    </tr>\n",
       "    <tr>\n",
       "      <th>Fresno</th>\n",
       "      <td>2974.0</td>\n",
       "      <td>56.0</td>\n",
       "      <td>174.0</td>\n",
       "      <td>958.0</td>\n",
       "      <td>1786.0</td>\n",
       "      <td>3649.0</td>\n",
       "      <td>2789.0</td>\n",
       "      <td>217.0</td>\n",
       "    </tr>\n",
       "  </tbody>\n",
       "</table>\n",
       "</div>"
      ],
      "text/plain": [
       "               Violent_crime  Murder    Rape  Robbery  Assault  Burglary  \\\n",
       "County                                                                     \n",
       "Los Angeles          30507.0   281.0  2455.0  10814.0  16957.0   16668.0   \n",
       "San Diego             5221.0    35.0   559.0   1410.0   3217.0    3817.0   \n",
       "San Jose              4188.0    32.0   571.0   1376.0   2209.0    3926.0   \n",
       "San Francisco         6301.0    56.0   367.0   3220.0   2658.0    4935.0   \n",
       "Fresno                2974.0    56.0   174.0    958.0   1786.0    3649.0   \n",
       "\n",
       "               Motor_theft   Arson  \n",
       "County                              \n",
       "Los Angeles        19193.0  1414.0  \n",
       "San Diego           5135.0   158.0  \n",
       "San Jose            8068.0   173.0  \n",
       "San Francisco       4834.0   303.0  \n",
       "Fresno              2789.0   217.0  "
      ]
     },
     "execution_count": 303,
     "metadata": {},
     "output_type": "execute_result"
    }
   ],
   "source": [
    "# A different take on the visualizations \n",
    "\n",
    "# Selecting top 5 most populated cities to compare \n",
    "\n",
    "df.sort_values('Population',ascending=False) # LA, SD, SJ, SF and Fresno  \n",
    "\n",
    "df_top5 = df.sort_values('Population', ascending=False)[:5]\n",
    "\n",
    "#df_top5.head()\n",
    "\n",
    "crime_in_top5 = df_top5[['Violent_crime', 'Murder', 'Rape', 'Robbery', 'Assault',\n",
    "        'Burglary', 'Motor_theft', 'Arson']]\n",
    "crime_in_top5.head()"
   ]
  },
  {
   "cell_type": "code",
   "execution_count": 304,
   "metadata": {},
   "outputs": [
    {
     "data": {
      "text/plain": [
       "Population        4007147.0\n",
       "Property_crime     101618.0\n",
       "Larceny_theft       65757.0\n",
       "Violent_crime       30507.0\n",
       "Motor_theft         19193.0\n",
       "Assault             16957.0\n",
       "Burglary            16668.0\n",
       "Robbery             10814.0\n",
       "Rape                 2455.0\n",
       "Arson                1414.0\n",
       "Murder                281.0\n",
       "Name: Los Angeles, dtype: float64"
      ]
     },
     "execution_count": 304,
     "metadata": {},
     "output_type": "execute_result"
    }
   ],
   "source": [
    "# Most common crimes in Los Angeles\n",
    "\n",
    "df_top5.loc['Los Angeles',: ].sort_values(ascending=False)"
   ]
  },
  {
   "cell_type": "code",
   "execution_count": 305,
   "metadata": {},
   "outputs": [
    {
     "data": {
      "image/png": "[encoded data removed]",
      "text/plain": [
       "<Figure size 864x576 with 1 Axes>"
      ]
     },
     "metadata": {},
     "output_type": "display_data"
    }
   ],
   "source": [
    "plt.figure(figsize=(12,8))\n",
    "# set width of bar\n",
    "barWidth = 0.15\n",
    "\n",
    "# Set position of bar on X axis\n",
    "\n",
    "# set height of bar\n",
    "bars1 = df_top5.Property_crime\n",
    "bars2 = df_top5.Larceny_theft\n",
    "bars3 = df_top5.Violent_crime\n",
    "bars4 = df_top5.Motor_theft\n",
    "bars5 = df_top5.Assault\n",
    "bars6 = df_top5.Burglary\n",
    " \n",
    "# Set position of bar on X axis\n",
    "r1 = np.arange(len(bars1))\n",
    "r2 = [x + barWidth for x in r1]\n",
    "r3 = [x + barWidth for x in r2]\n",
    "r4 = [x + barWidth for x in r3]\n",
    "r5 = [x + barWidth for x in r4]\n",
    "r6 = [x + barWidth for x in r5]\n",
    "\n",
    "# Make the plot\n",
    "plt.bar(r1, bars1,  width=barWidth, edgecolor='white', label='Property crime')\n",
    "plt.bar(r2, bars2,  width=barWidth, edgecolor='white', label='Larceny theft')\n",
    "plt.bar(r3, bars3, width=barWidth, edgecolor='white', label='Violent crime')\n",
    "plt.bar(r4, bars4, width=barWidth, edgecolor='white', label='Motor theft')\n",
    "plt.bar(r5, bars5, width=barWidth, edgecolor='white', label='Assault')\n",
    "plt.bar(r6, bars6, width=barWidth, edgecolor='white', label='Burglary')\n",
    " \n",
    "# Add xticks on the middle of the group bars\n",
    "plt.xlabel('Counties', fontweight='bold')\n",
    "plt.ylabel('Counts of crimes', fontweight='bold')\n",
    "plt.xticks([r + barWidth for r in range(len(bars1))], ['Los Angeles', 'San Diego', 'San Jose', 'San Francisco', 'Fresno'])\n",
    " \n",
    "# Create legend & Show graphic\n",
    "plt.legend()\n",
    "plt.show()\n",
    "\n",
    "\n",
    "# San Diego is quite safe given the second most populated cities. "
   ]
  },
  {
   "cell_type": "code",
   "execution_count": 306,
   "metadata": {
    "scrolled": true
   },
   "outputs": [
    {
     "data": {
      "text/plain": [
       "(0, 4500)"
      ]
     },
     "execution_count": 306,
     "metadata": {},
     "output_type": "execute_result"
    },
    {
     "data": {
      "image/png": "[encoded data removed]",
      "text/plain": [
       "<Figure size 1296x576 with 1 Axes>"
      ]
     },
     "metadata": {},
     "output_type": "display_data"
    }
   ],
   "source": [
    "#Back to the main track \n",
    "\n",
    "plt.figure(figsize=(18,8))\n",
    "sns.boxplot(data=df[['Violent_crime', 'Murder', 'Rape', 'Robbery', 'Assault',\n",
    "       'Property_crime', 'Burglary', 'Larceny_theft', 'Motor_theft', 'Arson']], palette='Set2')\n",
    "# due to outliers in the 'Property_crime' and 'Larceny_theft' the visualization are not clear. \n",
    "\n",
    "plt.ylim(0,4500)\n",
    "# We see that property crime is the most common type of crime, followed by larceny_theft. \n",
    "# Another visualization without these two common crime types. \n",
    "\n"
   ]
  },
  {
   "cell_type": "code",
   "execution_count": 307,
   "metadata": {},
   "outputs": [
    {
     "data": {
      "image/png": "[encoded data removed]",
      "text/plain": [
       "<Figure size 1296x576 with 1 Axes>"
      ]
     },
     "metadata": {},
     "output_type": "display_data"
    }
   ],
   "source": [
    "# Without 'Property_crime' and 'Larceny_theft'\n",
    "\n",
    "plt.figure(figsize=(18,8))\n",
    "sns.boxplot(data=df[['Violent_crime', 'Murder', 'Rape', 'Robbery', 'Assault',\n",
    "        'Burglary', 'Motor_theft', 'Arson']], palette='Set2')\n",
    "plt.ylim(0,1000)\n",
    "plt.show()\n",
    "\n",
    "# Still there are a lot of outliers for each attribute. "
   ]
  },
  {
   "cell_type": "code",
   "execution_count": 308,
   "metadata": {},
   "outputs": [
    {
     "name": "stderr",
     "output_type": "stream",
     "text": [
      "/Library/Frameworks/Python.framework/Versions/3.6/lib/python3.6/site-packages/scipy/stats/stats.py:1713: FutureWarning: Using a non-tuple sequence for multidimensional indexing is deprecated; use `arr[tuple(seq)]` instead of `arr[seq]`. In the future this will be interpreted as an array index, `arr[np.array(seq)]`, which will result either in an error or a different result.\n",
      "  return np.add.reduce(sorted[indexer] * weights, axis=axis) / sumval\n"
     ]
    },
    {
     "data": {
      "text/plain": [
       "<matplotlib.axes._subplots.AxesSubplot at 0x125c566a0>"
      ]
     },
     "execution_count": 308,
     "metadata": {},
     "output_type": "execute_result"
    },
    {
     "data": {
      "image/png": "[encoded data removed]",
      "text/plain": [
       "<Figure size 576x576 with 4 Axes>"
      ]
     },
     "metadata": {},
     "output_type": "display_data"
    }
   ],
   "source": [
    "# plot\n",
    "f, axes = plt.subplots(2, 2, figsize=(8, 8), sharex=True)\n",
    "sns.distplot( df[\"Burglary\"] , color=\"skyblue\", ax=axes[0, 0])\n",
    "sns.distplot( df[\"Motor_theft\"] , color=\"olive\", ax=axes[0, 1])\n",
    "sns.distplot( df[\"Robbery\"] , color=\"gold\", ax=axes[1, 0])\n",
    "sns.distplot( df[\"Arson\"] , color=\"teal\", ax=axes[1, 1])\n"
   ]
  },
  {
   "cell_type": "code",
   "execution_count": 309,
   "metadata": {},
   "outputs": [],
   "source": [
    "#for col in df.columns:\n",
    "#    if df[col].name == 'Population':\n",
    "#        print(df[col])"
   ]
  },
  {
   "cell_type": "code",
   "execution_count": 310,
   "metadata": {},
   "outputs": [],
   "source": [
    "# Normalizing the outliers \n",
    "\n",
    "# Winsorizing the outliers. Outliers in the both ends are substituted with a quantile value given by the function \n",
    "# The (limits[0])th lowest values are set to the (limits[0])th percentile, and the (limits[1])th highest values are set to the (limits[1])th percentile. \n",
    "\n",
    "# Winsorizing all except population\n",
    "import scipy\n",
    "from scipy import stats\n",
    "\n",
    "for col in df.columns:\n",
    "    if df[col].name == 'Population':\n",
    "        df[col] = df[col]\n",
    "    else:\n",
    "        df[col] = scipy.stats.mstats.winsorize(df[col], limits=[0,0.03])  # .97 quantile\n"
   ]
  },
  {
   "cell_type": "code",
   "execution_count": 311,
   "metadata": {},
   "outputs": [
    {
     "data": {
      "image/png": "[encoded data removed]",
      "text/plain": [
       "<Figure size 1296x576 with 1 Axes>"
      ]
     },
     "metadata": {},
     "output_type": "display_data"
    },
    {
     "name": "stderr",
     "output_type": "stream",
     "text": [
      "/Library/Frameworks/Python.framework/Versions/3.6/lib/python3.6/site-packages/scipy/stats/stats.py:1713: FutureWarning: Using a non-tuple sequence for multidimensional indexing is deprecated; use `arr[tuple(seq)]` instead of `arr[seq]`. In the future this will be interpreted as an array index, `arr[np.array(seq)]`, which will result either in an error or a different result.\n",
      "  return np.add.reduce(sorted[indexer] * weights, axis=axis) / sumval\n"
     ]
    },
    {
     "data": {
      "text/plain": [
       "<matplotlib.axes._subplots.AxesSubplot at 0x1254aa748>"
      ]
     },
     "execution_count": 311,
     "metadata": {},
     "output_type": "execute_result"
    },
    {
     "data": {
      "image/png": "[encoded data removed]",
      "text/plain": [
       "<Figure size 576x576 with 4 Axes>"
      ]
     },
     "metadata": {},
     "output_type": "display_data"
    }
   ],
   "source": [
    "# Distributions look much better\n",
    "\n",
    "plt.figure(figsize=(18,8))\n",
    "sns.boxplot(data=df[['Violent_crime', 'Murder', 'Rape', 'Robbery', 'Assault',\n",
    "        'Burglary', 'Motor_theft', 'Arson']], palette='Set2')\n",
    "plt.show()\n",
    "\n",
    "f, axes = plt.subplots(2, 2, figsize=(8, 8), sharex=True)\n",
    "sns.distplot( df[\"Burglary\"] , color=\"skyblue\", ax=axes[0, 0])\n",
    "sns.distplot( df[\"Motor_theft\"] , color=\"olive\", ax=axes[0, 1])\n",
    "sns.distplot( df[\"Robbery\"] , color=\"gold\", ax=axes[1, 0])\n",
    "sns.distplot( df[\"Arson\"] , color=\"teal\", ax=axes[1, 1])\n"
   ]
  },
  {
   "cell_type": "code",
   "execution_count": 312,
   "metadata": {
    "scrolled": false
   },
   "outputs": [],
   "source": [
    "# make comparative barplots - for loop that didn;t work\n",
    "\n",
    "#def make_bar(df, col):\n",
    "#\n",
    "#    # set width of bar\n",
    "#    barWidth = 0.25\n",
    "#\n",
    "#    # set height of bar\n",
    "#    bar = df[col]\n",
    "#     \n",
    "#    # Set position of bar on X axis\n",
    "#    #r = int(input(\"How many rows: \"))\n",
    "#    r = len(col)\n",
    "#    rs = []\n",
    "#    for r in np.arange(r):\n",
    "#        row = [x + barWidth for x in r1]\n",
    "#        rs.append(row)\n",
    "#        \n"
   ]
  },
  {
   "cell_type": "code",
   "execution_count": 313,
   "metadata": {},
   "outputs": [
    {
     "data": {
      "text/plain": [
       "<matplotlib.axes._subplots.AxesSubplot at 0x1258f54a8>"
      ]
     },
     "execution_count": 313,
     "metadata": {},
     "output_type": "execute_result"
    },
    {
     "data": {
      "image/png": "[encoded data removed]",
      "text/plain": [
       "<Figure size 576x576 with 2 Axes>"
      ]
     },
     "metadata": {},
     "output_type": "display_data"
    }
   ],
   "source": [
    "plt.figure(figsize=(8,8))\n",
    "sns.heatmap(df.corr(), cmap='BuPu', annot=True, square=True)"
   ]
  },
  {
   "cell_type": "markdown",
   "metadata": {},
   "source": [
    "Looking at the correlation plot, we see there is high multicollinearity in the data. For example, 'Violent_crime' is highly correlated (r > .95) with 'Robbery' and 'Assault'. 'Property_crime' is highly correlated with 'Larceny_theft'. Highly cprrelated variables must be removed from the model. But first, let's choose a response variable.\n",
    "\n",
    "__Property crime as the response variable__\n",
    "\n",
    "According to the FBI's Uniform Crime Reporting [(here)](https://ucr.fbi.gov/crime-in-the-u.s/2013/crime-in-the-u.s.-2013/property-crime/property-crime-topic-page/propertycrimemain_final), property crime includes the offenses of burglary, larceny-theft, motor vehicle theft, and arson. The object of the theft-type offenses is the taking of money or property, but there is no force or threat of force against the victims. The property crime category includes arson because the offense involves the destruction of property; however, arson victims may be subjected to force. Therefore, it is expected that the property crime will be highly correlated with these variables. \n",
    "\n",
    "Hence, we define that __Property crime__ as the following function:\n",
    "\n",
    "$$ Property Crime = \\alpha + Burglary + LarcenyTheft + MotorTheft + Arson $$\n",
    "\n",
    "Multicollinearity with __Violent_crime__: \n",
    "\n",
    "- We need to remove multicollinear variables\n",
    "\n",
    "- Create new features that are not highly multicollinear. \n",
    "\n",
    "But first, let's run a logistic regression model to see what it the default accuracy in the dataset. "
   ]
  },
  {
   "cell_type": "code",
   "execution_count": 314,
   "metadata": {},
   "outputs": [
    {
     "data": {
      "text/plain": [
       "count     461.000000\n",
       "mean     1388.422993\n",
       "std      1777.012972\n",
       "min         1.000000\n",
       "25%       246.000000\n",
       "50%       705.000000\n",
       "75%      1819.000000\n",
       "max      8465.000000\n",
       "Name: Property_crime, dtype: float64"
      ]
     },
     "execution_count": 314,
     "metadata": {},
     "output_type": "execute_result"
    }
   ],
   "source": [
    "# Creating y\n",
    "\n",
    "df.Property_crime.isna().sum()  # one null value\n",
    "df['Property_crime'] = df['Property_crime'].fillna(df['Property_crime'].mean())\n",
    "\n",
    "df.Property_crime.describe()"
   ]
  },
  {
   "cell_type": "code",
   "execution_count": 315,
   "metadata": {},
   "outputs": [
    {
     "data": {
      "image/png": "[encoded data removed]",
      "text/plain": [
       "<Figure size 432x288 with 1 Axes>"
      ]
     },
     "metadata": {},
     "output_type": "display_data"
    },
    {
     "name": "stderr",
     "output_type": "stream",
     "text": [
      "/Library/Frameworks/Python.framework/Versions/3.6/lib/python3.6/site-packages/scipy/stats/stats.py:1713: FutureWarning: Using a non-tuple sequence for multidimensional indexing is deprecated; use `arr[tuple(seq)]` instead of `arr[seq]`. In the future this will be interpreted as an array index, `arr[np.array(seq)]`, which will result either in an error or a different result.\n",
      "  return np.add.reduce(sorted[indexer] * weights, axis=axis) / sumval\n"
     ]
    },
    {
     "data": {
      "text/plain": [
       "<matplotlib.axes._subplots.AxesSubplot at 0x1261f0e80>"
      ]
     },
     "execution_count": 315,
     "metadata": {},
     "output_type": "execute_result"
    },
    {
     "data": {
      "image/png": "[encoded data removed]",
      "text/plain": [
       "<Figure size 432x288 with 1 Axes>"
      ]
     },
     "metadata": {},
     "output_type": "display_data"
    }
   ],
   "source": [
    "sns.boxplot(data=df.Property_crime)\n",
    "plt.show()\n",
    "\n",
    "sns.distplot(df.Property_crime)"
   ]
  },
  {
   "cell_type": "code",
   "execution_count": 320,
   "metadata": {},
   "outputs": [
    {
     "data": {
      "text/plain": [
       "0    300\n",
       "1    161\n",
       "Name: y, dtype: int64"
      ]
     },
     "execution_count": 320,
     "metadata": {},
     "output_type": "execute_result"
    }
   ],
   "source": [
    "df['y'] = np.where(df.Property_crime > df.Property_crime.mean(), 1, 0)\n",
    "df.y.value_counts() #0-300, 1-161"
   ]
  },
  {
   "cell_type": "code",
   "execution_count": 321,
   "metadata": {},
   "outputs": [
    {
     "name": "stderr",
     "output_type": "stream",
     "text": [
      "/Library/Frameworks/Python.framework/Versions/3.6/lib/python3.6/site-packages/scipy/stats/stats.py:1713: FutureWarning: Using a non-tuple sequence for multidimensional indexing is deprecated; use `arr[tuple(seq)]` instead of `arr[seq]`. In the future this will be interpreted as an array index, `arr[np.array(seq)]`, which will result either in an error or a different result.\n",
      "  return np.add.reduce(sorted[indexer] * weights, axis=axis) / sumval\n"
     ]
    },
    {
     "data": {
      "text/plain": [
       "<matplotlib.axes._subplots.AxesSubplot at 0x1263c1a90>"
      ]
     },
     "execution_count": 321,
     "metadata": {},
     "output_type": "execute_result"
    },
    {
     "data": {
      "image/png": "[encoded data removed]",
      "text/plain": [
       "<Figure size 432x288 with 1 Axes>"
      ]
     },
     "metadata": {},
     "output_type": "display_data"
    }
   ],
   "source": [
    "sns.distplot(df.y)"
   ]
  },
  {
   "cell_type": "code",
   "execution_count": 324,
   "metadata": {},
   "outputs": [
    {
     "name": "stdout",
     "output_type": "stream",
     "text": [
      "Coefficients\n",
      "coefs: [[-2.38092381e-06  8.87659042e-03 -1.38918992e-02  3.63016368e-05\n",
      "   1.71087874e-02 -1.90671868e-02  1.89302256e-03 -8.03954047e-03\n",
      "  -6.29926786e-04  1.81918956e-03 -1.68213822e-03]]\n",
      "intercept:  [-0.11541506]\n"
     ]
    }
   ],
   "source": [
    "# Creating X and y\n",
    "X = df.drop('y', axis=1)\n",
    "y = df['y']\n",
    "\n",
    "\n",
    "# Train test split \n",
    "X_train, X_test, y_train, y_test = train_test_split(X, y, test_size=.3)\n",
    "\n",
    "\n",
    "## Logistic Regression \n",
    "LR = LogisticRegression(C=1e9, random_state=111)\n",
    "\n",
    "# Fit the model.\n",
    "fit = LR.fit(X_train, y_train)\n",
    "#\n",
    "# Display.\n",
    "print('Coefficients')\n",
    "print('coefs:', fit.coef_)\n",
    "print('intercept: ', fit.intercept_)\n"
   ]
  },
  {
   "cell_type": "code",
   "execution_count": 326,
   "metadata": {},
   "outputs": [
    {
     "name": "stdout",
     "output_type": "stream",
     "text": [
      "y       0   1\n",
      "row_0        \n",
      "0      59   6\n",
      "1      31  43\n",
      "\n",
      "R² for the model with many features: \n",
      " [[-2.38092381e-06  8.87659042e-03 -1.38918992e-02  3.63016368e-05\n",
      "   1.71087874e-02 -1.90671868e-02  1.89302256e-03 -8.03954047e-03\n",
      "  -6.29926786e-04  1.81918956e-03 -1.68213822e-03]]\n",
      "\n",
      "Percentage accuracy 0.7981366459627329\n",
      "\n",
      "Mean crossvalidated accuracy:  0.79 with standard deviation 0.096\n",
      "\n",
      "Confusion Matrix: \n",
      " [[59  6]\n",
      " [31 43]]\n"
     ]
    }
   ],
   "source": [
    "#Predict\n",
    "pred_y = LR.predict(X_test)\n",
    "\n",
    "print(pd.crosstab(pred_y, y_test))\n",
    "# why are crosstab values differ in row and columns as shown in the statsmodel? \n",
    "\n",
    "print('\\nR² for the model with many features: \\n', fit.coef_)\n",
    "print('\\nPercentage accuracy', fit.score(X_train, y_train))  #79%\n",
    "\n",
    "score = cross_val_score(LR, X_train, y_train, cv=10)  # 77%\n",
    "print(\"\\nMean crossvalidated accuracy: \", round(score.mean(),2), \n",
    "      'with standard deviation', round(score.std(),3))\n",
    "\n",
    "from sklearn.metrics import confusion_matrix\n",
    "print('\\nConfusion Matrix: \\n', confusion_matrix(pred_y, y_test))"
   ]
  },
  {
   "cell_type": "code",
   "execution_count": 327,
   "metadata": {},
   "outputs": [
    {
     "name": "stdout",
     "output_type": "stream",
     "text": [
      "Index(['Population', 'Violent_crime', 'Murder', 'Rape', 'Robbery', 'Assault',\n",
      "       'Property_crime', 'Burglary', 'Larceny_theft', 'Motor_theft', 'Arson'],\n",
      "      dtype='object')\n",
      "Intercept [-0.11541506]\n",
      "coef:  -2.380923814482586e-06 \n",
      "VIF 0.9999976190818542 \n",
      "\n",
      "coef:  0.008876590424151627 \n",
      "VIF 1.008956089966587 \n",
      "\n",
      "coef:  -0.01389189917934891 \n",
      "VIF 0.9862984414900711 \n",
      "\n",
      "coef:  3.630163678881724e-05 \n",
      "VIF 1.0000363029546455 \n",
      "\n",
      "coef:  0.01710878743131651 \n",
      "VIF 1.0174065931331346 \n",
      "\n",
      "coef:  -0.01906718680399239 \n",
      "VIF 0.9812895684888147 \n",
      "\n",
      "coef:  0.0018930225635373625 \n",
      "VIF 1.001896612894541 \n",
      "\n",
      "coef:  -0.008039540469803005 \n",
      "VIF 0.992024578256071 \n",
      "\n",
      "coef:  -0.0006299267862767364 \n",
      "VIF 0.9993704697716768 \n",
      "\n",
      "coef:  0.0018191895578078471 \n",
      "VIF 1.0018225050399454 \n",
      "\n",
      "coef:  -0.0016821382183650386 \n",
      "VIF 0.9983206866188541 \n",
      "\n"
     ]
    }
   ],
   "source": [
    "# calculating Variance Inflation Factor for eliminative variables \n",
    "\n",
    "# $$ V.I.F. = 1 / (1 - R^2). $$\n",
    "\n",
    "print(X_train.columns)\n",
    "\n",
    "print('Intercept', fit.intercept_)\n",
    "R_sqr = fit.coef_[0]\n",
    "\n",
    "for n in R_sqr:\n",
    "    print('coef: ', n, \"\\nVIF\", 1/(1-n),'\\n')\n",
    "\n",
    "# Looks like no VIF is too large! Where is it going wrong? \n"
   ]
  },
  {
   "cell_type": "code",
   "execution_count": 206,
   "metadata": {},
   "outputs": [],
   "source": [
    "## Doesn't work! Return LinAlgError: singular Matrix\n",
    "\n",
    "#Using Statsmodel for finding the feature importances \n",
    "import statsmodels.api as sm \n",
    "\n",
    "#X_statsmod = df[['Population', 'Violent_crime', 'Murder', 'Rape', 'Robbery', 'Assault',\n",
    "#       'Property_crime', 'Burglary', 'Larceny_theft', 'Motor_theft', 'Arson']]\n",
    "#X_statsmod['intercept'] = 1\n",
    "#\n",
    "#y = df['y']\n",
    "#\n",
    "## Declare the fit of the model \n",
    "#\n",
    "#logit = sm.Logit(df['y'], X_statsmod)\n",
    "#result = logit.fit()\n",
    "#\n",
    "## Result summary\n",
    "#print(result.summary())"
   ]
  },
  {
   "cell_type": "code",
   "execution_count": 248,
   "metadata": {
    "scrolled": false
   },
   "outputs": [],
   "source": []
  },
  {
   "cell_type": "code",
   "execution_count": 328,
   "metadata": {},
   "outputs": [
    {
     "name": "stdout",
     "output_type": "stream",
     "text": [
      "Coefficients\n",
      "coefs: [[ 0.01433829  0.0133972   0.0148919  -0.05799093]]\n",
      "intercept:  [-18.10620665]\n"
     ]
    }
   ],
   "source": [
    "# Chossing a smaller model on \n",
    "#PropertyCrime = α+Burglary+LarcenyTheft+MotorTheft+Arson\n",
    "\n",
    "# Creating X and y\n",
    "\n",
    "X = df[['Burglary', 'Larceny_theft', 'Motor_theft', 'Arson']]\n",
    "y = df['y']\n",
    "\n",
    "\n",
    "# Train test split \n",
    "X_train, X_test, y_train, y_test = train_test_split(X, y, test_size=.33)\n",
    "\n",
    "\n",
    "## Logistic Regression \n",
    "LR = LogisticRegression(C=1e9)\n",
    "\n",
    "# Fit the model.\n",
    "fit = LR.fit(X_train, y_train)\n",
    "#\n",
    "# Display.\n",
    "print('Coefficients')\n",
    "print('coefs:', fit.coef_)\n",
    "print('intercept: ', fit.intercept_)\n"
   ]
  },
  {
   "cell_type": "code",
   "execution_count": 329,
   "metadata": {},
   "outputs": [
    {
     "name": "stdout",
     "output_type": "stream",
     "text": [
      "y       0   1\n",
      "row_0        \n",
      "0      96   1\n",
      "1       2  54\n",
      "\n",
      "R² for the model with many features: \n",
      " [[ 0.01433829  0.0133972   0.0148919  -0.05799093]]\n",
      "\n",
      "Percentage accuracy 0.9967532467532467\n",
      "\n",
      "Mean crossvalidated accuracy:  0.99 with standard deviation 0.02\n",
      "\n",
      "Confusion Matrix: \n",
      " [[96  1]\n",
      " [ 2 54]]\n"
     ]
    }
   ],
   "source": [
    "#Predict\n",
    "pred_y = LR.predict(X_test)\n",
    "\n",
    "print(pd.crosstab(pred_y, y_test))\n",
    "# why are crosstab values differ in row and columns as shown in the statsmodel? \n",
    "\n",
    "print('\\nR² for the model with many features: \\n', fit.coef_)\n",
    "print('\\nPercentage accuracy', fit.score(X_train, y_train))  #99%\n",
    "\n",
    "score = cross_val_score(LR, X_train, y_train, cv=10)  # 98%\n",
    "print(\"\\nMean crossvalidated accuracy: \", round(score.mean(),2), \n",
    "      'with standard deviation', round(score.std(),3))\n",
    "\n",
    "from sklearn.metrics import confusion_matrix\n",
    "print('\\nConfusion Matrix: \\n', confusion_matrix(pred_y, y_test))\n",
    "\n",
    "\n",
    "# Accuracy increases? or overfitting?"
   ]
  },
  {
   "cell_type": "code",
   "execution_count": null,
   "metadata": {},
   "outputs": [],
   "source": []
  },
  {
   "cell_type": "markdown",
   "metadata": {},
   "source": [
    "### Feature Engineering \n",
    "\n"
   ]
  },
  {
   "cell_type": "code",
   "execution_count": 330,
   "metadata": {},
   "outputs": [
    {
     "data": {
      "text/plain": [
       "<matplotlib.axes._subplots.AxesSubplot at 0x126484080>"
      ]
     },
     "execution_count": 330,
     "metadata": {},
     "output_type": "execute_result"
    },
    {
     "data": {
      "image/png": "[encoded data removed]",
      "text/plain": [
       "<Figure size 576x576 with 2 Axes>"
      ]
     },
     "metadata": {},
     "output_type": "display_data"
    }
   ],
   "source": [
    "plt.figure(figsize=(8,8))\n",
    "sns.heatmap(df.corr(), cmap='BuPu', annot=True, square=True)"
   ]
  },
  {
   "cell_type": "code",
   "execution_count": 340,
   "metadata": {},
   "outputs": [],
   "source": [
    "# Creating new version on the dataset\n",
    "df_new = df\n",
    "#df_new.head()"
   ]
  },
  {
   "cell_type": "code",
   "execution_count": 341,
   "metadata": {},
   "outputs": [
    {
     "data": {
      "text/html": [
       "<div>\n",
       "<style scoped>\n",
       "    .dataframe tbody tr th:only-of-type {\n",
       "        vertical-align: middle;\n",
       "    }\n",
       "\n",
       "    .dataframe tbody tr th {\n",
       "        vertical-align: top;\n",
       "    }\n",
       "\n",
       "    .dataframe thead th {\n",
       "        text-align: right;\n",
       "    }\n",
       "</style>\n",
       "<table border=\"1\" class=\"dataframe\">\n",
       "  <thead>\n",
       "    <tr style=\"text-align: right;\">\n",
       "      <th></th>\n",
       "      <th>Population</th>\n",
       "      <th>Violent_crime</th>\n",
       "      <th>Murder</th>\n",
       "      <th>Rape</th>\n",
       "      <th>Robbery</th>\n",
       "      <th>Assault</th>\n",
       "      <th>Property_crime</th>\n",
       "      <th>Burglary</th>\n",
       "      <th>Larceny_theft</th>\n",
       "      <th>Motor_theft</th>\n",
       "      <th>Arson</th>\n",
       "      <th>y</th>\n",
       "      <th>rob_assault_crime</th>\n",
       "      <th>prop_crime_larceny</th>\n",
       "    </tr>\n",
       "    <tr>\n",
       "      <th>County</th>\n",
       "      <th></th>\n",
       "      <th></th>\n",
       "      <th></th>\n",
       "      <th></th>\n",
       "      <th></th>\n",
       "      <th></th>\n",
       "      <th></th>\n",
       "      <th></th>\n",
       "      <th></th>\n",
       "      <th></th>\n",
       "      <th></th>\n",
       "      <th></th>\n",
       "      <th></th>\n",
       "      <th></th>\n",
       "    </tr>\n",
       "  </thead>\n",
       "  <tbody>\n",
       "    <tr>\n",
       "      <th>Adelanto</th>\n",
       "      <td>33693.0</td>\n",
       "      <td>238.0</td>\n",
       "      <td>2.0</td>\n",
       "      <td>28.0</td>\n",
       "      <td>48.0</td>\n",
       "      <td>160.0</td>\n",
       "      <td>578.0</td>\n",
       "      <td>190.0</td>\n",
       "      <td>290.0</td>\n",
       "      <td>98.0</td>\n",
       "      <td>13.0</td>\n",
       "      <td>0</td>\n",
       "      <td>446.0</td>\n",
       "      <td>868.0</td>\n",
       "    </tr>\n",
       "    <tr>\n",
       "      <th>Agoura Hills</th>\n",
       "      <td>20814.0</td>\n",
       "      <td>16.0</td>\n",
       "      <td>0.0</td>\n",
       "      <td>2.0</td>\n",
       "      <td>4.0</td>\n",
       "      <td>10.0</td>\n",
       "      <td>278.0</td>\n",
       "      <td>71.0</td>\n",
       "      <td>187.0</td>\n",
       "      <td>20.0</td>\n",
       "      <td>4.0</td>\n",
       "      <td>0</td>\n",
       "      <td>30.0</td>\n",
       "      <td>465.0</td>\n",
       "    </tr>\n",
       "    <tr>\n",
       "      <th>Alameda</th>\n",
       "      <td>79761.0</td>\n",
       "      <td>253.0</td>\n",
       "      <td>0.0</td>\n",
       "      <td>16.0</td>\n",
       "      <td>133.0</td>\n",
       "      <td>104.0</td>\n",
       "      <td>2347.0</td>\n",
       "      <td>219.0</td>\n",
       "      <td>1725.0</td>\n",
       "      <td>403.0</td>\n",
       "      <td>25.0</td>\n",
       "      <td>1</td>\n",
       "      <td>490.0</td>\n",
       "      <td>4072.0</td>\n",
       "    </tr>\n",
       "    <tr>\n",
       "      <th>Albany</th>\n",
       "      <td>19880.0</td>\n",
       "      <td>36.0</td>\n",
       "      <td>0.0</td>\n",
       "      <td>1.0</td>\n",
       "      <td>28.0</td>\n",
       "      <td>7.0</td>\n",
       "      <td>523.0</td>\n",
       "      <td>77.0</td>\n",
       "      <td>383.0</td>\n",
       "      <td>63.0</td>\n",
       "      <td>3.0</td>\n",
       "      <td>0</td>\n",
       "      <td>71.0</td>\n",
       "      <td>906.0</td>\n",
       "    </tr>\n",
       "    <tr>\n",
       "      <th>Alhambra</th>\n",
       "      <td>85865.0</td>\n",
       "      <td>172.0</td>\n",
       "      <td>4.0</td>\n",
       "      <td>17.0</td>\n",
       "      <td>89.0</td>\n",
       "      <td>62.0</td>\n",
       "      <td>1877.0</td>\n",
       "      <td>363.0</td>\n",
       "      <td>1244.0</td>\n",
       "      <td>270.0</td>\n",
       "      <td>12.0</td>\n",
       "      <td>1</td>\n",
       "      <td>323.0</td>\n",
       "      <td>3121.0</td>\n",
       "    </tr>\n",
       "  </tbody>\n",
       "</table>\n",
       "</div>"
      ],
      "text/plain": [
       "              Population  Violent_crime  Murder  Rape  Robbery  Assault  \\\n",
       "County                                                                    \n",
       "Adelanto         33693.0          238.0     2.0  28.0     48.0    160.0   \n",
       "Agoura Hills     20814.0           16.0     0.0   2.0      4.0     10.0   \n",
       "Alameda          79761.0          253.0     0.0  16.0    133.0    104.0   \n",
       "Albany           19880.0           36.0     0.0   1.0     28.0      7.0   \n",
       "Alhambra         85865.0          172.0     4.0  17.0     89.0     62.0   \n",
       "\n",
       "              Property_crime  Burglary  Larceny_theft  Motor_theft  Arson  y  \\\n",
       "County                                                                         \n",
       "Adelanto               578.0     190.0          290.0         98.0   13.0  0   \n",
       "Agoura Hills           278.0      71.0          187.0         20.0    4.0  0   \n",
       "Alameda               2347.0     219.0         1725.0        403.0   25.0  1   \n",
       "Albany                 523.0      77.0          383.0         63.0    3.0  0   \n",
       "Alhambra              1877.0     363.0         1244.0        270.0   12.0  1   \n",
       "\n",
       "              rob_assault_crime  prop_crime_larceny  \n",
       "County                                               \n",
       "Adelanto                  446.0               868.0  \n",
       "Agoura Hills               30.0               465.0  \n",
       "Alameda                   490.0              4072.0  \n",
       "Albany                     71.0               906.0  \n",
       "Alhambra                  323.0              3121.0  "
      ]
     },
     "execution_count": 341,
     "metadata": {},
     "output_type": "execute_result"
    }
   ],
   "source": [
    "df_new.head()"
   ]
  },
  {
   "cell_type": "code",
   "execution_count": 270,
   "metadata": {},
   "outputs": [],
   "source": [
    "# New features 1: population percentage\n",
    "#\n",
    "#def perc_val(df, col):\n",
    "#    for col in df.columns:\n",
    "#        new_val = [col/pop *100 for col,pop in zip(df[col], df.Population)]\n",
    "#    return new_val\n",
    "#\n",
    "#\n",
    "#df_new['Violent_crime_perc'] = perc_val(df_new, 'Violent_crime')\n",
    "#df_new['Murder_perc'] = perc_val(df_new, 'Murder')\n",
    "#df_new['Rape_perc'] = perc_val(df_new, 'Rape')\n",
    "#df_new['Robbery_perc'] = perc_val(df_new, 'Robbery')\n",
    "#df_new['Burglary_perc'] = perc_val(df_new, 'Burglary')\n",
    "#df_new['Larceny_theft_perc']= perc_val(df_new, 'Larceny_theft')\n",
    "#df_new['Motor_theft_perc'] = perc_val(df_new, 'Motor_theft')\n",
    "#df_new['Arson_perc'] = perc_val(df_new, 'Arson')"
   ]
  },
  {
   "cell_type": "code",
   "execution_count": 343,
   "metadata": {},
   "outputs": [],
   "source": [
    "# Feature 2: Creating a variable for the highly correlated variables Violent_crime with Robbery and Assault\n",
    "# New feature: rob_assault_crime = violent_crime + Robbery + Assault \n",
    "\n",
    "df_new['rob_assault_crime'] = df_new.Violent_crime + df_new.Robbery + df_new.Assault\n",
    "# drop Violent_crime, Robbery and Assault\n",
    "\n",
    "#df_new['prop_crime_larceny'] = df_new.Property_crime + df_new.Larceny_theft\n",
    "# drop Property_crime and Larceny_theft"
   ]
  },
  {
   "cell_type": "code",
   "execution_count": 346,
   "metadata": {},
   "outputs": [
    {
     "data": {
      "text/html": [
       "<div>\n",
       "<style scoped>\n",
       "    .dataframe tbody tr th:only-of-type {\n",
       "        vertical-align: middle;\n",
       "    }\n",
       "\n",
       "    .dataframe tbody tr th {\n",
       "        vertical-align: top;\n",
       "    }\n",
       "\n",
       "    .dataframe thead th {\n",
       "        text-align: right;\n",
       "    }\n",
       "</style>\n",
       "<table border=\"1\" class=\"dataframe\">\n",
       "  <thead>\n",
       "    <tr style=\"text-align: right;\">\n",
       "      <th></th>\n",
       "      <th>Population</th>\n",
       "      <th>Violent_crime</th>\n",
       "      <th>Murder</th>\n",
       "      <th>Rape</th>\n",
       "      <th>Robbery</th>\n",
       "      <th>Assault</th>\n",
       "      <th>Property_crime</th>\n",
       "      <th>Burglary</th>\n",
       "      <th>Larceny_theft</th>\n",
       "      <th>Motor_theft</th>\n",
       "      <th>Arson</th>\n",
       "      <th>y</th>\n",
       "      <th>rob_assault_crime</th>\n",
       "      <th>prop_crime_larceny</th>\n",
       "    </tr>\n",
       "    <tr>\n",
       "      <th>County</th>\n",
       "      <th></th>\n",
       "      <th></th>\n",
       "      <th></th>\n",
       "      <th></th>\n",
       "      <th></th>\n",
       "      <th></th>\n",
       "      <th></th>\n",
       "      <th></th>\n",
       "      <th></th>\n",
       "      <th></th>\n",
       "      <th></th>\n",
       "      <th></th>\n",
       "      <th></th>\n",
       "      <th></th>\n",
       "    </tr>\n",
       "  </thead>\n",
       "  <tbody>\n",
       "    <tr>\n",
       "      <th>Adelanto</th>\n",
       "      <td>33693.0</td>\n",
       "      <td>238.0</td>\n",
       "      <td>2.0</td>\n",
       "      <td>28.0</td>\n",
       "      <td>48.0</td>\n",
       "      <td>160.0</td>\n",
       "      <td>578.0</td>\n",
       "      <td>190.0</td>\n",
       "      <td>290.0</td>\n",
       "      <td>98.0</td>\n",
       "      <td>13.0</td>\n",
       "      <td>0</td>\n",
       "      <td>446.0</td>\n",
       "      <td>868.0</td>\n",
       "    </tr>\n",
       "    <tr>\n",
       "      <th>Agoura Hills</th>\n",
       "      <td>20814.0</td>\n",
       "      <td>16.0</td>\n",
       "      <td>0.0</td>\n",
       "      <td>2.0</td>\n",
       "      <td>4.0</td>\n",
       "      <td>10.0</td>\n",
       "      <td>278.0</td>\n",
       "      <td>71.0</td>\n",
       "      <td>187.0</td>\n",
       "      <td>20.0</td>\n",
       "      <td>4.0</td>\n",
       "      <td>0</td>\n",
       "      <td>30.0</td>\n",
       "      <td>465.0</td>\n",
       "    </tr>\n",
       "    <tr>\n",
       "      <th>Alameda</th>\n",
       "      <td>79761.0</td>\n",
       "      <td>253.0</td>\n",
       "      <td>0.0</td>\n",
       "      <td>16.0</td>\n",
       "      <td>133.0</td>\n",
       "      <td>104.0</td>\n",
       "      <td>2347.0</td>\n",
       "      <td>219.0</td>\n",
       "      <td>1725.0</td>\n",
       "      <td>403.0</td>\n",
       "      <td>25.0</td>\n",
       "      <td>1</td>\n",
       "      <td>490.0</td>\n",
       "      <td>4072.0</td>\n",
       "    </tr>\n",
       "  </tbody>\n",
       "</table>\n",
       "</div>"
      ],
      "text/plain": [
       "              Population  Violent_crime  Murder  Rape  Robbery  Assault  \\\n",
       "County                                                                    \n",
       "Adelanto         33693.0          238.0     2.0  28.0     48.0    160.0   \n",
       "Agoura Hills     20814.0           16.0     0.0   2.0      4.0     10.0   \n",
       "Alameda          79761.0          253.0     0.0  16.0    133.0    104.0   \n",
       "\n",
       "              Property_crime  Burglary  Larceny_theft  Motor_theft  Arson  y  \\\n",
       "County                                                                         \n",
       "Adelanto               578.0     190.0          290.0         98.0   13.0  0   \n",
       "Agoura Hills           278.0      71.0          187.0         20.0    4.0  0   \n",
       "Alameda               2347.0     219.0         1725.0        403.0   25.0  1   \n",
       "\n",
       "              rob_assault_crime  prop_crime_larceny  \n",
       "County                                               \n",
       "Adelanto                  446.0               868.0  \n",
       "Agoura Hills               30.0               465.0  \n",
       "Alameda                   490.0              4072.0  "
      ]
     },
     "execution_count": 346,
     "metadata": {},
     "output_type": "execute_result"
    }
   ],
   "source": [
    "df_new.head(3)\n",
    "\n",
    "#Burglary+LarcenyTheft+MotorTheft+Arson"
   ]
  },
  {
   "cell_type": "code",
   "execution_count": 349,
   "metadata": {
    "scrolled": true
   },
   "outputs": [],
   "source": [
    "#df_new = df_new.drop(['Violent_crime', 'Robbery', 'Assault', 'Property_crime', 'Larceny_theft'], axis=1)\n",
    "\n",
    "df_new = df_new.drop('prop_crime_larceny', axis=1)"
   ]
  },
  {
   "cell_type": "code",
   "execution_count": 350,
   "metadata": {},
   "outputs": [
    {
     "data": {
      "text/html": [
       "<div>\n",
       "<style scoped>\n",
       "    .dataframe tbody tr th:only-of-type {\n",
       "        vertical-align: middle;\n",
       "    }\n",
       "\n",
       "    .dataframe tbody tr th {\n",
       "        vertical-align: top;\n",
       "    }\n",
       "\n",
       "    .dataframe thead th {\n",
       "        text-align: right;\n",
       "    }\n",
       "</style>\n",
       "<table border=\"1\" class=\"dataframe\">\n",
       "  <thead>\n",
       "    <tr style=\"text-align: right;\">\n",
       "      <th></th>\n",
       "      <th>Population</th>\n",
       "      <th>Violent_crime</th>\n",
       "      <th>Murder</th>\n",
       "      <th>Rape</th>\n",
       "      <th>Robbery</th>\n",
       "      <th>Assault</th>\n",
       "      <th>Property_crime</th>\n",
       "      <th>Burglary</th>\n",
       "      <th>Larceny_theft</th>\n",
       "      <th>Motor_theft</th>\n",
       "      <th>Arson</th>\n",
       "      <th>y</th>\n",
       "      <th>rob_assault_crime</th>\n",
       "    </tr>\n",
       "  </thead>\n",
       "  <tbody>\n",
       "    <tr>\n",
       "      <th>count</th>\n",
       "      <td>4.610000e+02</td>\n",
       "      <td>461.000000</td>\n",
       "      <td>461.000000</td>\n",
       "      <td>461.000000</td>\n",
       "      <td>461.000000</td>\n",
       "      <td>461.000000</td>\n",
       "      <td>461.000000</td>\n",
       "      <td>461.000000</td>\n",
       "      <td>461.000000</td>\n",
       "      <td>461.000000</td>\n",
       "      <td>461.000000</td>\n",
       "      <td>461.000000</td>\n",
       "      <td>461.000000</td>\n",
       "    </tr>\n",
       "    <tr>\n",
       "      <th>mean</th>\n",
       "      <td>7.124899e+04</td>\n",
       "      <td>207.451193</td>\n",
       "      <td>2.108460</td>\n",
       "      <td>17.928416</td>\n",
       "      <td>66.984816</td>\n",
       "      <td>115.281996</td>\n",
       "      <td>1388.422993</td>\n",
       "      <td>240.503254</td>\n",
       "      <td>922.639913</td>\n",
       "      <td>225.945770</td>\n",
       "      <td>9.752711</td>\n",
       "      <td>0.349241</td>\n",
       "      <td>389.718004</td>\n",
       "    </tr>\n",
       "    <tr>\n",
       "      <th>std</th>\n",
       "      <td>2.150399e+05</td>\n",
       "      <td>325.710428</td>\n",
       "      <td>4.296251</td>\n",
       "      <td>24.919289</td>\n",
       "      <td>111.193592</td>\n",
       "      <td>170.807503</td>\n",
       "      <td>1777.012972</td>\n",
       "      <td>285.081214</td>\n",
       "      <td>1210.121676</td>\n",
       "      <td>356.009488</td>\n",
       "      <td>15.861754</td>\n",
       "      <td>0.477248</td>\n",
       "      <td>602.883725</td>\n",
       "    </tr>\n",
       "    <tr>\n",
       "      <th>min</th>\n",
       "      <td>1.130000e+02</td>\n",
       "      <td>0.000000</td>\n",
       "      <td>0.000000</td>\n",
       "      <td>0.000000</td>\n",
       "      <td>0.000000</td>\n",
       "      <td>0.000000</td>\n",
       "      <td>1.000000</td>\n",
       "      <td>0.000000</td>\n",
       "      <td>0.000000</td>\n",
       "      <td>0.000000</td>\n",
       "      <td>0.000000</td>\n",
       "      <td>0.000000</td>\n",
       "      <td>0.000000</td>\n",
       "    </tr>\n",
       "    <tr>\n",
       "      <th>25%</th>\n",
       "      <td>1.221000e+04</td>\n",
       "      <td>33.000000</td>\n",
       "      <td>0.000000</td>\n",
       "      <td>3.000000</td>\n",
       "      <td>6.000000</td>\n",
       "      <td>19.000000</td>\n",
       "      <td>246.000000</td>\n",
       "      <td>55.000000</td>\n",
       "      <td>152.000000</td>\n",
       "      <td>26.000000</td>\n",
       "      <td>1.000000</td>\n",
       "      <td>0.000000</td>\n",
       "      <td>61.000000</td>\n",
       "    </tr>\n",
       "    <tr>\n",
       "      <th>50%</th>\n",
       "      <td>3.369300e+04</td>\n",
       "      <td>91.000000</td>\n",
       "      <td>1.000000</td>\n",
       "      <td>8.000000</td>\n",
       "      <td>23.000000</td>\n",
       "      <td>52.000000</td>\n",
       "      <td>705.000000</td>\n",
       "      <td>136.000000</td>\n",
       "      <td>482.000000</td>\n",
       "      <td>87.000000</td>\n",
       "      <td>4.000000</td>\n",
       "      <td>0.000000</td>\n",
       "      <td>175.000000</td>\n",
       "    </tr>\n",
       "    <tr>\n",
       "      <th>75%</th>\n",
       "      <td>7.632500e+04</td>\n",
       "      <td>234.000000</td>\n",
       "      <td>2.000000</td>\n",
       "      <td>20.000000</td>\n",
       "      <td>77.000000</td>\n",
       "      <td>131.000000</td>\n",
       "      <td>1819.000000</td>\n",
       "      <td>323.000000</td>\n",
       "      <td>1231.000000</td>\n",
       "      <td>273.000000</td>\n",
       "      <td>11.000000</td>\n",
       "      <td>1.000000</td>\n",
       "      <td>442.000000</td>\n",
       "    </tr>\n",
       "    <tr>\n",
       "      <th>max</th>\n",
       "      <td>4.007147e+06</td>\n",
       "      <td>1640.000000</td>\n",
       "      <td>21.000000</td>\n",
       "      <td>110.000000</td>\n",
       "      <td>519.000000</td>\n",
       "      <td>826.000000</td>\n",
       "      <td>8465.000000</td>\n",
       "      <td>1351.000000</td>\n",
       "      <td>5865.000000</td>\n",
       "      <td>1730.000000</td>\n",
       "      <td>75.000000</td>\n",
       "      <td>1.000000</td>\n",
       "      <td>2985.000000</td>\n",
       "    </tr>\n",
       "  </tbody>\n",
       "</table>\n",
       "</div>"
      ],
      "text/plain": [
       "         Population  Violent_crime      Murder        Rape     Robbery  \\\n",
       "count  4.610000e+02     461.000000  461.000000  461.000000  461.000000   \n",
       "mean   7.124899e+04     207.451193    2.108460   17.928416   66.984816   \n",
       "std    2.150399e+05     325.710428    4.296251   24.919289  111.193592   \n",
       "min    1.130000e+02       0.000000    0.000000    0.000000    0.000000   \n",
       "25%    1.221000e+04      33.000000    0.000000    3.000000    6.000000   \n",
       "50%    3.369300e+04      91.000000    1.000000    8.000000   23.000000   \n",
       "75%    7.632500e+04     234.000000    2.000000   20.000000   77.000000   \n",
       "max    4.007147e+06    1640.000000   21.000000  110.000000  519.000000   \n",
       "\n",
       "          Assault  Property_crime     Burglary  Larceny_theft  Motor_theft  \\\n",
       "count  461.000000      461.000000   461.000000     461.000000   461.000000   \n",
       "mean   115.281996     1388.422993   240.503254     922.639913   225.945770   \n",
       "std    170.807503     1777.012972   285.081214    1210.121676   356.009488   \n",
       "min      0.000000        1.000000     0.000000       0.000000     0.000000   \n",
       "25%     19.000000      246.000000    55.000000     152.000000    26.000000   \n",
       "50%     52.000000      705.000000   136.000000     482.000000    87.000000   \n",
       "75%    131.000000     1819.000000   323.000000    1231.000000   273.000000   \n",
       "max    826.000000     8465.000000  1351.000000    5865.000000  1730.000000   \n",
       "\n",
       "            Arson           y  rob_assault_crime  \n",
       "count  461.000000  461.000000         461.000000  \n",
       "mean     9.752711    0.349241         389.718004  \n",
       "std     15.861754    0.477248         602.883725  \n",
       "min      0.000000    0.000000           0.000000  \n",
       "25%      1.000000    0.000000          61.000000  \n",
       "50%      4.000000    0.000000         175.000000  \n",
       "75%     11.000000    1.000000         442.000000  \n",
       "max     75.000000    1.000000        2985.000000  "
      ]
     },
     "execution_count": 350,
     "metadata": {},
     "output_type": "execute_result"
    }
   ],
   "source": [
    "df_new.describe()"
   ]
  },
  {
   "cell_type": "code",
   "execution_count": 351,
   "metadata": {},
   "outputs": [
    {
     "data": {
      "text/plain": [
       "<matplotlib.axes._subplots.AxesSubplot at 0x126670b70>"
      ]
     },
     "execution_count": 351,
     "metadata": {},
     "output_type": "execute_result"
    },
    {
     "data": {
      "image/png": "[encoded data removed]",
      "text/plain": [
       "<Figure size 864x864 with 2 Axes>"
      ]
     },
     "metadata": {},
     "output_type": "display_data"
    }
   ],
   "source": [
    "plt.figure(figsize=(12,12))\n",
    "sns.heatmap(df_new.corr(), cmap='BuPu', annot=True, square=True)"
   ]
  },
  {
   "cell_type": "code",
   "execution_count": 283,
   "metadata": {},
   "outputs": [],
   "source": [
    "# Running new features again \n",
    "#New features 1: population percentage\n",
    "\n",
    "def perc_val(df, col):\n",
    "    for col in df.columns:\n",
    "        new_val = [col/pop *100 for col,pop in zip(df[col], df.Population)]\n",
    "    return new_val\n",
    "\n",
    "\n",
    "df_new['Murder_perc'] = perc_val(df_new, 'Murder')\n",
    "df_new['Rape_perc'] = perc_val(df_new, 'Rape')\n",
    "df_new['prop_crime_perc'] = perc_val(df_new, 'Prop_crime_larceny')\n",
    "df_new['Burglary_perc'] = perc_val(df_new, 'Burglary')\n",
    "df_new['rob_assault_perc']= perc_val(df_new, 'rob_assault_crime')\n",
    "df_new['Motor_theft_perc'] = perc_val(df_new, 'Motor_theft')\n",
    "df_new['Arson_perc'] = perc_val(df_new, 'Arson')"
   ]
  },
  {
   "cell_type": "code",
   "execution_count": 284,
   "metadata": {},
   "outputs": [
    {
     "data": {
      "text/html": [
       "<div>\n",
       "<style scoped>\n",
       "    .dataframe tbody tr th:only-of-type {\n",
       "        vertical-align: middle;\n",
       "    }\n",
       "\n",
       "    .dataframe tbody tr th {\n",
       "        vertical-align: top;\n",
       "    }\n",
       "\n",
       "    .dataframe thead th {\n",
       "        text-align: right;\n",
       "    }\n",
       "</style>\n",
       "<table border=\"1\" class=\"dataframe\">\n",
       "  <thead>\n",
       "    <tr style=\"text-align: right;\">\n",
       "      <th></th>\n",
       "      <th>Population</th>\n",
       "      <th>Murder</th>\n",
       "      <th>Rape</th>\n",
       "      <th>Burglary</th>\n",
       "      <th>Motor_theft</th>\n",
       "      <th>Arson</th>\n",
       "      <th>y</th>\n",
       "      <th>Violent_crime_perc</th>\n",
       "      <th>Murder_perc</th>\n",
       "      <th>Rape_perc</th>\n",
       "      <th>Robbery_perc</th>\n",
       "      <th>Burglary_perc</th>\n",
       "      <th>Larceny_theft_perc</th>\n",
       "      <th>Motor_theft_perc</th>\n",
       "      <th>Arson_perc</th>\n",
       "      <th>rob_assault_crime</th>\n",
       "      <th>prop_crime_larceny</th>\n",
       "      <th>prop_crime_perc</th>\n",
       "      <th>rob_assault_perc</th>\n",
       "    </tr>\n",
       "    <tr>\n",
       "      <th>County</th>\n",
       "      <th></th>\n",
       "      <th></th>\n",
       "      <th></th>\n",
       "      <th></th>\n",
       "      <th></th>\n",
       "      <th></th>\n",
       "      <th></th>\n",
       "      <th></th>\n",
       "      <th></th>\n",
       "      <th></th>\n",
       "      <th></th>\n",
       "      <th></th>\n",
       "      <th></th>\n",
       "      <th></th>\n",
       "      <th></th>\n",
       "      <th></th>\n",
       "      <th></th>\n",
       "      <th></th>\n",
       "      <th></th>\n",
       "    </tr>\n",
       "  </thead>\n",
       "  <tbody>\n",
       "    <tr>\n",
       "      <th>Adelanto</th>\n",
       "      <td>33693.0</td>\n",
       "      <td>2.0</td>\n",
       "      <td>28.0</td>\n",
       "      <td>190.0</td>\n",
       "      <td>98.0</td>\n",
       "      <td>13.0</td>\n",
       "      <td>0</td>\n",
       "      <td>0.000000</td>\n",
       "      <td>2.576203</td>\n",
       "      <td>2.576203</td>\n",
       "      <td>0.000000e+00</td>\n",
       "      <td>0.007646</td>\n",
       "      <td>0.000000e+00</td>\n",
       "      <td>0.000023</td>\n",
       "      <td>0.000023</td>\n",
       "      <td>446.0</td>\n",
       "      <td>868.0</td>\n",
       "      <td>2.576203</td>\n",
       "      <td>0.007646</td>\n",
       "    </tr>\n",
       "    <tr>\n",
       "      <th>Agoura Hills</th>\n",
       "      <td>20814.0</td>\n",
       "      <td>0.0</td>\n",
       "      <td>2.0</td>\n",
       "      <td>71.0</td>\n",
       "      <td>20.0</td>\n",
       "      <td>4.0</td>\n",
       "      <td>0</td>\n",
       "      <td>0.000000</td>\n",
       "      <td>2.234073</td>\n",
       "      <td>2.234073</td>\n",
       "      <td>0.000000e+00</td>\n",
       "      <td>0.010734</td>\n",
       "      <td>0.000000e+00</td>\n",
       "      <td>0.000052</td>\n",
       "      <td>0.000052</td>\n",
       "      <td>30.0</td>\n",
       "      <td>465.0</td>\n",
       "      <td>2.234073</td>\n",
       "      <td>0.010734</td>\n",
       "    </tr>\n",
       "    <tr>\n",
       "      <th>Alameda</th>\n",
       "      <td>79761.0</td>\n",
       "      <td>0.0</td>\n",
       "      <td>16.0</td>\n",
       "      <td>219.0</td>\n",
       "      <td>403.0</td>\n",
       "      <td>25.0</td>\n",
       "      <td>1</td>\n",
       "      <td>0.001254</td>\n",
       "      <td>5.105252</td>\n",
       "      <td>5.105252</td>\n",
       "      <td>2.470800e-12</td>\n",
       "      <td>0.006401</td>\n",
       "      <td>3.883796e-18</td>\n",
       "      <td>0.000008</td>\n",
       "      <td>0.000008</td>\n",
       "      <td>490.0</td>\n",
       "      <td>4072.0</td>\n",
       "      <td>5.105252</td>\n",
       "      <td>0.006401</td>\n",
       "    </tr>\n",
       "    <tr>\n",
       "      <th>Albany</th>\n",
       "      <td>19880.0</td>\n",
       "      <td>0.0</td>\n",
       "      <td>1.0</td>\n",
       "      <td>77.0</td>\n",
       "      <td>63.0</td>\n",
       "      <td>3.0</td>\n",
       "      <td>0</td>\n",
       "      <td>0.000000</td>\n",
       "      <td>4.557344</td>\n",
       "      <td>4.557344</td>\n",
       "      <td>0.000000e+00</td>\n",
       "      <td>0.022924</td>\n",
       "      <td>0.000000e+00</td>\n",
       "      <td>0.000115</td>\n",
       "      <td>0.000115</td>\n",
       "      <td>71.0</td>\n",
       "      <td>906.0</td>\n",
       "      <td>4.557344</td>\n",
       "      <td>0.022924</td>\n",
       "    </tr>\n",
       "    <tr>\n",
       "      <th>Alhambra</th>\n",
       "      <td>85865.0</td>\n",
       "      <td>4.0</td>\n",
       "      <td>17.0</td>\n",
       "      <td>363.0</td>\n",
       "      <td>270.0</td>\n",
       "      <td>12.0</td>\n",
       "      <td>1</td>\n",
       "      <td>0.001165</td>\n",
       "      <td>3.634776</td>\n",
       "      <td>3.634776</td>\n",
       "      <td>1.839650e-12</td>\n",
       "      <td>0.004233</td>\n",
       "      <td>2.495186e-18</td>\n",
       "      <td>0.000005</td>\n",
       "      <td>0.000005</td>\n",
       "      <td>323.0</td>\n",
       "      <td>3121.0</td>\n",
       "      <td>3.634776</td>\n",
       "      <td>0.004233</td>\n",
       "    </tr>\n",
       "  </tbody>\n",
       "</table>\n",
       "</div>"
      ],
      "text/plain": [
       "              Population  Murder  Rape  Burglary  Motor_theft  Arson  y  \\\n",
       "County                                                                    \n",
       "Adelanto         33693.0     2.0  28.0     190.0         98.0   13.0  0   \n",
       "Agoura Hills     20814.0     0.0   2.0      71.0         20.0    4.0  0   \n",
       "Alameda          79761.0     0.0  16.0     219.0        403.0   25.0  1   \n",
       "Albany           19880.0     0.0   1.0      77.0         63.0    3.0  0   \n",
       "Alhambra         85865.0     4.0  17.0     363.0        270.0   12.0  1   \n",
       "\n",
       "              Violent_crime_perc  Murder_perc  Rape_perc  Robbery_perc  \\\n",
       "County                                                                   \n",
       "Adelanto                0.000000     2.576203   2.576203  0.000000e+00   \n",
       "Agoura Hills            0.000000     2.234073   2.234073  0.000000e+00   \n",
       "Alameda                 0.001254     5.105252   5.105252  2.470800e-12   \n",
       "Albany                  0.000000     4.557344   4.557344  0.000000e+00   \n",
       "Alhambra                0.001165     3.634776   3.634776  1.839650e-12   \n",
       "\n",
       "              Burglary_perc  Larceny_theft_perc  Motor_theft_perc  Arson_perc  \\\n",
       "County                                                                          \n",
       "Adelanto           0.007646        0.000000e+00          0.000023    0.000023   \n",
       "Agoura Hills       0.010734        0.000000e+00          0.000052    0.000052   \n",
       "Alameda            0.006401        3.883796e-18          0.000008    0.000008   \n",
       "Albany             0.022924        0.000000e+00          0.000115    0.000115   \n",
       "Alhambra           0.004233        2.495186e-18          0.000005    0.000005   \n",
       "\n",
       "              rob_assault_crime  prop_crime_larceny  prop_crime_perc  \\\n",
       "County                                                                 \n",
       "Adelanto                  446.0               868.0         2.576203   \n",
       "Agoura Hills               30.0               465.0         2.234073   \n",
       "Alameda                   490.0              4072.0         5.105252   \n",
       "Albany                     71.0               906.0         4.557344   \n",
       "Alhambra                  323.0              3121.0         3.634776   \n",
       "\n",
       "              rob_assault_perc  \n",
       "County                          \n",
       "Adelanto              0.007646  \n",
       "Agoura Hills          0.010734  \n",
       "Alameda               0.006401  \n",
       "Albany                0.022924  \n",
       "Alhambra              0.004233  "
      ]
     },
     "execution_count": 284,
     "metadata": {},
     "output_type": "execute_result"
    }
   ],
   "source": [
    "df_new.head()"
   ]
  },
  {
   "cell_type": "code",
   "execution_count": 352,
   "metadata": {},
   "outputs": [
    {
     "data": {
      "text/plain": [
       "Index(['Population', 'Violent_crime', 'Murder', 'Rape', 'Robbery', 'Assault',\n",
       "       'Property_crime', 'Burglary', 'Larceny_theft', 'Motor_theft', 'Arson',\n",
       "       'y', 'rob_assault_crime'],\n",
       "      dtype='object')"
      ]
     },
     "execution_count": 352,
     "metadata": {},
     "output_type": "execute_result"
    }
   ],
   "source": [
    "df_new.columns"
   ]
  },
  {
   "cell_type": "code",
   "execution_count": 353,
   "metadata": {},
   "outputs": [],
   "source": [
    "# Creating X and y\n",
    "\n",
    "# Burglary+LarcenyTheft+MotorTheft+Arson\n",
    "\n",
    "# drop Violent_crime, Robbery and Assault\n",
    "\n",
    "df_X = df_new[['Population', 'Murder', 'Rape','Property_crime', \n",
    "               'Burglary', 'Larceny_theft', 'Motor_theft', 'Arson','rob_assault_crime']]\n",
    "y = df_new['y']\n"
   ]
  },
  {
   "cell_type": "code",
   "execution_count": 354,
   "metadata": {},
   "outputs": [],
   "source": [
    "# Train test split \n",
    "\n",
    "X_train, X_test, y_train, y_test = train_test_split(df_X, y, test_size=.3)"
   ]
  },
  {
   "cell_type": "code",
   "execution_count": 364,
   "metadata": {},
   "outputs": [
    {
     "name": "stdout",
     "output_type": "stream",
     "text": [
      "Coefficients\n",
      "coefs: [[-8.82382197e-07 -7.65943072e-05 -4.19682562e-03  5.73809722e-03\n",
      "  -1.36314997e-02 -4.08592863e-03 -5.57890698e-05  2.08645123e-04\n",
      "   2.99264390e-05]]\n",
      "intercept:  [-0.00590381]\n"
     ]
    }
   ],
   "source": [
    "\n",
    "## Logistic Regression \n",
    "LR = LogisticRegression(C=1e9, random_state=111)\n",
    "\n",
    "# Fit the model.\n",
    "fit = LR.fit(X_train, y_train)\n",
    "#\n",
    "# Display.\n",
    "print('Coefficients')\n",
    "print('coefs:', fit.coef_)\n",
    "print('intercept: ', fit.intercept_)"
   ]
  },
  {
   "cell_type": "code",
   "execution_count": 365,
   "metadata": {},
   "outputs": [
    {
     "name": "stdout",
     "output_type": "stream",
     "text": [
      "y       0   1\n",
      "row_0        \n",
      "0      45   8\n",
      "1      46  40\n",
      "\n",
      "R² for the model with many features: \n",
      " [[-8.82382197e-07 -7.65943072e-05 -4.19682562e-03  5.73809722e-03\n",
      "  -1.36314997e-02 -4.08592863e-03 -5.57890698e-05  2.08645123e-04\n",
      "   2.99264390e-05]]\n",
      "\n",
      "Percentage accuracy 0.639751552795031\n",
      "\n",
      "Mean crossvalidated accuracy:  0.72 with standard deviation 0.112\n",
      "\n",
      "Confusion Matrix: \n",
      " [[45  8]\n",
      " [46 40]]\n"
     ]
    }
   ],
   "source": [
    "#Predict\n",
    "pred_y = LR.predict(X_test)\n",
    "\n",
    "print(pd.crosstab(pred_y, y_test))\n",
    "# why are crosstab values differ in row and columns as shown in the statsmodel? \n",
    "\n",
    "print('\\nR² for the model with many features: \\n', fit.coef_)\n",
    "print('\\nPercentage accuracy', fit.score(X_train, y_train))  #63%\n",
    "\n",
    "score = cross_val_score(LR, X_train, y_train, cv=10)  # 74%\n",
    "print(\"\\nMean crossvalidated accuracy: \", round(score.mean(),2), \n",
    "      'with standard deviation', round(score.std(),3))\n",
    "\n",
    "from sklearn.metrics import confusion_matrix\n",
    "print('\\nConfusion Matrix: \\n', confusion_matrix(pred_y, y_test))"
   ]
  },
  {
   "cell_type": "code",
   "execution_count": 372,
   "metadata": {},
   "outputs": [
    {
     "name": "stdout",
     "output_type": "stream",
     "text": [
      "Ridge Regression Coefficients\n",
      "-1.4940855343297794e-07\n",
      "\n",
      "R² for the model with many features: \n",
      " [-1.49408553e-07 -1.52656514e-02 -1.90804538e-04  1.62502834e-03\n",
      " -1.29634433e-03 -1.32329124e-03 -1.40137212e-03 -3.79175410e-04\n",
      " -7.73668767e-06]\n",
      "\n",
      "Percentage accuracy 0.6164842559614871\n",
      "\n",
      "Mean crossvalidated accuracy:  0.39 with standard deviation 0.619\n"
     ]
    }
   ],
   "source": [
    "# Ridge Regression - big model \n",
    "\n",
    "# Creating X and y\n",
    "df_X = df_new[['Population', 'Murder', 'Rape','Property_crime', \n",
    "               'Burglary', 'Larceny_theft', 'Motor_theft', 'Arson','rob_assault_crime']]\n",
    "y = df_new['y']\n",
    "\n",
    "\n",
    "# Train test split \n",
    "\n",
    "X_train, X_test, y_train, y_test = train_test_split(df_X, y, test_size=.3)\n",
    "\n",
    "\n",
    "## Ridge Regression \n",
    "ridgereg = linear_model.Ridge(alpha=10, fit_intercept=False)\n",
    "\n",
    "# Fit the model.\n",
    "fit = ridgereg.fit(X_train, y_train)\n",
    "#\n",
    "# Display.\n",
    "print('Ridge Regression Coefficients')\n",
    "origparams = ridgereg.coef_[0]\n",
    "print(origparams)\n",
    "\n",
    "#Predict\n",
    "pred_y = ridgereg.predict(X_test)\n",
    "\n",
    "#print(pd.crosstab(pred_y, y_test))\n",
    "# why are crosstab values differ in row and columns as shown in the statsmodel? \n",
    "\n",
    "print('\\nR² for the model with many features: \\n', fit.coef_)\n",
    "print('\\nPercentage accuracy', fit.score(X_train, y_train))  #61%\n",
    "\n",
    "score = cross_val_score(ridgereg, X_train, y_train, cv=10)  # 39%\n",
    "print(\"\\nMean crossvalidated accuracy: \", round(score.mean(),2), \n",
    "      'with standard deviation', round(score.std(),3))\n",
    "\n"
   ]
  },
  {
   "cell_type": "code",
   "execution_count": 376,
   "metadata": {},
   "outputs": [
    {
     "name": "stdout",
     "output_type": "stream",
     "text": [
      "Lasso Regression Coefficients\n",
      "-1.2164269495998814e-06\n",
      "\n",
      "R² for the model with many features: \n",
      " [-1.21642695e-06 -0.00000000e+00  0.00000000e+00  8.64370177e-05\n",
      "  1.09593001e-03  1.10624753e-04  1.27668699e-04 -0.00000000e+00\n",
      " -3.22938118e-04]\n",
      "\n",
      "Percentage accuracy 0.5806467890165996\n",
      "\n",
      "Mean crossvalidated accuracy:  0.49 with standard deviation 0.14\n"
     ]
    },
    {
     "name": "stderr",
     "output_type": "stream",
     "text": [
      "/Library/Frameworks/Python.framework/Versions/3.6/lib/python3.6/site-packages/sklearn/linear_model/coordinate_descent.py:491: ConvergenceWarning: Objective did not converge. You might want to increase the number of iterations. Fitting data with very small alpha may cause precision problems.\n",
      "  ConvergenceWarning)\n"
     ]
    }
   ],
   "source": [
    "# Lasso Regression - big model \n",
    "\n",
    "# Creating X and y\n",
    "df_X = df_new[['Population', 'Murder', 'Rape','Property_crime', \n",
    "               'Burglary', 'Larceny_theft', 'Motor_theft', 'Arson','rob_assault_crime']]\n",
    "y = df_new['y']\n",
    "\n",
    "\n",
    "# Train test split \n",
    "X_train, X_test, y_train, y_test = train_test_split(df_X, y, test_size=.3)\n",
    "\n",
    "\n",
    "## Ridge Regression \n",
    "lassreg = linear_model.Lasso(alpha=.35)\n",
    "\n",
    "# Fit the model.\n",
    "fit = lassreg.fit(X_train, y_train)\n",
    "#\n",
    "# Display.\n",
    "print('Lasso Regression Coefficients')\n",
    "origparams = lassreg.coef_[0]\n",
    "print(origparams)\n",
    "\n",
    "#Predict\n",
    "pred_y = lassreg.predict(X_test)\n",
    "\n",
    "#print(pd.crosstab(pred_y, y_test))\n",
    "# why are crosstab values differ in row and columns as shown in the statsmodel? \n",
    "\n",
    "print('\\nR² for the model with many features: \\n', fit.coef_)\n",
    "print('\\nPercentage accuracy', fit.score(X_train, y_train))  #58%\n",
    "\n",
    "score = cross_val_score(lassreg, X_train, y_train, cv=10)  # 49%\n",
    "print(\"\\nMean crossvalidated accuracy: \", round(score.mean(),2), \n",
    "      'with standard deviation', round(score.std(),3))\n"
   ]
  },
  {
   "cell_type": "code",
   "execution_count": null,
   "metadata": {},
   "outputs": [],
   "source": []
  },
  {
   "cell_type": "code",
   "execution_count": null,
   "metadata": {},
   "outputs": [],
   "source": []
  },
  {
   "cell_type": "code",
   "execution_count": 367,
   "metadata": {},
   "outputs": [
    {
     "name": "stdout",
     "output_type": "stream",
     "text": [
      "Coefficients\n",
      "coefs: [[ 0.0087086   0.00738414  0.00993141 -0.03058677  0.00099226]]\n",
      "intercept:  [-10.79926669]\n",
      "y       0   1\n",
      "row_0        \n",
      "0      91   0\n",
      "1       2  46\n",
      "\n",
      "R² for the model with many features: \n",
      " [[ 0.0087086   0.00738414  0.00993141 -0.03058677  0.00099226]]\n",
      "\n",
      "Percentage accuracy 0.9937888198757764\n",
      "\n",
      "Mean crossvalidated accuracy:  0.98 with standard deviation 0.02\n",
      "\n",
      "Confusion Matrix: \n",
      " [[91  0]\n",
      " [ 2 46]]\n"
     ]
    }
   ],
   "source": [
    "# Logistic Regression - Smaller model - better accuracy!\n",
    "\n",
    "# Burglary+LarcenyTheft+MotorTheft+Arson\n",
    "\n",
    "# drop Violent_crime, Robbery and Assault\n",
    "\n",
    "df_X = df_new[['Burglary', 'Larceny_theft', 'Motor_theft', 'Arson','rob_assault_crime']]\n",
    "y = df_new['y']\n",
    "\n",
    "\n",
    "# Train test split \n",
    "X_train, X_test, y_train, y_test = train_test_split(df_X, y, test_size=.3)\n",
    "\n",
    "\n",
    "## Logistic Regression \n",
    "LR = LogisticRegression(C=1e9, random_state=111)\n",
    "\n",
    "# Fit the model.\n",
    "fit = LR.fit(X_train, y_train)\n",
    "#\n",
    "# Display.\n",
    "print('Coefficients')\n",
    "print('coefs:', fit.coef_)\n",
    "print('intercept: ', fit.intercept_)\n",
    "\n",
    "#Predict\n",
    "pred_y = LR.predict(X_test)\n",
    "\n",
    "print(pd.crosstab(pred_y, y_test))\n",
    "# why are crosstab values differ in row and columns as shown in the statsmodel? \n",
    "\n",
    "print('\\nR² for the model with many features: \\n', fit.coef_)\n",
    "print('\\nPercentage accuracy', fit.score(X_train, y_train))  #99%\n",
    "\n",
    "score = cross_val_score(LR, X_train, y_train, cv=10)  # 98%\n",
    "print(\"\\nMean crossvalidated accuracy: \", round(score.mean(),2), \n",
    "      'with standard deviation', round(score.std(),3))\n",
    "\n",
    "from sklearn.metrics import confusion_matrix\n",
    "print('\\nConfusion Matrix: \\n', confusion_matrix(pred_y, y_test))"
   ]
  },
  {
   "cell_type": "code",
   "execution_count": 374,
   "metadata": {},
   "outputs": [
    {
     "name": "stdout",
     "output_type": "stream",
     "text": [
      "Ridge Regression Coefficients\n",
      "0.0011102041749425562\n",
      "\n",
      "R² for the model with many features: \n",
      " [ 0.0011102   0.00019947  0.00026438 -0.00108267 -0.00044616]\n",
      "\n",
      "Percentage accuracy 0.5402212909194455\n",
      "\n",
      "Mean crossvalidated accuracy:  0.47 with standard deviation 0.127\n"
     ]
    }
   ],
   "source": [
    "# Ridge Regression - small model \n",
    "\n",
    "# Creating X and y\n",
    "df_X = df_new[['Burglary', 'Larceny_theft', 'Motor_theft', 'Arson','rob_assault_crime']]\n",
    "y = df_new['y']\n",
    "\n",
    "\n",
    "# Train test split \n",
    "\n",
    "X_train, X_test, y_train, y_test = train_test_split(df_X, y, test_size=.3)\n",
    "\n",
    "\n",
    "## Ridge Regression \n",
    "ridgereg = linear_model.Ridge(alpha=10, fit_intercept=False)\n",
    "\n",
    "# Fit the model.\n",
    "fit = ridgereg.fit(X_train, y_train)\n",
    "#\n",
    "# Display.\n",
    "print('Ridge Regression Coefficients')\n",
    "origparams = ridgereg.coef_[0]\n",
    "print(origparams)\n",
    "\n",
    "#Predict\n",
    "pred_y = ridgereg.predict(X_test)\n",
    "\n",
    "#print(pd.crosstab(pred_y, y_test))\n",
    "# why are crosstab values differ in row and columns as shown in the statsmodel? \n",
    "\n",
    "print('\\nR² for the model with many features: \\n', fit.coef_)\n",
    "print('\\nPercentage accuracy', fit.score(X_train, y_train))  #54%\n",
    "\n",
    "score = cross_val_score(ridgereg, X_train, y_train, cv=10)  # 51%\n",
    "print(\"\\nMean crossvalidated accuracy: \", round(score.mean(),2), \n",
    "      'with standard deviation', round(score.std(),3))\n",
    "\n"
   ]
  },
  {
   "cell_type": "code",
   "execution_count": 378,
   "metadata": {},
   "outputs": [
    {
     "name": "stdout",
     "output_type": "stream",
     "text": [
      "Lasso Regression Coefficients\n",
      "0.0008348490387216285\n",
      "\n",
      "R² for the model with many features: \n",
      " [ 0.00083485  0.00020349  0.00013986 -0.         -0.00031481]\n",
      "\n",
      "Percentage accuracy 0.557141024866211\n",
      "\n",
      "Mean crossvalidated accuracy:  0.52 with standard deviation 0.09\n"
     ]
    }
   ],
   "source": [
    "# Lasso Regression - small model \n",
    "\n",
    "# Creating X and y\n",
    "df_X = df_new[['Burglary', 'Larceny_theft', 'Motor_theft', 'Arson','rob_assault_crime']]\n",
    "y = df_new['y']\n",
    "\n",
    "# Train test split \n",
    "X_train, X_test, y_train, y_test = train_test_split(df_X, y, test_size=.3)\n",
    "\n",
    "\n",
    "## Ridge Regression \n",
    "lassreg = linear_model.Lasso(alpha=.35)\n",
    "\n",
    "# Fit the model.\n",
    "fit = lassreg.fit(X_train, y_train)\n",
    "#\n",
    "# Display.\n",
    "print('Lasso Regression Coefficients')\n",
    "origparams = lassreg.coef_[0]\n",
    "print(origparams)\n",
    "\n",
    "#Predict\n",
    "pred_y = lassreg.predict(X_test)\n",
    "\n",
    "#print(pd.crosstab(pred_y, y_test))\n",
    "# why are crosstab values differ in row and columns as shown in the statsmodel? \n",
    "\n",
    "print('\\nR² for the model with many features: \\n', fit.coef_)\n",
    "print('\\nPercentage accuracy', fit.score(X_train, y_train))  #57%\n",
    "\n",
    "score = cross_val_score(lassreg, X_train, y_train, cv=10)  # 55%\n",
    "print(\"\\nMean crossvalidated accuracy: \", round(score.mean(),2), \n",
    "      'with standard deviation', round(score.std(),3))\n"
   ]
  },
  {
   "cell_type": "code",
   "execution_count": null,
   "metadata": {},
   "outputs": [],
   "source": []
  }
 ],
 "metadata": {
  "kernelspec": {
   "display_name": "Python 3",
   "language": "python",
   "name": "python3"
  },
  "language_info": {
   "codemirror_mode": {
    "name": "ipython",
    "version": 3
   },
   "file_extension": ".py",
   "mimetype": "text/x-python",
   "name": "python",
   "nbconvert_exporter": "python",
   "pygments_lexer": "ipython3",
   "version": "3.6.5"
  }
 },
 "nbformat": 4,
 "nbformat_minor": 2
}
