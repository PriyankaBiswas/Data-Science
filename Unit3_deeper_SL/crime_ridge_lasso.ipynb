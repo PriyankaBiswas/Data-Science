{
 "cells": [
  {
   "cell_type": "markdown",
   "metadata": {},
   "source": [
    "Engineer your features, then create three models. Each model will be run on a training set and a test-set (or multiple test-sets, if you take a folds approach). The models should be:\n",
    "\n",
    "- Vanilla logistic regression\n",
    "- Ridge logistic regression\n",
    "- Lasso logistic regression\n",
    "\n",
    "If you're stuck on how to begin combining your two new modeling skills, here's a hint: the SKlearn LogisticRegression method has a \"penalty\" argument that takes either 'l1' or 'l2' as a value.\n",
    "\n",
    "In your report, evaluate all three models and decide on your best. Be clear about the decisions you made that led to these models (feature selection, regularization parameter selection, model evaluation criteria) and why you think that particular model is the best of the three. Also reflect on the strengths and limitations of regression as a modeling approach. Were there things you couldn't do but you wish you could have done?"
   ]
  },
  {
   "cell_type": "code",
   "execution_count": 85,
   "metadata": {},
   "outputs": [],
   "source": [
    "import pandas as pd\n",
    "from matplotlib import pyplot as plt\n",
    "import numpy as np\n",
    "import math\n",
    "import seaborn as sns\n",
    "import sklearn\n",
    "from sklearn import linear_model\n",
    "from sklearn.linear_model import LogisticRegression\n",
    "from sklearn import preprocessing\n",
    "%matplotlib inline\n",
    "\n",
    "\n",
    "from sklearn.model_selection import train_test_split\n",
    "from sklearn.model_selection import cross_val_score\n",
    "import statsmodels.api as sm"
   ]
  },
  {
   "cell_type": "code",
   "execution_count": 102,
   "metadata": {},
   "outputs": [
    {
     "data": {
      "text/html": [
       "<div>\n",
       "<style scoped>\n",
       "    .dataframe tbody tr th:only-of-type {\n",
       "        vertical-align: middle;\n",
       "    }\n",
       "\n",
       "    .dataframe tbody tr th {\n",
       "        vertical-align: top;\n",
       "    }\n",
       "\n",
       "    .dataframe thead th {\n",
       "        text-align: right;\n",
       "    }\n",
       "</style>\n",
       "<table border=\"1\" class=\"dataframe\">\n",
       "  <thead>\n",
       "    <tr style=\"text-align: right;\">\n",
       "      <th></th>\n",
       "      <th>Population</th>\n",
       "      <th>Violent\n",
       "crime</th>\n",
       "      <th>Murder and\n",
       "nonnegligent\n",
       "manslaughter</th>\n",
       "      <th>Rape1</th>\n",
       "      <th>Robbery</th>\n",
       "      <th>Aggravated\n",
       "assault</th>\n",
       "      <th>Property\n",
       "crime</th>\n",
       "      <th>Burglary</th>\n",
       "      <th>Larceny-\n",
       "theft</th>\n",
       "      <th>Motor\n",
       "vehicle\n",
       "theft</th>\n",
       "      <th>Arson</th>\n",
       "    </tr>\n",
       "    <tr>\n",
       "      <th>State</th>\n",
       "      <th></th>\n",
       "      <th></th>\n",
       "      <th></th>\n",
       "      <th></th>\n",
       "      <th></th>\n",
       "      <th></th>\n",
       "      <th></th>\n",
       "      <th></th>\n",
       "      <th></th>\n",
       "      <th></th>\n",
       "      <th></th>\n",
       "    </tr>\n",
       "  </thead>\n",
       "  <tbody>\n",
       "    <tr>\n",
       "      <th>Adelanto</th>\n",
       "      <td>33693.0</td>\n",
       "      <td>238.0</td>\n",
       "      <td>2.0</td>\n",
       "      <td>28.0</td>\n",
       "      <td>48.0</td>\n",
       "      <td>160.0</td>\n",
       "      <td>578.0</td>\n",
       "      <td>190.0</td>\n",
       "      <td>290.0</td>\n",
       "      <td>98.0</td>\n",
       "      <td>13.0</td>\n",
       "    </tr>\n",
       "    <tr>\n",
       "      <th>Agoura Hills</th>\n",
       "      <td>20814.0</td>\n",
       "      <td>16.0</td>\n",
       "      <td>0.0</td>\n",
       "      <td>2.0</td>\n",
       "      <td>4.0</td>\n",
       "      <td>10.0</td>\n",
       "      <td>278.0</td>\n",
       "      <td>71.0</td>\n",
       "      <td>187.0</td>\n",
       "      <td>20.0</td>\n",
       "      <td>4.0</td>\n",
       "    </tr>\n",
       "    <tr>\n",
       "      <th>Alameda</th>\n",
       "      <td>79761.0</td>\n",
       "      <td>253.0</td>\n",
       "      <td>0.0</td>\n",
       "      <td>16.0</td>\n",
       "      <td>133.0</td>\n",
       "      <td>104.0</td>\n",
       "      <td>2347.0</td>\n",
       "      <td>219.0</td>\n",
       "      <td>1725.0</td>\n",
       "      <td>403.0</td>\n",
       "      <td>25.0</td>\n",
       "    </tr>\n",
       "    <tr>\n",
       "      <th>Albany</th>\n",
       "      <td>19880.0</td>\n",
       "      <td>36.0</td>\n",
       "      <td>0.0</td>\n",
       "      <td>1.0</td>\n",
       "      <td>28.0</td>\n",
       "      <td>7.0</td>\n",
       "      <td>523.0</td>\n",
       "      <td>77.0</td>\n",
       "      <td>383.0</td>\n",
       "      <td>63.0</td>\n",
       "      <td>3.0</td>\n",
       "    </tr>\n",
       "    <tr>\n",
       "      <th>Alhambra</th>\n",
       "      <td>85865.0</td>\n",
       "      <td>172.0</td>\n",
       "      <td>4.0</td>\n",
       "      <td>17.0</td>\n",
       "      <td>89.0</td>\n",
       "      <td>62.0</td>\n",
       "      <td>1877.0</td>\n",
       "      <td>363.0</td>\n",
       "      <td>1244.0</td>\n",
       "      <td>270.0</td>\n",
       "      <td>12.0</td>\n",
       "    </tr>\n",
       "  </tbody>\n",
       "</table>\n",
       "</div>"
      ],
      "text/plain": [
       "              Population  Violent\\ncrime  \\\n",
       "State                                      \n",
       "Adelanto         33693.0           238.0   \n",
       "Agoura Hills     20814.0            16.0   \n",
       "Alameda          79761.0           253.0   \n",
       "Albany           19880.0            36.0   \n",
       "Alhambra         85865.0           172.0   \n",
       "\n",
       "              Murder and\\nnonnegligent\\nmanslaughter  Rape1  Robbery  \\\n",
       "State                                                                  \n",
       "Adelanto                                         2.0   28.0     48.0   \n",
       "Agoura Hills                                     0.0    2.0      4.0   \n",
       "Alameda                                          0.0   16.0    133.0   \n",
       "Albany                                           0.0    1.0     28.0   \n",
       "Alhambra                                         4.0   17.0     89.0   \n",
       "\n",
       "              Aggravated\\nassault  Property\\ncrime  Burglary  Larceny-\\ntheft  \\\n",
       "State                                                                           \n",
       "Adelanto                    160.0            578.0     190.0            290.0   \n",
       "Agoura Hills                 10.0            278.0      71.0            187.0   \n",
       "Alameda                     104.0           2347.0     219.0           1725.0   \n",
       "Albany                        7.0            523.0      77.0            383.0   \n",
       "Alhambra                     62.0           1877.0     363.0           1244.0   \n",
       "\n",
       "              Motor\\nvehicle\\ntheft  Arson  \n",
       "State                                       \n",
       "Adelanto                       98.0   13.0  \n",
       "Agoura Hills                   20.0    4.0  \n",
       "Alameda                       403.0   25.0  \n",
       "Albany                         63.0    3.0  \n",
       "Alhambra                      270.0   12.0  "
      ]
     },
     "execution_count": 102,
     "metadata": {},
     "output_type": "execute_result"
    }
   ],
   "source": [
    "# California crime data from 2017\n",
    "\n",
    "df = pd.read_excel('california.xls', skiprows=4, index_col='State') #skipping first 4 rows of metadata\n",
    "df.head()"
   ]
  },
  {
   "cell_type": "code",
   "execution_count": 103,
   "metadata": {},
   "outputs": [
    {
     "data": {
      "text/plain": [
       "Index(['Population', 'Violent\\ncrime',\n",
       "       'Murder and\\nnonnegligent\\nmanslaughter', 'Rape1', 'Robbery',\n",
       "       'Aggravated\\nassault', 'Property\\ncrime', 'Burglary', 'Larceny-\\ntheft',\n",
       "       'Motor\\nvehicle\\ntheft', 'Arson'],\n",
       "      dtype='object')"
      ]
     },
     "execution_count": 103,
     "metadata": {},
     "output_type": "execute_result"
    }
   ],
   "source": [
    "df.columns"
   ]
  },
  {
   "cell_type": "code",
   "execution_count": 104,
   "metadata": {},
   "outputs": [],
   "source": [
    "df = df.rename(index=str, columns={'Violent\\ncrime' : 'Violent_crime',\n",
    "                                   'Murder and\\nnonnegligent\\nmanslaughter' : 'Murder',\n",
    "                                   'Rape1': 'Rape', \n",
    "                                   'Aggravated\\nassault': 'Assault', \n",
    "                                   'Property\\ncrime': 'Property_crime',\n",
    "                                   'Larceny-\\ntheft': 'Larceny_theft',\n",
    "                                   'Motor\\nvehicle\\ntheft': 'Motor_theft'})\n",
    "\n",
    "df.index.rename('County', inplace=True)"
   ]
  },
  {
   "cell_type": "code",
   "execution_count": 105,
   "metadata": {},
   "outputs": [
    {
     "data": {
      "text/plain": [
       "(464, 11)"
      ]
     },
     "execution_count": 105,
     "metadata": {},
     "output_type": "execute_result"
    }
   ],
   "source": [
    "df.shape"
   ]
  },
  {
   "cell_type": "code",
   "execution_count": 106,
   "metadata": {
    "scrolled": true
   },
   "outputs": [
    {
     "data": {
      "text/plain": [
       "Population        3\n",
       "Violent_crime     3\n",
       "Murder            3\n",
       "Rape              3\n",
       "Robbery           3\n",
       "Assault           3\n",
       "Property_crime    4\n",
       "Burglary          3\n",
       "Larceny_theft     4\n",
       "Motor_theft       3\n",
       "Arson             3\n",
       "dtype: int64"
      ]
     },
     "execution_count": 106,
     "metadata": {},
     "output_type": "execute_result"
    }
   ],
   "source": [
    "df.isna().sum()"
   ]
  },
  {
   "cell_type": "code",
   "execution_count": 107,
   "metadata": {},
   "outputs": [
    {
     "data": {
      "text/html": [
       "<div>\n",
       "<style scoped>\n",
       "    .dataframe tbody tr th:only-of-type {\n",
       "        vertical-align: middle;\n",
       "    }\n",
       "\n",
       "    .dataframe tbody tr th {\n",
       "        vertical-align: top;\n",
       "    }\n",
       "\n",
       "    .dataframe thead th {\n",
       "        text-align: right;\n",
       "    }\n",
       "</style>\n",
       "<table border=\"1\" class=\"dataframe\">\n",
       "  <thead>\n",
       "    <tr style=\"text-align: right;\">\n",
       "      <th></th>\n",
       "      <th>Population</th>\n",
       "      <th>Violent_crime</th>\n",
       "      <th>Murder</th>\n",
       "      <th>Rape</th>\n",
       "      <th>Robbery</th>\n",
       "      <th>Assault</th>\n",
       "      <th>Property_crime</th>\n",
       "      <th>Burglary</th>\n",
       "      <th>Larceny_theft</th>\n",
       "      <th>Motor_theft</th>\n",
       "      <th>Arson</th>\n",
       "    </tr>\n",
       "    <tr>\n",
       "      <th>County</th>\n",
       "      <th></th>\n",
       "      <th></th>\n",
       "      <th></th>\n",
       "      <th></th>\n",
       "      <th></th>\n",
       "      <th></th>\n",
       "      <th></th>\n",
       "      <th></th>\n",
       "      <th></th>\n",
       "      <th></th>\n",
       "      <th></th>\n",
       "    </tr>\n",
       "  </thead>\n",
       "  <tbody>\n",
       "    <tr>\n",
       "      <th>Yucaipa</th>\n",
       "      <td>53614.0</td>\n",
       "      <td>74.0</td>\n",
       "      <td>0.0</td>\n",
       "      <td>12.0</td>\n",
       "      <td>23.0</td>\n",
       "      <td>39.0</td>\n",
       "      <td>927.0</td>\n",
       "      <td>202.0</td>\n",
       "      <td>590.0</td>\n",
       "      <td>135.0</td>\n",
       "      <td>5.0</td>\n",
       "    </tr>\n",
       "    <tr>\n",
       "      <th>Yucca Valley</th>\n",
       "      <td>21806.0</td>\n",
       "      <td>65.0</td>\n",
       "      <td>0.0</td>\n",
       "      <td>9.0</td>\n",
       "      <td>18.0</td>\n",
       "      <td>38.0</td>\n",
       "      <td>444.0</td>\n",
       "      <td>148.0</td>\n",
       "      <td>244.0</td>\n",
       "      <td>52.0</td>\n",
       "      <td>2.0</td>\n",
       "    </tr>\n",
       "    <tr>\n",
       "      <th>1 The figures shown in this column for the offense of rape were reported using only the revised Uniform Crime Reporting definition of rape. See the data declaration for further explanation.</th>\n",
       "      <td>NaN</td>\n",
       "      <td>NaN</td>\n",
       "      <td>NaN</td>\n",
       "      <td>NaN</td>\n",
       "      <td>NaN</td>\n",
       "      <td>NaN</td>\n",
       "      <td>NaN</td>\n",
       "      <td>NaN</td>\n",
       "      <td>NaN</td>\n",
       "      <td>NaN</td>\n",
       "      <td>NaN</td>\n",
       "    </tr>\n",
       "    <tr>\n",
       "      <th>2 The FBI determined that the agency's data were overreported. Consequently, those data are not included in this table.</th>\n",
       "      <td>NaN</td>\n",
       "      <td>NaN</td>\n",
       "      <td>NaN</td>\n",
       "      <td>NaN</td>\n",
       "      <td>NaN</td>\n",
       "      <td>NaN</td>\n",
       "      <td>NaN</td>\n",
       "      <td>NaN</td>\n",
       "      <td>NaN</td>\n",
       "      <td>NaN</td>\n",
       "      <td>NaN</td>\n",
       "    </tr>\n",
       "    <tr>\n",
       "      <th>3 Because of changes in the state/local agency's reporting practices, figures are not comparable to previous years' data.</th>\n",
       "      <td>NaN</td>\n",
       "      <td>NaN</td>\n",
       "      <td>NaN</td>\n",
       "      <td>NaN</td>\n",
       "      <td>NaN</td>\n",
       "      <td>NaN</td>\n",
       "      <td>NaN</td>\n",
       "      <td>NaN</td>\n",
       "      <td>NaN</td>\n",
       "      <td>NaN</td>\n",
       "      <td>NaN</td>\n",
       "    </tr>\n",
       "  </tbody>\n",
       "</table>\n",
       "</div>"
      ],
      "text/plain": [
       "                                                    Population  Violent_crime  \\\n",
       "County                                                                          \n",
       "Yucaipa                                                53614.0           74.0   \n",
       "Yucca Valley                                           21806.0           65.0   \n",
       "1 The figures shown in this column for the offe...         NaN            NaN   \n",
       "2 The FBI determined that the agency's data wer...         NaN            NaN   \n",
       "3 Because of changes in the state/local agency'...         NaN            NaN   \n",
       "\n",
       "                                                    Murder  Rape  Robbery  \\\n",
       "County                                                                      \n",
       "Yucaipa                                                0.0  12.0     23.0   \n",
       "Yucca Valley                                           0.0   9.0     18.0   \n",
       "1 The figures shown in this column for the offe...     NaN   NaN      NaN   \n",
       "2 The FBI determined that the agency's data wer...     NaN   NaN      NaN   \n",
       "3 Because of changes in the state/local agency'...     NaN   NaN      NaN   \n",
       "\n",
       "                                                    Assault  Property_crime  \\\n",
       "County                                                                        \n",
       "Yucaipa                                                39.0           927.0   \n",
       "Yucca Valley                                           38.0           444.0   \n",
       "1 The figures shown in this column for the offe...      NaN             NaN   \n",
       "2 The FBI determined that the agency's data wer...      NaN             NaN   \n",
       "3 Because of changes in the state/local agency'...      NaN             NaN   \n",
       "\n",
       "                                                    Burglary  Larceny_theft  \\\n",
       "County                                                                        \n",
       "Yucaipa                                                202.0          590.0   \n",
       "Yucca Valley                                           148.0          244.0   \n",
       "1 The figures shown in this column for the offe...       NaN            NaN   \n",
       "2 The FBI determined that the agency's data wer...       NaN            NaN   \n",
       "3 Because of changes in the state/local agency'...       NaN            NaN   \n",
       "\n",
       "                                                    Motor_theft  Arson  \n",
       "County                                                                  \n",
       "Yucaipa                                                   135.0    5.0  \n",
       "Yucca Valley                                               52.0    2.0  \n",
       "1 The figures shown in this column for the offe...          NaN    NaN  \n",
       "2 The FBI determined that the agency's data wer...          NaN    NaN  \n",
       "3 Because of changes in the state/local agency'...          NaN    NaN  "
      ]
     },
     "execution_count": 107,
     "metadata": {},
     "output_type": "execute_result"
    }
   ],
   "source": [
    "df.tail()\n",
    "\n",
    "#for col in df.columns:\n",
    "#    print(df[df[col].isnull()])\n",
    "#    \n",
    "#   # The last three lines are null for every column."
   ]
  },
  {
   "cell_type": "code",
   "execution_count": 108,
   "metadata": {},
   "outputs": [],
   "source": [
    "df = df[:-3]  # removing last three rows with null values"
   ]
  },
  {
   "cell_type": "code",
   "execution_count": 109,
   "metadata": {},
   "outputs": [
    {
     "name": "stdout",
     "output_type": "stream",
     "text": [
      "              Population  Violent_crime  Murder  Rape  Robbery  Assault  \\\n",
      "County                                                                    \n",
      "Yuba City        67042.0          255.0     0.0  23.0     82.0    150.0   \n",
      "Yucaipa          53614.0           74.0     0.0  12.0     23.0     39.0   \n",
      "Yucca Valley     21806.0           65.0     0.0   9.0     18.0     38.0   \n",
      "\n",
      "              Property_crime  Burglary  Larceny_theft  Motor_theft  Arson  \n",
      "County                                                                     \n",
      "Yuba City             2207.0     380.0         1448.0        379.0   15.0  \n",
      "Yucaipa                927.0     202.0          590.0        135.0    5.0  \n",
      "Yucca Valley           444.0     148.0          244.0         52.0    2.0  \n"
     ]
    },
    {
     "data": {
      "text/plain": [
       "Population        0\n",
       "Violent_crime     0\n",
       "Murder            0\n",
       "Rape              0\n",
       "Robbery           0\n",
       "Assault           0\n",
       "Property_crime    1\n",
       "Burglary          0\n",
       "Larceny_theft     1\n",
       "Motor_theft       0\n",
       "Arson             0\n",
       "dtype: int64"
      ]
     },
     "execution_count": 109,
     "metadata": {},
     "output_type": "execute_result"
    }
   ],
   "source": [
    "print(df.tail(3))\n",
    "df.isna().sum()"
   ]
  },
  {
   "cell_type": "code",
   "execution_count": 110,
   "metadata": {
    "scrolled": true
   },
   "outputs": [
    {
     "data": {
      "text/html": [
       "<div>\n",
       "<style scoped>\n",
       "    .dataframe tbody tr th:only-of-type {\n",
       "        vertical-align: middle;\n",
       "    }\n",
       "\n",
       "    .dataframe tbody tr th {\n",
       "        vertical-align: top;\n",
       "    }\n",
       "\n",
       "    .dataframe thead th {\n",
       "        text-align: right;\n",
       "    }\n",
       "</style>\n",
       "<table border=\"1\" class=\"dataframe\">\n",
       "  <thead>\n",
       "    <tr style=\"text-align: right;\">\n",
       "      <th></th>\n",
       "      <th>Population</th>\n",
       "      <th>Violent_crime</th>\n",
       "      <th>Murder</th>\n",
       "      <th>Rape</th>\n",
       "      <th>Robbery</th>\n",
       "      <th>Assault</th>\n",
       "      <th>Property_crime</th>\n",
       "      <th>Burglary</th>\n",
       "      <th>Larceny_theft</th>\n",
       "      <th>Motor_theft</th>\n",
       "      <th>Arson</th>\n",
       "    </tr>\n",
       "  </thead>\n",
       "  <tbody>\n",
       "    <tr>\n",
       "      <th>count</th>\n",
       "      <td>4.610000e+02</td>\n",
       "      <td>461.000000</td>\n",
       "      <td>461.000000</td>\n",
       "      <td>461.000000</td>\n",
       "      <td>461.000000</td>\n",
       "      <td>461.000000</td>\n",
       "      <td>460.000000</td>\n",
       "      <td>461.000000</td>\n",
       "      <td>460.000000</td>\n",
       "      <td>461.000000</td>\n",
       "      <td>461.000000</td>\n",
       "    </tr>\n",
       "    <tr>\n",
       "      <th>mean</th>\n",
       "      <td>7.124899e+04</td>\n",
       "      <td>321.605206</td>\n",
       "      <td>3.184382</td>\n",
       "      <td>27.073753</td>\n",
       "      <td>110.436009</td>\n",
       "      <td>180.911063</td>\n",
       "      <td>1862.060870</td>\n",
       "      <td>318.091106</td>\n",
       "      <td>1231.417391</td>\n",
       "      <td>311.314534</td>\n",
       "      <td>15.503254</td>\n",
       "    </tr>\n",
       "    <tr>\n",
       "      <th>std</th>\n",
       "      <td>2.150399e+05</td>\n",
       "      <td>1545.676597</td>\n",
       "      <td>14.851975</td>\n",
       "      <td>124.356076</td>\n",
       "      <td>559.698252</td>\n",
       "      <td>856.083620</td>\n",
       "      <td>5979.033721</td>\n",
       "      <td>924.754478</td>\n",
       "      <td>4055.402225</td>\n",
       "      <td>1101.892752</td>\n",
       "      <td>72.627927</td>\n",
       "    </tr>\n",
       "    <tr>\n",
       "      <th>min</th>\n",
       "      <td>1.130000e+02</td>\n",
       "      <td>0.000000</td>\n",
       "      <td>0.000000</td>\n",
       "      <td>0.000000</td>\n",
       "      <td>0.000000</td>\n",
       "      <td>0.000000</td>\n",
       "      <td>1.000000</td>\n",
       "      <td>0.000000</td>\n",
       "      <td>0.000000</td>\n",
       "      <td>0.000000</td>\n",
       "      <td>0.000000</td>\n",
       "    </tr>\n",
       "    <tr>\n",
       "      <th>25%</th>\n",
       "      <td>1.221000e+04</td>\n",
       "      <td>33.000000</td>\n",
       "      <td>0.000000</td>\n",
       "      <td>3.000000</td>\n",
       "      <td>6.000000</td>\n",
       "      <td>19.000000</td>\n",
       "      <td>245.000000</td>\n",
       "      <td>55.000000</td>\n",
       "      <td>152.000000</td>\n",
       "      <td>26.000000</td>\n",
       "      <td>1.000000</td>\n",
       "    </tr>\n",
       "    <tr>\n",
       "      <th>50%</th>\n",
       "      <td>3.369300e+04</td>\n",
       "      <td>91.000000</td>\n",
       "      <td>1.000000</td>\n",
       "      <td>8.000000</td>\n",
       "      <td>23.000000</td>\n",
       "      <td>52.000000</td>\n",
       "      <td>697.000000</td>\n",
       "      <td>136.000000</td>\n",
       "      <td>477.000000</td>\n",
       "      <td>87.000000</td>\n",
       "      <td>4.000000</td>\n",
       "    </tr>\n",
       "    <tr>\n",
       "      <th>75%</th>\n",
       "      <td>7.632500e+04</td>\n",
       "      <td>234.000000</td>\n",
       "      <td>2.000000</td>\n",
       "      <td>20.000000</td>\n",
       "      <td>77.000000</td>\n",
       "      <td>131.000000</td>\n",
       "      <td>1817.500000</td>\n",
       "      <td>323.000000</td>\n",
       "      <td>1230.250000</td>\n",
       "      <td>273.000000</td>\n",
       "      <td>11.000000</td>\n",
       "    </tr>\n",
       "    <tr>\n",
       "      <th>max</th>\n",
       "      <td>4.007147e+06</td>\n",
       "      <td>30507.000000</td>\n",
       "      <td>281.000000</td>\n",
       "      <td>2455.000000</td>\n",
       "      <td>10814.000000</td>\n",
       "      <td>16957.000000</td>\n",
       "      <td>101618.000000</td>\n",
       "      <td>16668.000000</td>\n",
       "      <td>65757.000000</td>\n",
       "      <td>19193.000000</td>\n",
       "      <td>1414.000000</td>\n",
       "    </tr>\n",
       "  </tbody>\n",
       "</table>\n",
       "</div>"
      ],
      "text/plain": [
       "         Population  Violent_crime      Murder         Rape       Robbery  \\\n",
       "count  4.610000e+02     461.000000  461.000000   461.000000    461.000000   \n",
       "mean   7.124899e+04     321.605206    3.184382    27.073753    110.436009   \n",
       "std    2.150399e+05    1545.676597   14.851975   124.356076    559.698252   \n",
       "min    1.130000e+02       0.000000    0.000000     0.000000      0.000000   \n",
       "25%    1.221000e+04      33.000000    0.000000     3.000000      6.000000   \n",
       "50%    3.369300e+04      91.000000    1.000000     8.000000     23.000000   \n",
       "75%    7.632500e+04     234.000000    2.000000    20.000000     77.000000   \n",
       "max    4.007147e+06   30507.000000  281.000000  2455.000000  10814.000000   \n",
       "\n",
       "            Assault  Property_crime      Burglary  Larceny_theft  \\\n",
       "count    461.000000      460.000000    461.000000     460.000000   \n",
       "mean     180.911063     1862.060870    318.091106    1231.417391   \n",
       "std      856.083620     5979.033721    924.754478    4055.402225   \n",
       "min        0.000000        1.000000      0.000000       0.000000   \n",
       "25%       19.000000      245.000000     55.000000     152.000000   \n",
       "50%       52.000000      697.000000    136.000000     477.000000   \n",
       "75%      131.000000     1817.500000    323.000000    1230.250000   \n",
       "max    16957.000000   101618.000000  16668.000000   65757.000000   \n",
       "\n",
       "        Motor_theft        Arson  \n",
       "count    461.000000   461.000000  \n",
       "mean     311.314534    15.503254  \n",
       "std     1101.892752    72.627927  \n",
       "min        0.000000     0.000000  \n",
       "25%       26.000000     1.000000  \n",
       "50%       87.000000     4.000000  \n",
       "75%      273.000000    11.000000  \n",
       "max    19193.000000  1414.000000  "
      ]
     },
     "execution_count": 110,
     "metadata": {},
     "output_type": "execute_result"
    }
   ],
   "source": [
    "df.describe()\n",
    "\n",
    "# all quantitative values "
   ]
  },
  {
   "cell_type": "code",
   "execution_count": 111,
   "metadata": {},
   "outputs": [
    {
     "data": {
      "text/html": [
       "<div>\n",
       "<style scoped>\n",
       "    .dataframe tbody tr th:only-of-type {\n",
       "        vertical-align: middle;\n",
       "    }\n",
       "\n",
       "    .dataframe tbody tr th {\n",
       "        vertical-align: top;\n",
       "    }\n",
       "\n",
       "    .dataframe thead th {\n",
       "        text-align: right;\n",
       "    }\n",
       "</style>\n",
       "<table border=\"1\" class=\"dataframe\">\n",
       "  <thead>\n",
       "    <tr style=\"text-align: right;\">\n",
       "      <th></th>\n",
       "      <th>Violent_crime</th>\n",
       "      <th>Murder</th>\n",
       "      <th>Rape</th>\n",
       "      <th>Robbery</th>\n",
       "      <th>Assault</th>\n",
       "      <th>Burglary</th>\n",
       "      <th>Motor_theft</th>\n",
       "      <th>Arson</th>\n",
       "    </tr>\n",
       "    <tr>\n",
       "      <th>County</th>\n",
       "      <th></th>\n",
       "      <th></th>\n",
       "      <th></th>\n",
       "      <th></th>\n",
       "      <th></th>\n",
       "      <th></th>\n",
       "      <th></th>\n",
       "      <th></th>\n",
       "    </tr>\n",
       "  </thead>\n",
       "  <tbody>\n",
       "    <tr>\n",
       "      <th>Los Angeles</th>\n",
       "      <td>30507.0</td>\n",
       "      <td>281.0</td>\n",
       "      <td>2455.0</td>\n",
       "      <td>10814.0</td>\n",
       "      <td>16957.0</td>\n",
       "      <td>16668.0</td>\n",
       "      <td>19193.0</td>\n",
       "      <td>1414.0</td>\n",
       "    </tr>\n",
       "    <tr>\n",
       "      <th>San Diego</th>\n",
       "      <td>5221.0</td>\n",
       "      <td>35.0</td>\n",
       "      <td>559.0</td>\n",
       "      <td>1410.0</td>\n",
       "      <td>3217.0</td>\n",
       "      <td>3817.0</td>\n",
       "      <td>5135.0</td>\n",
       "      <td>158.0</td>\n",
       "    </tr>\n",
       "    <tr>\n",
       "      <th>San Jose</th>\n",
       "      <td>4188.0</td>\n",
       "      <td>32.0</td>\n",
       "      <td>571.0</td>\n",
       "      <td>1376.0</td>\n",
       "      <td>2209.0</td>\n",
       "      <td>3926.0</td>\n",
       "      <td>8068.0</td>\n",
       "      <td>173.0</td>\n",
       "    </tr>\n",
       "    <tr>\n",
       "      <th>San Francisco</th>\n",
       "      <td>6301.0</td>\n",
       "      <td>56.0</td>\n",
       "      <td>367.0</td>\n",
       "      <td>3220.0</td>\n",
       "      <td>2658.0</td>\n",
       "      <td>4935.0</td>\n",
       "      <td>4834.0</td>\n",
       "      <td>303.0</td>\n",
       "    </tr>\n",
       "    <tr>\n",
       "      <th>Fresno</th>\n",
       "      <td>2974.0</td>\n",
       "      <td>56.0</td>\n",
       "      <td>174.0</td>\n",
       "      <td>958.0</td>\n",
       "      <td>1786.0</td>\n",
       "      <td>3649.0</td>\n",
       "      <td>2789.0</td>\n",
       "      <td>217.0</td>\n",
       "    </tr>\n",
       "  </tbody>\n",
       "</table>\n",
       "</div>"
      ],
      "text/plain": [
       "               Violent_crime  Murder    Rape  Robbery  Assault  Burglary  \\\n",
       "County                                                                     \n",
       "Los Angeles          30507.0   281.0  2455.0  10814.0  16957.0   16668.0   \n",
       "San Diego             5221.0    35.0   559.0   1410.0   3217.0    3817.0   \n",
       "San Jose              4188.0    32.0   571.0   1376.0   2209.0    3926.0   \n",
       "San Francisco         6301.0    56.0   367.0   3220.0   2658.0    4935.0   \n",
       "Fresno                2974.0    56.0   174.0    958.0   1786.0    3649.0   \n",
       "\n",
       "               Motor_theft   Arson  \n",
       "County                              \n",
       "Los Angeles        19193.0  1414.0  \n",
       "San Diego           5135.0   158.0  \n",
       "San Jose            8068.0   173.0  \n",
       "San Francisco       4834.0   303.0  \n",
       "Fresno              2789.0   217.0  "
      ]
     },
     "execution_count": 111,
     "metadata": {},
     "output_type": "execute_result"
    }
   ],
   "source": [
    "# A different take on the visualizations \n",
    "\n",
    "# Selecting top 5 most populated cities to compare \n",
    "\n",
    "df.sort_values('Population',ascending=False) # LA, SD, SJ, SF and Fresno  \n",
    "\n",
    "df_top5 = df.sort_values('Population', ascending=False)[:5]\n",
    "\n",
    "#df_top5.head()\n",
    "\n",
    "crime_in_top5 = df_top5[['Violent_crime', 'Murder', 'Rape', 'Robbery', 'Assault',\n",
    "        'Burglary', 'Motor_theft', 'Arson']]\n",
    "crime_in_top5.head()"
   ]
  },
  {
   "cell_type": "code",
   "execution_count": 112,
   "metadata": {},
   "outputs": [
    {
     "data": {
      "text/plain": [
       "Population        4007147.0\n",
       "Property_crime     101618.0\n",
       "Larceny_theft       65757.0\n",
       "Violent_crime       30507.0\n",
       "Motor_theft         19193.0\n",
       "Assault             16957.0\n",
       "Burglary            16668.0\n",
       "Robbery             10814.0\n",
       "Rape                 2455.0\n",
       "Arson                1414.0\n",
       "Murder                281.0\n",
       "Name: Los Angeles, dtype: float64"
      ]
     },
     "execution_count": 112,
     "metadata": {},
     "output_type": "execute_result"
    }
   ],
   "source": [
    "# Most common crimes in Los Angeles\n",
    "\n",
    "df_top5.loc['Los Angeles',: ].sort_values(ascending=False)"
   ]
  },
  {
   "cell_type": "code",
   "execution_count": 113,
   "metadata": {},
   "outputs": [
    {
     "data": {
      "image/png": "[encoded data removed]",
      "text/plain": [
       "<Figure size 864x576 with 1 Axes>"
      ]
     },
     "metadata": {},
     "output_type": "display_data"
    }
   ],
   "source": [
    "plt.figure(figsize=(12,8))\n",
    "# set width of bar\n",
    "barWidth = 0.15\n",
    "\n",
    "# Set position of bar on X axis\n",
    "\n",
    "# set height of bar\n",
    "bars1 = df_top5.Property_crime\n",
    "bars2 = df_top5.Larceny_theft\n",
    "bars3 = df_top5.Violent_crime\n",
    "bars4 = df_top5.Motor_theft\n",
    "bars5 = df_top5.Assault\n",
    "bars6 = df_top5.Burglary\n",
    " \n",
    "# Set position of bar on X axis\n",
    "r1 = np.arange(len(bars1))\n",
    "r2 = [x + barWidth for x in r1]\n",
    "r3 = [x + barWidth for x in r2]\n",
    "r4 = [x + barWidth for x in r3]\n",
    "r5 = [x + barWidth for x in r4]\n",
    "r6 = [x + barWidth for x in r5]\n",
    "\n",
    "# Make the plot\n",
    "plt.bar(r1, bars1,  width=barWidth, edgecolor='white', label='Property crime')\n",
    "plt.bar(r2, bars2,  width=barWidth, edgecolor='white', label='Larceny theft')\n",
    "plt.bar(r3, bars3, width=barWidth, edgecolor='white', label='Violent crime')\n",
    "plt.bar(r4, bars4, width=barWidth, edgecolor='white', label='Motor theft')\n",
    "plt.bar(r5, bars5, width=barWidth, edgecolor='white', label='Assault')\n",
    "plt.bar(r6, bars6, width=barWidth, edgecolor='white', label='Burglary')\n",
    " \n",
    "# Add xticks on the middle of the group bars\n",
    "plt.xlabel('Counties', fontweight='bold')\n",
    "plt.ylabel('Counts of crimes', fontweight='bold')\n",
    "plt.xticks([r + barWidth*2 for r in range(len(bars1))], ['Los Angeles', 'San Diego', 'San Jose', 'San Francisco', 'Fresno'])\n",
    " \n",
    "# Create legend & Show graphic\n",
    "plt.legend()\n",
    "plt.show()\n",
    "\n",
    "\n",
    "# San Diego is quite safe given the second most populated cities. "
   ]
  },
  {
   "cell_type": "code",
   "execution_count": 114,
   "metadata": {
    "scrolled": false
   },
   "outputs": [
    {
     "data": {
      "text/plain": [
       "(0, 4500)"
      ]
     },
     "execution_count": 114,
     "metadata": {},
     "output_type": "execute_result"
    },
    {
     "data": {
      "image/png": "[encoded data removed]",
      "text/plain": [
       "<Figure size 1296x576 with 1 Axes>"
      ]
     },
     "metadata": {},
     "output_type": "display_data"
    }
   ],
   "source": [
    "#Back to the main track \n",
    "\n",
    "plt.figure(figsize=(18,8))\n",
    "sns.boxplot(data=df, palette='Set2')\n",
    "# due to outliers in the 'Property_crime' and 'Larceny_theft' the visualization are not clear. \n",
    "\n",
    "plt.ylim(0,4500)\n",
    "# We see that property crime is the most common type of crime, followed by larceny_theft. \n",
    "# Another visualization without these two common crime types. \n",
    "\n"
   ]
  },
  {
   "cell_type": "code",
   "execution_count": 115,
   "metadata": {},
   "outputs": [
    {
     "data": {
      "image/png": "[encoded data removed]",
      "text/plain": [
       "<Figure size 1296x576 with 1 Axes>"
      ]
     },
     "metadata": {},
     "output_type": "display_data"
    }
   ],
   "source": [
    "# Without 'Property_crime' and 'Larceny_theft'\n",
    "\n",
    "plt.figure(figsize=(18,8))\n",
    "sns.boxplot(data=df[['Violent_crime', 'Murder', 'Rape', 'Robbery', 'Assault',\n",
    "        'Burglary', 'Motor_theft', 'Arson']], palette='Set2')\n",
    "#plt.ylim(0,1000)\n",
    "plt.show()\n",
    "\n",
    "# Still there are a lot of outliers for each attribute. "
   ]
  },
  {
   "cell_type": "code",
   "execution_count": 116,
   "metadata": {},
   "outputs": [
    {
     "name": "stderr",
     "output_type": "stream",
     "text": [
      "/Library/Frameworks/Python.framework/Versions/3.6/lib/python3.6/site-packages/scipy/stats/stats.py:1713: FutureWarning: Using a non-tuple sequence for multidimensional indexing is deprecated; use `arr[tuple(seq)]` instead of `arr[seq]`. In the future this will be interpreted as an array index, `arr[np.array(seq)]`, which will result either in an error or a different result.\n",
      "  return np.add.reduce(sorted[indexer] * weights, axis=axis) / sumval\n"
     ]
    },
    {
     "data": {
      "text/plain": [
       "<matplotlib.axes._subplots.AxesSubplot at 0x11fb01f60>"
      ]
     },
     "execution_count": 116,
     "metadata": {},
     "output_type": "execute_result"
    },
    {
     "data": {
      "image/png": "[encoded data removed]",
      "text/plain": [
       "<Figure size 576x576 with 4 Axes>"
      ]
     },
     "metadata": {},
     "output_type": "display_data"
    }
   ],
   "source": [
    "# plot\n",
    "f, axes = plt.subplots(2, 2, figsize=(8, 8), sharex=True)\n",
    "sns.distplot( df[\"Burglary\"] , color=\"skyblue\", ax=axes[0, 0])\n",
    "sns.distplot( df[\"Motor_theft\"] , color=\"olive\", ax=axes[0, 1])\n",
    "sns.distplot( df[\"Robbery\"] , color=\"gold\", ax=axes[1, 0])\n",
    "sns.distplot( df[\"Arson\"] , color=\"teal\", ax=axes[1, 1])\n"
   ]
  },
  {
   "cell_type": "code",
   "execution_count": 117,
   "metadata": {},
   "outputs": [],
   "source": [
    "#for col in df.columns:\n",
    "#    if df[col].name == 'Population':\n",
    "#        print(df[col])"
   ]
  },
  {
   "cell_type": "code",
   "execution_count": 118,
   "metadata": {},
   "outputs": [],
   "source": [
    "# Normalizing the outliers \n",
    "\n",
    "# Winsorizing the outliers. Outliers in the both ends are substituted with a quantile value given by the function \n",
    "# The (limits[0])th lowest values are set to the (limits[0])th percentile, and the (limits[1])th highest values are set to the (limits[1])th percentile. \n",
    "\n",
    "# Winsorizing all except population\n",
    "import scipy\n",
    "from scipy import stats\n",
    "\n",
    "for col in df.columns:\n",
    "    if df[col].name == 'Population':\n",
    "        df[col] = df[col]\n",
    "    else:\n",
    "        df[col] = scipy.stats.mstats.winsorize(df[col], limits=[0,0.03])  # .97 quantile\n"
   ]
  },
  {
   "cell_type": "code",
   "execution_count": 121,
   "metadata": {},
   "outputs": [
    {
     "data": {
      "image/png": "[encoded data removed]",
      "text/plain": [
       "<Figure size 1296x576 with 1 Axes>"
      ]
     },
     "metadata": {},
     "output_type": "display_data"
    },
    {
     "name": "stderr",
     "output_type": "stream",
     "text": [
      "/Library/Frameworks/Python.framework/Versions/3.6/lib/python3.6/site-packages/scipy/stats/stats.py:1713: FutureWarning: Using a non-tuple sequence for multidimensional indexing is deprecated; use `arr[tuple(seq)]` instead of `arr[seq]`. In the future this will be interpreted as an array index, `arr[np.array(seq)]`, which will result either in an error or a different result.\n",
      "  return np.add.reduce(sorted[indexer] * weights, axis=axis) / sumval\n"
     ]
    },
    {
     "data": {
      "text/plain": [
       "<matplotlib.axes._subplots.AxesSubplot at 0x120590400>"
      ]
     },
     "execution_count": 121,
     "metadata": {},
     "output_type": "execute_result"
    },
    {
     "data": {
      "image/png": "[encoded data removed]",
      "text/plain": [
       "<Figure size 576x576 with 4 Axes>"
      ]
     },
     "metadata": {},
     "output_type": "display_data"
    }
   ],
   "source": [
    "# Distributions look much better\n",
    "\n",
    "plt.figure(figsize=(18,8))\n",
    "sns.boxplot(data=df[['Violent_crime', 'Murder', 'Rape', 'Robbery', 'Assault',\n",
    "        'Burglary', 'Motor_theft', 'Arson']], palette='Set2')\n",
    "plt.show()\n",
    "\n",
    "f, axes = plt.subplots(2, 2, figsize=(8, 8), sharex=True)\n",
    "sns.distplot( df[\"Burglary\"] , color=\"skyblue\", ax=axes[0, 0])\n",
    "sns.distplot( df[\"Motor_theft\"] , color=\"olive\", ax=axes[0, 1])\n",
    "sns.distplot( df[\"Robbery\"] , color=\"gold\", ax=axes[1, 0])\n",
    "sns.distplot( df[\"Arson\"] , color=\"teal\", ax=axes[1, 1])\n"
   ]
  },
  {
   "cell_type": "code",
   "execution_count": 20,
   "metadata": {
    "scrolled": false
   },
   "outputs": [],
   "source": [
    "# make comparative barplots - for loop that didn;t work\n",
    "\n",
    "#def make_bar(df, col):\n",
    "#\n",
    "#    # set width of bar\n",
    "#    barWidth = 0.25\n",
    "#\n",
    "#    # set height of bar\n",
    "#    bar = df[col]\n",
    "#     \n",
    "#    # Set position of bar on X axis\n",
    "#    #r = int(input(\"How many rows: \"))\n",
    "#    r = len(col)\n",
    "#    rs = []\n",
    "#    for r in np.arange(r):\n",
    "#        row = [x + barWidth for x in r1]\n",
    "#        rs.append(row)\n",
    "#        \n"
   ]
  },
  {
   "cell_type": "code",
   "execution_count": 122,
   "metadata": {},
   "outputs": [
    {
     "data": {
      "text/plain": [
       "<matplotlib.axes._subplots.AxesSubplot at 0x1206f4ac8>"
      ]
     },
     "execution_count": 122,
     "metadata": {},
     "output_type": "execute_result"
    },
    {
     "data": {
      "image/png": "[encoded data removed]",
      "text/plain": [
       "<Figure size 576x576 with 2 Axes>"
      ]
     },
     "metadata": {},
     "output_type": "display_data"
    }
   ],
   "source": [
    "plt.figure(figsize=(8,8))\n",
    "sns.heatmap(df.corr(), cmap='BuPu', annot=True, square=True)"
   ]
  },
  {
   "cell_type": "markdown",
   "metadata": {},
   "source": [
    "Looking at the correlation plot, we see there is high multicollinearity in the data. For example, 'Violent_crime' is highly correlated (r > .95) with 'Robbery' and 'Assault'. 'Property_crime' is highly correlated with 'Larceny_theft'. Highly cprrelated variables must be removed from the model. But first, let's choose a response variable.\n",
    "\n",
    "__Property crime as the response variable__\n",
    "\n",
    "According to the FBI's Uniform Crime Reporting [(here)](https://ucr.fbi.gov/crime-in-the-u.s/2013/crime-in-the-u.s.-2013/property-crime/property-crime-topic-page/propertycrimemain_final), property crime includes the offenses of burglary, larceny-theft, motor vehicle theft, and arson. The object of the theft-type offenses is the taking of money or property, but there is no force or threat of force against the victims. The property crime category includes arson because the offense involves the destruction of property; however, arson victims may be subjected to force. Therefore, it is expected that the property crime will be highly correlated with these variables. \n",
    "\n",
    "Hence, we define that __Property crime__ as the following function:\n",
    "\n",
    "$$ Property Crime = \\alpha + Burglary + LarcenyTheft + MotorTheft + Arson $$\n",
    "\n",
    "Multicollinearity with __Violent_crime__: \n",
    "\n",
    "- We need to remove multicollinear variables\n",
    "\n",
    "- Create new features that are not highly multicollinear. \n",
    "\n",
    "But first, let's run a logistic regression model to see what it the default accuracy in the dataset. "
   ]
  },
  {
   "cell_type": "code",
   "execution_count": 123,
   "metadata": {},
   "outputs": [
    {
     "data": {
      "text/plain": [
       "count     461.000000\n",
       "mean     1388.422993\n",
       "std      1777.012972\n",
       "min         1.000000\n",
       "25%       246.000000\n",
       "50%       705.000000\n",
       "75%      1819.000000\n",
       "max      8465.000000\n",
       "Name: Property_crime, dtype: float64"
      ]
     },
     "execution_count": 123,
     "metadata": {},
     "output_type": "execute_result"
    }
   ],
   "source": [
    "# Creating y\n",
    "\n",
    "df.Property_crime.isna().sum()  # one null value\n",
    "df['Property_crime'] = df['Property_crime'].fillna(df['Property_crime'].mean())\n",
    "\n",
    "df.Property_crime.describe()"
   ]
  },
  {
   "cell_type": "code",
   "execution_count": 124,
   "metadata": {},
   "outputs": [
    {
     "data": {
      "image/png": "[encoded data removed]",
      "text/plain": [
       "<Figure size 432x288 with 1 Axes>"
      ]
     },
     "metadata": {},
     "output_type": "display_data"
    },
    {
     "name": "stderr",
     "output_type": "stream",
     "text": [
      "/Library/Frameworks/Python.framework/Versions/3.6/lib/python3.6/site-packages/scipy/stats/stats.py:1713: FutureWarning: Using a non-tuple sequence for multidimensional indexing is deprecated; use `arr[tuple(seq)]` instead of `arr[seq]`. In the future this will be interpreted as an array index, `arr[np.array(seq)]`, which will result either in an error or a different result.\n",
      "  return np.add.reduce(sorted[indexer] * weights, axis=axis) / sumval\n"
     ]
    },
    {
     "data": {
      "text/plain": [
       "<matplotlib.axes._subplots.AxesSubplot at 0x11d9546d8>"
      ]
     },
     "execution_count": 124,
     "metadata": {},
     "output_type": "execute_result"
    },
    {
     "data": {
      "image/png": "[encoded data removed]",
      "text/plain": [
       "<Figure size 432x288 with 1 Axes>"
      ]
     },
     "metadata": {},
     "output_type": "display_data"
    }
   ],
   "source": [
    "sns.boxplot(data=df.Property_crime)\n",
    "plt.show()\n",
    "\n",
    "sns.distplot(df.Property_crime)"
   ]
  },
  {
   "cell_type": "code",
   "execution_count": 135,
   "metadata": {},
   "outputs": [
    {
     "data": {
      "text/plain": [
       "0    231\n",
       "1    230\n",
       "Name: y, dtype: int64"
      ]
     },
     "execution_count": 135,
     "metadata": {},
     "output_type": "execute_result"
    }
   ],
   "source": [
    "df['y'] = np.where(df.Property_crime > df.Property_crime.median(), 1, 0)\n",
    "df.y.value_counts() #0-300, 1-161 with mean, 231, 230 for median \n",
    "\n",
    "# This is a reasonable critoerion, however, - "
   ]
  },
  {
   "cell_type": "code",
   "execution_count": 138,
   "metadata": {},
   "outputs": [
    {
     "name": "stderr",
     "output_type": "stream",
     "text": [
      "/Library/Frameworks/Python.framework/Versions/3.6/lib/python3.6/site-packages/scipy/stats/stats.py:1713: FutureWarning: Using a non-tuple sequence for multidimensional indexing is deprecated; use `arr[tuple(seq)]` instead of `arr[seq]`. In the future this will be interpreted as an array index, `arr[np.array(seq)]`, which will result either in an error or a different result.\n",
      "  return np.add.reduce(sorted[indexer] * weights, axis=axis) / sumval\n"
     ]
    },
    {
     "data": {
      "text/plain": [
       "<matplotlib.axes._subplots.AxesSubplot at 0x120ad1da0>"
      ]
     },
     "execution_count": 138,
     "metadata": {},
     "output_type": "execute_result"
    },
    {
     "data": {
      "image/png": "[encoded data removed]",
      "text/plain": [
       "<Figure size 432x288 with 1 Axes>"
      ]
     },
     "metadata": {},
     "output_type": "display_data"
    }
   ],
   "source": [
    "sns.distplot(df.y)"
   ]
  },
  {
   "cell_type": "code",
   "execution_count": null,
   "metadata": {},
   "outputs": [],
   "source": []
  },
  {
   "cell_type": "code",
   "execution_count": 146,
   "metadata": {
    "scrolled": true
   },
   "outputs": [
    {
     "name": "stdout",
     "output_type": "stream",
     "text": [
      "Coefficients\n",
      "coefs: [[-1.35809625e-05  2.80967680e-03 -7.31148502e-04 -3.58404585e-03\n",
      "   1.55355267e-02 -9.92707412e-03 -3.72536532e-03  2.76778773e-03\n",
      "   3.95241157e-03 -4.97504528e-03]]\n",
      "intercept:  [-0.00592815]\n"
     ]
    }
   ],
   "source": [
    "# Creating X and y\n",
    "X = df.drop(['y', 'Property_crime'], axis=1)\n",
    "y = df['y']\n",
    "\n",
    "\n",
    "# Train test split \n",
    "X_train, X_test, y_train, y_test = train_test_split(X, y, test_size=.3, random_state=123)\n",
    "# random state here to set seed\n",
    "\n",
    "## Logistic Regression \n",
    "LR = LogisticRegression(C=1e9, random_state=123)\n",
    "\n",
    "# Fit the model.\n",
    "fit = LR.fit(X_train, y_train)\n",
    "#\n",
    "# Display.\n",
    "print('Coefficients')\n",
    "print('coefs:', fit.coef_)\n",
    "print('intercept: ', fit.intercept_)\n",
    "\n",
    "# What are the coefficients? \n",
    "# Coefficients are the respective, constant values of each attribute. \n",
    "# The higher the number the bigger the impact on the formula/model. \n",
    "# Positive number means y increases with an increase of X, negative means y decreases (in Log Reg, the probability of y =1)\n",
    "# with the increast of X.  "
   ]
  },
  {
   "cell_type": "code",
   "execution_count": 148,
   "metadata": {},
   "outputs": [
    {
     "data": {
      "text/html": [
       "<div>\n",
       "<style scoped>\n",
       "    .dataframe tbody tr th:only-of-type {\n",
       "        vertical-align: middle;\n",
       "    }\n",
       "\n",
       "    .dataframe tbody tr th {\n",
       "        vertical-align: top;\n",
       "    }\n",
       "\n",
       "    .dataframe thead th {\n",
       "        text-align: right;\n",
       "    }\n",
       "</style>\n",
       "<table border=\"1\" class=\"dataframe\">\n",
       "  <thead>\n",
       "    <tr style=\"text-align: right;\">\n",
       "      <th></th>\n",
       "      <th>Population</th>\n",
       "      <th>Violent_crime</th>\n",
       "      <th>Murder</th>\n",
       "      <th>Rape</th>\n",
       "      <th>Robbery</th>\n",
       "      <th>Assault</th>\n",
       "      <th>Burglary</th>\n",
       "      <th>Larceny_theft</th>\n",
       "      <th>Motor_theft</th>\n",
       "      <th>Arson</th>\n",
       "    </tr>\n",
       "    <tr>\n",
       "      <th>County</th>\n",
       "      <th></th>\n",
       "      <th></th>\n",
       "      <th></th>\n",
       "      <th></th>\n",
       "      <th></th>\n",
       "      <th></th>\n",
       "      <th></th>\n",
       "      <th></th>\n",
       "      <th></th>\n",
       "      <th></th>\n",
       "    </tr>\n",
       "  </thead>\n",
       "  <tbody>\n",
       "    <tr>\n",
       "      <th>National City</th>\n",
       "      <td>61574.0</td>\n",
       "      <td>296.0</td>\n",
       "      <td>3.0</td>\n",
       "      <td>23.0</td>\n",
       "      <td>109.0</td>\n",
       "      <td>161.0</td>\n",
       "      <td>132.0</td>\n",
       "      <td>667.0</td>\n",
       "      <td>358.0</td>\n",
       "      <td>11.0</td>\n",
       "    </tr>\n",
       "    <tr>\n",
       "      <th>Perris</th>\n",
       "      <td>77626.0</td>\n",
       "      <td>192.0</td>\n",
       "      <td>2.0</td>\n",
       "      <td>4.0</td>\n",
       "      <td>66.0</td>\n",
       "      <td>120.0</td>\n",
       "      <td>270.0</td>\n",
       "      <td>1104.0</td>\n",
       "      <td>503.0</td>\n",
       "      <td>7.0</td>\n",
       "    </tr>\n",
       "    <tr>\n",
       "      <th>Shafter</th>\n",
       "      <td>19284.0</td>\n",
       "      <td>43.0</td>\n",
       "      <td>0.0</td>\n",
       "      <td>7.0</td>\n",
       "      <td>11.0</td>\n",
       "      <td>25.0</td>\n",
       "      <td>117.0</td>\n",
       "      <td>242.0</td>\n",
       "      <td>114.0</td>\n",
       "      <td>11.0</td>\n",
       "    </tr>\n",
       "    <tr>\n",
       "      <th>Pomona</th>\n",
       "      <td>153066.0</td>\n",
       "      <td>853.0</td>\n",
       "      <td>18.0</td>\n",
       "      <td>88.0</td>\n",
       "      <td>344.0</td>\n",
       "      <td>403.0</td>\n",
       "      <td>718.0</td>\n",
       "      <td>2516.0</td>\n",
       "      <td>1250.0</td>\n",
       "      <td>26.0</td>\n",
       "    </tr>\n",
       "    <tr>\n",
       "      <th>Greenfield</th>\n",
       "      <td>17603.0</td>\n",
       "      <td>102.0</td>\n",
       "      <td>2.0</td>\n",
       "      <td>7.0</td>\n",
       "      <td>18.0</td>\n",
       "      <td>75.0</td>\n",
       "      <td>49.0</td>\n",
       "      <td>86.0</td>\n",
       "      <td>79.0</td>\n",
       "      <td>14.0</td>\n",
       "    </tr>\n",
       "  </tbody>\n",
       "</table>\n",
       "</div>"
      ],
      "text/plain": [
       "               Population  Violent_crime  Murder  Rape  Robbery  Assault  \\\n",
       "County                                                                     \n",
       "National City     61574.0          296.0     3.0  23.0    109.0    161.0   \n",
       "Perris            77626.0          192.0     2.0   4.0     66.0    120.0   \n",
       "Shafter           19284.0           43.0     0.0   7.0     11.0     25.0   \n",
       "Pomona           153066.0          853.0    18.0  88.0    344.0    403.0   \n",
       "Greenfield        17603.0          102.0     2.0   7.0     18.0     75.0   \n",
       "\n",
       "               Burglary  Larceny_theft  Motor_theft  Arson  \n",
       "County                                                      \n",
       "National City     132.0          667.0        358.0   11.0  \n",
       "Perris            270.0         1104.0        503.0    7.0  \n",
       "Shafter           117.0          242.0        114.0   11.0  \n",
       "Pomona            718.0         2516.0       1250.0   26.0  \n",
       "Greenfield         49.0           86.0         79.0   14.0  "
      ]
     },
     "execution_count": 148,
     "metadata": {},
     "output_type": "execute_result"
    }
   ],
   "source": [
    "X_train.head()  # to check the features fed into the model "
   ]
  },
  {
   "cell_type": "code",
   "execution_count": 151,
   "metadata": {},
   "outputs": [
    {
     "name": "stdout",
     "output_type": "stream",
     "text": [
      "Population -0.0\n",
      "Violent_crime 0.0028\n",
      "Murder -0.0007\n",
      "Rape -0.0036\n",
      "Robbery 0.0155\n",
      "Assault -0.0099\n",
      "Burglary -0.0037\n",
      "Larceny_theft 0.0028\n",
      "Motor_theft 0.004\n",
      "Arson -0.005\n"
     ]
    }
   ],
   "source": [
    "for x, coef in zip(X_train.columns, fit.coef_[0]):\n",
    "    print(x, round(coef, 4))"
   ]
  },
  {
   "cell_type": "code",
   "execution_count": 152,
   "metadata": {},
   "outputs": [
    {
     "name": "stdout",
     "output_type": "stream",
     "text": [
      "y       0   1\n",
      "row_0        \n",
      "0      24   2\n",
      "1      47  66\n",
      "\n",
      "R² for the model with many features: \n",
      " [[-1.35809625e-05  2.80967680e-03 -7.31148502e-04 -3.58404585e-03\n",
      "   1.55355267e-02 -9.92707412e-03 -3.72536532e-03  2.76778773e-03\n",
      "   3.95241157e-03 -4.97504528e-03]]\n",
      "\n",
      "Percentage accuracy 0.7329192546583851\n",
      "\n",
      "Mean crossvalidated accuracy:  0.75 with standard deviation 0.06\n",
      "\n",
      "Confusion Matrix: \n",
      " [[24  2]\n",
      " [47 66]]\n"
     ]
    }
   ],
   "source": [
    "#Predict\n",
    "pred_y = LR.predict(X_test)\n",
    "\n",
    "print(pd.crosstab(pred_y, y_test))\n",
    "# why are crosstab values differ in row and columns as shown in the statsmodel? \n",
    "\n",
    "print('\\nR² for the model with many features: \\n', fit.coef_)\n",
    "print('\\nPercentage accuracy', fit.score(X_train, y_train))  #73%\n",
    "\n",
    "score = cross_val_score(LR, X_train, y_train, cv=10)  # 75%\n",
    "print(\"\\nMean crossvalidated accuracy: \", round(score.mean(),2), \n",
    "      'with standard deviation', round(score.std(),3))\n",
    "# put random_state here too. \n",
    "\n",
    "from sklearn.metrics import confusion_matrix\n",
    "print('\\nConfusion Matrix: \\n', confusion_matrix(pred_y, y_test))"
   ]
  },
  {
   "cell_type": "code",
   "execution_count": 154,
   "metadata": {},
   "outputs": [],
   "source": [
    "variance_inflation_factor?  # possible with R^2 in Linear Regression, not sure of Logistic Regression. "
   ]
  },
  {
   "cell_type": "code",
   "execution_count": 155,
   "metadata": {
    "scrolled": true
   },
   "outputs": [],
   "source": [
    "# Calculate this again. \n",
    "#\n",
    "## calculating Variance Inflation Factor for eliminative variables \n",
    "#\n",
    "## $$ V.I.F. = 1 / (1 - R^2). $$\n",
    "#\n",
    "#print(X_train.columns)\n",
    "#\n",
    "#print('Intercept', fit.intercept_)\n",
    "#R_sqr = fit.coef_[0]\n",
    "#\n",
    "#for n in R_sqr:\n",
    "#    print('coef: ', n, \"\\nVIF\", 1/(1-n),'\\n')\n",
    "#\n",
    "## Looks like no VIF is too large but there is high multicollinearity! \n",
    "## Where is it going wrong? \n",
    "#"
   ]
  },
  {
   "cell_type": "code",
   "execution_count": 160,
   "metadata": {},
   "outputs": [],
   "source": [
    "## Doesn't work! Return LinAlgError: singular Matrix\n",
    "\n",
    "#Using Statsmodel for finding the feature importances \n",
    "#import statsmodels.api as sm \n",
    "#\n",
    "#X_statsmod = df['Population']\n",
    "#X_statsmod['intercept'] = 1\n",
    "##X_statsmod = sm.add_constant(x, prepend=True)\n",
    "#\n",
    "#y = df['y']\n",
    "#\n",
    "## Declare the fit of the model \n",
    "#\n",
    "#logit = sm.Logit(y, X_statsmod)\n",
    "#result = logit.fit()\n",
    "#\n",
    "## Result summary\n",
    "#print(result.summary())"
   ]
  },
  {
   "cell_type": "code",
   "execution_count": null,
   "metadata": {
    "scrolled": false
   },
   "outputs": [],
   "source": []
  },
  {
   "cell_type": "code",
   "execution_count": 161,
   "metadata": {},
   "outputs": [
    {
     "name": "stdout",
     "output_type": "stream",
     "text": [
      "Coefficients\n",
      "coefs: [[0.00968596 0.0183594  0.01723839 0.05136971]]\n",
      "intercept:  [-12.09047174]\n"
     ]
    }
   ],
   "source": [
    "# Chossing a smaller model on \n",
    "#PropertyCrime = α+Burglary+LarcenyTheft+MotorTheft+Arson\n",
    "\n",
    "# Creating X and y\n",
    "\n",
    "X = df[['Burglary', 'Larceny_theft', 'Motor_theft', 'Arson']]\n",
    "y = df['y']\n",
    "\n",
    "\n",
    "# Train test split \n",
    "X_train, X_test, y_train, y_test = train_test_split(X, y, test_size=.33)\n",
    "\n",
    "\n",
    "## Logistic Regression \n",
    "LR = LogisticRegression(C=1e9, random_state=1)\n",
    "\n",
    "# Fit the model.\n",
    "fit = LR.fit(X_train, y_train)\n",
    "#\n",
    "# Display.\n",
    "print('Coefficients')\n",
    "print('coefs:', fit.coef_)\n",
    "print('intercept: ', fit.intercept_)\n"
   ]
  },
  {
   "cell_type": "code",
   "execution_count": 162,
   "metadata": {},
   "outputs": [
    {
     "name": "stdout",
     "output_type": "stream",
     "text": [
      "y       0   1\n",
      "row_0        \n",
      "0      68   1\n",
      "1       1  83\n",
      "\n",
      "Percentage accuracy 0.9967532467532467\n",
      "\n",
      "Mean crossvalidated accuracy:  0.99 with standard deviation 0.016\n",
      "\n",
      "Confusion Matrix: \n",
      " [[68  1]\n",
      " [ 1 83]]\n"
     ]
    }
   ],
   "source": [
    "#Predict\n",
    "pred_y = LR.predict(X_test)\n",
    "\n",
    "print(pd.crosstab(pred_y, y_test))\n",
    "\n",
    "print('\\nPercentage accuracy', fit.score(X_train, y_train))  #99%\n",
    "\n",
    "score = cross_val_score(LR, X_train, y_train, cv=10)  # 98%\n",
    "print(\"\\nMean crossvalidated accuracy: \", round(score.mean(),2), \n",
    "      'with standard deviation', round(score.std(),3))\n",
    "\n",
    "from sklearn.metrics import confusion_matrix\n",
    "print('\\nConfusion Matrix: \\n', confusion_matrix(pred_y, y_test))\n",
    "\n",
    "\n",
    "# Accuracy increases? or overfitting?"
   ]
  },
  {
   "cell_type": "code",
   "execution_count": null,
   "metadata": {},
   "outputs": [],
   "source": []
  },
  {
   "cell_type": "markdown",
   "metadata": {},
   "source": [
    "### Feature Engineering \n",
    "\n"
   ]
  },
  {
   "cell_type": "code",
   "execution_count": 163,
   "metadata": {},
   "outputs": [
    {
     "data": {
      "text/plain": [
       "<matplotlib.axes._subplots.AxesSubplot at 0x120ac7710>"
      ]
     },
     "execution_count": 163,
     "metadata": {},
     "output_type": "execute_result"
    },
    {
     "data": {
      "image/png": "[encoded data removed]",
      "text/plain": [
       "<Figure size 576x576 with 2 Axes>"
      ]
     },
     "metadata": {},
     "output_type": "display_data"
    }
   ],
   "source": [
    "plt.figure(figsize=(8,8))\n",
    "sns.heatmap(df.corr(), cmap='BuPu', annot=True, square=True)"
   ]
  },
  {
   "cell_type": "code",
   "execution_count": 164,
   "metadata": {},
   "outputs": [],
   "source": [
    "# Creating new version on the dataset\n",
    "df_new = df\n",
    "#df_new.head()"
   ]
  },
  {
   "cell_type": "code",
   "execution_count": 165,
   "metadata": {},
   "outputs": [
    {
     "data": {
      "text/html": [
       "<div>\n",
       "<style scoped>\n",
       "    .dataframe tbody tr th:only-of-type {\n",
       "        vertical-align: middle;\n",
       "    }\n",
       "\n",
       "    .dataframe tbody tr th {\n",
       "        vertical-align: top;\n",
       "    }\n",
       "\n",
       "    .dataframe thead th {\n",
       "        text-align: right;\n",
       "    }\n",
       "</style>\n",
       "<table border=\"1\" class=\"dataframe\">\n",
       "  <thead>\n",
       "    <tr style=\"text-align: right;\">\n",
       "      <th></th>\n",
       "      <th>Population</th>\n",
       "      <th>Violent_crime</th>\n",
       "      <th>Murder</th>\n",
       "      <th>Rape</th>\n",
       "      <th>Robbery</th>\n",
       "      <th>Assault</th>\n",
       "      <th>Property_crime</th>\n",
       "      <th>Burglary</th>\n",
       "      <th>Larceny_theft</th>\n",
       "      <th>Motor_theft</th>\n",
       "      <th>Arson</th>\n",
       "      <th>y</th>\n",
       "    </tr>\n",
       "    <tr>\n",
       "      <th>County</th>\n",
       "      <th></th>\n",
       "      <th></th>\n",
       "      <th></th>\n",
       "      <th></th>\n",
       "      <th></th>\n",
       "      <th></th>\n",
       "      <th></th>\n",
       "      <th></th>\n",
       "      <th></th>\n",
       "      <th></th>\n",
       "      <th></th>\n",
       "      <th></th>\n",
       "    </tr>\n",
       "  </thead>\n",
       "  <tbody>\n",
       "    <tr>\n",
       "      <th>Adelanto</th>\n",
       "      <td>33693.0</td>\n",
       "      <td>238.0</td>\n",
       "      <td>2.0</td>\n",
       "      <td>28.0</td>\n",
       "      <td>48.0</td>\n",
       "      <td>160.0</td>\n",
       "      <td>578.0</td>\n",
       "      <td>190.0</td>\n",
       "      <td>290.0</td>\n",
       "      <td>98.0</td>\n",
       "      <td>13.0</td>\n",
       "      <td>0</td>\n",
       "    </tr>\n",
       "    <tr>\n",
       "      <th>Agoura Hills</th>\n",
       "      <td>20814.0</td>\n",
       "      <td>16.0</td>\n",
       "      <td>0.0</td>\n",
       "      <td>2.0</td>\n",
       "      <td>4.0</td>\n",
       "      <td>10.0</td>\n",
       "      <td>278.0</td>\n",
       "      <td>71.0</td>\n",
       "      <td>187.0</td>\n",
       "      <td>20.0</td>\n",
       "      <td>4.0</td>\n",
       "      <td>0</td>\n",
       "    </tr>\n",
       "    <tr>\n",
       "      <th>Alameda</th>\n",
       "      <td>79761.0</td>\n",
       "      <td>253.0</td>\n",
       "      <td>0.0</td>\n",
       "      <td>16.0</td>\n",
       "      <td>133.0</td>\n",
       "      <td>104.0</td>\n",
       "      <td>2347.0</td>\n",
       "      <td>219.0</td>\n",
       "      <td>1725.0</td>\n",
       "      <td>403.0</td>\n",
       "      <td>25.0</td>\n",
       "      <td>1</td>\n",
       "    </tr>\n",
       "    <tr>\n",
       "      <th>Albany</th>\n",
       "      <td>19880.0</td>\n",
       "      <td>36.0</td>\n",
       "      <td>0.0</td>\n",
       "      <td>1.0</td>\n",
       "      <td>28.0</td>\n",
       "      <td>7.0</td>\n",
       "      <td>523.0</td>\n",
       "      <td>77.0</td>\n",
       "      <td>383.0</td>\n",
       "      <td>63.0</td>\n",
       "      <td>3.0</td>\n",
       "      <td>0</td>\n",
       "    </tr>\n",
       "    <tr>\n",
       "      <th>Alhambra</th>\n",
       "      <td>85865.0</td>\n",
       "      <td>172.0</td>\n",
       "      <td>4.0</td>\n",
       "      <td>17.0</td>\n",
       "      <td>89.0</td>\n",
       "      <td>62.0</td>\n",
       "      <td>1877.0</td>\n",
       "      <td>363.0</td>\n",
       "      <td>1244.0</td>\n",
       "      <td>270.0</td>\n",
       "      <td>12.0</td>\n",
       "      <td>1</td>\n",
       "    </tr>\n",
       "  </tbody>\n",
       "</table>\n",
       "</div>"
      ],
      "text/plain": [
       "              Population  Violent_crime  Murder  Rape  Robbery  Assault  \\\n",
       "County                                                                    \n",
       "Adelanto         33693.0          238.0     2.0  28.0     48.0    160.0   \n",
       "Agoura Hills     20814.0           16.0     0.0   2.0      4.0     10.0   \n",
       "Alameda          79761.0          253.0     0.0  16.0    133.0    104.0   \n",
       "Albany           19880.0           36.0     0.0   1.0     28.0      7.0   \n",
       "Alhambra         85865.0          172.0     4.0  17.0     89.0     62.0   \n",
       "\n",
       "              Property_crime  Burglary  Larceny_theft  Motor_theft  Arson  y  \n",
       "County                                                                        \n",
       "Adelanto               578.0     190.0          290.0         98.0   13.0  0  \n",
       "Agoura Hills           278.0      71.0          187.0         20.0    4.0  0  \n",
       "Alameda               2347.0     219.0         1725.0        403.0   25.0  1  \n",
       "Albany                 523.0      77.0          383.0         63.0    3.0  0  \n",
       "Alhambra              1877.0     363.0         1244.0        270.0   12.0  1  "
      ]
     },
     "execution_count": 165,
     "metadata": {},
     "output_type": "execute_result"
    }
   ],
   "source": [
    "df_new.head()"
   ]
  },
  {
   "cell_type": "code",
   "execution_count": 167,
   "metadata": {},
   "outputs": [],
   "source": [
    "df_new = df_new.drop('Property_crime', axis=1)"
   ]
  },
  {
   "cell_type": "code",
   "execution_count": 35,
   "metadata": {},
   "outputs": [],
   "source": [
    "# New features 1: population percentage\n",
    "#\n",
    "#def perc_val(df, col):\n",
    "#    for col in df.columns:\n",
    "#        new_val = [col/pop *100 for col,pop in zip(df[col], df.Population)]\n",
    "#    return new_val\n",
    "#\n",
    "#\n",
    "#df_new['Violent_crime_perc'] = perc_val(df_new, 'Violent_crime')\n",
    "#df_new['Murder_perc'] = perc_val(df_new, 'Murder')\n",
    "#df_new['Rape_perc'] = perc_val(df_new, 'Rape')\n",
    "#df_new['Robbery_perc'] = perc_val(df_new, 'Robbery')\n",
    "#df_new['Burglary_perc'] = perc_val(df_new, 'Burglary')\n",
    "#df_new['Larceny_theft_perc']= perc_val(df_new, 'Larceny_theft')\n",
    "#df_new['Motor_theft_perc'] = perc_val(df_new, 'Motor_theft')\n",
    "#df_new['Arson_perc'] = perc_val(df_new, 'Arson')"
   ]
  },
  {
   "cell_type": "code",
   "execution_count": 169,
   "metadata": {},
   "outputs": [],
   "source": [
    "# Feature 1: Creating a variable for the highly correlated variables Violent_crime with Robbery and Assault\n",
    "\n",
    "# New feature: rob_assault_crime = violent_crime + Robbery + Assault   \n",
    "df_new['rob_assault_crime'] = df_new.Violent_crime + df_new.Robbery + df_new.Assault\n",
    "\n",
    "\n",
    "# drop Violent_crime, Robbery and Assault\n",
    "df_new = df_new.drop(['Violent_crime', 'Robbery', 'Assault'], axis=1)\n",
    "\n",
    "#df_new['prop_crime_larceny'] = df_new.Property_crime + df_new.Larceny_theft\n",
    "# drop Property_crime and Larceny_theft"
   ]
  },
  {
   "cell_type": "code",
   "execution_count": 170,
   "metadata": {},
   "outputs": [
    {
     "data": {
      "text/html": [
       "<div>\n",
       "<style scoped>\n",
       "    .dataframe tbody tr th:only-of-type {\n",
       "        vertical-align: middle;\n",
       "    }\n",
       "\n",
       "    .dataframe tbody tr th {\n",
       "        vertical-align: top;\n",
       "    }\n",
       "\n",
       "    .dataframe thead th {\n",
       "        text-align: right;\n",
       "    }\n",
       "</style>\n",
       "<table border=\"1\" class=\"dataframe\">\n",
       "  <thead>\n",
       "    <tr style=\"text-align: right;\">\n",
       "      <th></th>\n",
       "      <th>Population</th>\n",
       "      <th>Murder</th>\n",
       "      <th>Rape</th>\n",
       "      <th>Burglary</th>\n",
       "      <th>Larceny_theft</th>\n",
       "      <th>Motor_theft</th>\n",
       "      <th>Arson</th>\n",
       "      <th>y</th>\n",
       "      <th>rob_assault_crime</th>\n",
       "    </tr>\n",
       "    <tr>\n",
       "      <th>County</th>\n",
       "      <th></th>\n",
       "      <th></th>\n",
       "      <th></th>\n",
       "      <th></th>\n",
       "      <th></th>\n",
       "      <th></th>\n",
       "      <th></th>\n",
       "      <th></th>\n",
       "      <th></th>\n",
       "    </tr>\n",
       "  </thead>\n",
       "  <tbody>\n",
       "    <tr>\n",
       "      <th>Adelanto</th>\n",
       "      <td>33693.0</td>\n",
       "      <td>2.0</td>\n",
       "      <td>28.0</td>\n",
       "      <td>190.0</td>\n",
       "      <td>290.0</td>\n",
       "      <td>98.0</td>\n",
       "      <td>13.0</td>\n",
       "      <td>0</td>\n",
       "      <td>446.0</td>\n",
       "    </tr>\n",
       "    <tr>\n",
       "      <th>Agoura Hills</th>\n",
       "      <td>20814.0</td>\n",
       "      <td>0.0</td>\n",
       "      <td>2.0</td>\n",
       "      <td>71.0</td>\n",
       "      <td>187.0</td>\n",
       "      <td>20.0</td>\n",
       "      <td>4.0</td>\n",
       "      <td>0</td>\n",
       "      <td>30.0</td>\n",
       "    </tr>\n",
       "    <tr>\n",
       "      <th>Alameda</th>\n",
       "      <td>79761.0</td>\n",
       "      <td>0.0</td>\n",
       "      <td>16.0</td>\n",
       "      <td>219.0</td>\n",
       "      <td>1725.0</td>\n",
       "      <td>403.0</td>\n",
       "      <td>25.0</td>\n",
       "      <td>1</td>\n",
       "      <td>490.0</td>\n",
       "    </tr>\n",
       "  </tbody>\n",
       "</table>\n",
       "</div>"
      ],
      "text/plain": [
       "              Population  Murder  Rape  Burglary  Larceny_theft  Motor_theft  \\\n",
       "County                                                                         \n",
       "Adelanto         33693.0     2.0  28.0     190.0          290.0         98.0   \n",
       "Agoura Hills     20814.0     0.0   2.0      71.0          187.0         20.0   \n",
       "Alameda          79761.0     0.0  16.0     219.0         1725.0        403.0   \n",
       "\n",
       "              Arson  y  rob_assault_crime  \n",
       "County                                     \n",
       "Adelanto       13.0  0              446.0  \n",
       "Agoura Hills    4.0  0               30.0  \n",
       "Alameda        25.0  1              490.0  "
      ]
     },
     "execution_count": 170,
     "metadata": {},
     "output_type": "execute_result"
    }
   ],
   "source": [
    "df_new.head(3)\n",
    "\n",
    "#Burglary+LarcenyTheft+MotorTheft+Arson"
   ]
  },
  {
   "cell_type": "code",
   "execution_count": 38,
   "metadata": {
    "scrolled": true
   },
   "outputs": [],
   "source": [
    "#df_new = df_new.drop(['Violent_crime', 'Robbery', 'Assault', 'Property_crime', 'Larceny_theft'], axis=1)\n",
    "\n",
    "#df_new = df_new.drop('prop_crime_larceny', axis=1)"
   ]
  },
  {
   "cell_type": "code",
   "execution_count": 171,
   "metadata": {},
   "outputs": [
    {
     "data": {
      "text/html": [
       "<div>\n",
       "<style scoped>\n",
       "    .dataframe tbody tr th:only-of-type {\n",
       "        vertical-align: middle;\n",
       "    }\n",
       "\n",
       "    .dataframe tbody tr th {\n",
       "        vertical-align: top;\n",
       "    }\n",
       "\n",
       "    .dataframe thead th {\n",
       "        text-align: right;\n",
       "    }\n",
       "</style>\n",
       "<table border=\"1\" class=\"dataframe\">\n",
       "  <thead>\n",
       "    <tr style=\"text-align: right;\">\n",
       "      <th></th>\n",
       "      <th>Population</th>\n",
       "      <th>Murder</th>\n",
       "      <th>Rape</th>\n",
       "      <th>Burglary</th>\n",
       "      <th>Larceny_theft</th>\n",
       "      <th>Motor_theft</th>\n",
       "      <th>Arson</th>\n",
       "      <th>y</th>\n",
       "      <th>rob_assault_crime</th>\n",
       "    </tr>\n",
       "  </thead>\n",
       "  <tbody>\n",
       "    <tr>\n",
       "      <th>count</th>\n",
       "      <td>4.610000e+02</td>\n",
       "      <td>461.000000</td>\n",
       "      <td>461.000000</td>\n",
       "      <td>461.000000</td>\n",
       "      <td>461.000000</td>\n",
       "      <td>461.000000</td>\n",
       "      <td>461.000000</td>\n",
       "      <td>461.000000</td>\n",
       "      <td>461.000000</td>\n",
       "    </tr>\n",
       "    <tr>\n",
       "      <th>mean</th>\n",
       "      <td>7.124899e+04</td>\n",
       "      <td>2.108460</td>\n",
       "      <td>17.928416</td>\n",
       "      <td>240.503254</td>\n",
       "      <td>922.639913</td>\n",
       "      <td>225.945770</td>\n",
       "      <td>9.752711</td>\n",
       "      <td>0.498915</td>\n",
       "      <td>389.718004</td>\n",
       "    </tr>\n",
       "    <tr>\n",
       "      <th>std</th>\n",
       "      <td>2.150399e+05</td>\n",
       "      <td>4.296251</td>\n",
       "      <td>24.919289</td>\n",
       "      <td>285.081214</td>\n",
       "      <td>1210.121676</td>\n",
       "      <td>356.009488</td>\n",
       "      <td>15.861754</td>\n",
       "      <td>0.500542</td>\n",
       "      <td>602.883725</td>\n",
       "    </tr>\n",
       "    <tr>\n",
       "      <th>min</th>\n",
       "      <td>1.130000e+02</td>\n",
       "      <td>0.000000</td>\n",
       "      <td>0.000000</td>\n",
       "      <td>0.000000</td>\n",
       "      <td>0.000000</td>\n",
       "      <td>0.000000</td>\n",
       "      <td>0.000000</td>\n",
       "      <td>0.000000</td>\n",
       "      <td>0.000000</td>\n",
       "    </tr>\n",
       "    <tr>\n",
       "      <th>25%</th>\n",
       "      <td>1.221000e+04</td>\n",
       "      <td>0.000000</td>\n",
       "      <td>3.000000</td>\n",
       "      <td>55.000000</td>\n",
       "      <td>152.000000</td>\n",
       "      <td>26.000000</td>\n",
       "      <td>1.000000</td>\n",
       "      <td>0.000000</td>\n",
       "      <td>61.000000</td>\n",
       "    </tr>\n",
       "    <tr>\n",
       "      <th>50%</th>\n",
       "      <td>3.369300e+04</td>\n",
       "      <td>1.000000</td>\n",
       "      <td>8.000000</td>\n",
       "      <td>136.000000</td>\n",
       "      <td>482.000000</td>\n",
       "      <td>87.000000</td>\n",
       "      <td>4.000000</td>\n",
       "      <td>0.000000</td>\n",
       "      <td>175.000000</td>\n",
       "    </tr>\n",
       "    <tr>\n",
       "      <th>75%</th>\n",
       "      <td>7.632500e+04</td>\n",
       "      <td>2.000000</td>\n",
       "      <td>20.000000</td>\n",
       "      <td>323.000000</td>\n",
       "      <td>1231.000000</td>\n",
       "      <td>273.000000</td>\n",
       "      <td>11.000000</td>\n",
       "      <td>1.000000</td>\n",
       "      <td>442.000000</td>\n",
       "    </tr>\n",
       "    <tr>\n",
       "      <th>max</th>\n",
       "      <td>4.007147e+06</td>\n",
       "      <td>21.000000</td>\n",
       "      <td>110.000000</td>\n",
       "      <td>1351.000000</td>\n",
       "      <td>5865.000000</td>\n",
       "      <td>1730.000000</td>\n",
       "      <td>75.000000</td>\n",
       "      <td>1.000000</td>\n",
       "      <td>2985.000000</td>\n",
       "    </tr>\n",
       "  </tbody>\n",
       "</table>\n",
       "</div>"
      ],
      "text/plain": [
       "         Population      Murder        Rape     Burglary  Larceny_theft  \\\n",
       "count  4.610000e+02  461.000000  461.000000   461.000000     461.000000   \n",
       "mean   7.124899e+04    2.108460   17.928416   240.503254     922.639913   \n",
       "std    2.150399e+05    4.296251   24.919289   285.081214    1210.121676   \n",
       "min    1.130000e+02    0.000000    0.000000     0.000000       0.000000   \n",
       "25%    1.221000e+04    0.000000    3.000000    55.000000     152.000000   \n",
       "50%    3.369300e+04    1.000000    8.000000   136.000000     482.000000   \n",
       "75%    7.632500e+04    2.000000   20.000000   323.000000    1231.000000   \n",
       "max    4.007147e+06   21.000000  110.000000  1351.000000    5865.000000   \n",
       "\n",
       "       Motor_theft       Arson           y  rob_assault_crime  \n",
       "count   461.000000  461.000000  461.000000         461.000000  \n",
       "mean    225.945770    9.752711    0.498915         389.718004  \n",
       "std     356.009488   15.861754    0.500542         602.883725  \n",
       "min       0.000000    0.000000    0.000000           0.000000  \n",
       "25%      26.000000    1.000000    0.000000          61.000000  \n",
       "50%      87.000000    4.000000    0.000000         175.000000  \n",
       "75%     273.000000   11.000000    1.000000         442.000000  \n",
       "max    1730.000000   75.000000    1.000000        2985.000000  "
      ]
     },
     "execution_count": 171,
     "metadata": {},
     "output_type": "execute_result"
    }
   ],
   "source": [
    "df_new.describe()"
   ]
  },
  {
   "cell_type": "code",
   "execution_count": 172,
   "metadata": {},
   "outputs": [
    {
     "data": {
      "text/plain": [
       "<matplotlib.axes._subplots.AxesSubplot at 0x120fc6828>"
      ]
     },
     "execution_count": 172,
     "metadata": {},
     "output_type": "execute_result"
    },
    {
     "data": {
      "image/png": "[encoded data removed]",
      "text/plain": [
       "<Figure size 864x864 with 2 Axes>"
      ]
     },
     "metadata": {},
     "output_type": "display_data"
    }
   ],
   "source": [
    "plt.figure(figsize=(12,12))\n",
    "sns.heatmap(df_new.corr(), cmap='BuPu', annot=True, square=True)\n",
    "\n",
    "# Great, no correlation above 0.95. "
   ]
  },
  {
   "cell_type": "code",
   "execution_count": 173,
   "metadata": {},
   "outputs": [
    {
     "data": {
      "text/plain": [
       "Index(['Population', 'Murder', 'Rape', 'Burglary', 'Larceny_theft',\n",
       "       'Motor_theft', 'Arson', 'y', 'rob_assault_crime'],\n",
       "      dtype='object')"
      ]
     },
     "execution_count": 173,
     "metadata": {},
     "output_type": "execute_result"
    }
   ],
   "source": [
    "df_new.columns"
   ]
  },
  {
   "cell_type": "code",
   "execution_count": 174,
   "metadata": {},
   "outputs": [],
   "source": [
    "# Creating new features: population percentage\n",
    "\n",
    "def perc_val(df, col):\n",
    "    for col in df.columns:\n",
    "        new_val = [col/pop *100 for col,pop in zip(df[col], df.Population)]\n",
    "    return new_val\n",
    "\n",
    "\n",
    "df_new['Murder_perc'] = perc_val(df_new, 'Murder')\n",
    "df_new['Rape_perc'] = perc_val(df_new, 'Rape')\n",
    "df_new['Burglary_perc'] = perc_val(df_new, 'Burglary')\n",
    "df_new['Larceny_theft_perc']= perc_val(df_new, 'Larceny_theft')\n",
    "df_new['Motor_theft_perc'] = perc_val(df_new, 'Motor_theft')\n",
    "df_new['Arson_perc'] = perc_val(df_new, 'Arson')"
   ]
  },
  {
   "cell_type": "code",
   "execution_count": 175,
   "metadata": {},
   "outputs": [
    {
     "data": {
      "text/html": [
       "<div>\n",
       "<style scoped>\n",
       "    .dataframe tbody tr th:only-of-type {\n",
       "        vertical-align: middle;\n",
       "    }\n",
       "\n",
       "    .dataframe tbody tr th {\n",
       "        vertical-align: top;\n",
       "    }\n",
       "\n",
       "    .dataframe thead th {\n",
       "        text-align: right;\n",
       "    }\n",
       "</style>\n",
       "<table border=\"1\" class=\"dataframe\">\n",
       "  <thead>\n",
       "    <tr style=\"text-align: right;\">\n",
       "      <th></th>\n",
       "      <th>Population</th>\n",
       "      <th>Murder</th>\n",
       "      <th>Rape</th>\n",
       "      <th>Burglary</th>\n",
       "      <th>Larceny_theft</th>\n",
       "      <th>Motor_theft</th>\n",
       "      <th>Arson</th>\n",
       "      <th>y</th>\n",
       "      <th>rob_assault_crime</th>\n",
       "      <th>Murder_perc</th>\n",
       "      <th>Rape_perc</th>\n",
       "      <th>Burglary_perc</th>\n",
       "      <th>Larceny_theft_perc</th>\n",
       "      <th>Motor_theft_perc</th>\n",
       "      <th>Arson_perc</th>\n",
       "    </tr>\n",
       "    <tr>\n",
       "      <th>County</th>\n",
       "      <th></th>\n",
       "      <th></th>\n",
       "      <th></th>\n",
       "      <th></th>\n",
       "      <th></th>\n",
       "      <th></th>\n",
       "      <th></th>\n",
       "      <th></th>\n",
       "      <th></th>\n",
       "      <th></th>\n",
       "      <th></th>\n",
       "      <th></th>\n",
       "      <th></th>\n",
       "      <th></th>\n",
       "      <th></th>\n",
       "    </tr>\n",
       "  </thead>\n",
       "  <tbody>\n",
       "    <tr>\n",
       "      <th>Adelanto</th>\n",
       "      <td>33693.0</td>\n",
       "      <td>2.0</td>\n",
       "      <td>28.0</td>\n",
       "      <td>190.0</td>\n",
       "      <td>290.0</td>\n",
       "      <td>98.0</td>\n",
       "      <td>13.0</td>\n",
       "      <td>0</td>\n",
       "      <td>446.0</td>\n",
       "      <td>1.323717</td>\n",
       "      <td>0.003929</td>\n",
       "      <td>1.166046e-05</td>\n",
       "      <td>3.460797e-08</td>\n",
       "      <td>1.027156e-10</td>\n",
       "      <td>3.048574e-13</td>\n",
       "    </tr>\n",
       "    <tr>\n",
       "      <th>Agoura Hills</th>\n",
       "      <td>20814.0</td>\n",
       "      <td>0.0</td>\n",
       "      <td>2.0</td>\n",
       "      <td>71.0</td>\n",
       "      <td>187.0</td>\n",
       "      <td>20.0</td>\n",
       "      <td>4.0</td>\n",
       "      <td>0</td>\n",
       "      <td>30.0</td>\n",
       "      <td>0.144134</td>\n",
       "      <td>0.000692</td>\n",
       "      <td>3.327014e-06</td>\n",
       "      <td>1.598450e-08</td>\n",
       "      <td>7.679687e-11</td>\n",
       "      <td>3.689674e-13</td>\n",
       "    </tr>\n",
       "    <tr>\n",
       "      <th>Alameda</th>\n",
       "      <td>79761.0</td>\n",
       "      <td>0.0</td>\n",
       "      <td>16.0</td>\n",
       "      <td>219.0</td>\n",
       "      <td>1725.0</td>\n",
       "      <td>403.0</td>\n",
       "      <td>25.0</td>\n",
       "      <td>1</td>\n",
       "      <td>490.0</td>\n",
       "      <td>0.614335</td>\n",
       "      <td>0.000770</td>\n",
       "      <td>9.656601e-07</td>\n",
       "      <td>1.210692e-09</td>\n",
       "      <td>1.517900e-12</td>\n",
       "      <td>1.903060e-15</td>\n",
       "    </tr>\n",
       "    <tr>\n",
       "      <th>Albany</th>\n",
       "      <td>19880.0</td>\n",
       "      <td>0.0</td>\n",
       "      <td>1.0</td>\n",
       "      <td>77.0</td>\n",
       "      <td>383.0</td>\n",
       "      <td>63.0</td>\n",
       "      <td>3.0</td>\n",
       "      <td>0</td>\n",
       "      <td>71.0</td>\n",
       "      <td>0.357143</td>\n",
       "      <td>0.001796</td>\n",
       "      <td>9.036686e-06</td>\n",
       "      <td>4.545617e-08</td>\n",
       "      <td>2.286528e-10</td>\n",
       "      <td>1.150165e-12</td>\n",
       "    </tr>\n",
       "    <tr>\n",
       "      <th>Alhambra</th>\n",
       "      <td>85865.0</td>\n",
       "      <td>4.0</td>\n",
       "      <td>17.0</td>\n",
       "      <td>363.0</td>\n",
       "      <td>1244.0</td>\n",
       "      <td>270.0</td>\n",
       "      <td>12.0</td>\n",
       "      <td>1</td>\n",
       "      <td>323.0</td>\n",
       "      <td>0.376172</td>\n",
       "      <td>0.000438</td>\n",
       "      <td>5.102159e-07</td>\n",
       "      <td>5.942071e-10</td>\n",
       "      <td>6.920248e-13</td>\n",
       "      <td>8.059451e-16</td>\n",
       "    </tr>\n",
       "  </tbody>\n",
       "</table>\n",
       "</div>"
      ],
      "text/plain": [
       "              Population  Murder  Rape  Burglary  Larceny_theft  Motor_theft  \\\n",
       "County                                                                         \n",
       "Adelanto         33693.0     2.0  28.0     190.0          290.0         98.0   \n",
       "Agoura Hills     20814.0     0.0   2.0      71.0          187.0         20.0   \n",
       "Alameda          79761.0     0.0  16.0     219.0         1725.0        403.0   \n",
       "Albany           19880.0     0.0   1.0      77.0          383.0         63.0   \n",
       "Alhambra         85865.0     4.0  17.0     363.0         1244.0        270.0   \n",
       "\n",
       "              Arson  y  rob_assault_crime  Murder_perc  Rape_perc  \\\n",
       "County                                                              \n",
       "Adelanto       13.0  0              446.0     1.323717   0.003929   \n",
       "Agoura Hills    4.0  0               30.0     0.144134   0.000692   \n",
       "Alameda        25.0  1              490.0     0.614335   0.000770   \n",
       "Albany          3.0  0               71.0     0.357143   0.001796   \n",
       "Alhambra       12.0  1              323.0     0.376172   0.000438   \n",
       "\n",
       "              Burglary_perc  Larceny_theft_perc  Motor_theft_perc  \\\n",
       "County                                                              \n",
       "Adelanto       1.166046e-05        3.460797e-08      1.027156e-10   \n",
       "Agoura Hills   3.327014e-06        1.598450e-08      7.679687e-11   \n",
       "Alameda        9.656601e-07        1.210692e-09      1.517900e-12   \n",
       "Albany         9.036686e-06        4.545617e-08      2.286528e-10   \n",
       "Alhambra       5.102159e-07        5.942071e-10      6.920248e-13   \n",
       "\n",
       "                Arson_perc  \n",
       "County                      \n",
       "Adelanto      3.048574e-13  \n",
       "Agoura Hills  3.689674e-13  \n",
       "Alameda       1.903060e-15  \n",
       "Albany        1.150165e-12  \n",
       "Alhambra      8.059451e-16  "
      ]
     },
     "execution_count": 175,
     "metadata": {},
     "output_type": "execute_result"
    }
   ],
   "source": [
    "df_new.head()  #15 columns now."
   ]
  },
  {
   "cell_type": "code",
   "execution_count": 176,
   "metadata": {},
   "outputs": [
    {
     "data": {
      "text/plain": [
       "Index(['Population', 'Murder', 'Rape', 'Burglary', 'Larceny_theft',\n",
       "       'Motor_theft', 'Arson', 'y', 'rob_assault_crime', 'Murder_perc',\n",
       "       'Rape_perc', 'Burglary_perc', 'Larceny_theft_perc', 'Motor_theft_perc',\n",
       "       'Arson_perc'],\n",
       "      dtype='object')"
      ]
     },
     "execution_count": 176,
     "metadata": {},
     "output_type": "execute_result"
    }
   ],
   "source": [
    "df_new.columns"
   ]
  },
  {
   "cell_type": "markdown",
   "metadata": {},
   "source": [
    "## Vanilla Logistic Regression \n",
    "\n"
   ]
  },
  {
   "cell_type": "code",
   "execution_count": 180,
   "metadata": {
    "scrolled": true
   },
   "outputs": [
    {
     "data": {
      "text/plain": [
       "Index(['Population', 'Murder', 'Rape', 'Burglary', 'Larceny_theft',\n",
       "       'Motor_theft', 'Arson', 'rob_assault_crime', 'Murder_perc', 'Rape_perc',\n",
       "       'Burglary_perc', 'Larceny_theft_perc', 'Motor_theft_perc',\n",
       "       'Arson_perc'],\n",
       "      dtype='object')"
      ]
     },
     "execution_count": 180,
     "metadata": {},
     "output_type": "execute_result"
    }
   ],
   "source": [
    "X_train.columns"
   ]
  },
  {
   "cell_type": "code",
   "execution_count": 181,
   "metadata": {},
   "outputs": [
    {
     "name": "stdout",
     "output_type": "stream",
     "text": [
      "Coefficients\n",
      "coefs: [[-1.32152858e-05 -5.12568395e-05 -1.50646076e-03 -4.13329406e-03\n",
      "   2.75756067e-03  7.11098858e-03 -6.99126343e-04 -8.80937626e-04\n",
      "  -9.96635623e-04 -4.67778664e-04 -4.29714764e-04 -3.93152057e-04\n",
      "  -3.54750983e-04 -3.17394064e-04]]\n",
      "intercept:  [-0.0009936]\n",
      "\n",
      "Percentage accuracy 0.6273291925465838\n",
      "\n",
      "Mean crossvalidated accuracy:  0.69 with standard deviation 0.102\n",
      "y       0   1\n",
      "row_0        \n",
      "0      23   3\n",
      "1      46  67\n"
     ]
    }
   ],
   "source": [
    "# Creating X and y with 17 variables\n",
    "\n",
    "df_X = df_new.drop('y', axis=1)\n",
    "y = df_new['y']\n",
    "\n",
    "\n",
    "# Train test split \n",
    "\n",
    "X_train, X_test, y_train, y_test = train_test_split(df_X, y, test_size=.3)\n",
    "\n",
    "# print(X_train.columns)\n",
    "#['Population', 'Murder', 'Rape', 'Burglary', 'Larceny_theft','Motor_theft', 'Arson', 'rob_assault_crime', 'Murder_perc', 'Rape_perc',\n",
    "#       'Burglary_perc', 'Larceny_theft_perc', 'Motor_theft_perc', 'Arson_perc']\n",
    "\n",
    "## Logistic Regression \n",
    "LR = LogisticRegression(C=1e9, random_state=1)\n",
    "\n",
    "# Fit the model.\n",
    "fit = LR.fit(X_train, y_train)\n",
    "#\n",
    "# Display.\n",
    "print('Coefficients')\n",
    "print('coefs:', fit.coef_)\n",
    "print('intercept: ', fit.intercept_)\n",
    "\n",
    "#Predict\n",
    "pred_y = LR.predict(X_test)\n",
    "\n",
    "print('\\nPercentage accuracy', fit.score(X_train, y_train))  #63%\n",
    "\n",
    "score = cross_val_score(LR, X_train, y_train, cv=10)  # 74%\n",
    "print(\"\\nMean crossvalidated accuracy: \", round(score.mean(),2), \n",
    "      'with standard deviation', round(score.std(),3))\n",
    "#\n",
    "print(pd.crosstab(pred_y, y_test))\n",
    "#from sklearn.metrics import confusion_matrix\n",
    "#print('\\nConfusion Matrix: \\n', confusion_matrix(pred_y, y_test))"
   ]
  },
  {
   "cell_type": "markdown",
   "metadata": {},
   "source": [
    "- Biggest model with all original and engineered features\n",
    "\n",
    "    - Percentage accuracy 0.62\n",
    "\n",
    "    - Mean crossvalidated accuracy:  0.69 with  standard deviation 0.093\n",
    "\n",
    "### Vanilla Regression with only engineered features "
   ]
  },
  {
   "cell_type": "code",
   "execution_count": 182,
   "metadata": {},
   "outputs": [
    {
     "data": {
      "text/plain": [
       "Index(['Population', 'Murder', 'Rape', 'Burglary', 'Larceny_theft',\n",
       "       'Motor_theft', 'Arson', 'y', 'rob_assault_crime', 'Murder_perc',\n",
       "       'Rape_perc', 'Burglary_perc', 'Larceny_theft_perc', 'Motor_theft_perc',\n",
       "       'Arson_perc'],\n",
       "      dtype='object')"
      ]
     },
     "execution_count": 182,
     "metadata": {},
     "output_type": "execute_result"
    }
   ],
   "source": [
    "df_new.columns"
   ]
  },
  {
   "cell_type": "code",
   "execution_count": 183,
   "metadata": {},
   "outputs": [],
   "source": [
    "# Selecting a smaller model with only engineered features - accuracy improved \n",
    "\n",
    "df_X = df_new[['rob_assault_crime', 'Murder_perc','Rape_perc', 'Burglary_perc', 'Larceny_theft_perc', \n",
    "               'Motor_theft_perc', 'Arson_perc']]\n",
    "y = df_new['y']"
   ]
  },
  {
   "cell_type": "code",
   "execution_count": 184,
   "metadata": {},
   "outputs": [],
   "source": [
    "# Train test split \n",
    "\n",
    "X_train, X_test, y_train, y_test = train_test_split(df_X, y, test_size=.3)"
   ]
  },
  {
   "cell_type": "code",
   "execution_count": 185,
   "metadata": {},
   "outputs": [
    {
     "name": "stdout",
     "output_type": "stream",
     "text": [
      "Coefficients\n",
      "coefs: [[ 0.02226842 -2.90201672 -0.05747172 -0.01428157 -0.01007815 -0.00850023\n",
      "  -0.00743262]]\n",
      "intercept:  [-2.61061174]\n"
     ]
    }
   ],
   "source": [
    "\n",
    "## Logistic Regression \n",
    "LR = LogisticRegression(C=1e9, random_state=111)\n",
    "\n",
    "# Fit the model.\n",
    "fit = LR.fit(X_train, y_train)\n",
    "#\n",
    "# Display.\n",
    "print('Coefficients')\n",
    "print('coefs:', fit.coef_)\n",
    "print('intercept: ', fit.intercept_)"
   ]
  },
  {
   "cell_type": "code",
   "execution_count": 186,
   "metadata": {},
   "outputs": [
    {
     "name": "stdout",
     "output_type": "stream",
     "text": [
      "\n",
      "Percentage accuracy 0.906832298136646\n",
      "\n",
      "Mean crossvalidated accuracy:  0.91 with standard deviation 0.057\n",
      "\n",
      "Confusion Matrix: \n",
      " [[64 14]\n",
      " [ 6 55]]\n"
     ]
    }
   ],
   "source": [
    "#Predict\n",
    "pred_y = LR.predict(X_test)\n",
    "\n",
    "print('\\nPercentage accuracy', fit.score(X_train, y_train))  #63%\n",
    "\n",
    "score = cross_val_score(LR, X_train, y_train, cv=10)  # 74%\n",
    "print(\"\\nMean crossvalidated accuracy: \", round(score.mean(),2), \n",
    "      'with standard deviation', round(score.std(),3))\n",
    "\n",
    "from sklearn.metrics import confusion_matrix\n",
    "print('\\nConfusion Matrix: \\n', confusion_matrix(pred_y, y_test))"
   ]
  },
  {
   "cell_type": "markdown",
   "metadata": {},
   "source": [
    "- Increased accuracy with engineered features\n",
    "\n",
    "    - Percentage accuracy 0.90\n",
    "\n",
    "    - Mean crossvalidated accuracy:  0.91 with  standard deviation 0.054\n",
    "\n",
    "### Vanilla Regression with features in the formula "
   ]
  },
  {
   "cell_type": "code",
   "execution_count": 187,
   "metadata": {},
   "outputs": [
    {
     "name": "stdout",
     "output_type": "stream",
     "text": [
      "Coefficients\n",
      "coefs: [[ 0.01023575  0.01119306  0.00523764 -0.01762215 -0.00050925]]\n",
      "intercept:  [-7.00655595]\n",
      "\n",
      "Percentage accuracy 0.9968944099378882\n",
      "\n",
      "Mean crossvalidated accuracy:  0.99 with standard deviation 0.015\n",
      "\n",
      "Confusion Matrix: \n",
      " [[77  2]\n",
      " [ 0 60]]\n"
     ]
    }
   ],
   "source": [
    "# Logistic Regression - Smaller model - better accuracy!\n",
    "\n",
    "# Burglary+LarcenyTheft+MotorTheft+Arson\n",
    "\n",
    "# drop Violent_crime, Robbery and Assault\n",
    "\n",
    "df_X = df_new[['Burglary', 'Larceny_theft', 'Motor_theft', 'Arson','rob_assault_crime']]\n",
    "y = df_new['y']\n",
    "\n",
    "\n",
    "# Train test split \n",
    "X_train, X_test, y_train, y_test = train_test_split(df_X, y, test_size=.3)\n",
    "\n",
    "\n",
    "## Logistic Regression \n",
    "LR = LogisticRegression(C=1e9, random_state=111)\n",
    "\n",
    "# Fit the model.\n",
    "fit = LR.fit(X_train, y_train)\n",
    "#\n",
    "# Display.\n",
    "print('Coefficients')\n",
    "print('coefs:', fit.coef_)\n",
    "print('intercept: ', fit.intercept_)\n",
    "\n",
    "#Predict\n",
    "pred_y = LR.predict(X_test)\n",
    "\n",
    "print('\\nPercentage accuracy', fit.score(X_train, y_train))  #99%\n",
    "\n",
    "score = cross_val_score(LR, X_train, y_train, cv=10)  # 98%\n",
    "print(\"\\nMean crossvalidated accuracy: \", round(score.mean(),2), \n",
    "      'with standard deviation', round(score.std(),3))\n",
    "\n",
    "from sklearn.metrics import confusion_matrix\n",
    "print('\\nConfusion Matrix: \\n', confusion_matrix(pred_y, y_test))"
   ]
  },
  {
   "cell_type": "markdown",
   "metadata": {},
   "source": [
    "- Drastic increase in accuracy: \n",
    "\n",
    "    - Percentage accuracy 0.98\n",
    "\n",
    "    - Mean crossvalidated accuracy:  0.98 with  standard deviation 0.025\n",
    "\n"
   ]
  },
  {
   "cell_type": "markdown",
   "metadata": {},
   "source": [
    "## Performing PCA"
   ]
  },
  {
   "cell_type": "code",
   "execution_count": 190,
   "metadata": {},
   "outputs": [
    {
     "data": {
      "text/plain": [
       "Index(['Population', 'Murder', 'Rape', 'Burglary', 'Larceny_theft',\n",
       "       'Motor_theft', 'Arson', 'y', 'rob_assault_crime', 'Murder_perc',\n",
       "       'Rape_perc', 'Burglary_perc', 'Larceny_theft_perc', 'Motor_theft_perc',\n",
       "       'Arson_perc'],\n",
       "      dtype='object')"
      ]
     },
     "execution_count": 190,
     "metadata": {},
     "output_type": "execute_result"
    }
   ],
   "source": [
    "df_new.columns"
   ]
  },
  {
   "cell_type": "code",
   "execution_count": 195,
   "metadata": {},
   "outputs": [],
   "source": [
    "# Performing PCA \n",
    "\n",
    "df_X = df_new.drop('y', axis=1)\n",
    "y = df_new['y']\n"
   ]
  },
  {
   "cell_type": "code",
   "execution_count": 196,
   "metadata": {},
   "outputs": [],
   "source": [
    "from sklearn.decomposition import PCA  # important components \n",
    "\n",
    "pca = PCA(n_components=5)\n",
    "pca.fit(df_X)\n",
    "X_pca = pca.transform(df_X)"
   ]
  },
  {
   "cell_type": "code",
   "execution_count": 197,
   "metadata": {},
   "outputs": [
    {
     "name": "stdout",
     "output_type": "stream",
     "text": [
      "Coefficients\n",
      "coefs: [[ 9.32153489e-06 -3.97777710e-03  1.36373936e-03  3.54635225e-03\n",
      "   5.65085683e-03]]\n",
      "intercept:  [0.00070329]\n",
      "\n",
      "Percentage accuracy 0.8540372670807453\n",
      "\n",
      "Mean crossvalidated accuracy:  0.84 with standard deviation 0.052\n",
      "y       0   1\n",
      "row_0        \n",
      "0      70  23\n",
      "1       0  46\n"
     ]
    }
   ],
   "source": [
    "# Perforning vanilla Logistic Regression on reduced X\n",
    "\n",
    "# Train test split \n",
    "X_train, X_test, y_train, y_test = train_test_split(X_pca, y, test_size=.3)\n",
    "\n",
    "\n",
    "## Logistic Regression \n",
    "LR = LogisticRegression(C=1e9, random_state=1)\n",
    "\n",
    "# Fit the model.\n",
    "fit = LR.fit(X_train, y_train)\n",
    "#\n",
    "# Display.\n",
    "print('Coefficients')\n",
    "print('coefs:', fit.coef_)\n",
    "print('intercept: ', fit.intercept_)\n",
    "\n",
    "#Predict\n",
    "pred_y = LR.predict(X_test)\n",
    "print('\\nPercentage accuracy', fit.score(X_train, y_train))  \n",
    "\n",
    "score = cross_val_score(LR, X_train, y_train, cv=10)  \n",
    "print(\"\\nMean crossvalidated accuracy: \", round(score.mean(),2), \n",
    "      'with standard deviation', round(score.std(),3))\n",
    "#\n",
    "print(pd.crosstab(pred_y, y_test))\n",
    "#from sklearn.metrics import confusion_matrix\n",
    "#print('\\nConfusion Matrix: \\n', confusion_matrix(pred_y, y_test))"
   ]
  },
  {
   "cell_type": "markdown",
   "metadata": {},
   "source": [
    "__with 5 most important components_\n",
    " - Accuracy: 85%\n",
    " - Crossvalidated accuracy 84% with 0.052 standard deviation"
   ]
  },
  {
   "cell_type": "markdown",
   "metadata": {},
   "source": [
    "## Ridge Regression - L2 regularization\n",
    "## Lasso Regression - L1 regularization \n",
    "\n",
    "### Why regularization? \n",
    "\n",
    "- Remember the bias-variance tradeoff? Regularization directly affect this. A standard least squares model tends to have some variance in it, i.e. this model won’t generalize well for a data set different than its training data. Regularization, significantly reduces the variance of the model, without substantial increase in its bias. The tuning parameter, λ, is beneficial as it is it reduces the variance (hence avoiding overfitting), without loosing any important properties in the data. But after certain value, the model starts loosing important properties, giving rise to bias in the model and thus underfitting. Therefore, the value of λ should be carefully selected.\n",
    "\n",
    "- Ridge and Lasso are considered shrinkage models which essentially shrinks the uninformative coefficient estimates in the model to achieve optimized efficiency in the model. This is another way of avoiding overfitting (another option: cross-validation). By shrinking/regularizing the coefficient estimates, it increases model interpretability, i.e., discourages learning a complex model and avoids overfitting. \n",
    "\n",
    "- In these models, the OLS cost function has an added component, i.e., the __penalty__. \n",
    "\n",
    "$$\\sum_{i=1}^n(y_i-(\\alpha+\\beta x_i))^2+\\lambda\\sum_{j=1}^p\\beta_j^2 $$\n",
    "\n",
    "- What does this mean? \n",
    "    - The OLS functions estimates the RSS and in a perfectly fit model the RSS should be zero (that is, there is no difference between the y and the predicted y). In the Ridge Regression cost function, we add a penalty component to the OLS cost function. When the penalty component is added to the function, what it does is to add shrinkage amount to the coefficient estimates. The overall value of the function needs to be small, hence the slope-values (coefficients) needs to be small. \n",
    "    \n",
    "    - The $\\lambda$ is the tuning parameter that decides on the penalty we want to assign to the model. \n",
    "        - When the $\\lambda$ is zero, the penalty has no effect and OLS RSS = Ridge Regression RSS\n",
    "        - When the $\\lambda$ is $\\infty$, the coefficients has to be very small. \n",
    "        - Thus, $\\lambda$ is important, and is generally decided on by cross-validation. In Ridge regression, $\\lambda$ is called the 'l2' norm. \n",
    "\n",
    "- How are __Ridge__ and __Lasso__ different? \n",
    "    - __Ridge:__ $$\\sum_{i=1}^n(y_i-(\\alpha+\\beta x_i))^2+\\lambda\\sum_{j=1}^p\\beta_j^2 $$\n",
    "    \n",
    "    - __Lasso:__ $$\\sum_{i=1}^n(y_i-(\\alpha+\\beta x_i))^2+\\lambda\\sum_{j=1}^p|\\beta_j| $$\n",
    "    \n",
    "    - Lasso penalized only the high coefficients\n",
    "    \n",
    "According to this [article](https://towardsdatascience.com/regularization-in-machine-learning-76441ddcf99a) the advantages of Lasso over the Ridge is : __model interpretability__: Ridge will shrink the coefficients for least important predictors, very close to zero. But it will never make them exactly zero. In other words, the final model will include all predictors. However, in the case of the lasso, the L1 penalty has the eﬀect of forcing some of the coeﬃcient estimates to be exactly equal to zero when the tuning parameter λ is suﬃciently large. Therefore, the lasso method also performs variable selection and is said to yield sparse models."
   ]
  },
  {
   "cell_type": "code",
   "execution_count": 198,
   "metadata": {},
   "outputs": [
    {
     "data": {
      "text/plain": [
       "Index(['Population', 'Murder', 'Rape', 'Burglary', 'Larceny_theft',\n",
       "       'Motor_theft', 'Arson', 'y', 'rob_assault_crime', 'Murder_perc',\n",
       "       'Rape_perc', 'Burglary_perc', 'Larceny_theft_perc', 'Motor_theft_perc',\n",
       "       'Arson_perc'],\n",
       "      dtype='object')"
      ]
     },
     "execution_count": 198,
     "metadata": {},
     "output_type": "execute_result"
    }
   ],
   "source": [
    "df_new.columns"
   ]
  },
  {
   "cell_type": "code",
   "execution_count": 260,
   "metadata": {},
   "outputs": [],
   "source": [
    "# X with all features \n",
    "\n",
    "X_big = df_new.drop('y', axis=1)\n",
    "\n",
    "# X with engineered features \n",
    "X_newftrs = df_new[['rob_assault_crime', 'Murder_perc', 'Rape_perc', 'Burglary_perc', \n",
    "                    'Larceny_theft_perc', 'Motor_theft_perc', 'Arson_perc']]\n",
    "\n",
    "# X with only features in the function \n",
    "#X_small = df_new[['Burglary', 'Larceny_theft', 'Motor_theft', 'Arson','rob_assault_crime']]\n",
    "\n",
    "# y\n",
    "y = df_new['y']"
   ]
  },
  {
   "cell_type": "code",
   "execution_count": 261,
   "metadata": {},
   "outputs": [],
   "source": [
    "from sklearn.metrics import accuracy_score"
   ]
  },
  {
   "cell_type": "code",
   "execution_count": 262,
   "metadata": {},
   "outputs": [],
   "source": [
    "# Train test split \n",
    "X_train, X_test, y_train, y_test = train_test_split(X_big, y, test_size=.3)\n",
    "\n",
    "# Generate range of lambda values to pick one resulting in best r squared\n",
    "lamds = np.arange(0.001, 100, 2)\n",
    "lr_ridge = LogisticRegression(penalty='l2')\n",
    "ridge_scores = []\n",
    "accuracies = []\n",
    "\n",
    "# Train model with different regularization or lambda values\n",
    "for l in lamds:\n",
    "    lr_ridge.set_params(C=l, fit_intercept=False)\n",
    "    lr_ridge.fit(X_train, y_train)\n",
    "    y_pred = lr_ridge.predict(X_test)\n",
    "    ridge_scores.append(lr_ridge.score(X_train, y_train))\n",
    "    accuracies.append(accuracy_score(y_test, y_pred))\n",
    "\n",
    "# Get values\n",
    "#print('Training accuracy scores: ', ridge_scores)\n",
    "#print('Testing accuracy scores: ', accuracies)\n",
    "\n",
    "## Printing training and testing accuracy side by side \n",
    "#for tr, ts in zip(ridge_scores, accuracies):\n",
    "#    print('Training: ', tr, \"Testing: \", ts, '\\n')"
   ]
  },
  {
   "cell_type": "code",
   "execution_count": 263,
   "metadata": {},
   "outputs": [
    {
     "data": {
      "text/plain": [
       "<matplotlib.legend.Legend at 0x121a897f0>"
      ]
     },
     "execution_count": 263,
     "metadata": {},
     "output_type": "execute_result"
    },
    {
     "data": {
      "image/png": "[encoded data removed]",
      "text/plain": [
       "<Figure size 864x576 with 1 Axes>"
      ]
     },
     "metadata": {},
     "output_type": "display_data"
    }
   ],
   "source": [
    "plt.figure(figsize=(12, 8))\n",
    "plt.plot(lamds, ridge_scores)\n",
    "plt.xlabel('Lamdas')\n",
    "plt.xticks(np.arange(0.001, 100, 5))\n",
    "plt.ylabel('Accuracy scores')\n",
    "\n",
    "plt.plot(lamds, accuracies )\n",
    "plt.legend(['Training', 'Testing'])\n"
   ]
  },
  {
   "cell_type": "code",
   "execution_count": 264,
   "metadata": {},
   "outputs": [
    {
     "name": "stdout",
     "output_type": "stream",
     "text": [
      "Coefficient\n",
      "[[-2.84186051e-06 -2.33689267e-04 -2.77986015e-03 -2.72400377e-03\n",
      "   2.21580913e-03  6.14012367e-03 -2.39828151e-03 -1.82086955e-03\n",
      "  -4.35579135e-03 -1.94386507e-03 -1.80554892e-03 -1.66408540e-03\n",
      "  -1.50750925e-03 -1.35164840e-03]]\n",
      "0.0\n",
      "y       0   1\n",
      "row_0        \n",
      "0      14   1\n",
      "1      58  66\n",
      "Mean CV accuracy: 0.5780577956989247\n"
     ]
    }
   ],
   "source": [
    "# Select best lambda for regularization\n",
    "\n",
    "# Instantiate and set regularization coefficient \n",
    "lr_ridge = LogisticRegression(penalty='l2', C=17, fit_intercept=False) #smaller values of C = stronger regularization\n",
    "\n",
    "# Fit model\n",
    "lr_ridge.fit(X_train, y_train)\n",
    "\n",
    "# Get results\n",
    "print('Coefficient')\n",
    "print(lr_ridge.coef_)\n",
    "print(lr_ridge.intercept_)\n",
    "\n",
    "# Get predictions\n",
    "pred_y_r = lr_ridge.predict(X_test)\n",
    "\n",
    "print(pd.crosstab(pred_y_r, y_test))\n",
    "\n",
    "ridge_score = cross_val_score(lr_ridge, X_train, y_train, cv=10)\n",
    "print('Mean CV accuracy:', ridge_score.mean())"
   ]
  },
  {
   "cell_type": "code",
   "execution_count": 265,
   "metadata": {},
   "outputs": [],
   "source": [
    "## Ridge with the new features \n",
    "\n",
    "# Train test split \n",
    "X_train, X_test, y_train, y_test = train_test_split(X_newftrs, y, test_size=.3)\n",
    "\n",
    "# Generate range of lambda values to pick one resulting in best r squared\n",
    "lamds = np.arange(0.001, 100, 2)\n",
    "lr_ridge = LogisticRegression(penalty='l2')\n",
    "ridge_scores = []\n",
    "accuracies = []\n",
    "\n",
    "# Train model with different regularization or lambda values\n",
    "for l in lamds:\n",
    "    lr_ridge.set_params(C=l, fit_intercept=False)\n",
    "    lr_ridge.fit(X_train, y_train)\n",
    "    y_pred = lr_ridge.predict(X_test)\n",
    "    ridge_scores.append(lr_ridge.score(X_train, y_train))\n",
    "    accuracies.append(accuracy_score(y_test, y_pred))\n",
    "\n",
    "# Get values\n",
    "#print('Training accuracy scores: ', ridge_scores)\n",
    "#print('Testing accuracy scores: ', accuracies)\n",
    "\n",
    "## Print training and testing accuracies side by side \n",
    "#for tr, ts in zip(ridge_scores, accuracies):\n",
    "#    print('Training: ', tr, \"Testing: \", ts, '\\n')"
   ]
  },
  {
   "cell_type": "code",
   "execution_count": 266,
   "metadata": {},
   "outputs": [
    {
     "data": {
      "text/plain": [
       "<matplotlib.legend.Legend at 0x123284f60>"
      ]
     },
     "execution_count": 266,
     "metadata": {},
     "output_type": "execute_result"
    },
    {
     "data": {
      "image/png": "[encoded data removed]",
      "text/plain": [
       "<Figure size 864x576 with 1 Axes>"
      ]
     },
     "metadata": {},
     "output_type": "display_data"
    }
   ],
   "source": [
    "plt.figure(figsize=(12, 8))\n",
    "plt.plot(lamds, ridge_scores)\n",
    "plt.xlabel('Lamdas')\n",
    "plt.xticks(np.arange(0.001, 100, 5))\n",
    "plt.ylabel('Accuracy scores')\n",
    "\n",
    "plt.plot(lamds, accuracies )\n",
    "plt.legend(['Training', 'Testing'])\n"
   ]
  },
  {
   "cell_type": "code",
   "execution_count": 267,
   "metadata": {},
   "outputs": [
    {
     "name": "stdout",
     "output_type": "stream",
     "text": [
      "Coefficient\n",
      "[[ 0.01604377 -4.49555159 -0.10998316 -0.01569236 -0.00904678 -0.00753202\n",
      "  -0.00661002]]\n",
      "0.0\n",
      "y       0   1\n",
      "row_0        \n",
      "0      63   6\n",
      "1      12  58\n",
      "Mean CV accuracy: 0.8853372434017596\n"
     ]
    }
   ],
   "source": [
    "# Select best lambda for regularization\n",
    "\n",
    "# Instantiate and set regularization coefficient \n",
    "lr_ridge = LogisticRegression(penalty='l2', C=10, fit_intercept=False) #smaller values of C = stronger regularization\n",
    "\n",
    "# Fit model\n",
    "lr_ridge.fit(X_train, y_train)\n",
    "\n",
    "# Get results\n",
    "print('Coefficient')\n",
    "print(lr_ridge.coef_)\n",
    "print(lr_ridge.intercept_)\n",
    "\n",
    "# Get predictions\n",
    "pred_y_r = lr_ridge.predict(X_test)\n",
    "\n",
    "print(pd.crosstab(pred_y_r, y_test))\n",
    "\n",
    "ridge_score = cross_val_score(lr_ridge, X_train, y_train, cv=10)\n",
    "print('Mean CV accuracy:', ridge_score.mean())"
   ]
  },
  {
   "cell_type": "markdown",
   "metadata": {},
   "source": [
    "### Findings: \n",
    "\n",
    "- With the biggest model the accuracy 61%. Accuracy increases to 88% with the engineered features. "
   ]
  },
  {
   "cell_type": "markdown",
   "metadata": {},
   "source": [
    "## Lasso Regression - L1 Regularization"
   ]
  },
  {
   "cell_type": "code",
   "execution_count": 268,
   "metadata": {},
   "outputs": [
    {
     "data": {
      "text/plain": [
       "<matplotlib.legend.Legend at 0x1236d2b00>"
      ]
     },
     "execution_count": 268,
     "metadata": {},
     "output_type": "execute_result"
    },
    {
     "data": {
      "image/png": "[encoded data removed]",
      "text/plain": [
       "<Figure size 864x576 with 1 Axes>"
      ]
     },
     "metadata": {},
     "output_type": "display_data"
    }
   ],
   "source": [
    "# Train test split \n",
    "X_train, X_test, y_train, y_test = train_test_split(X_big, y, test_size=.3)\n",
    "\n",
    "# Generate range of lambda values to pick one resulting in best r squared\n",
    "lamds = np.arange(0.001, 100, 2)\n",
    "lr_lasso = LogisticRegression(penalty='l1')\n",
    "lasso_scores = []\n",
    "accuracies = []\n",
    "\n",
    "# Train model with different regularization or lambda values\n",
    "for l in lamds:\n",
    "    lr_lasso.set_params(C=l, fit_intercept=False)\n",
    "    lr_lasso.fit(X_train, y_train)\n",
    "    y_pred_l = lr_lasso.predict(X_test)\n",
    "    lasso_scores.append(lr_lasso.score(X_train, y_train))\n",
    "    accuracies.append(accuracy_score(y_test, y_pred_l))\n",
    "\n",
    "# Get values\n",
    "#print('Training accuracy scores: ', ridge_scores)\n",
    "#print('Testing accuracy scores: ', accuracies)\n",
    "\n",
    "## Printing training and testing accuracy side by side \n",
    "#for tr, ts in zip(ridge_scores, accuracies):\n",
    "#    print('Training: ', tr, \"Testing: \", ts, '\\n')\n",
    "\n",
    "plt.figure(figsize=(12, 8))\n",
    "plt.plot(lamds, lasso_scores)\n",
    "plt.xlabel('Lamdas')\n",
    "plt.xticks(np.arange(0.001, 100, 5))\n",
    "plt.ylabel('Accuracy scores')\n",
    "\n",
    "plt.plot(lamds, accuracies )\n",
    "plt.legend(['Training', 'Testing'])\n",
    "\n",
    "\n"
   ]
  },
  {
   "cell_type": "code",
   "execution_count": 269,
   "metadata": {},
   "outputs": [
    {
     "name": "stdout",
     "output_type": "stream",
     "text": [
      "Coefficient\n",
      "[[-1.90411386e-05 -5.15696018e-01 -1.08003139e-01 -6.39614627e-03\n",
      "   4.22854051e-03  7.67544778e-03  1.58897216e-02  2.37743126e-02\n",
      "  -6.59957854e+00  1.13273106e+01  6.49065396e+00  0.00000000e+00\n",
      "  -3.07563205e+00 -1.24721409e+01]]\n",
      "0.0\n",
      "y       0   1\n",
      "row_0        \n",
      "0      57   6\n",
      "1      11  65\n",
      "Mean CV accuracy: 0.8974187438905181\n"
     ]
    }
   ],
   "source": [
    "# Select best lambda for regularization\n",
    "\n",
    "# Instantiate and set regularization coefficient \n",
    "lr_lasso = LogisticRegression(penalty='l1', C=10, fit_intercept=False) #smaller values of C = stronger regularization\n",
    "\n",
    "# Fit model\n",
    "lr_lasso.fit(X_train, y_train)\n",
    "\n",
    "# Get results\n",
    "print('Coefficient')\n",
    "print(lr_lasso.coef_)\n",
    "print(lr_lasso.intercept_)\n",
    "\n",
    "# Get predictions\n",
    "pred_y_l = lr_lasso.predict(X_test)\n",
    "\n",
    "print(pd.crosstab(pred_y_l, y_test))\n",
    "\n",
    "lasso_score = cross_val_score(lr_lasso, X_train, y_train, cv=10)\n",
    "print('Mean CV accuracy:', lasso_score.mean())"
   ]
  },
  {
   "cell_type": "code",
   "execution_count": null,
   "metadata": {},
   "outputs": [],
   "source": []
  },
  {
   "cell_type": "code",
   "execution_count": null,
   "metadata": {},
   "outputs": [],
   "source": []
  },
  {
   "cell_type": "code",
   "execution_count": null,
   "metadata": {},
   "outputs": [],
   "source": []
  },
  {
   "cell_type": "code",
   "execution_count": null,
   "metadata": {},
   "outputs": [],
   "source": []
  },
  {
   "cell_type": "code",
   "execution_count": 270,
   "metadata": {},
   "outputs": [],
   "source": [
    "# X with all features \n",
    "\n",
    "X_big = df_new.drop('y', axis=1)\n",
    "\n",
    "# X with engineered features \n",
    "X_newftrs = df_new[['rob_assault_crime', 'Murder_perc', 'Rape_perc', 'Burglary_perc', \n",
    "                    'Larceny_theft_perc', 'Motor_theft_perc', 'Arson_perc']]\n",
    "\n",
    "# X with only features in the function \n",
    "#X_small = df_new[['Burglary', 'Larceny_theft', 'Motor_theft', 'Arson','rob_assault_crime']]\n",
    "\n",
    "# y\n",
    "y = df_new['y']"
   ]
  },
  {
   "cell_type": "code",
   "execution_count": 271,
   "metadata": {},
   "outputs": [],
   "source": [
    "X_train_b, X_test_b, y_train_b, y_test_b = train_test_split(X_big, y, test_size=.3)"
   ]
  },
  {
   "cell_type": "code",
   "execution_count": 272,
   "metadata": {},
   "outputs": [],
   "source": [
    "X_train_s, X_test_s, y_train_s, y_test_s = train_test_split(X_newftrs, y, test_size=.3)"
   ]
  },
  {
   "cell_type": "code",
   "execution_count": null,
   "metadata": {},
   "outputs": [],
   "source": []
  },
  {
   "cell_type": "code",
   "execution_count": 274,
   "metadata": {},
   "outputs": [
    {
     "data": {
      "image/png": "[encoded data removed]",
      "text/plain": [
       "<Figure size 432x288 with 1 Axes>"
      ]
     },
     "metadata": {},
     "output_type": "display_data"
    }
   ],
   "source": [
    "## Comparing Ridge and Lasso for the big model \n",
    "\n",
    "# Store estimates.\n",
    "estimates = [None,None,None]\n",
    "\n",
    "# Storing legend information.\n",
    "labels = []\n",
    "\n",
    "#Run the model for many alphas.\n",
    "for l in lamds:\n",
    "    ridgeregrBig = LogisticRegression(penalty='l2', C=l)\n",
    "    ridgeregrBig.fit(X_train_b, y_train_b)\n",
    "    \n",
    "    lassBig = LogisticRegression(penalty='l1', C=l)\n",
    "    lassBig.fit(X_train_b, y_train_b)\n",
    "    \n",
    "    estimates = np.row_stack((\n",
    "        estimates,\n",
    "        [ridgeregrBig.score(X_train_b, y_train_b),lassBig.score(X_train_b, y_train_b),l]))\n",
    "\n",
    "# Make the data pretty.\n",
    "estimates_df = pd.DataFrame(\n",
    "    estimates,\n",
    "    columns=['Ridge','Lasso','lambda'])\n",
    "estimates_df.sort_values(by='lambda', inplace=True, ascending=True)\n",
    "\n",
    "# Plot a line for each parameter.\n",
    "for var in ['Ridge','Lasso']:\n",
    "    plt.plot(estimates_df['lambda'], estimates_df[var])\n",
    "    labels.append(var)\n",
    "plt.xlabel('Lambda')\n",
    "plt.ylabel('Accuracy')\n",
    "plt.legend(labels)\n",
    "plt.show()"
   ]
  },
  {
   "cell_type": "code",
   "execution_count": 275,
   "metadata": {},
   "outputs": [
    {
     "data": {
      "image/png": "[encoded data removed]",
      "text/plain": [
       "<Figure size 432x288 with 1 Axes>"
      ]
     },
     "metadata": {},
     "output_type": "display_data"
    }
   ],
   "source": [
    "## Comparing Ridge and Lasso for the SMALL model \n",
    "\n",
    "# Store estimates.\n",
    "estimates = [None,None,None]\n",
    "\n",
    "# Storing legend information.\n",
    "labels = []\n",
    "\n",
    "#Run the model for many alphas.\n",
    "for l in lamds:\n",
    "    ridgeregrBig = LogisticRegression(penalty='l2', C=l)\n",
    "    ridgeregrBig.fit(X_train_s, y_train_s)\n",
    "    \n",
    "    lassBig = LogisticRegression(penalty='l1', C=l)\n",
    "    lassBig.fit(X_train_s, y_train_s)\n",
    "    \n",
    "    estimates = np.row_stack((\n",
    "        estimates,\n",
    "        [ridgeregrBig.score(X_train_s, y_train_s),lassBig.score(X_train_s, y_train_s),l]))\n",
    "\n",
    "# Make the data pretty.\n",
    "estimates_df = pd.DataFrame(\n",
    "    estimates,\n",
    "    columns=['Ridge','Lasso','lambda'])\n",
    "estimates_df.sort_values(by='lambda', inplace=True, ascending=True)\n",
    "\n",
    "# Plot a line for each parameter.\n",
    "for var in ['Ridge','Lasso']:\n",
    "    plt.plot(estimates_df['lambda'], estimates_df[var])\n",
    "    labels.append(var)\n",
    "plt.xlabel('Lambda')\n",
    "plt.ylabel('Accuracy')\n",
    "plt.legend(labels)\n",
    "plt.show()"
   ]
  },
  {
   "cell_type": "code",
   "execution_count": null,
   "metadata": {},
   "outputs": [],
   "source": []
  },
  {
   "cell_type": "code",
   "execution_count": null,
   "metadata": {},
   "outputs": [],
   "source": []
  },
  {
   "cell_type": "code",
   "execution_count": null,
   "metadata": {},
   "outputs": [],
   "source": []
  },
  {
   "cell_type": "code",
   "execution_count": null,
   "metadata": {},
   "outputs": [],
   "source": []
  },
  {
   "cell_type": "code",
   "execution_count": null,
   "metadata": {},
   "outputs": [],
   "source": []
  }
 ],
 "metadata": {
  "kernelspec": {
   "display_name": "Python 3",
   "language": "python",
   "name": "python3"
  },
  "language_info": {
   "codemirror_mode": {
    "name": "ipython",
    "version": 3
   },
   "file_extension": ".py",
   "mimetype": "text/x-python",
   "name": "python",
   "nbconvert_exporter": "python",
   "pygments_lexer": "ipython3",
   "version": "3.6.5"
  }
 },
 "nbformat": 4,
 "nbformat_minor": 2
}
