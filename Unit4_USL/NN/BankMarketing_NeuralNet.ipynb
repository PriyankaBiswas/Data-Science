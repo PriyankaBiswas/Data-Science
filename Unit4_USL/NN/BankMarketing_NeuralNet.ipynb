{
 "cells": [
  {
   "cell_type": "code",
   "execution_count": 64,
   "metadata": {},
   "outputs": [],
   "source": [
    "import numpy as np\n",
    "import pandas as pd\n",
    "import matplotlib.pyplot as plt\n",
    "%matplotlib inline"
   ]
  },
  {
   "cell_type": "markdown",
   "metadata": {},
   "source": [
    "### Build a neural network to predict which customers will sign up for a long term deposit\n"
   ]
  },
  {
   "cell_type": "code",
   "execution_count": 65,
   "metadata": {},
   "outputs": [],
   "source": [
    "df = pd.read_csv('bank-full.csv')"
   ]
  },
  {
   "cell_type": "code",
   "execution_count": 66,
   "metadata": {},
   "outputs": [
    {
     "data": {
      "text/html": [
       "<div>\n",
       "<style scoped>\n",
       "    .dataframe tbody tr th:only-of-type {\n",
       "        vertical-align: middle;\n",
       "    }\n",
       "\n",
       "    .dataframe tbody tr th {\n",
       "        vertical-align: top;\n",
       "    }\n",
       "\n",
       "    .dataframe thead th {\n",
       "        text-align: right;\n",
       "    }\n",
       "</style>\n",
       "<table border=\"1\" class=\"dataframe\">\n",
       "  <thead>\n",
       "    <tr style=\"text-align: right;\">\n",
       "      <th></th>\n",
       "      <th>age</th>\n",
       "      <th>job</th>\n",
       "      <th>marital</th>\n",
       "      <th>education</th>\n",
       "      <th>default</th>\n",
       "      <th>balance</th>\n",
       "      <th>housing</th>\n",
       "      <th>loan</th>\n",
       "      <th>contact</th>\n",
       "      <th>day</th>\n",
       "      <th>month</th>\n",
       "      <th>duration</th>\n",
       "      <th>campaign</th>\n",
       "      <th>pdays</th>\n",
       "      <th>previous</th>\n",
       "      <th>poutcome</th>\n",
       "      <th>y</th>\n",
       "    </tr>\n",
       "  </thead>\n",
       "  <tbody>\n",
       "    <tr>\n",
       "      <th>0</th>\n",
       "      <td>58</td>\n",
       "      <td>management</td>\n",
       "      <td>married</td>\n",
       "      <td>tertiary</td>\n",
       "      <td>no</td>\n",
       "      <td>2143</td>\n",
       "      <td>yes</td>\n",
       "      <td>no</td>\n",
       "      <td>unknown</td>\n",
       "      <td>5</td>\n",
       "      <td>may</td>\n",
       "      <td>261</td>\n",
       "      <td>1</td>\n",
       "      <td>-1</td>\n",
       "      <td>0</td>\n",
       "      <td>unknown</td>\n",
       "      <td>no</td>\n",
       "    </tr>\n",
       "    <tr>\n",
       "      <th>1</th>\n",
       "      <td>44</td>\n",
       "      <td>technician</td>\n",
       "      <td>single</td>\n",
       "      <td>secondary</td>\n",
       "      <td>no</td>\n",
       "      <td>29</td>\n",
       "      <td>yes</td>\n",
       "      <td>no</td>\n",
       "      <td>unknown</td>\n",
       "      <td>5</td>\n",
       "      <td>may</td>\n",
       "      <td>151</td>\n",
       "      <td>1</td>\n",
       "      <td>-1</td>\n",
       "      <td>0</td>\n",
       "      <td>unknown</td>\n",
       "      <td>no</td>\n",
       "    </tr>\n",
       "    <tr>\n",
       "      <th>2</th>\n",
       "      <td>33</td>\n",
       "      <td>entrepreneur</td>\n",
       "      <td>married</td>\n",
       "      <td>secondary</td>\n",
       "      <td>no</td>\n",
       "      <td>2</td>\n",
       "      <td>yes</td>\n",
       "      <td>yes</td>\n",
       "      <td>unknown</td>\n",
       "      <td>5</td>\n",
       "      <td>may</td>\n",
       "      <td>76</td>\n",
       "      <td>1</td>\n",
       "      <td>-1</td>\n",
       "      <td>0</td>\n",
       "      <td>unknown</td>\n",
       "      <td>no</td>\n",
       "    </tr>\n",
       "    <tr>\n",
       "      <th>3</th>\n",
       "      <td>47</td>\n",
       "      <td>blue-collar</td>\n",
       "      <td>married</td>\n",
       "      <td>unknown</td>\n",
       "      <td>no</td>\n",
       "      <td>1506</td>\n",
       "      <td>yes</td>\n",
       "      <td>no</td>\n",
       "      <td>unknown</td>\n",
       "      <td>5</td>\n",
       "      <td>may</td>\n",
       "      <td>92</td>\n",
       "      <td>1</td>\n",
       "      <td>-1</td>\n",
       "      <td>0</td>\n",
       "      <td>unknown</td>\n",
       "      <td>no</td>\n",
       "    </tr>\n",
       "    <tr>\n",
       "      <th>4</th>\n",
       "      <td>33</td>\n",
       "      <td>unknown</td>\n",
       "      <td>single</td>\n",
       "      <td>unknown</td>\n",
       "      <td>no</td>\n",
       "      <td>1</td>\n",
       "      <td>no</td>\n",
       "      <td>no</td>\n",
       "      <td>unknown</td>\n",
       "      <td>5</td>\n",
       "      <td>may</td>\n",
       "      <td>198</td>\n",
       "      <td>1</td>\n",
       "      <td>-1</td>\n",
       "      <td>0</td>\n",
       "      <td>unknown</td>\n",
       "      <td>no</td>\n",
       "    </tr>\n",
       "  </tbody>\n",
       "</table>\n",
       "</div>"
      ],
      "text/plain": [
       "   age           job  marital  education default  balance housing loan  \\\n",
       "0   58    management  married   tertiary      no     2143     yes   no   \n",
       "1   44    technician   single  secondary      no       29     yes   no   \n",
       "2   33  entrepreneur  married  secondary      no        2     yes  yes   \n",
       "3   47   blue-collar  married    unknown      no     1506     yes   no   \n",
       "4   33       unknown   single    unknown      no        1      no   no   \n",
       "\n",
       "   contact  day month  duration  campaign  pdays  previous poutcome   y  \n",
       "0  unknown    5   may       261         1     -1         0  unknown  no  \n",
       "1  unknown    5   may       151         1     -1         0  unknown  no  \n",
       "2  unknown    5   may        76         1     -1         0  unknown  no  \n",
       "3  unknown    5   may        92         1     -1         0  unknown  no  \n",
       "4  unknown    5   may       198         1     -1         0  unknown  no  "
      ]
     },
     "execution_count": 66,
     "metadata": {},
     "output_type": "execute_result"
    }
   ],
   "source": [
    "df.head()"
   ]
  },
  {
   "cell_type": "code",
   "execution_count": 67,
   "metadata": {},
   "outputs": [
    {
     "data": {
      "text/plain": [
       "array(['married', 'single', 'divorced'], dtype=object)"
      ]
     },
     "execution_count": 67,
     "metadata": {},
     "output_type": "execute_result"
    }
   ],
   "source": [
    "df.marital.unique()"
   ]
  },
  {
   "cell_type": "code",
   "execution_count": 68,
   "metadata": {},
   "outputs": [],
   "source": [
    "from sklearn.preprocessing import LabelEncoder\n",
    "\n",
    "le = LabelEncoder()\n",
    "df[\"job_cat\"] = le.fit_transform(df['job'])"
   ]
  },
  {
   "cell_type": "code",
   "execution_count": 69,
   "metadata": {},
   "outputs": [
    {
     "data": {
      "text/plain": [
       "job\n",
       "admin.            [0]\n",
       "blue-collar       [1]\n",
       "entrepreneur      [2]\n",
       "housemaid         [3]\n",
       "management        [4]\n",
       "retired           [5]\n",
       "self-employed     [6]\n",
       "services          [7]\n",
       "student           [8]\n",
       "technician        [9]\n",
       "unemployed       [10]\n",
       "unknown          [11]\n",
       "Name: job_cat, dtype: object"
      ]
     },
     "execution_count": 69,
     "metadata": {},
     "output_type": "execute_result"
    }
   ],
   "source": [
    "df.groupby('job')['job_cat'].unique()"
   ]
  },
  {
   "cell_type": "code",
   "execution_count": 70,
   "metadata": {},
   "outputs": [
    {
     "data": {
      "text/plain": [
       "marital\n",
       "divorced    [0]\n",
       "married     [1]\n",
       "single      [2]\n",
       "Name: martial_cat, dtype: object"
      ]
     },
     "execution_count": 70,
     "metadata": {},
     "output_type": "execute_result"
    }
   ],
   "source": [
    "df[\"martial_cat\"] = le.fit_transform(df['marital'])\n",
    "df.groupby('marital').martial_cat.unique()"
   ]
  },
  {
   "cell_type": "code",
   "execution_count": 71,
   "metadata": {},
   "outputs": [
    {
     "data": {
      "text/plain": [
       "education\n",
       "primary      [0]\n",
       "secondary    [1]\n",
       "tertiary     [2]\n",
       "unknown      [3]\n",
       "Name: edu_cat, dtype: object"
      ]
     },
     "execution_count": 71,
     "metadata": {},
     "output_type": "execute_result"
    }
   ],
   "source": [
    "df['edu_cat'] = le.fit_transform(df['education'])\n",
    "df.groupby('education')['edu_cat'].unique()"
   ]
  },
  {
   "cell_type": "code",
   "execution_count": 72,
   "metadata": {},
   "outputs": [],
   "source": [
    "df.default = np.where(df.default=='yes', 1,0)"
   ]
  },
  {
   "cell_type": "code",
   "execution_count": 73,
   "metadata": {},
   "outputs": [],
   "source": [
    "df.housing = np.where(df.housing == 'yes', 1, 0)"
   ]
  },
  {
   "cell_type": "code",
   "execution_count": 74,
   "metadata": {
    "scrolled": true
   },
   "outputs": [],
   "source": [
    "df.loan = np.where(df.loan == 'yes', 1, 0)"
   ]
  },
  {
   "cell_type": "code",
   "execution_count": 75,
   "metadata": {},
   "outputs": [
    {
     "data": {
      "text/plain": [
       "month\n",
       "apr     [0]\n",
       "aug     [1]\n",
       "dec     [2]\n",
       "feb     [3]\n",
       "jan     [4]\n",
       "jul     [5]\n",
       "jun     [6]\n",
       "mar     [7]\n",
       "may     [8]\n",
       "nov     [9]\n",
       "oct    [10]\n",
       "sep    [11]\n",
       "Name: month_cat, dtype: object"
      ]
     },
     "execution_count": 75,
     "metadata": {},
     "output_type": "execute_result"
    }
   ],
   "source": [
    "df['month_cat'] = le.fit_transform(df.month)\n",
    "df.groupby('month')['month_cat'].unique()"
   ]
  },
  {
   "cell_type": "code",
   "execution_count": 76,
   "metadata": {
    "scrolled": true
   },
   "outputs": [
    {
     "name": "stdout",
     "output_type": "stream",
     "text": [
      "<class 'pandas.core.frame.DataFrame'>\n",
      "RangeIndex: 45211 entries, 0 to 45210\n",
      "Data columns (total 21 columns):\n",
      "age            45211 non-null int64\n",
      "job            45211 non-null object\n",
      "marital        45211 non-null object\n",
      "education      45211 non-null object\n",
      "default        45211 non-null int64\n",
      "balance        45211 non-null int64\n",
      "housing        45211 non-null int64\n",
      "loan           45211 non-null int64\n",
      "contact        45211 non-null object\n",
      "day            45211 non-null int64\n",
      "month          45211 non-null object\n",
      "duration       45211 non-null int64\n",
      "campaign       45211 non-null int64\n",
      "pdays          45211 non-null int64\n",
      "previous       45211 non-null int64\n",
      "poutcome       45211 non-null object\n",
      "y              45211 non-null object\n",
      "job_cat        45211 non-null int64\n",
      "martial_cat    45211 non-null int64\n",
      "edu_cat        45211 non-null int64\n",
      "month_cat      45211 non-null int64\n",
      "dtypes: int64(14), object(7)\n",
      "memory usage: 7.2+ MB\n"
     ]
    }
   ],
   "source": [
    "df.info()"
   ]
  },
  {
   "cell_type": "code",
   "execution_count": 77,
   "metadata": {},
   "outputs": [
    {
     "data": {
      "text/plain": [
       "Index(['age', 'job', 'marital', 'education', 'default', 'balance', 'housing',\n",
       "       'loan', 'contact', 'day', 'month', 'duration', 'campaign', 'pdays',\n",
       "       'previous', 'poutcome', 'y', 'job_cat', 'martial_cat', 'edu_cat',\n",
       "       'month_cat'],\n",
       "      dtype='object')"
      ]
     },
     "execution_count": 77,
     "metadata": {},
     "output_type": "execute_result"
    }
   ],
   "source": [
    "df.columns"
   ]
  },
  {
   "cell_type": "code",
   "execution_count": 78,
   "metadata": {},
   "outputs": [],
   "source": [
    "col_to_use = ['age', 'job_cat', 'martial_cat', 'edu_cat', 'default', 'balance', 'housing',\n",
    "       'loan', 'day', 'month_cat', 'duration', 'campaign', 'pdays',\n",
    "       'previous',  'y']\n"
   ]
  },
  {
   "cell_type": "code",
   "execution_count": 79,
   "metadata": {},
   "outputs": [],
   "source": [
    "df1 = df[col_to_use]"
   ]
  },
  {
   "cell_type": "code",
   "execution_count": 80,
   "metadata": {},
   "outputs": [
    {
     "data": {
      "text/plain": [
       "(45211, 15)"
      ]
     },
     "execution_count": 80,
     "metadata": {},
     "output_type": "execute_result"
    }
   ],
   "source": [
    "df1.shape"
   ]
  },
  {
   "cell_type": "code",
   "execution_count": 81,
   "metadata": {},
   "outputs": [
    {
     "data": {
      "text/plain": [
       "no     39922\n",
       "yes     5289\n",
       "Name: y, dtype: int64"
      ]
     },
     "execution_count": 81,
     "metadata": {},
     "output_type": "execute_result"
    }
   ],
   "source": [
    "df1.y.value_counts()"
   ]
  },
  {
   "cell_type": "code",
   "execution_count": 82,
   "metadata": {},
   "outputs": [
    {
     "name": "stderr",
     "output_type": "stream",
     "text": [
      "/Library/Frameworks/Python.framework/Versions/3.6/lib/python3.6/site-packages/pandas/core/generic.py:4405: SettingWithCopyWarning: \n",
      "A value is trying to be set on a copy of a slice from a DataFrame.\n",
      "Try using .loc[row_indexer,col_indexer] = value instead\n",
      "\n",
      "See the caveats in the documentation: http://pandas.pydata.org/pandas-docs/stable/indexing.html#indexing-view-versus-copy\n",
      "  self[name] = value\n"
     ]
    }
   ],
   "source": [
    "df1.y = np.where(df1.y == 'yes', 1, 0)\n"
   ]
  },
  {
   "cell_type": "code",
   "execution_count": 83,
   "metadata": {},
   "outputs": [],
   "source": [
    "#train test split\n",
    "\n",
    "from sklearn.model_selection import train_test_split\n",
    "X_train, X_test, y_train, y_test = train_test_split(df1, df1.y, test_size=.2)"
   ]
  },
  {
   "cell_type": "code",
   "execution_count": 84,
   "metadata": {},
   "outputs": [
    {
     "name": "stdout",
     "output_type": "stream",
     "text": [
      "<class 'pandas.core.frame.DataFrame'>\n",
      "Int64Index: 36168 entries, 2410 to 22305\n",
      "Data columns (total 15 columns):\n",
      "age            36168 non-null int64\n",
      "job_cat        36168 non-null int64\n",
      "martial_cat    36168 non-null int64\n",
      "edu_cat        36168 non-null int64\n",
      "default        36168 non-null int64\n",
      "balance        36168 non-null int64\n",
      "housing        36168 non-null int64\n",
      "loan           36168 non-null int64\n",
      "day            36168 non-null int64\n",
      "month_cat      36168 non-null int64\n",
      "duration       36168 non-null int64\n",
      "campaign       36168 non-null int64\n",
      "pdays          36168 non-null int64\n",
      "previous       36168 non-null int64\n",
      "y              36168 non-null int64\n",
      "dtypes: int64(15)\n",
      "memory usage: 4.4 MB\n"
     ]
    }
   ],
   "source": [
    "X_train.info()"
   ]
  },
  {
   "cell_type": "code",
   "execution_count": 85,
   "metadata": {},
   "outputs": [
    {
     "name": "stdout",
     "output_type": "stream",
     "text": [
      "train class balance: 50.0%\n"
     ]
    }
   ],
   "source": [
    "from imblearn.over_sampling import SMOTE\n",
    "# random SMOTE\n",
    "\n",
    "sm = SMOTE(random_state=12, ratio = 1.0)\n",
    "X_train_res, y_train_res = sm.fit_sample(X_train, y_train)\n",
    "\n",
    "#make sure it worked, should be 50%\n",
    "print('train class balance: {}%'.format(len(y_train_res[y_train_res == 1]) / len(y_train_res) * 100))\n"
   ]
  },
  {
   "cell_type": "code",
   "execution_count": 45,
   "metadata": {},
   "outputs": [
    {
     "name": "stdout",
     "output_type": "stream",
     "text": [
      "0.9988886801903331\n",
      "154.226724 seconds\n"
     ]
    }
   ],
   "source": [
    "## MLP \n",
    "\n",
    "from sklearn.neural_network import MLPClassifier\n",
    "import time\n",
    "\n",
    "start_time = time.clock()\n",
    "mlp = MLPClassifier(hidden_layer_sizes=(1000,)).fit(X_train_res, y_train_res)\n",
    "y_res_pred = mlp.predict(X_train_res) \n",
    "print(mlp.score(X_train_res, y_train_res))\n",
    "print('{} seconds'.format(time.clock() - start_time))"
   ]
  },
  {
   "cell_type": "code",
   "execution_count": 46,
   "metadata": {},
   "outputs": [
    {
     "data": {
      "text/plain": [
       "array([[31914,    30],\n",
       "       [   41, 31903]])"
      ]
     },
     "execution_count": 46,
     "metadata": {},
     "output_type": "execute_result"
    }
   ],
   "source": [
    "#Training confusion matrix\n",
    "\n",
    "from sklearn.metrics import confusion_matrix\n",
    "\n",
    "confusion_matrix(y_train_res, y_res_pred)"
   ]
  },
  {
   "cell_type": "code",
   "execution_count": 52,
   "metadata": {
    "scrolled": true
   },
   "outputs": [
    {
     "data": {
      "text/plain": [
       "array([[7972,    6],\n",
       "       [  10, 1055]])"
      ]
     },
     "execution_count": 52,
     "metadata": {},
     "output_type": "execute_result"
    }
   ],
   "source": [
    "# Testing \n",
    "y_test_pred = mlp.predict(X_test)\n",
    "\n",
    "confusion_matrix(y_test, y_test_pred)"
   ]
  },
  {
   "cell_type": "code",
   "execution_count": 53,
   "metadata": {},
   "outputs": [
    {
     "data": {
      "text/plain": [
       "0.9987165038817931"
      ]
     },
     "execution_count": 53,
     "metadata": {},
     "output_type": "execute_result"
    }
   ],
   "source": [
    "# recall \n",
    "\n",
    "from sklearn.metrics import recall_score\n",
    "\n",
    "recall_score(y_train_res, y_res_pred)  "
   ]
  },
  {
   "cell_type": "code",
   "execution_count": 55,
   "metadata": {},
   "outputs": [
    {
     "name": "stdout",
     "output_type": "stream",
     "text": [
      "train set cv=5\n",
      "0.9908436179003264\n",
      "877.226159 seconds\n"
     ]
    }
   ],
   "source": [
    "from sklearn.model_selection import cross_val_score\n",
    "start_time = time.clock()\n",
    "print('train set cv=5')\n",
    "print(cross_val_score(mlp, X_train_res, y_train_res, cv=5).mean())\n",
    "print('{} seconds'.format(time.clock() - start_time))"
   ]
  },
  {
   "cell_type": "code",
   "execution_count": 56,
   "metadata": {},
   "outputs": [
    {
     "name": "stdout",
     "output_type": "stream",
     "text": [
      "0.9979964938642625\n",
      "Training recall 0.995992987728525\n",
      "657.9019639999999 seconds\n"
     ]
    }
   ],
   "source": [
    "# with changed layers\n",
    "\n",
    "start_time = time.clock()\n",
    "mlp = MLPClassifier(hidden_layer_sizes=(500,250,250,)\n",
    "                   ).fit(X_train_res, y_train_res)\n",
    "y_pred = mlp.predict(X_train_res)\n",
    "print(mlp.score(X_train_res, y_train_res))\n",
    "print('Training recall', recall_score(y_train_res, y_pred))\n",
    "print('{} seconds'.format(time.clock() - start_time))"
   ]
  },
  {
   "cell_type": "code",
   "execution_count": 57,
   "metadata": {},
   "outputs": [
    {
     "name": "stdout",
     "output_type": "stream",
     "text": [
      "[[7978    0]\n",
      " [  16 1049]]\n"
     ]
    }
   ],
   "source": [
    "# Testing \n",
    "y_test_pred = mlp.predict(X_test)\n",
    "print(confusion_matrix(y_test, y_test_pred))"
   ]
  },
  {
   "cell_type": "code",
   "execution_count": 60,
   "metadata": {},
   "outputs": [
    {
     "data": {
      "text/plain": [
       "0.9982306756607321"
      ]
     },
     "execution_count": 60,
     "metadata": {},
     "output_type": "execute_result"
    }
   ],
   "source": [
    "accuracy_score(y_test, y_test_pred)"
   ]
  },
  {
   "cell_type": "code",
   "execution_count": 58,
   "metadata": {},
   "outputs": [
    {
     "name": "stdout",
     "output_type": "stream",
     "text": [
      "train set cv=5\n",
      "[0.97573955 0.98857411 0.99593051 0.99467835 0.94716656]\n",
      "2440.4903570000006 seconds\n"
     ]
    }
   ],
   "source": [
    "# Training cross-validation\n",
    "\n",
    "start_time = time.clock()\n",
    "print('train set cv=5')\n",
    "print(cross_val_score(mlp, X_train_res, y_train_res, cv=5))\n",
    "print('{} seconds'.format(time.clock() - start_time))\n",
    "\n",
    "# took 40 minues to run"
   ]
  },
  {
   "cell_type": "code",
   "execution_count": 59,
   "metadata": {},
   "outputs": [],
   "source": [
    "from sklearn.metrics import accuracy_score\n",
    "accuracy_score"
   ]
  },
  {
   "cell_type": "code",
   "execution_count": 86,
   "metadata": {},
   "outputs": [
    {
     "name": "stdout",
     "output_type": "stream",
     "text": [
      "layer size:  1500\n",
      "Training accuracy: 0.9984346628263728\n",
      "Training recall 0.99827812910901\n",
      "Testing accuracy:  0.9976777618047108\n",
      "Testing Conf Matrix: \n",
      " [[7966   14]\n",
      " [   7 1056]]\n",
      "219.0891619999993 seconds\n",
      "layer size:  2000\n",
      "Training accuracy: 0.9951161480182832\n",
      "Training recall 0.9999686932565275\n",
      "Testing accuracy:  0.9913745438460688\n",
      "Testing Conf Matrix: \n",
      " [[7902   78]\n",
      " [   0 1063]]\n",
      "266.6524419999996 seconds\n",
      "layer size:  2500\n",
      "Training accuracy: 0.9960710036941958\n",
      "Training recall 0.9922672343622816\n",
      "Testing accuracy:  0.9976777618047108\n",
      "Testing Conf Matrix: \n",
      " [[7979    1]\n",
      " [  20 1043]]\n",
      "532.8598759999995 seconds\n",
      "layer size:  3000\n",
      "Training accuracy: 0.975596393463152\n",
      "Training recall 0.9999686932565275\n",
      "Testing accuracy:  0.9598584540528585\n",
      "Testing Conf Matrix: \n",
      " [[7617  363]\n",
      " [   0 1063]]\n",
      "675.7403679999998 seconds\n"
     ]
    }
   ],
   "source": [
    "# Hyperparameter tuning \n",
    "\n",
    "single_hidden_layers = [1500, 2000, 2500, 3000]\n",
    "double_hidden_layers = [(50, 25,), (500,100,), (1000, 250,), (1000,500)]\n",
    "\n",
    "# Single layer testing \n",
    "\n",
    "for i in single_hidden_layers:\n",
    "    start_time = time.clock()\n",
    "    print('layer size: ', i )\n",
    "    mlp = MLPClassifier(hidden_layer_sizes=(i))\n",
    "    mlp.fit(X_train_res, y_train_res)\n",
    "    y_pred = mlp.predict(X_train_res)\n",
    "    print('Training accuracy:', mlp.score(X_train_res, y_train_res))\n",
    "    print('Training recall', recall_score(y_train_res, y_pred))\n",
    "    \n",
    "    # Testing \n",
    "    y_test_pred = mlp.predict(X_test)\n",
    "    print('Testing accuracy: ', accuracy_score(y_test, y_test_pred))\n",
    "    print('Testing Conf Matrix: \\n', confusion_matrix(y_test, y_test_pred))\n",
    "    print('{} seconds'.format(time.clock() - start_time))"
   ]
  },
  {
   "cell_type": "markdown",
   "metadata": {},
   "source": [
    "### Hyperparameter tuning with single layer: \n",
    "- 1000 neurons in one layer was performing the best. Increasing neuron size decreases testing accuracy. "
   ]
  },
  {
   "cell_type": "code",
   "execution_count": 87,
   "metadata": {},
   "outputs": [
    {
     "name": "stdout",
     "output_type": "stream",
     "text": [
      "layer size:  (50, 25)\n",
      "Training accuracy: 0.9950691879030743\n",
      "Training recall 0.9901383758061486\n",
      "Testing accuracy:  0.9962401857790556\n",
      "Testing Conf Matrix: \n",
      " [[7978    2]\n",
      " [  32 1031]]\n",
      "10.213826000000154 seconds\n",
      "layer size:  (500, 100)\n",
      "Training accuracy: 0.9959457767203056\n",
      "Training recall 0.9926742220274247\n",
      "Testing accuracy:  0.9981200928895279\n",
      "Testing Conf Matrix: \n",
      " [[7976    4]\n",
      " [  13 1050]]\n",
      "178.59118000000035 seconds\n",
      "layer size:  (500, 400)\n",
      "Training accuracy: 0.9986068499154718\n",
      "Training recall 0.9980589819047023\n",
      "Testing accuracy:  0.9980095101183236\n",
      "Testing Conf Matrix: \n",
      " [[7974    6]\n",
      " [  12 1051]]\n",
      "713.9102920000005 seconds\n",
      "layer size:  (1000, 500)\n",
      "Training accuracy: 0.9996086657065932\n",
      "Training recall 0.9994364786174942\n",
      "Testing accuracy:  0.9993365033727746\n",
      "Testing Conf Matrix: \n",
      " [[7975    5]\n",
      " [   1 1062]]\n",
      "2039.0881600000002 seconds\n",
      "layer size:  (1000, 750)\n",
      "Training accuracy: 0.9995460522196481\n",
      "Training recall 0.9999686932565275\n",
      "Testing accuracy:  0.9990047550591618\n",
      "Testing Conf Matrix: \n",
      " [[7972    8]\n",
      " [   1 1062]]\n",
      "3227.9429880000007 seconds\n"
     ]
    }
   ],
   "source": [
    "# Hyperparameter tuning \n",
    "\n",
    "singe_hidden_layers = [1500, 2000, 2500, 3000]\n",
    "double_hidden_layers = [(50, 25,), (500,100,), (500, 400,), (1000,500,), (1000,750,)]\n",
    "\n",
    "# Double layer testing \n",
    "\n",
    "for i in double_hidden_layers:\n",
    "    start_time = time.clock()\n",
    "    print('layer size: ', i )\n",
    "    mlp = MLPClassifier(hidden_layer_sizes=i)\n",
    "    mlp.fit(X_train_res, y_train_res)\n",
    "    y_pred = mlp.predict(X_train_res)\n",
    "    print('Training accuracy:', mlp.score(X_train_res, y_train_res))\n",
    "    print('Training recall', recall_score(y_train_res, y_pred))\n",
    "    \n",
    "    # Testing \n",
    "    y_test_pred = mlp.predict(X_test)\n",
    "    print('Testing accuracy: ', accuracy_score(y_test, y_test_pred))\n",
    "    print('Testing Conf Matrix: \\n', confusion_matrix(y_test, y_test_pred))\n",
    "    print('{} seconds'.format(time.clock() - start_time))"
   ]
  },
  {
   "cell_type": "markdown",
   "metadata": {},
   "source": [
    "### Hyperparameter tuning with 2 layers: \n",
    "- (1000,500) improves testing accuracy to 99.93%"
   ]
  },
  {
   "cell_type": "code",
   "execution_count": null,
   "metadata": {},
   "outputs": [],
   "source": []
  },
  {
   "cell_type": "code",
   "execution_count": 98,
   "metadata": {},
   "outputs": [],
   "source": [
    "mlp = MLPClassifier(hidden_layer_sizes=(500,250,250,)\n",
    "                   ).fit(X_train_res, y_train_res)\n",
    "y_pred = mlp.predict(X_train_res)"
   ]
  },
  {
   "cell_type": "code",
   "execution_count": 102,
   "metadata": {},
   "outputs": [
    {
     "data": {
      "text/plain": [
       "MLPClassifier(activation='relu', alpha=0.0001, batch_size='auto', beta_1=0.9,\n",
       "       beta_2=0.999, early_stopping=False, epsilon=1e-08,\n",
       "       hidden_layer_sizes=(500, 250, 250), learning_rate='constant',\n",
       "       learning_rate_init=0.001, max_iter=200, momentum=0.9,\n",
       "       n_iter_no_change=10, nesterovs_momentum=True, power_t=0.5,\n",
       "       random_state=None, shuffle=True, solver='adam', tol=0.0001,\n",
       "       validation_fraction=0.1, verbose=False, warm_start=False)"
      ]
     },
     "execution_count": 102,
     "metadata": {},
     "output_type": "execute_result"
    }
   ],
   "source": [
    "mlp.fit(X_test, y_test)\n",
    "#confusion_matrix(y_test, y_test_pred)"
   ]
  },
  {
   "cell_type": "code",
   "execution_count": 103,
   "metadata": {},
   "outputs": [],
   "source": [
    "y_test_pred = mlp.predict(X_test)"
   ]
  },
  {
   "cell_type": "code",
   "execution_count": 104,
   "metadata": {},
   "outputs": [
    {
     "data": {
      "text/plain": [
       "array([[7950,   72],\n",
       "       [ 127,  894]])"
      ]
     },
     "execution_count": 104,
     "metadata": {},
     "output_type": "execute_result"
    }
   ],
   "source": [
    "confusion_matrix(y_test, y_test_pred)"
   ]
  },
  {
   "cell_type": "code",
   "execution_count": null,
   "metadata": {},
   "outputs": [],
   "source": [
    "# hyperparameter tuning - \n",
    "\n",
    "## no three layers, 2 layers and \n",
    "# start with single layers with small # of neurons, check accuracy \n",
    "# add a second layer, add more, and check accuracy \n",
    "#"
   ]
  },
  {
   "cell_type": "code",
   "execution_count": 82,
   "metadata": {},
   "outputs": [
    {
     "name": "stderr",
     "output_type": "stream",
     "text": [
      "/Library/Frameworks/Python.framework/Versions/3.6/lib/python3.6/site-packages/sklearn/ensemble/forest.py:248: FutureWarning: The default value of n_estimators will change from 10 in version 0.20 to 100 in 0.22.\n",
      "  \"10 in version 0.20 to 100 in 0.22.\", FutureWarning)\n"
     ]
    },
    {
     "name": "stdout",
     "output_type": "stream",
     "text": [
      "train set cv=5\n",
      "[1. 1. 1. 1. 1.]\n",
      "726.4921840000006 seconds\n",
      "test set cv=5\n",
      "[1. 1. 1. 1. 1.]\n",
      "0.3316339999992124 seconds\n"
     ]
    }
   ],
   "source": [
    "# Random Forest\n",
    "\n",
    "from sklearn import ensemble\n",
    "from sklearn.ensemble import RandomForestClassifier\n",
    "\n",
    "start_times = time.clock()\n",
    "rfc = RandomForestClassifier().fit(X_train_res, y_train_res)\n",
    "\n",
    "# CV\n",
    "print('train set cv=5')\n",
    "print(cross_val_score(rfc, X_train_res, y_train_res, cv=5))\n",
    "print('{} seconds'.format(time.clock() - start_time))\n",
    "\n",
    "\n",
    "# Test\n",
    "start_time = time.clock()\n",
    "print('test set cv=5')\n",
    "print(cross_val_score(rfc, X_test_res, y_test_res, cv=5))\n",
    "print('{} seconds'.format(time.clock() - start_time))"
   ]
  },
  {
   "cell_type": "code",
   "execution_count": 95,
   "metadata": {},
   "outputs": [
    {
     "data": {
      "text/plain": [
       "RandomForestClassifier(bootstrap=True, class_weight=None, criterion='gini',\n",
       "            max_depth=None, max_features='auto', max_leaf_nodes=None,\n",
       "            min_impurity_decrease=0.0, min_impurity_split=None,\n",
       "            min_samples_leaf=1, min_samples_split=2,\n",
       "            min_weight_fraction_leaf=0.0, n_estimators=10, n_jobs=None,\n",
       "            oob_score=False, random_state=None, verbose=0,\n",
       "            warm_start=False)"
      ]
     },
     "execution_count": 95,
     "metadata": {},
     "output_type": "execute_result"
    }
   ],
   "source": [
    "rfc.fit(X_train_res, y_train_res)"
   ]
  },
  {
   "cell_type": "code",
   "execution_count": 96,
   "metadata": {},
   "outputs": [
    {
     "data": {
      "text/plain": [
       "array([[8022,    0],\n",
       "       [   0, 1021]])"
      ]
     },
     "execution_count": 96,
     "metadata": {},
     "output_type": "execute_result"
    }
   ],
   "source": [
    "rfc_pred = rfc.predict(X_test)\n",
    "\n",
    "confusion_matrix(y_test, rfc_pred)"
   ]
  },
  {
   "cell_type": "code",
   "execution_count": 83,
   "metadata": {},
   "outputs": [
    {
     "name": "stdout",
     "output_type": "stream",
     "text": [
      "train set cv=5\n",
      "[1. 1. 1. 1. 1.]\n",
      "10.018150000000787 seconds\n",
      "test set cv=5\n",
      "[1. 1. 1. 1. 1.]\n",
      "1.4591129999998884 seconds\n"
     ]
    }
   ],
   "source": [
    "# Gradient Boosting \n",
    "\n",
    "from sklearn.ensemble import GradientBoostingClassifier\n",
    "\n",
    "start_time = time.clock()\n",
    "gbc = ensemble.GradientBoostingClassifier().fit(X_train_res, y_train_res)\n",
    "print('train set cv=5')\n",
    "print(cross_val_score(gbc, X_train_res, y_train_res, cv=5))\n",
    "print('{} seconds'.format(time.clock() - start_time))\n",
    "\n",
    "start_time = time.clock()\n",
    "print('test set cv=5')\n",
    "print(cross_val_score(gbc, X_test_res, y_test_res, cv=5))\n",
    "print('{} seconds'.format(time.clock() - start_time))"
   ]
  },
  {
   "cell_type": "code",
   "execution_count": 97,
   "metadata": {},
   "outputs": [
    {
     "data": {
      "text/plain": [
       "array([[8022,    0],\n",
       "       [   0, 1021]])"
      ]
     },
     "execution_count": 97,
     "metadata": {},
     "output_type": "execute_result"
    }
   ],
   "source": [
    "gbc.fit(X_train_res, y_train_res)\n",
    "\n",
    "gbc_pred = gbc.predict(X_test)\n",
    "\n",
    "confusion_matrix(y_test, gbc_pred)"
   ]
  },
  {
   "cell_type": "code",
   "execution_count": null,
   "metadata": {},
   "outputs": [],
   "source": []
  }
 ],
 "metadata": {
  "kernelspec": {
   "display_name": "Python 3",
   "language": "python",
   "name": "python3"
  },
  "language_info": {
   "codemirror_mode": {
    "name": "ipython",
    "version": 3
   },
   "file_extension": ".py",
   "mimetype": "text/x-python",
   "name": "python",
   "nbconvert_exporter": "python",
   "pygments_lexer": "ipython3",
   "version": "3.6.5"
  }
 },
 "nbformat": 4,
 "nbformat_minor": 2
}
