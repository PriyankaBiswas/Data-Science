{
 "cells": [
  {
   "cell_type": "markdown",
   "metadata": {},
   "source": [
    "## Drill: Unsupervised or supervised? \n",
    "\n",
    "*For each of these scenarios decide if you could use supervised or unsupervised techniques, or both!*\n",
    "\n",
    "1. Define the likelihood that an individual will contract a specific disease. \n",
    "\n",
    " __Unsupervised and then supervised__\n",
    "    \n",
    "    - Dataset: I assume each row indicates a person with some disease along with other variables (symptoms) \n",
    "    - Outcome variable: the probability of a person getting the disease \n",
    "    - Predictor variables: depends on the data. \n",
    "    - Approaches: \n",
    "        - Clustering: clusters for each disease on the basis of features to see what features are clustered together\n",
    "        - Variable importance --> select important features\n",
    "        - Run multiple regression models that assigns probability to a person for each disease\n",
    "            - Create dummy variable? e.g., cancer/non-cancer; Hep-A/non-Hep-A etc.\n",
    "        \n",
    "\n",
    "2. Translate a set of images into variables for modeling\n",
    "\n",
    " __Unsupervised__\n",
    "    \n",
    "    - Dataset: set of images\n",
    "    - Outcome variable: ?  \n",
    "    - Approaches: \n",
    "        - Clustering: clusters images\n",
    "        - Select number of clusters, and assign names for each and import to models\n",
    "    \n",
    "    \n",
    "3. An ecommerce company wants to identify power users\n",
    "\n",
    " __Unsupervised and then supervised__\n",
    "    \n",
    "    - Dataset: rows - users, columns - user meta-data and browse history\n",
    "   \n",
    "    - Outcome variable: None\n",
    "    - Approaches: \n",
    "        - Clustering: clusters of users (on the basis of what?)\n",
    "        \n",
    "    \n",
    "4. That same company wants to see shopping patterns in users\n",
    "\n",
    "__Unsupervised and then supervised__\n",
    "   - Dataset: add the variable 'purchased' as the y for classification \n",
    "    - Outcome variable: \n",
    "    - Approaches: \n",
    "        - Clustering: feature importances for the y \n",
    "        - Classification techniques\n",
    "    \n",
    "\n",
    "5. You want to reduce the number of variables inputting into your random forest model\n",
    "\n",
    "__Unsupervised__\n",
    "     -Variable importance "
   ]
  }
 ],
 "metadata": {
  "kernelspec": {
   "display_name": "Python 3",
   "language": "python",
   "name": "python3"
  },
  "language_info": {
   "codemirror_mode": {
    "name": "ipython",
    "version": 3
   },
   "file_extension": ".py",
   "mimetype": "text/x-python",
   "name": "python",
   "nbconvert_exporter": "python",
   "pygments_lexer": "ipython3",
   "version": "3.6.5"
  }
 },
 "nbformat": 4,
 "nbformat_minor": 2
}
